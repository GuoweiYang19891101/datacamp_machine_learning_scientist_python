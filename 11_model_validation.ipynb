{
 "cells": [
  {
   "cell_type": "markdown",
   "source": [
    "## Model Validation\n",
    "\n",
    "**Course structure:**\n",
    "* Chapter 1: Basic modeling in scikit-learn\n",
    "* Chapter 2: Validation basics\n",
    "* Chapter 3: Cross Validation\n",
    "* Chapter 4: Selecting the best model with Hyperparameter tuning\n",
    "\n",
    "### CHAPTER 1. Basic modeling in scikit-learn\n",
    "\n",
    "#### 1.1 Introduction to model validation\n",
    "\n",
    "**Model validation consists of:**\n",
    "* Ensuring your model performs as expected on new data\n",
    "* Testing model performance on holdout datasets\n",
    "* Selecting the best model, parameters, and accuracy metrics\n",
    "* Achieving the best accuracy for the data given\n",
    "\n",
    "**Scikit-learn basic modeling review:**\n",
    "* Creating a model by specifying the model type and parameters\n",
    "* Fitting the model to training dataset\n",
    "* Generating predictions for test dataset\n",
    "* Looking at accuracy metrics"
   ],
   "metadata": {
    "collapsed": false
   }
  },
  {
   "cell_type": "code",
   "execution_count": 3,
   "outputs": [
    {
     "ename": "ModuleNotFoundError",
     "evalue": "No module named 'pandas'",
     "output_type": "error",
     "traceback": [
      "\u001B[0;31m---------------------------------------------------------------------------\u001B[0m",
      "\u001B[0;31mModuleNotFoundError\u001B[0m                       Traceback (most recent call last)",
      "Cell \u001B[0;32mIn[3], line 2\u001B[0m\n\u001B[1;32m      1\u001B[0m \u001B[38;5;66;03m# seen vs. unseen data\u001B[39;00m\n\u001B[0;32m----> 2\u001B[0m \u001B[38;5;28;01mimport\u001B[39;00m \u001B[38;5;21;01mpandas\u001B[39;00m \u001B[38;5;28;01mas\u001B[39;00m \u001B[38;5;21;01mpd\u001B[39;00m\n\u001B[1;32m      3\u001B[0m candy_df \u001B[38;5;241m=\u001B[39m pd\u001B[38;5;241m.\u001B[39mread_csv(\u001B[38;5;124m'\u001B[39m\u001B[38;5;124m11_datasets/candy-data.csv\u001B[39m\u001B[38;5;124m'\u001B[39m)\n\u001B[1;32m      4\u001B[0m \u001B[38;5;28mprint\u001B[39m(candy_df\u001B[38;5;241m.\u001B[39mhead())\n",
      "\u001B[0;31mModuleNotFoundError\u001B[0m: No module named 'pandas'"
     ]
    }
   ],
   "source": [
    "# seen vs. unseen data\n",
    "import pandas as pd\n",
    "candy_df = pd.read_csv('11_datasets/candy-data.csv')\n",
    "print(candy_df.head())"
   ],
   "metadata": {
    "collapsed": false
   }
  },
  {
   "cell_type": "code",
   "execution_count": null,
   "outputs": [],
   "source": [],
   "metadata": {
    "collapsed": false
   }
  },
  {
   "cell_type": "code",
   "execution_count": null,
   "outputs": [],
   "source": [],
   "metadata": {
    "collapsed": false
   }
  },
  {
   "cell_type": "code",
   "execution_count": null,
   "outputs": [],
   "source": [],
   "metadata": {
    "collapsed": false
   }
  }
 ],
 "metadata": {},
 "nbformat": 4,
 "nbformat_minor": 5
}
