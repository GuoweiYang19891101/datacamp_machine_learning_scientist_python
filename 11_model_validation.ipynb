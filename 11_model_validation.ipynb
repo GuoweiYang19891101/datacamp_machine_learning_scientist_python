{
 "cells": [
  {
   "cell_type": "markdown",
   "source": [
    "## Model Validation\n",
    "\n",
    "**Course structure:**\n",
    "* Chapter 1: Basic modeling in scikit-learn\n",
    "* Chapter 2: Validation basics\n",
    "* Chapter 3: Cross Validation\n",
    "* Chapter 4: Selecting the best model with Hyperparameter tuning\n",
    "\n",
    "### CHAPTER 1. Basic modeling in scikit-learn\n",
    "\n",
    "#### 1.1 Introduction to model validation\n",
    "\n",
    "**Model validation consists of:**\n",
    "* Ensuring your model performs as expected on new data\n",
    "* Testing model performance on holdout datasets\n",
    "* Selecting the best model, parameters, and accuracy metrics\n",
    "* Achieving the best accuracy for the data given\n",
    "\n",
    "**Scikit-learn basic modeling review:**\n",
    "* Creating a model by specifying the model type and parameters\n",
    "* Fitting the model to training dataset\n",
    "* Generating predictions for test dataset\n",
    "    * Looking at accuracy metrics"
   ],
   "metadata": {
    "collapsed": false
   }
  },
  {
   "cell_type": "code",
   "execution_count": 6,
   "outputs": [
    {
     "name": "stdout",
     "output_type": "stream",
     "text": [
      "Model error on seen data: 3.36\n",
      "Model error on unseen data: 11.05\n"
     ]
    }
   ],
   "source": [
    "# seen vs. unseen data\n",
    "import pandas as pd\n",
    "from sklearn.ensemble import RandomForestRegressor\n",
    "from sklearn.metrics import mean_absolute_error as mae\n",
    "\n",
    "# get data and split into train and test\n",
    "candy_df = pd.read_csv('11_datasets/candy-data.csv')\n",
    "\n",
    "candy_df = candy_df.drop(['competitorname'], axis=1)\n",
    "X = candy_df.iloc[:, :-1]\n",
    "y = candy_df.iloc[:, -1]\n",
    "X_train, X_test = X.iloc[:50], X.iloc[50:]\n",
    "y_train, y_test = y.iloc[:50], y.iloc[50:]\n",
    "\n",
    "# create model\n",
    "model = RandomForestRegressor()\n",
    "model.fit(X_train, y_train)\n",
    "\n",
    "# predict\n",
    "train_predictions = model.predict(X_train)\n",
    "test_predictions = model.predict(X_test)\n",
    "\n",
    "# train/test errors (metrics)\n",
    "train_error = mae(y_true=y_train, y_pred=train_predictions)\n",
    "test_error = mae(y_true=y_test, y_pred=test_predictions)\n",
    "print('Model error on seen data: {0:.2f}'.format(train_error))\n",
    "print('Model error on unseen data: {0:.2f}'.format(test_error))\n"
   ],
   "metadata": {
    "collapsed": false
   }
  },
  {
   "cell_type": "markdown",
   "source": [
    "#### 1.2 Regression models\n",
    "\n",
    "**Two types of predictive models:**\n",
    "1. Regression models (built for continuous variables)\n",
    "2. Classification models (built for categorical variables)\n",
    "\n",
    "* This course will ONLY focus on **Random Forest** models\n",
    "* Decision tree is the basics of random forest models, it splits data until only a few or even a single observations remains\n",
    "* Random forest regression models generate a bunch of different decision trees\n",
    "* Use the mean prediction of these trees as final value\n",
    "\n",
    "**Random Forest parameters:**\n",
    "1. *'n_estimator'*: the number of trees in the forest\n",
    "2. *'max_depth'*: the maximum depth of the trees\n",
    "3. *'random_state'*: random seed\n",
    "and so on...\n",
    "\n",
    "**Feature Importance:**\n",
    "* One feature for random forest models is feature importance\n",
    "* It shows how important different features of the data were in the model\n",
    "* Use *'.feature_importances_'* attribute"
   ],
   "metadata": {
    "collapsed": false
   }
  },
  {
   "cell_type": "code",
   "execution_count": 1,
   "outputs": [
    {
     "name": "stdout",
     "output_type": "stream",
     "text": [
      "chocolate: 0.61\n",
      "fruity: 0.02\n",
      "caramel: 0.02\n",
      "peanutyalmondy: 0.01\n",
      "nougat: 0.02\n",
      "crispedricewafer: 0.03\n",
      "hard: 0.00\n",
      "bar: 0.00\n",
      "pluribus: 0.02\n",
      "sugarpercent: 0.15\n",
      "pricepercent: 0.11\n"
     ]
    }
   ],
   "source": [
    "# set parameters and fit a model\n",
    "import pandas as pd\n",
    "from sklearn.ensemble import RandomForestRegressor\n",
    "\n",
    "# use the same dataset as above exercise\n",
    "# get data and split into train and test\n",
    "candy_df = pd.read_csv('11_datasets/candy-data.csv')\n",
    "\n",
    "candy_df = candy_df.drop(['competitorname'], axis=1)\n",
    "X = candy_df.iloc[:, :-1]\n",
    "y = candy_df.iloc[:, -1]\n",
    "X_train, X_test = X.iloc[:50], X.iloc[50:]\n",
    "y_train, y_test = y.iloc[:50], y.iloc[50:]\n",
    "\n",
    "# create a model with parameters\n",
    "rfr = RandomForestRegressor()\n",
    "rfr.n_estimators = 100\n",
    "rfr.max_depth = 6\n",
    "rfr.random_state = 1111\n",
    "rfr.fit(X_train, y_train)\n",
    "\n",
    "# print feature importances\n",
    "for i, item in enumerate(rfr.feature_importances_):\n",
    "    print('{0:s}: {1:.2f}'.format(X_train.columns[i], item))"
   ],
   "metadata": {
    "collapsed": false
   }
  },
  {
   "cell_type": "markdown",
   "source": [
    "#### 1.3 Classification models\n",
    "\n",
    "* These models have **categorical responses:**\n",
    "    * Newborn's hair color\n",
    "    * Winner of a basketball game\n",
    "    * Genre of the next song on the radio\n",
    "\n",
    "**Interesting methods in classification models:**\n",
    "* Besides *'.predict()'* method to **predict class**, classification models can also use *'.predict_proba()'* method to **predict probabilities**\n",
    "* *'get_params()'* method is used to review which **parameters** went into a model\n",
    "* *'.score()'* method is a quick way to look at the **overall accuracy** of the classification model\n"
   ],
   "metadata": {
    "collapsed": false
   }
  },
  {
   "cell_type": "code",
   "execution_count": 13,
   "outputs": [
    {
     "name": "stdout",
     "output_type": "stream",
     "text": [
      "1    563\n",
      "0    204\n",
      "dtype: int64\n",
      "The first predicted probabilities are: [0.26524423 0.73475577]\n",
      "0.817470664928292\n"
     ]
    }
   ],
   "source": [
    "# classification predictions\n",
    "import pandas as pd\n",
    "from sklearn.preprocessing import LabelEncoder\n",
    "from sklearn.model_selection import train_test_split\n",
    "from sklearn.ensemble import RandomForestClassifier\n",
    "\n",
    "# get data\n",
    "tic_tac_toe = pd.read_csv('11_datasets/tic-tac-toe.csv')\n",
    "# print(tic_tac_toe.shape)\n",
    "X = tic_tac_toe.drop(['Class'], axis=1)\n",
    "y = tic_tac_toe['Class']\n",
    "\n",
    "# convert categorical values to numbers\n",
    "X = pd.get_dummies(X)\n",
    "\n",
    "le = LabelEncoder()\n",
    "y = le.fit_transform(y)\n",
    "\n",
    "# split X and y\n",
    "X_train, X_test, y_train, y_test = train_test_split(X, y, test_size=0.8, random_state=1111)\n",
    "\n",
    "# create a model\n",
    "rfc = RandomForestClassifier(n_estimators=50, max_depth=6, random_state=1111)\n",
    "rfc.fit(X_train, y_train)\n",
    "\n",
    "# make predictions\n",
    "classification_predictions = rfc.predict(X_test)\n",
    "probability_predictions = rfc.predict_proba(X_test)\n",
    "print(pd.Series(classification_predictions).value_counts())\n",
    "print('The first predicted probabilities are: {}'.format(probability_predictions[0]))\n",
    "\n",
    "# get accuracy score\n",
    "print(rfc.score(X_test, y_test))\n"
   ],
   "metadata": {
    "collapsed": false
   }
  },
  {
   "cell_type": "code",
   "execution_count": 12,
   "outputs": [
    {
     "name": "stdout",
     "output_type": "stream",
     "text": [
      "RandomForestClassifier(max_depth=6, n_estimators=50, random_state=1111)\n",
      "The random state is: 1111\n",
      "Printing the parameters dictionary: {'bootstrap': True, 'ccp_alpha': 0.0, 'class_weight': None, 'criterion': 'gini', 'max_depth': 6, 'max_features': 'sqrt', 'max_leaf_nodes': None, 'max_samples': None, 'min_impurity_decrease': 0.0, 'min_samples_leaf': 1, 'min_samples_split': 2, 'min_weight_fraction_leaf': 0.0, 'n_estimators': 50, 'n_jobs': None, 'oob_score': False, 'random_state': 1111, 'verbose': 0, 'warm_start': False}\n"
     ]
    }
   ],
   "source": [
    "# reusing model parameters\n",
    "# print the classification model\n",
    "print(rfc)\n",
    "\n",
    "# print the model's random state parameter\n",
    "print('The random state is: {}'.format(rfc.random_state))\n",
    "\n",
    "# print all parameters\n",
    "print('Printing the parameters dictionary: {}'. format(rfc.get_params()))"
   ],
   "metadata": {
    "collapsed": false
   }
  },
  {
   "cell_type": "markdown",
   "source": [
    "### CHAPTER 2. Validation Basics\n",
    "\n",
    "#### 2.1 Creating train, test and validation datasets\n",
    "\n",
    "**Traditional dataset split:**\n",
    "* Seen data (used for training)\n",
    "* Unseen data (unavailable for training, used to assess model performance)\n",
    "* Use *'train_test_split()'* method to achieve this\n",
    "\n",
    "**Hyper-parameter tuning dataset split (second validation set):**\n",
    "* Training: used for training\n",
    "* Validation: used to assess the model's performance when using different parameter values\n",
    "* Testing: test new unseen data"
   ],
   "metadata": {
    "collapsed": false
   }
  },
  {
   "cell_type": "code",
   "execution_count": 3,
   "outputs": [
    {
     "name": "stdout",
     "output_type": "stream",
     "text": [
      "(862, 27)\n",
      "(96, 27)\n"
     ]
    }
   ],
   "source": [
    "# create one holdout set\n",
    "import pandas as pd\n",
    "from sklearn.preprocessing import LabelEncoder\n",
    "from sklearn.model_selection import train_test_split\n",
    "\n",
    "# get data\n",
    "tic_tac_toe = pd.read_csv('11_datasets/tic-tac-toe.csv')\n",
    "X = tic_tac_toe.drop(['Class'], axis=1)\n",
    "y = tic_tac_toe['Class']\n",
    "\n",
    "# convert categorical values to numbers\n",
    "X = pd.get_dummies(X)\n",
    "\n",
    "le = LabelEncoder()\n",
    "y = le.fit_transform(y)\n",
    "\n",
    "# create training and testing datasets\n",
    "X_train, X_test, y_train, y_test = train_test_split(X, y, test_size=0.1, random_state=1111)\n",
    "print(X_train.shape)\n",
    "print(X_test.shape)"
   ],
   "metadata": {
    "collapsed": false
   }
  },
  {
   "cell_type": "code",
   "execution_count": 5,
   "outputs": [
    {
     "name": "stdout",
     "output_type": "stream",
     "text": [
      "(574,)\n",
      "(192,)\n",
      "(192,)\n"
     ]
    }
   ],
   "source": [
    "# create two holdout sets\n",
    "# use same dataset as above exercise\n",
    "\n",
    "# create temp training and testing dataset\n",
    "X_temp, X_test, y_temp, y_test = train_test_split(X, y, test_size=0.2, random_state=1111)\n",
    "\n",
    "# create final training and validation datasets\n",
    "X_train, X_val, y_train, y_val = train_test_split(X_temp, y_temp, test_size=0.25, random_state=1111)\n",
    "print(y_train.shape)\n",
    "print(y_val.shape)\n",
    "print(y_test.shape)"
   ],
   "metadata": {
    "collapsed": false
   }
  },
  {
   "cell_type": "markdown",
   "source": [
    "#### 2.2 Accuracy metrics: regression models\n",
    "\n",
    "**Mean Absolute Error (MAE):**\n",
    "* Simplest and most intuitive metic\n",
    "* Treats all points equally\n",
    "* Not sensitive to outliers"
   ],
   "metadata": {
    "collapsed": false
   }
  },
  {
   "cell_type": "code",
   "execution_count": 6,
   "outputs": [
    {
     "data": {
      "image/png": "[encoded data removed]",
      "text/plain": "<IPython.core.display.Image object>"
     },
     "execution_count": 6,
     "metadata": {},
     "output_type": "execute_result"
    }
   ],
   "source": [
    "from IPython import display\n",
    "display.Image(\"Images/11_mae.PNG\")"
   ],
   "metadata": {
    "collapsed": false
   }
  },
  {
   "cell_type": "markdown",
   "source": [
    "**Mean Squared Error (MSE)**:\n",
    "* Most widely used regression metric\n",
    "* Allows outlier errors to contribute more to overall error\n",
    "\n",
    "**NOTE:**\n",
    "* Sometimes, we want to know a model's accuracy for a specific subset, such as on only chocolate candies"
   ],
   "metadata": {
    "collapsed": false
   }
  },
  {
   "cell_type": "code",
   "execution_count": 7,
   "outputs": [
    {
     "data": {
      "image/png": "[encoded data removed]",
      "text/plain": "<IPython.core.display.Image object>"
     },
     "execution_count": 7,
     "metadata": {},
     "output_type": "execute_result"
    }
   ],
   "source": [
    "from IPython import display\n",
    "display.Image(\"Images/11_mse.PNG\")"
   ],
   "metadata": {
    "collapsed": false
   }
  },
  {
   "cell_type": "code",
   "execution_count": 8,
   "outputs": [
    {
     "name": "stdout",
     "output_type": "stream",
     "text": [
      "With a manual calculation, the error is 5.9\n",
      "Using scikit-learn, the error is 5.9\n"
     ]
    }
   ],
   "source": [
    "# mean absolute error\n",
    "import numpy as np\n",
    "from sklearn.metrics import mean_absolute_error as mae\n",
    "\n",
    "# get manual data\n",
    "y_test = np.array([53, 51, 51, 49, 43, 42, 42, 41, 41, 37, 36, 31, 29, 28, 20, 67, 61,\n",
    "                   55, 51, 51, 47, 43, 41, 40, 34, 33, 32, 31, 26, 24])\n",
    "predictions = np.array([60, 62, 42, 42, 30, 50, 52, 42, 44, 35, 30, 30, 35, 40, 15, 72, 58,\n",
    "                        60, 40, 42, 45, 46, 40, 35, 25, 40, 20, 34, 25, 24])\n",
    "\n",
    "# manually calculate the MAE\n",
    "n = len(predictions)\n",
    "mae_one = sum(abs(y_test - predictions)) / n\n",
    "print('With a manual calculation, the error is {}'.format(mae_one))\n",
    "\n",
    "# use scikit-learn to calculate the MAE\n",
    "mae_two = mae(y_test, predictions)\n",
    "print('Using scikit-learn, the error is {}'.format(mae_two))\n",
    "\n",
    "# note two results are the same"
   ],
   "metadata": {
    "collapsed": false
   }
  },
  {
   "cell_type": "code",
   "execution_count": 9,
   "outputs": [
    {
     "name": "stdout",
     "output_type": "stream",
     "text": [
      "With a manual calculation, the error is 49.1\n",
      "Using scikit-learn, the error is 49.1\n"
     ]
    }
   ],
   "source": [
    "# mean squared error\n",
    "from sklearn.metrics import mean_squared_error as mse\n",
    "\n",
    "# manually calculate the MSE\n",
    "n = len(predictions)\n",
    "mse_one = sum((y_test - predictions)**2) / n\n",
    "print('With a manual calculation, the error is {}'.format(mse_one))\n",
    "\n",
    "# use the scikit-learn to calculate MSE\n",
    "mse_two = mse(y_test, predictions)\n",
    "print('Using scikit-learn, the error is {}'.format(mse_two))\n",
    "\n",
    "# note two results are the same"
   ],
   "metadata": {
    "collapsed": false
   }
  },
  {
   "cell_type": "code",
   "execution_count": null,
   "outputs": [],
   "source": [
    "# performance on data subsets\n"
   ],
   "metadata": {
    "collapsed": false
   }
  },
  {
   "cell_type": "markdown",
   "source": [
    "#### 2.3 Performance on data subsets"
   ],
   "metadata": {
    "collapsed": false
   }
  },
  {
   "cell_type": "code",
   "execution_count": null,
   "outputs": [],
   "source": [],
   "metadata": {
    "collapsed": false
   }
  },
  {
   "cell_type": "code",
   "execution_count": null,
   "outputs": [],
   "source": [],
   "metadata": {
    "collapsed": false
   }
  },
  {
   "cell_type": "markdown",
   "source": [
    "#### 2.4 Accuracy metrics: classification models"
   ],
   "metadata": {
    "collapsed": false
   }
  },
  {
   "cell_type": "code",
   "execution_count": null,
   "outputs": [],
   "source": [],
   "metadata": {
    "collapsed": false
   }
  },
  {
   "cell_type": "code",
   "execution_count": null,
   "outputs": [],
   "source": [],
   "metadata": {
    "collapsed": false
   }
  },
  {
   "cell_type": "markdown",
   "source": [
    "#### 2.5 The bias-variance tradeoff"
   ],
   "metadata": {
    "collapsed": false
   }
  },
  {
   "cell_type": "code",
   "execution_count": null,
   "outputs": [],
   "source": [],
   "metadata": {
    "collapsed": false
   }
  },
  {
   "cell_type": "code",
   "execution_count": null,
   "outputs": [],
   "source": [],
   "metadata": {
    "collapsed": false
   }
  },
  {
   "cell_type": "markdown",
   "source": [
    "### CHAPTER 3. Cross Validation\n",
    "\n",
    "#### 3.1 The problem with holdout sets\n",
    "\n",
    "*"
   ],
   "metadata": {
    "collapsed": false
   }
  }
 ],
 "metadata": {
  "kernelspec": {
   "display_name": "Python 3",
   "language": "python",
   "name": "python3"
  },
  "language_info": {
   "codemirror_mode": {
    "name": "ipython",
    "version": 2
   },
   "file_extension": ".py",
   "mimetype": "text/x-python",
   "name": "python",
   "nbconvert_exporter": "python",
   "pygments_lexer": "ipython2",
   "version": "2.7.6"
  }
 },
 "nbformat": 4,
 "nbformat_minor": 0
}
