{
 "cells": [
  {
   "cell_type": "markdown",
   "source": [
    "## Model Validation\n",
    "\n",
    "**Course structure:**\n",
    "* Chapter 1: Basic modeling in scikit-learn\n",
    "* Chapter 2: Validation basics\n",
    "* Chapter 3: Cross Validation\n",
    "* Chapter 4: Selecting the best model with Hyperparameter tuning\n",
    "\n",
    "### CHAPTER 1. Basic modeling in scikit-learn\n",
    "\n",
    "#### 1.1 Introduction to model validation\n",
    "\n",
    "*"
   ],
   "metadata": {
    "collapsed": false
   }
  },
  {
   "cell_type": "code",
   "execution_count": null,
   "outputs": [],
   "source": [],
   "metadata": {
    "collapsed": false
   }
  },
  {
   "cell_type": "code",
   "execution_count": null,
   "outputs": [],
   "source": [],
   "metadata": {
    "collapsed": false
   }
  },
  {
   "cell_type": "code",
   "execution_count": null,
   "outputs": [],
   "source": [],
   "metadata": {
    "collapsed": false
   }
  },
  {
   "cell_type": "code",
   "execution_count": null,
   "outputs": [],
   "source": [],
   "metadata": {
    "collapsed": false
   }
  },
  {
   "cell_type": "code",
   "execution_count": null,
   "outputs": [],
   "source": [],
   "metadata": {
    "collapsed": false
   }
  }
 ],
 "metadata": {},
 "nbformat": 4,
 "nbformat_minor": 5
}
