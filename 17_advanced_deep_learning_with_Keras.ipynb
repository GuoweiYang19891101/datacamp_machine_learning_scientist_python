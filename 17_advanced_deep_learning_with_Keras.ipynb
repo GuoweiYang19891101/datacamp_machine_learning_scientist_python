{
 "cells": [
  {
   "cell_type": "markdown",
   "source": [
    "## Advanced Deep Learning with Keras\n",
    "\n",
    "**Course Structure:**\n",
    "* Chapter 1. The Keras Functional API\n",
    "* Chapter 2. Two Input Networks Using Categorical Embeddings, Shared Layers, and Merge Layers\n",
    "* Chapter 3. Multiple Inputs: 3 Inputs (and Beyond!)\n",
    "* Chapter 4. Multiple Outputs\n",
    "\n",
    "### CHAPTER 1. The Keras Functional API\n",
    "\n",
    "#### Part 1.1 Keras input and dense layers\n",
    "\n",
    "*"
   ],
   "metadata": {
    "collapsed": false
   },
   "id": "f7f47af84e375c91"
  },
  {
   "cell_type": "code",
   "execution_count": null,
   "outputs": [],
   "source": [],
   "metadata": {
    "collapsed": false
   },
   "id": "322f7f486eb88942"
  },
  {
   "cell_type": "code",
   "execution_count": null,
   "outputs": [],
   "source": [],
   "metadata": {
    "collapsed": false
   },
   "id": "c32a50387a75ce87"
  },
  {
   "cell_type": "code",
   "execution_count": null,
   "outputs": [],
   "source": [],
   "metadata": {
    "collapsed": false
   },
   "id": "74bc760fd9b35c90"
  },
  {
   "cell_type": "code",
   "execution_count": null,
   "outputs": [],
   "source": [],
   "metadata": {
    "collapsed": false
   },
   "id": "983154a95578454c"
  },
  {
   "cell_type": "code",
   "execution_count": null,
   "outputs": [],
   "source": [],
   "metadata": {
    "collapsed": false
   },
   "id": "f8d07b2b2f0b7cb8"
  }
 ],
 "metadata": {
  "kernelspec": {
   "display_name": "Python 3",
   "language": "python",
   "name": "python3"
  },
  "language_info": {
   "codemirror_mode": {
    "name": "ipython",
    "version": 2
   },
   "file_extension": ".py",
   "mimetype": "text/x-python",
   "name": "python",
   "nbconvert_exporter": "python",
   "pygments_lexer": "ipython2",
   "version": "2.7.6"
  }
 },
 "nbformat": 4,
 "nbformat_minor": 5
}
