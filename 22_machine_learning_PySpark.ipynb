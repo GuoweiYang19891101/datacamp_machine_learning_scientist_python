{
 "cells": [
  {
   "cell_type": "markdown",
   "source": [
    "## Machine Learning with PySpark\n",
    "\n",
    "**Course Structure:**\n",
    "* Chapter 1. Introduction\n",
    "* Chapter 2. Classification\n",
    "* Chapter 3. Regression\n",
    "* Chapter 4. Ensembles and Pipelines\n",
    "\n",
    "### CHAPTER 1. Introduction\n",
    "\n",
    "#### Part 1.1 Machine learning & Spark\n",
    "\n",
    "* "
   ],
   "metadata": {
    "collapsed": false
   },
   "id": "da155099eed99ba5"
  },
  {
   "cell_type": "code",
   "execution_count": null,
   "outputs": [],
   "source": [
    "# Code for part 1.1\n"
   ],
   "metadata": {
    "collapsed": false
   },
   "id": "f43f67606fb13696"
  },
  {
   "cell_type": "code",
   "execution_count": null,
   "outputs": [],
   "source": [],
   "metadata": {
    "collapsed": false
   },
   "id": "556c3a4918de0a54"
  },
  {
   "cell_type": "code",
   "execution_count": null,
   "outputs": [],
   "source": [],
   "metadata": {
    "collapsed": false
   },
   "id": "a768514a1c78a76a"
  },
  {
   "cell_type": "code",
   "execution_count": null,
   "outputs": [],
   "source": [],
   "metadata": {
    "collapsed": false
   },
   "id": "b0ca1f68a108dc92"
  }
 ],
 "metadata": {
  "kernelspec": {
   "display_name": "Python 3",
   "language": "python",
   "name": "python3"
  },
  "language_info": {
   "codemirror_mode": {
    "name": "ipython",
    "version": 2
   },
   "file_extension": ".py",
   "mimetype": "text/x-python",
   "name": "python",
   "nbconvert_exporter": "python",
   "pygments_lexer": "ipython2",
   "version": "2.7.6"
  }
 },
 "nbformat": 4,
 "nbformat_minor": 5
}
