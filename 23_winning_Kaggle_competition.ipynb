{
 "cells": [
  {
   "cell_type": "markdown",
   "source": [
    "## Winning a Kaggle Competition in Python\n",
    "\n",
    "**Course Structure:**\n",
    "* CHAPTER 1. Kaggle competition process\n",
    "* CHAPTER 2. Dive into the competition\n",
    "* CHAPTER 3. Feature Engineering\n",
    "* CHAPTER 4. Modeling\n",
    "\n",
    "### CHAPTER 1. Kaggle Competition Process\n",
    "\n",
    "#### Part 1.1 Competitions overview\n",
    "\n",
    "* \n"
   ],
   "metadata": {
    "collapsed": false
   },
   "id": "df44e4d7e218cb1f"
  },
  {
   "cell_type": "code",
   "execution_count": null,
   "outputs": [],
   "source": [],
   "metadata": {
    "collapsed": false
   },
   "id": "dfd737c4553dcc9a"
  },
  {
   "cell_type": "code",
   "execution_count": null,
   "outputs": [],
   "source": [],
   "metadata": {
    "collapsed": false
   },
   "id": "caf3c975a960b976"
  },
  {
   "cell_type": "code",
   "execution_count": null,
   "outputs": [],
   "source": [],
   "metadata": {
    "collapsed": false
   },
   "id": "737466e56aca41c"
  },
  {
   "cell_type": "code",
   "execution_count": null,
   "outputs": [],
   "source": [],
   "metadata": {
    "collapsed": false
   },
   "id": "fc74e2c106f8c495"
  }
 ],
 "metadata": {
  "kernelspec": {
   "display_name": "Python 3",
   "language": "python",
   "name": "python3"
  },
  "language_info": {
   "codemirror_mode": {
    "name": "ipython",
    "version": 2
   },
   "file_extension": ".py",
   "mimetype": "text/x-python",
   "name": "python",
   "nbconvert_exporter": "python",
   "pygments_lexer": "ipython2",
   "version": "2.7.6"
  }
 },
 "nbformat": 4,
 "nbformat_minor": 5
}
