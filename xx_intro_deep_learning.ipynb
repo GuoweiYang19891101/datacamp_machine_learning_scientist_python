{
 "cells": [
  {
   "cell_type": "markdown",
   "id": "d77e0f8e",
   "metadata": {},
   "source": [
    "## Introduction to Deep Learning in Python\n",
    "\n",
    "Learn to build multiple-input and multiple-output deep learning models using Keras\n",
    "\n",
    "**Course Structure:**\n",
    "* Chapter 1. The Keras Functional API\n",
    "*\n",
    "*\n",
    "*\n",
    "\n",
    "### CHAPTER 1. The Keras Functional API\n",
    "\n",
    "This chapter is a refresher to familiarize the functional APIs in Keras with simple models.\n",
    "\n",
    "#### Part 1.1 Keras input and dense layers\n",
    "\n",
    "Simple deep learning models:\n",
    "\n",
    "1. input layer\n",
    "2. output layer\n",
    "\n",
    "Layers are used to construct deep learning models\n",
    "\n",
    "Tensors are used to describe the data flows in deep learning models\n"
   ]
  },
  {
   "cell_type": "code",
   "execution_count": 1,
   "id": "39221ed1",
   "metadata": {},
   "outputs": [
    {
     "ename": "ModuleNotFoundError",
     "evalue": "No module named 'keras'",
     "output_type": "error",
     "traceback": [
      "\u001B[1;31m---------------------------------------------------------------------------\u001B[0m",
      "\u001B[1;31mModuleNotFoundError\u001B[0m                       Traceback (most recent call last)",
      "\u001B[1;32m~\\AppData\\Local\\Temp/ipykernel_95892/3741954910.py\u001B[0m in \u001B[0;36m<module>\u001B[1;34m\u001B[0m\n\u001B[0;32m      2\u001B[0m \u001B[1;31m# input layer & dense layer\u001B[0m\u001B[1;33m\u001B[0m\u001B[1;33m\u001B[0m\u001B[1;33m\u001B[0m\u001B[0m\n\u001B[0;32m      3\u001B[0m \u001B[1;33m\u001B[0m\u001B[0m\n\u001B[1;32m----> 4\u001B[1;33m \u001B[1;32mfrom\u001B[0m \u001B[0mkeras\u001B[0m\u001B[1;33m.\u001B[0m\u001B[0mlayers\u001B[0m \u001B[1;32mimport\u001B[0m \u001B[0mInput\u001B[0m\u001B[1;33m,\u001B[0m \u001B[0mDense\u001B[0m\u001B[1;33m\u001B[0m\u001B[1;33m\u001B[0m\u001B[0m\n\u001B[0m\u001B[0;32m      5\u001B[0m \u001B[1;33m\u001B[0m\u001B[0m\n\u001B[0;32m      6\u001B[0m \u001B[1;31m# input layer\u001B[0m\u001B[1;33m\u001B[0m\u001B[1;33m\u001B[0m\u001B[1;33m\u001B[0m\u001B[0m\n",
      "\u001B[1;31mModuleNotFoundError\u001B[0m: No module named 'keras'"
     ]
    }
   ],
   "source": [
    "# exercise 1.1\n",
    "# input layer & dense layer\n",
    "\n",
    "from keras.layers import Input, Dense\n",
    "\n",
    "# input layer\n",
    "input_tensor = Input(shape=(1,))\n",
    "\n",
    "# dense layer\n",
    "output_layer = Dense(1)\n",
    "\n",
    "# connect the dense layer to the input_tensor\n",
    "output_tensor = output_layer(input_tensor)"
   ]
  },
  {
   "cell_type": "markdown",
   "id": "64af2581",
   "metadata": {},
   "source": [
    "##### Lesson 1.2 Build and compile a model\n",
    "\n",
    "We can run layers into a real model that can be used to predict new data."
   ]
  },
  {
   "cell_type": "code",
   "execution_count": null,
   "id": "8b0a343a",
   "metadata": {},
   "outputs": [],
   "source": [
    "# exercise 1.2\n",
    "# build a model\n",
    "from keras.layers import Input, Dense\n",
    "from keras.models import Model\n",
    "from keras.utils import plot_model\n",
    "import matplotlib.pyplot as plt\n",
    "\n",
    "input_tensor = Input(shape=(1,))\n",
    "output_tensor = Dense(1)(input_tensor)\n",
    "model = Model(input_tensor, output_tensor)\n",
    "\n",
    "# compile a model\n",
    "model.compile(optimizer='adam', loss='mean_absolute_error')\n",
    "\n",
    "# visualize hte model\n",
    "model.summary()"
   ]
  },
  {
   "cell_type": "code",
   "execution_count": null,
   "id": "fba41365",
   "metadata": {},
   "outputs": [],
   "source": [
    "# plot the model\n",
    "plot_model(model, to_file='model.png')\n",
    "data = plt.imread('model.png')\n",
    "plt.imshow(data)\n",
    "plt.show()"
   ]
  },
  {
   "cell_type": "markdown",
   "id": "871c86cc",
   "metadata": {},
   "source": [
    "##### Lesson 1.3 Fit and evaluate a model\n",
    "\n",
    "We have college basketball tournament dataset.\n",
    "\n",
    "We have an input: seed difference\n",
    "\n",
    "We have an output: score difference\n",
    "\n",
    "We need to build a model to model this and evaluate model using a new dataset with .evaluate() method."
   ]
  },
  {
   "cell_type": "code",
   "execution_count": null,
   "id": "444e9b9f",
   "metadata": {},
   "outputs": [],
   "source": [
    "# exercise 1.3\n",
    "# get data\n",
    "import pandas as pd\n",
    "games_tourney = pd.read_csv('basketball_data/games_tourney.csv')\n",
    "games_tourney.head()"
   ]
  },
  {
   "cell_type": "code",
   "execution_count": null,
   "id": "384a746e",
   "metadata": {},
   "outputs": [],
   "source": [
    "games_tourney.shape"
   ]
  },
  {
   "cell_type": "code",
   "execution_count": null,
   "id": "995cf984",
   "metadata": {},
   "outputs": [],
   "source": [
    "# split the data\n",
    "games_tourney_train = games_tourney.iloc[:3430, :]\n",
    "games_tourney_test = games_tourney.iloc[3430:, :]\n",
    "print(games_tourney_train.shape)\n",
    "print(games_tourney_test.shape)\n",
    "\n",
    "# build a model\n",
    "from keras.layers import Input, Dense\n",
    "from keras.models import Model\n",
    "\n",
    "input_tensor = Input(shape=(1,))\n",
    "output_tensor = Dense(1)(input_tensor)\n",
    "model = Model(input_tensor, output_tensor)\n",
    "\n",
    "#fit the model\n",
    "model.fit(games_tourney_train['seed_diff'],\n",
    "         games_tourney_train['score_diff'],\n",
    "         epochs=1,\n",
    "         batch_size=128,\n",
    "         validation_split=0.1,\n",
    "         verbose=True)\n",
    "\n",
    "# evaluate the model on a test set\n",
    "X_test = games_tourney_test['seed_diff']\n",
    "y_test = games_tourney_test['score_diff']\n",
    "print(model.evaluate(X_test, y_test, verbose=False))\n"
   ]
  },
  {
   "cell_type": "markdown",
   "id": "b4f88872",
   "metadata": {},
   "source": [
    "#### CHAPTER 2. Two Input Networks Using Categorical Embeddings, Shared Layers, and Merged Layers\n",
    "\n",
    "##### Lesson 2.1 Category Embeddings\n",
    "\n",
    "We have an input: team ID (integer)\n",
    "\n",
    "We have an output: team strength (float)\n",
    "\n",
    "We need to create an embedding layer with **Embedding()** function.\n",
    "\n",
    "The embedding layer increases the dimension by adding third dimension. After the embedding layer, we need to flatten the layer from 3D to 2D with **Flatten()** function.\n",
    "\n",
    "Then, the Flatten layer will be output layer.\n"
   ]
  },
  {
   "cell_type": "code",
   "execution_count": null,
   "id": "830fff1d",
   "metadata": {},
   "outputs": [],
   "source": [
    "# exercise 2.1\n",
    "# define team lookup\n",
    "import pandas as pd\n",
    "\n",
    "games_season = pd.read_csv('basketball_data/games_season.csv')\n",
    "games_season.head()"
   ]
  },
  {
   "cell_type": "code",
   "execution_count": null,
   "id": "81eef48f",
   "metadata": {},
   "outputs": [],
   "source": [
    "games_season.shape"
   ]
  },
  {
   "cell_type": "code",
   "execution_count": null,
   "id": "de25f9e9",
   "metadata": {},
   "outputs": [],
   "source": [
    "import keras.layers import Embedding\n",
    "from numpy import unique\n",
    "\n",
    "# count the unique number of teams\n",
    "n_teams = unique(games_season['team_1']).shape[0]\n",
    "\n",
    "# create an embedding layer\n",
    "team_lookup = Embedding(input_dim=n_teams,\n",
    "                       output_dim=1,\n",
    "                       input_length=1,\n",
    "                       name='Team-Strength')\n",
    "\n",
    "# define the model\n",
    "from keras.layers import Input, Embedding, Flatten\n",
    "from keras.models import Model\n",
    "\n",
    "teamid_in = Input(shape=(1,))\n",
    "strength_lookup = team_lookup(teamid_in)\n",
    "strength_lookup_flat = Flatten()(strength_lookup)\n",
    "\n",
    "team_strength_model = Model(teamid_in, strength_lookup_flat, name='Team-Strength-Model')"
   ]
  },
  {
   "cell_type": "markdown",
   "id": "69a13e10",
   "metadata": {},
   "source": [
    "##### Lesson 2.2 Shared layers\n",
    "\n",
    "We will have two inputs: one for each team\n",
    "\n",
    "We want them to have the same embedding layer, we use shared layers."
   ]
  },
  {
   "cell_type": "code",
   "execution_count": null,
   "id": "95325b07",
   "metadata": {},
   "outputs": [],
   "source": [
    "# exercise 2.2\n",
    "# define two inputs\n",
    "from keras.layers import Input\n",
    "\n",
    "team_in_1 = Input(shape=(1,), name='Team-1-In')\n",
    "team_in_2 = Input(shape=(1,), name='Team-2-In')\n",
    "\n",
    "# lookup team strengths in team strength model\n",
    "team_1_strength = team_strength_model(team_in_1)\n",
    "team_2_strength = team_strength_model(team_in_2)"
   ]
  },
  {
   "cell_type": "markdown",
   "id": "2abce8da",
   "metadata": {},
   "source": [
    "##### Lesson 2.3 Merge layers\n",
    "\n",
    "When you need to combine multiple inputs into a single layer to a single output, this requires a **Merge Layer**. This gives you a lot of flexibility to creatively design networks to solve problems."
   ]
  },
  {
   "cell_type": "code",
   "execution_count": null,
   "id": "f4d8d026",
   "metadata": {},
   "outputs": [],
   "source": [
    "# exercise 2.3\n",
    "from keras.layers import Subtract\n",
    "\n",
    "score_diff"
   ]
  },
  {
   "cell_type": "markdown",
   "id": "799b75a6",
   "metadata": {},
   "source": [
    "##### Lesson 2.4 Predict from your model"
   ]
  },
  {
   "cell_type": "code",
   "execution_count": null,
   "id": "3823f3ec",
   "metadata": {},
   "outputs": [],
   "source": []
  }
 ],
 "metadata": {
  "kernelspec": {
   "display_name": "Python 3 (ipykernel)",
   "language": "python",
   "name": "python3"
  },
  "language_info": {
   "codemirror_mode": {
    "name": "ipython",
    "version": 3
   },
   "file_extension": ".py",
   "mimetype": "text/x-python",
   "name": "python",
   "nbconvert_exporter": "python",
   "pygments_lexer": "ipython3",
   "version": "3.8.8"
  }
 },
 "nbformat": 4,
 "nbformat_minor": 5
}
