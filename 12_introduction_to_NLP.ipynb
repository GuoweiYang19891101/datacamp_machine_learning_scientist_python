{
 "cells": [
  {
   "cell_type": "markdown",
   "id": "5263da35-79a9-4b7b-af36-5dff6eeda536",
   "metadata": {},
   "source": [
    "### Introduction to Natural Language Processing in Python\n",
    "\n",
    "**Course Structure:**\n",
    "* Chapter 1.\n",
    "* Chapter 2.\n",
    "* Chapter 3.\n",
    "* Chapter 4.\n",
    "\n",
    "#### Chapter 1. Regular Expression & word tokenization\n",
    "\n",
    "##### Part 1.1 Introduction to regular expressions\n",
    "\n",
    "**Natural Language Processing (NLP):**\n",
    "* Field of study focused on *making sense of language* using *statistics* and *computers*.\n",
    "* We will learn the basics of NLP include:\n",
    " 1. Topic identification\n",
    " 2. Text classification\n",
    "* **NLP applications:**\n",
    " 1. Chatbots\n",
    " 2. Translation\n",
    " 3. Sentiment analysis\n",
    " 4. and so on...\n",
    "\n",
    "**Regular expression:**\n",
    "* They are strings with a special syntax\n",
    "* Allows us to match patterns and find other strings\n",
    "* You can use regular expressions to do the following:\n",
    " 1. Find all web links in a document\n",
    " 2. Parse email address\n",
    " 3. Remove/replace unwanted characters\n",
    "* Python has a library **'re'** to conduct the regular expressions\n",
    "* Common regex patterns include:\n",
    " 1. '\\w+' to match words\n",
    " 2. '\\d' to match digits\n",
    " 3. '\\s' to match space\n",
    " 4. '.*' is a wildcard to match *any letter or symbol*\n",
    " 5. '+' or '*' is a greedy match to catch *repeats* of single letters or whole patterns\n",
    " 6. '\\S' to match *anything not space*\n",
    " 7. '[a-z]' to match lowercase letter group\n",
    "* Python's **re** module common methods include:\n",
    " 1. 'split': split a string on regex\n",
    " 2. 'findall': find all patterns in a string\n",
    " 3. 'search': search for a pattern\n",
    " 4. 'match': match a string or sub-string based on a pattern\n"
   ]
  },
  {
   "cell_type": "code",
   "execution_count": 47,
   "id": "54786e32-599a-48fe-aeb8-4d64c13c107f",
   "metadata": {},
   "outputs": [
    {
     "name": "stdout",
     "output_type": "stream",
     "text": [
      "Split on sentence:\n",
      "[\"Let's write RegEx\", \"  Won't that be fun\", '  I sure think so', '  Can you find 4 sentences', '  Or perhaps, all 19 words', '']\n",
      "All capitalized words:\n",
      "['Let', 'RegEx', 'Won', 'Can', 'Or']\n",
      "Split on space:\n",
      "[\"Let's\", 'write', 'RegEx!', \"Won't\", 'that', 'be', 'fun?', 'I', 'sure', 'think', 'so.', 'Can', 'you', 'find', '4', 'sentences?', 'Or', 'perhaps,', 'all', '19', 'words?']\n",
      "All digits:\n",
      "['4', '19']\n"
     ]
    }
   ],
   "source": [
    "# code for part 1.1\n",
    "\n",
    "# regular expression: re.split() and re.findall()\n",
    "import re\n",
    "my_string = \"Let's write RegEx!  Won't that be fun?  I sure think so.  Can you find 4 sentences?  Or perhaps, all 19 words?\"\n",
    "\n",
    "# write a pattern to match sentence endings\n",
    "sentence_endings = r\"[.?!]\"\n",
    "# split my_string on sentence endings and print the result\n",
    "print('Split on sentence:')\n",
    "print(re.split(sentence_endings, my_string))\n",
    "\n",
    "# find all capitalized words in my_string and print the result\n",
    "capitalized_words = r\"[A-Z]\\w+\"\n",
    "print(\"All capitalized words:\")\n",
    "print(re.findall(capitalized_words, my_string))\n",
    "\n",
    "# split my_string on spaces and print the result\n",
    "spaces = r\"\\s+\"\n",
    "print(\"Split on space:\")\n",
    "print(re.split(spaces, my_string))\n",
    "\n",
    "# find all digits in my_string and print the result\n",
    "digits = r\"\\d+\"\n",
    "print(\"All digits:\")\n",
    "print(re.findall(digits, my_string))\n"
   ]
  },
  {
   "cell_type": "markdown",
   "id": "c94d7f64-6298-444c-97e5-c39225c87713",
   "metadata": {},
   "source": [
    "##### Part 1.2 Introduction to tokenization\n",
    "\n",
    "**Tokenization** :\n",
    "* Transforming a string or document into *tokens* (smaller chunks)\n",
    "* One step in the process of preparing a text for natural language processing (NLP)\n",
    "* Many theories and rules about tokenization\n",
    "* You can even create your own rule of tokenization\n",
    "* Some examples include:\n",
    "1. Breaking out words or sentences\n",
    "2. Separating punctuation\n",
    "3. Separating all hashtags in a tweet\n",
    "\n",
    "* Python library that is commonly used for simple tokenization is called **nltk**, the natural language toolkit library\n",
    "\n",
    "* Some tokenization examples:\n",
    "1. Breaking out words or sentences\n",
    "2. Separating punctuation\n",
    "3. Separating all hashtags in a tweet\n",
    "\n",
    "**Why use word tokenization?**\n",
    "It can help us with some simple text processing tasks like:\n",
    "1. Easier to map part of speech\n",
    "2. Matching common words\n",
    "3. Removing unwanted tokens\n",
    "\n",
    "Other tokenization in **nltk** library:\n",
    "1. 'sent_tokenize': tokenize a document into sentences\n",
    "2. 'word_tokenize': tokenize a document or sentence into words (already mentioned)\n",
    "3. 'regexp_tokenize': tokenize a string or document based on a regular expression pattern\n",
    "4. 'TweetTokenizer': special class just for tweet tokenization, allowing you to separate hashtags, mentions and lots of exclamation points!\n",
    "\n",
    "We also need more regular expression practices like:\n",
    "1. re.search()\n",
    "2. re.match()\n",
    "We need to note that there is a difference between *'re.search()'* and *'re.match()'*\n"
   ]
  },
  {
   "cell_type": "code",
   "execution_count": 48,
   "id": "32fab2c2-ebda-4f74-ae10-60c7de549b57",
   "metadata": {},
   "outputs": [],
   "source": [
    "# install package with conda\n",
    "# import sys\n",
    "# !conda install --yes --prefix {sys.prefix} nltk"
   ]
  },
  {
   "cell_type": "code",
   "execution_count": 49,
   "id": "61aa15de-c989-428b-97ca-70d31117ca87",
   "metadata": {},
   "outputs": [],
   "source": [
    "# download required resources\n",
    "# import nltk\n",
    "# nltk.download('punkt')"
   ]
  },
  {
   "cell_type": "code",
   "execution_count": 50,
   "id": "398e1983-eb37-4382-a650-882ce5e71039",
   "metadata": {},
   "outputs": [
    {
     "name": "stdout",
     "output_type": "stream",
     "text": [
      "{'knights', 'mean', 'could', 'course', 'A', 'suggesting', 'velocity', 'Wait', 'Found', 'house', 'carried', 'is', 'agree', 'SCENE', 'Listen', 'not', 'creeper', 'We', 'land', 'wind', 'warmer', 'at', 'he', 'search', 'Court', 'castle', 'order', 'simple', 'European', 'point', 'its', 'ask', 'Pendragon', '1', 'using', 'under', '?', 'Patsy', 'you', 'England', 'The', \"'d\", 'must', 'guiding', 'am', 'all', 'migrate', 'tell', 'ARTHUR', 'forty-three', 'lord', \"'s\", 'Pull', 'join', 'Where', 'got', 'it', \"'re\", 'yeah', 'breadth', 'SOLDIER', 'air-speed', 'No', 'temperate', 'but', 'length', 'through', 'In', 'an', 'snows', 'winter', 'bangin', 'in', '[', 'zone', 'that', 'climes', 'That', 'husk', 'carry', 'Please', 'interested', 'What', 'martin', 'Mercea', '--', 'they', 'bird', 'two', 'horse', 'get', 'matter', 'maybe', 'bring', 'speak', 'Halt', 'of', '...', 'times', 'Not', 'may', 'them', 'why', 'go', 'King', 'Camelot', 'Ridden', 'sovereign', 'my', 'south', 'does', 'goes', 'dorsal', 'anyway', \"'em\", 'here', 'You', 'since', 'coconuts', \"'m\", 'needs', ':', 'But', 'if', 'swallows', 'have', 'tropical', 'me', 'coconut', 'servant', 'feathers', 'back', 'on', 'non-migratory', 'line', 'held', 'I', 'Yes', 'do', 'trusty', 'swallow', 'Whoa', 'KING', 'plover', 'use', 'five', '!', '#', 'Saxons', '.', 'with', 'together', 'covered', 'found', 'where', 'strand', 'clop', 'then', 'grips', 'seek', \"n't\", 'Arthur', 'right', 'weight', 'our', 'son', 'Uther', 'question', ']', 'are', 'ratios', 'every', 'pound', 'beat', 'ridden', 'this', 'wings', 'your', 'carrying', 'there', 'the', 'who', 'master', 'Britons', 'second', 'Oh', 'Are', 'just', 'by', 'It', 'court', 'will', 'Will', 'Well', 'Am', 'empty', 'to', 'African', \"'\", 'maintain', 'wants', 'halves', 'fly', 'defeator', 'a', \"'ve\", 'yet', 'or', ',', 'other', '2', 'ounce', 'They', 'minute', 'So', 'Supposing', 'these', 'Who', 'be', 'one', 'strangers', 'sun', 'kingdom', 'grip', 'and', 'from'}\n",
      "226\n"
     ]
    }
   ],
   "source": [
    "# code for part 1.2\n",
    "\n",
    "# word tokenization with NLTK\n",
    "from nltk.tokenize import sent_tokenize\n",
    "from nltk.tokenize import word_tokenize\n",
    "scene_one = \"SCENE 1: [wind] [clop clop clop] \\nKING ARTHUR: Whoa there!  [clop clop clop] \\nSOLDIER #1: Halt!  Who goes there?\\nARTHUR: It is I, Arthur, son of Uther Pendragon, from the castle of Camelot.  King of the Britons, defeator of the Saxons, sovereign of all England!\\nSOLDIER #1: Pull the other one!\\nARTHUR: I am, ...  and this is my trusty servant Patsy.  We have ridden the length and breadth of the land in search of knights who will join me in my court at Camelot.  I must speak with your lord and master.\\nSOLDIER #1: What?  Ridden on a horse?\\nARTHUR: Yes!\\nSOLDIER #1: You're using coconuts!\\nARTHUR: What?\\nSOLDIER #1: You've got two empty halves of coconut and you're bangin' 'em together.\\nARTHUR: So?  We have ridden since the snows of winter covered this land, through the kingdom of Mercea, through--\\nSOLDIER #1: Where'd you get the coconuts?\\nARTHUR: We found them.\\nSOLDIER #1: Found them?  In Mercea?  The coconut's tropical!\\nARTHUR: What do you mean?\\nSOLDIER #1: Well, this is a temperate zone.\\nARTHUR: The swallow may fly south with the sun or the house martin or the plover may seek warmer climes in winter, yet these are not strangers to our land?\\nSOLDIER #1: Are you suggesting coconuts migrate?\\nARTHUR: Not at all.  They could be carried.\\nSOLDIER #1: What?  A swallow carrying a coconut?\\nARTHUR: It could grip it by the husk!\\nSOLDIER #1: It's not a question of where he grips it!  It's a simple question of weight ratios!  A five ounce bird could not carry a one pound coconut.\\nARTHUR: Well, it doesn't matter.  Will you go and tell your master that Arthur from the Court of Camelot is here.\\nSOLDIER #1: Listen.  In order to maintain air-speed velocity, a swallow needs to beat its wings forty-three times every second, right?\\nARTHUR: Please!\\nSOLDIER #1: Am I right?\\nARTHUR: I'm not interested!\\nSOLDIER #2: It could be carried by an African swallow!\\nSOLDIER #1: Oh, yeah, an African swallow maybe, but not a European swallow.  That's my point.\\nSOLDIER #2: Oh, yeah, I agree with that.\\nARTHUR: Will you ask your master if he wants to join my court at Camelot?!\\nSOLDIER #1: But then of course a-- African swallows are non-migratory.\\nSOLDIER #2: Oh, yeah...\\nSOLDIER #1: So they couldn't bring a coconut back anyway...  [clop clop clop] \\nSOLDIER #2: Wait a minute!  Supposing two swallows carried it together?\\nSOLDIER #1: No, they'd have to have it on a line.\\nSOLDIER #2: Well, simple!  They'd just use a strand of creeper!\\nSOLDIER #1: What, held under the dorsal guiding feathers?\\nSOLDIER #2: Well, why not?\\n\"\n",
    "\n",
    "#split scene_one into sentences\n",
    "sentences = sent_tokenize(scene_one)\n",
    "\n",
    "# use word_tokenize to tokenize the fourth sentence\n",
    "tokenized_sent = word_tokenize(sentences[3])\n",
    "\n",
    "# make a set of unique tokens in the entire scene\n",
    "unique_tokens = set(word_tokenize(scene_one))\n",
    "\n",
    "# print the unique tokens result\n",
    "print(unique_tokens)\n",
    "print(len(unique_tokens))\n",
    "\n",
    "# note there are 226 unique tokens"
   ]
  },
  {
   "cell_type": "code",
   "execution_count": 51,
   "id": "2d7f1945-59d5-405a-a202-58139589c698",
   "metadata": {},
   "outputs": [
    {
     "name": "stdout",
     "output_type": "stream",
     "text": [
      "580 588\n",
      "<re.Match object; span=(9, 32), match='[wind] [clop clop clop]'>\n",
      "<re.Match object; span=(0, 7), match='ARTHUR:'>\n"
     ]
    }
   ],
   "source": [
    "# code for part 1.2\n",
    "\n",
    "# more regex with re.search()\n",
    "# search for the first occurrence of \"cocounts\" in scene_one\n",
    "match = re.search(\"coconuts\", scene_one)\n",
    "\n",
    "# print the start and end index of match\n",
    "print(match.start(), match.end())\n",
    "\n",
    "# write a regular expression to search for anything in square brackets\n",
    "pattern1 = r\"\\[.*\\]\"\n",
    "\n",
    "# use re.search to find the first text in square brackets\n",
    "print(re.search(pattern1, scene_one))\n",
    "\n",
    "# find the script notation at the beginning of the fourth sentence and print it\n",
    "pattern2 = r\"[\\w\\s]+:\" # match any words or spaces\n",
    "print(re.search(pattern2, sentences[3]))"
   ]
  },
  {
   "cell_type": "markdown",
   "id": "9f7c28be-27d1-4651-8d28-528103286305",
   "metadata": {},
   "source": [
    "##### Part 1.3 Advanced tokenization with regex\n",
    "\n",
    "**Useful regular expressions for more advanced tokenization:**\n",
    "\n",
    "1. OR is represented using **|**\n",
    "2. You can define a group by using **()**\n",
    "3. Define explicit character ranges using **[]**\n",
    "4. To define special characters in regular expressions, we must use an *escape character*: a backward slash \\\n",
    "\n",
    "\n",
    "\n"
   ]
  },
  {
   "cell_type": "code",
   "execution_count": 52,
   "id": "9edb65ff-b906-424e-a400-5bfb553b1fa6",
   "metadata": {},
   "outputs": [
    {
     "name": "stdout",
     "output_type": "stream",
     "text": [
      "['#nlp', '#python']\n",
      "['@datacamp', '#nlp', '#python']\n",
      "[['This', 'is', 'the', 'best', '#nlp', 'exercise', 'ive', 'found', 'online', '!', '#python'], ['#NLP', 'is', 'super', 'fun', '!', '<3', '#learning'], ['Thanks', '@datacamp', ':)', '#nlp', '#python']]\n"
     ]
    }
   ],
   "source": [
    "# code for part 1.3\n",
    "\n",
    "# regex with NLTK tokenization\n",
    "from nltk.tokenize import regexp_tokenize\n",
    "from nltk.tokenize import TweetTokenizer\n",
    "\n",
    "tweets = ['This is the best #nlp exercise ive found online! #python',\n",
    "          '#NLP is super fun! <3 #learning',\n",
    "          'Thanks @datacamp :) #nlp #python']\n",
    "\n",
    "# define a regex pattern to find hashtags\n",
    "pattern1 = r\"#\\w+\"\n",
    "# use the pattern on the first tweet in the tweets list\n",
    "hashtags = regexp_tokenize(tweets[0], pattern1)\n",
    "print(hashtags)\n",
    "\n",
    "# write a pattern that matches both mentions(@) and hashtags\n",
    "pattern2 = r\"([@|#]\\w+)\"\n",
    "# use the pattern on the last tweet in the tweets list\n",
    "mentions_hashtags = regexp_tokenize(tweets[-1], pattern2)\n",
    "print(mentions_hashtags)\n",
    "\n",
    "# use the TweetTokenizer to tokenize all tweets into one list\n",
    "tknzr = TweetTokenizer()\n",
    "all_tokens = [tknzr.tokenize(t) for t in tweets]\n",
    "print(all_tokens)\n",
    "\n",
    "# note how convenient to use TweetTokenizer to tokenize tweets"
   ]
  },
  {
   "cell_type": "code",
   "execution_count": 53,
   "id": "a6b7bb98-b236-400d-9938-df39c91549eb",
   "metadata": {},
   "outputs": [
    {
     "name": "stdout",
     "output_type": "stream",
     "text": [
      "['Wann', 'gehen', 'wir', 'Pizza', 'essen', '?', '🍕', 'Und', 'fährst', 'du', 'mit', 'Über', '?', '🚕']\n",
      "['Wann', 'Pizza', 'Und', 'Über']\n",
      "['🍕', '🚕']\n"
     ]
    }
   ],
   "source": [
    "# code for part 1.3\n",
    "\n",
    "# non-ascii tokenization\n",
    "from nltk.tokenize import regexp_tokenize\n",
    "from nltk.tokenize import word_tokenize\n",
    "\n",
    "german_text = 'Wann gehen wir Pizza essen? 🍕 Und fährst du mit Über? 🚕'\n",
    "\n",
    "# tokenize and print all words in german_text\n",
    "all_words = word_tokenize(german_text)\n",
    "print(all_words)\n",
    "\n",
    "# tokenize and print only capital words\n",
    "capital_words = r\"[A-ZÜ]\\w+\"\n",
    "print(regexp_tokenize(german_text, capital_words))\n",
    "\n",
    "# tokenize and print only emoji\n",
    "# we need to use unicode ranges for emoji\n",
    "emoji = \"['\\U0001F300-\\U0001F5FF'|'\\U0001F600-\\U0001F64F'|'\\U0001F680-\\U0001F6FF'|'\\u2600-\\u26FF\\u2700-\\u27BF']\"\n",
    "print(regexp_tokenize(german_text, emoji))\n"
   ]
  },
  {
   "cell_type": "markdown",
   "id": "5afafb50-f678-4e78-a7ba-98b9f913f431",
   "metadata": {},
   "source": [
    "##### Part 1.4 Charting word length with nltk\n",
    "\n",
    "* *'Matplotlib'* is a charting library that is widely used to create data visualizations, charts and graphs\n",
    "* It has straightforward functionality with lots of options include:\n",
    "1. Histograms\n",
    "2. Bar charts\n",
    "3. Line charts\n",
    "4. Scatter plots\n",
    "5. Advanced functionality like 3D graphs and animations!\n",
    "\n",
    "**combining our NLP data extraction with plotting:**\n",
    "* We can visualize the length of each word in our sentences tokenized as shown below:\n"
   ]
  },
  {
   "cell_type": "code",
   "execution_count": 54,
   "outputs": [
    {
     "data": {
      "text/plain": "<Figure size 640x480 with 1 Axes>",
      "image/png": "[encoded data removed]"
     },
     "metadata": {},
     "output_type": "display_data"
    }
   ],
   "source": [
    "# example code:\n",
    "from matplotlib import pyplot as plt\n",
    "from nltk.tokenize import word_tokenize\n",
    "\n",
    "words = word_tokenize(\"This is a pretty cool tool!\")\n",
    "word_lengths = [len(w) for w in words]\n",
    "plt.hist(word_lengths)\n",
    "plt.show()"
   ],
   "metadata": {
    "collapsed": false
   }
  },
  {
   "cell_type": "code",
   "execution_count": 55,
   "id": "2c68d02c-99a1-41cc-bf5e-d0d1ddbfc2cc",
   "metadata": {},
   "outputs": [
    {
     "data": {
      "text/plain": "<Figure size 640x480 with 1 Axes>",
      "image/png": "[encoded data removed]"
     },
     "metadata": {},
     "output_type": "display_data"
    }
   ],
   "source": [
    "# code for part 1.4\n",
    "\n",
    "# charting practice\n",
    "import re\n",
    "import matplotlib.pyplot as plt\n",
    "from nltk.tokenize import regexp_tokenize\n",
    "\n",
    "# get text script\n",
    "script_file = open('12_datasets/Monty Python and the Holy Grall.txt', 'r')\n",
    "holy_grail = script_file.read()\n",
    "script_file.close()\n",
    "\n",
    "# split the script into lines\n",
    "lines = holy_grail.split('\\n')\n",
    "\n",
    "# replace all script lines for speakers\n",
    "# replace speaker/character name to space\n",
    "pattern = \"[A-Z]{2,}(\\s)?(#\\d)?([A-Z]{2,})?:\"\n",
    "lines = [re.sub(pattern, '', l) for l in lines]\n",
    "\n",
    "# tokenize each line\n",
    "tokenized_lines = [regexp_tokenize(s, \"\\w+\") for s in lines]\n",
    "\n",
    "# make a frequency list of lengths\n",
    "line_num_words = [len(t_line) for t_line in tokenized_lines]\n",
    "\n",
    "# plot a histogram of the line lengths\n",
    "plt.hist(line_num_words)\n",
    "plt.show()"
   ]
  },
  {
   "cell_type": "markdown",
   "id": "27b20aa5-7500-4f6b-ba45-f4e3b4d596c8",
   "metadata": {},
   "source": [
    "#### Chapter 2 Simple Topic Identification\n",
    "\n",
    "##### Part 2.1 Word counts with bag-of-words\n",
    "\n",
    "**Bag-of-words:**\n",
    "* Basic method for finding topics in text\n",
    "* Need to first create tokens using tokenization\n",
    "* Then count up all the tokens\n",
    "* The more frequent a word, the more important it might be\n",
    "* Can be a great way to determine the significant words in a text\n",
    "* Use *'Counter'* method from 'collections' library to do the counting job"
   ]
  },
  {
   "cell_type": "code",
   "execution_count": 56,
   "id": "708b617e-58ce-4b68-a69b-c61f923c02ef",
   "metadata": {},
   "outputs": [
    {
     "name": "stdout",
     "output_type": "stream",
     "text": [
      "[(',', 151), ('the', 150), ('.', 89), ('of', 81), (\"''\", 69), ('to', 63), ('a', 60), ('``', 47), ('in', 44), ('and', 41)]\n"
     ]
    }
   ],
   "source": [
    "# Code for part 2.1\n",
    "\n",
    "# building a Counter with bag-of-words\n",
    "from collections import Counter\n",
    "from nltk.tokenize import word_tokenize\n",
    "\n",
    "# load the article about 'debugging'\n",
    "debugging_file = open('12_datasets/Wikipedia articles/Wikipedia articles/wiki_text_debugging.txt', 'r')\n",
    "article = debugging_file.read()\n",
    "debugging_file.close()\n",
    "\n",
    "# tokenize the article: tokens\n",
    "tokens = word_tokenize(article)\n",
    "# print(tokens)\n",
    "\n",
    "# convert the tokens into lowercase: lower_tokens\n",
    "lower_tokens = [t.lower() for t in tokens]\n",
    "\n",
    "# create a Counter: bow_simple\n",
    "bow_simple = Counter(lower_tokens)\n",
    "\n",
    "# find top 10 most common words\n",
    "print(bow_simple.most_common(10))"
   ]
  },
  {
   "cell_type": "markdown",
   "source": [
    "#### Part 2.2 Simple text preprocessing\n",
    "\n",
    "**Why preprocess?**\n",
    "* It helps to make for better input data when performing machine learning or other statistical methods\n",
    "* Examples:\n",
    "1. Tokenization to create a bag of words\n",
    "2. Lowercasing words\n",
    "3. Lemmatization/ Stemming (shorten words to their root stems)\n",
    "4. Removing stop words, punctuation, or unwanted tokens"
   ],
   "metadata": {
    "collapsed": false
   }
  },
  {
   "cell_type": "code",
   "execution_count": 57,
   "outputs": [
    {
     "name": "stderr",
     "output_type": "stream",
     "text": [
      "[nltk_data] Downloading package stopwords to\n",
      "[nltk_data]     C:\\Users\\User\\AppData\\Roaming\\nltk_data...\n",
      "[nltk_data]   Package stopwords is already up-to-date!\n",
      "[nltk_data] Downloading package wordnet to\n",
      "[nltk_data]     C:\\Users\\User\\AppData\\Roaming\\nltk_data...\n",
      "[nltk_data]   Package wordnet is already up-to-date!\n"
     ]
    },
    {
     "data": {
      "text/plain": "True"
     },
     "execution_count": 57,
     "metadata": {},
     "output_type": "execute_result"
    }
   ],
   "source": [
    "# download stopwords resource\n",
    "import nltk\n",
    "nltk.download('stopwords')\n",
    "nltk.download('wordnet')"
   ],
   "metadata": {
    "collapsed": false
   }
  },
  {
   "cell_type": "code",
   "execution_count": 58,
   "outputs": [
    {
     "name": "stdout",
     "output_type": "stream",
     "text": [
      "[('debugging', 39), ('system', 25), ('bug', 17), ('software', 16), ('problem', 15), ('tool', 15), ('computer', 14), ('process', 13), ('term', 13), ('debugger', 13)]\n"
     ]
    }
   ],
   "source": [
    "# Code for part 2.2\n",
    "\n",
    "# text preprocessing practice\n",
    "from nltk.tokenize import word_tokenize\n",
    "from nltk.corpus import stopwords\n",
    "from collections import Counter\n",
    "from nltk.stem import WordNetLemmatizer\n",
    "\n",
    "# get the lowe tokens created in above exercise\n",
    "debugging_file = open('12_datasets/Wikipedia articles/Wikipedia articles/wiki_text_debugging.txt', 'r')\n",
    "article = debugging_file.read()\n",
    "debugging_file.close()\n",
    "# tokenize the article: tokens\n",
    "tokens = word_tokenize(article)\n",
    "# convert the tokens into lowercase: lower_tokens\n",
    "lower_tokens = [t.lower() for t in tokens]\n",
    "\n",
    "# retain alphabetic words: alpha_only\n",
    "alpha_only = [t for t in lower_tokens if t.isalpha()]\n",
    "\n",
    "# remove all stop words: no_stops\n",
    "english_stops = stopwords.words('english')\n",
    "no_stops = [t for t in alpha_only if t not in english_stops]\n",
    "\n",
    "# create WordNetLemmatizer\n",
    "wordnet_lemmatizer = WordNetLemmatizer()\n",
    "lemmatized = [wordnet_lemmatizer.lemmatize(t) for t in no_stops]\n",
    "\n",
    "# create bag of words\n",
    "bow = Counter(lemmatized)\n",
    "\n",
    "# find top 10 most common words\n",
    "print(bow.most_common(10))\n",
    "\n",
    "# note the top 10 common words make sense now"
   ],
   "metadata": {
    "collapsed": false
   }
  },
  {
   "cell_type": "markdown",
   "source": [
    "#### 2.3 Introduction to gensim\n",
    "\n",
    "**What is Gensim?**\n",
    "* *'Gensim'* is a popular open-source NLP library\n",
    "* It uses top academic models to perform complex tasks:\n",
    "1. Building document or work vectors\n",
    "2. Performing topic identification and document comparision\n",
    "\n",
    "**What is a word vector?**\n",
    "* It is trained from a larger corpus and is a multidimensional representation of a word or document\n",
    "* It is a multidimensional array with lots of zeros and some ones\n",
    "* We can see relationships among the words or document\n",
    "\n",
    "**Gensim dictionary:**\n",
    "* Gensim allows you to build corpora and dictionaries using simple classes and functions\n",
    "* A corpora (or corpus) is a set of texts used to help perform natural language processing (NLP) tasks\n",
    "* Gensim models can be easily saved, updated, and reused\n",
    "* The dictionary can also be updated\n",
    "* This more advanced and feature rich bag-of-words can be used in future exercises\n"
   ],
   "metadata": {
    "collapsed": false
   }
  },
  {
   "cell_type": "code",
   "execution_count": 59,
   "outputs": [
    {
     "name": "stdout",
     "output_type": "stream",
     "text": [
      "computer\n",
      "[(1, 1), (5, 1), (7, 1), (15, 10), (17, 1), (19, 1), (22, 1), (32, 1), (35, 1), (44, 1)]\n"
     ]
    }
   ],
   "source": [
    "# Code for part 2.3\n",
    "\n",
    "# creating and querying a corpus with gensim\n",
    "import glob\n",
    "# from codecs import decode\n",
    "from nltk.tokenize import regexp_tokenize\n",
    "from nltk.corpus import stopwords\n",
    "from gensim.corpora.dictionary import Dictionary\n",
    "\n",
    "# get the list of document: articles\n",
    "# make an empty list\n",
    "articles = []\n",
    "\n",
    "# get text file paths\n",
    "files_paths = glob.glob('K:/Github Projects/datacamp_machine_learning_scientist_python/12_datasets/Wikipedia articles\\Wikipedia articles/*.txt')\n",
    "\n",
    "# make a for loop to append more contents into list\n",
    "for file_path in files_paths:\n",
    "    file = open(file_path, 'rb')\n",
    "    article = file.read()\n",
    "    file.close()\n",
    "    # convert type from 'bytes' to 'str'\n",
    "    article = article.decode('utf-8')\n",
    "    # tokenize and remove punctuation\n",
    "    tokens = regexp_tokenize(article, r'\\w+')\n",
    "    # lowercase\n",
    "    lower_tokens = [t.lower() for t in tokens]\n",
    "    # alpha_only\n",
    "    alpha_only = [t for t in lower_tokens if t.isalpha()]\n",
    "    # remove stop words\n",
    "    english_stops = stopwords.words('english')\n",
    "    no_stops = [t for t in alpha_only if t not in english_stops]\n",
    "    articles.append(no_stops)\n",
    "\n",
    "\n",
    "# create a Dictionary from the articles: dictionary\n",
    "dictionary = Dictionary(articles)\n",
    "\n",
    "# select the id for \"computer\": computer_id\n",
    "computer_id = dictionary.token2id.get(\"computer\")\n",
    "\n",
    "# use the computer_id with the dictionary to print the word\n",
    "print(dictionary.get(computer_id))\n",
    "\n",
    "# create a corpus\n",
    "corpus = [dictionary.doc2bow(article) for article in articles]\n",
    "\n",
    "# print the first 10 word id with their frequency counts from the fifth document\n",
    "print(corpus[4][:10])\n"
   ],
   "metadata": {
    "collapsed": false
   }
  },
  {
   "cell_type": "code",
   "execution_count": 60,
   "outputs": [
    {
     "name": "stdout",
     "output_type": "stream",
     "text": [
      "debugging 48\n",
      "system 21\n",
      "software 16\n",
      "tools 15\n",
      "http 14\n",
      "computer 708\n",
      "software 514\n",
      "title 355\n",
      "cite 324\n",
      "http 315\n"
     ]
    }
   ],
   "source": [
    "# Code for part 2.3 (continued)\n",
    "\n",
    "# gensim bag-of-words\n",
    "from collections import defaultdict\n",
    "import itertools\n",
    "\n",
    "# save the fifth document: doc\n",
    "doc = corpus[4]\n",
    "\n",
    "# sort the doc for frequency: bow_doc\n",
    "bow_doc = sorted(doc, key=lambda w: w[1], reverse=True)\n",
    "\n",
    "# print the top 5 words of the document alongside the count\n",
    "for word_id, word_count in bow_doc[:5]:\n",
    "    print(dictionary.get(word_id), word_count)\n",
    "\n",
    "# do the same thing for the whole corpus\n",
    "# crate the defaultdict: total_word_count\n",
    "total_word_count = defaultdict(int)\n",
    "for word_id, word_count in itertools.chain.from_iterable(corpus):\n",
    "    total_word_count[word_id] += word_count\n",
    "\n",
    "# create sorted list form defaultdict: sorted_word_count\n",
    "sorted_word_count = sorted(total_word_count.items(), key=lambda w: w[1], reverse=True)\n",
    "for word_id, word_count in sorted_word_count[:5]:\n",
    "    print(dictionary.get(word_id), word_count)"
   ],
   "metadata": {
    "collapsed": false
   }
  },
  {
   "cell_type": "markdown",
   "source": [
    "#### 2.4 Tf-idf with gensim\n",
    "\n",
    "**TF-IDF:**\n",
    "* It stands for **term-frequency-inverse document frequency**\n",
    "* It is a model that helps you **determine the most important words** in each document in the corpus\n",
    "* Each corpus may have more shared words than just stopwords\n",
    "* These words should be down-weighted in importance\n",
    "* Tf-idf ensures most common words don't show up as keywords\n",
    "* Keeps document specific frequent words weighted high"
   ],
   "metadata": {
    "collapsed": false
   }
  },
  {
   "cell_type": "code",
   "execution_count": 61,
   "outputs": [
    {
     "data": {
      "image/png": "[encoded data removed]",
      "text/plain": "<IPython.core.display.Image object>"
     },
     "execution_count": 61,
     "metadata": {},
     "output_type": "execute_result"
    }
   ],
   "source": [
    "from IPython import display\n",
    "\n",
    "# show tf-idf formula\n",
    "display.Image(\"Images/12_tf_idf.PNG\")"
   ],
   "metadata": {
    "collapsed": false
   }
  },
  {
   "cell_type": "code",
   "execution_count": 62,
   "outputs": [
    {
     "name": "stdout",
     "output_type": "stream",
     "text": [
      "[(1, 0.008799976412848222), (5, 0.008799976412848222), (15, 0.06619863733316475), (17, 0.014293421624125077), (19, 0.01793659553262899)]\n",
      "wolf 0.20285029565627005\n",
      "fence 0.16228023652501605\n",
      "debugging 0.1428811115910032\n",
      "anti 0.12555616872840292\n",
      "debugger 0.12448404979243763\n"
     ]
    }
   ],
   "source": [
    "# Code for part 2.4\n",
    "\n",
    "# Tf-idf with wikipedia\n",
    "# use 'dictionary', 'corpus', and 'doc' craeted in above exercise\n",
    "from gensim.models import TfidfModel\n",
    "\n",
    "# craete a new TfidfModel using the corpus: tfidf\n",
    "tfidf = TfidfModel(corpus)\n",
    "\n",
    "# calculate the tfidf weights of doc: tfidf_weights\n",
    "tfidf_weights = tfidf[doc]\n",
    "\n",
    "# print the first five weights\n",
    "print(tfidf_weights[:5])\n",
    "\n",
    "# sort the weights from highest to lowest: sorted_tfidf_weights\n",
    "sorted_tfidf_weights = sorted(tfidf_weights, key=lambda w:w[1], reverse=True)\n",
    "\n",
    "# print the top 5 weighted words\n",
    "for term_id, weight in sorted_tfidf_weights[:5]:\n",
    "    print(dictionary.get(term_id), weight)"
   ],
   "metadata": {
    "collapsed": false
   }
  },
  {
   "cell_type": "markdown",
   "source": [
    "### CHAPTER 3. Named-Entity Recognition\n",
    "\n",
    "#### 3.1 Named-entity recognition\n",
    "\n",
    "**Named entity recognition (NER):**\n",
    "* It is a NLP task to identify named entities in the text\n",
    "    * People, places, and organizations\n",
    "    * Dates, states, and works of art\n",
    "    * ... Other categories\n",
    "* It can be used alongside topic identification,\n",
    "* Or on its own to determine important items in a text or basic natural language understanding questions\n",
    "    * Who?\n",
    "    * What?\n",
    "    * When?\n",
    "    * Where?\n",
    "\n",
    "**Stanford CoreNLP library:**\n",
    "* Integrated into Python via *nltk* library\n",
    "* Java based\n",
    "* Support for NER as well as coreference and dependency trees"
   ],
   "metadata": {
    "collapsed": false
   }
  },
  {
   "cell_type": "code",
   "execution_count": 63,
   "outputs": [],
   "source": [
    "# download necessary resources\n",
    "\n",
    "# import nltk\n",
    "# nltk.download('averaged_perceptron_tagger')\n",
    "# nltk.download('maxent_ne_chunker')\n",
    "# nltk.download('words')"
   ],
   "metadata": {
    "collapsed": false
   }
  },
  {
   "cell_type": "code",
   "execution_count": 64,
   "outputs": [
    {
     "name": "stdout",
     "output_type": "stream",
     "text": [
      "(NE Uber/NNP)\n",
      "(NE Beyond/NN)\n",
      "(NE Apple/NNP)\n",
      "(NE Uber/NNP)\n",
      "(NE Uber/NNP)\n",
      "(NE Travis/NNP Kalanick/NNP)\n",
      "(NE Tim/NNP Cook/NNP)\n",
      "(NE Apple/NNP)\n",
      "(NE Silicon/NNP Valley/NNP)\n",
      "(NE CEO/NNP)\n",
      "(NE Yahoo/NNP)\n",
      "(NE Marissa/NNP Mayer/NNP)\n"
     ]
    }
   ],
   "source": [
    "# Code for part 3.1\n",
    "\n",
    "# NER with NLTK\n",
    "import nltk\n",
    "from nltk.tokenize import sent_tokenize, word_tokenize\n",
    "\n",
    "# get article from text file ''uber_apple.txt'\n",
    "uber_file = open('12_datasets/News articles/News articles/uber_apple.txt', 'rb')\n",
    "article = uber_file.read()\n",
    "uber_file.close()\n",
    "article = article.decode('utf-8')\n",
    "\n",
    "# tokenize the article into sentences: sentences\n",
    "sentences = sent_tokenize(article)\n",
    "\n",
    "# tokenize each sentence into words: token_sentences\n",
    "token_sentences = [word_tokenize(sent) for sent in sentences]\n",
    "\n",
    "# tag each tokenized sentence into parts of speech: pos_sentences\n",
    "pos_sentences = [nltk.pos_tag(sent) for sent in token_sentences]\n",
    "\n",
    "# created the named entity chunks: chunked_sentences\n",
    "chunked_sentences = nltk.ne_chunk_sents(pos_sentences, binary=True)\n",
    "\n",
    "# test for stem of the tree with 'NE' tags\n",
    "for sent in chunked_sentences:\n",
    "    for chunk in sent:\n",
    "        if hasattr(chunk, \"label\") and chunk.label() == \"NE\":\n",
    "            print(chunk)"
   ],
   "metadata": {
    "collapsed": false
   }
  },
  {
   "cell_type": "code",
   "execution_count": 65,
   "outputs": [],
   "source": [
    "# Code for 3.1 (continue)\n",
    "\n",
    "# charting practice\n",
    "import glob\n",
    "import nltk\n",
    "from nltk.tokenize import sent_tokenize, word_tokenize\n",
    "from collections import defaultdict\n",
    "import matplotlib.pyplot as plt\n",
    "\n",
    "# get all news articles and convert to chunked sentences\n",
    "# make an empty list\n",
    "full_chunked_sentences = []\n",
    "# get text file paths\n",
    "files_paths = glob.glob('K:/Github Projects/datacamp_machine_learning_scientist_python/12_datasets/News articles/News articles/*.txt')\n",
    "\n",
    "# make a for loop to create chunked sentences to the list 'full_chunked_sentences'\n",
    "for file_path in files_paths:\n",
    "    file = open(file_path, 'rb')\n",
    "    article = file.read()\n",
    "    file.close()\n",
    "    # convert type from 'bytes' to 'str'\n",
    "    article = article.decode('utf-8')\n",
    "    # tokenize article into sentences\n",
    "    sentences = sent_tokenize(article)\n",
    "    # tokenize each sentence into words\n",
    "    token_sentences = [word_tokenize(sent) for sent in sentences]\n",
    "    # tag each tokenized sentence into parts of speech: pos_sentences\n",
    "    pos_sentences = [nltk.pos_tag(sent) for sent in token_sentences]\n",
    "    # created the named entity chunks: chunked_sentences\n",
    "    chunked_sentences = nltk.ne_chunk_sents(pos_sentences, binary=True)\n",
    "    full_chunked_sentences += chunked_sentences\n"
   ],
   "metadata": {
    "collapsed": false
   }
  },
  {
   "cell_type": "code",
   "execution_count": 66,
   "outputs": [
    {
     "data": {
      "text/plain": "<Figure size 640x480 with 1 Axes>",
      "image/png": "[encoded data removed]"
     },
     "metadata": {},
     "output_type": "display_data"
    }
   ],
   "source": [
    "# Code for part 3.1 (continue)\n",
    "\n",
    "# create the defaultdict: ner_categories\n",
    "ner_categories = defaultdict(int)\n",
    "\n",
    "# create the nested for loop\n",
    "for sent in full_chunked_sentences:\n",
    "    for chunk in sent:\n",
    "        if hasattr(chunk, 'label'):\n",
    "            ner_categories[chunk.label()] +=1\n",
    "\n",
    "# create a list from the dictionary keys for the chart labels: labels\n",
    "labels = list(ner_categories.keys())\n",
    "\n",
    "# create a list of values: values\n",
    "values = [ner_categories.get(v) for v in labels]\n",
    "\n",
    "# create the pie chart\n",
    "plt.pie(values, labels=labels, autopct='%1.1f%%', startangle=140)\n",
    "plt.show()\n",
    "\n",
    "# sadly, we only have 1 label: 'NE'"
   ],
   "metadata": {
    "collapsed": false
   }
  },
  {
   "cell_type": "markdown",
   "source": [
    "#### 3.2 Introduction to SpaCy\n",
    "\n",
    "**What is SpaCy?**\n",
    "* SpaCy is a NLP library similar to *Gensim*, but with different implementations\n",
    "* Focus on creating NLP pipelines to generate models and corpora\n",
    "* Open-source, with extra library and tools\n",
    "    * Displacy (a visualization tool for viewing parse trees)\n",
    "\n",
    "**SpaCy for NER:**\n",
    "* Easy pipeline creation\n",
    "* Different entity types compared to *nltk*\n",
    "* Informal language corpora (easily find entities in Tweets and chat messages)\n",
    "* Quickly growing"
   ],
   "metadata": {
    "collapsed": false
   }
  },
  {
   "cell_type": "code",
   "execution_count": 67,
   "outputs": [],
   "source": [
    "# download necessary resources\n",
    "# !python -m spacy download en_core_web_sm"
   ],
   "metadata": {
    "collapsed": false
   }
  },
  {
   "cell_type": "code",
   "execution_count": 68,
   "outputs": [
    {
     "name": "stdout",
     "output_type": "stream",
     "text": [
      "ORG Apple\n",
      "PERSON Uber\n",
      "PERSON Travis Kalanick\n",
      "ORG Uber\n",
      "PERSON Tim Cook\n",
      "ORG Apple\n",
      "CARDINAL Millions\n",
      "ORG Uber\n",
      "LOC Silicon Valley’s\n",
      "NORP democratic\n",
      "ORG Yahoo\n",
      "PERSON Marissa Mayer\n",
      "MONEY 186\n"
     ]
    }
   ],
   "source": [
    "# Code for part 3.2\n",
    "\n",
    "# comparing NLTK and spaCy NER\n",
    "import spacy\n",
    "\n",
    "# instantiate the English model: nlp\n",
    "nlp = spacy.load('en_core_web_sm')\n",
    "\n",
    "# get article from text file ''uber_apple.txt'\n",
    "uber_file = open('12_datasets/News articles/News articles/uber_apple.txt', 'rb')\n",
    "article = uber_file.read()\n",
    "uber_file.close()\n",
    "article = article.decode('utf-8')\n",
    "\n",
    "# create a new document: doc\n",
    "doc = nlp(article)\n",
    "\n",
    "# print all the found entities and their labels\n",
    "for ent in doc.ents:\n",
    "    print(ent.label_, ent.text)"
   ],
   "metadata": {
    "collapsed": false
   }
  },
  {
   "cell_type": "markdown",
   "source": [
    "#### 3.3 Multilingual NER with polyglot\n",
    "\n",
    "**New library: polyglot**:\n",
    "* It is a NLP library which uses word vectors\n",
    "* It vectors for many different languages (more than 130!)\n",
    "* You can use it for tasks like translation\n",
    "* It can also be used for NER in other languages"
   ],
   "metadata": {
    "collapsed": false
   }
  },
  {
   "cell_type": "code",
   "execution_count": 69,
   "outputs": [],
   "source": [
    "# download necessary resources\n",
    "# pip3 install pyicu\n",
    "# pip3 install pycld2\n",
    "# pip3 install morfessor"
   ],
   "metadata": {
    "collapsed": false
   }
  },
  {
   "cell_type": "code",
   "execution_count": 70,
   "outputs": [],
   "source": [
    "# Code for 3.4\n",
    "\n",
    "# Since we could not download the dependencies libraries, we have to comment this code\n",
    "# # French NER with polyplot\n",
    "# from polyglot.text import Text\n",
    "#\n",
    "# # get french text file\n",
    "# french_file = open('12_datasets/News articles/News articles/french.txt', 'rb')\n",
    "# article = french_file.read()\n",
    "# french_file.close()\n",
    "# article = article.decode('utf-8')\n",
    "#\n",
    "# # create a new text object using polyglot's text class: txt\n",
    "# txt = Text(article)\n",
    "#\n",
    "# # print each of the entities found\n",
    "# for ent in txt.entities:\n",
    "#     print(ent)\n",
    "#\n",
    "# # print the type of ent\n",
    "#     print(type(ent))\n",
    "#\n",
    "# # create a list of tuples: entities\n",
    "# entities = [(ent.tag, ' '.join(ent)) for ent in txt.entities]\n",
    "#\n",
    "# # print entities\n",
    "# print(entities)"
   ],
   "metadata": {
    "collapsed": false
   }
  },
  {
   "cell_type": "code",
   "execution_count": 71,
   "outputs": [],
   "source": [
    "# Code for 3.4 (continue)\n",
    "\n",
    "# Since we could not download the dependencies libraries, we have to comment this code\n",
    "# # spanish NER with polyglot\n",
    "# from polyglot.text import Text\n",
    "#\n",
    "# # get spanish text\n",
    "#\n",
    "# # create a text object using polyglot's text class: txt\n",
    "# txt = Text(article)\n",
    "#\n",
    "# # initialize the count variable: count\n",
    "# count = 0\n",
    "#\n",
    "# # iterate over all the entities\n",
    "# for ent in txt.entities:\n",
    "#     if \"Márquez\" in ent or \"Gabo\" in ent:\n",
    "#         count +=1\n",
    "# print(count)\n",
    "#\n",
    "# # calculate the percentage of entities that refer to \"Gabo\": percentage\n",
    "# percentage = count / len(txt.entities)\n",
    "# print(percentage)"
   ],
   "metadata": {
    "collapsed": false
   }
  },
  {
   "cell_type": "markdown",
   "source": [
    "#### CHAPTER 4. Building a \"fake news\" classifier\n",
    "\n",
    "#### 4.1 Classifying fake news using supervised learning with NLP\n",
    "\n",
    "**Supervised learning:**\n",
    "* It is a form of machine learning\n",
    "* Problem has training data\n",
    "* The data has a label (or outcome) you want the model to learn\n",
    "* Used on classification problem\n",
    "* Goal: Make good hypotheses about the species based on geometric features\n",
    "\n",
    "**Supervised learning with NLP:**\n",
    "* Need to use language instead of geometric features\n",
    "* *'scikit-learn'*: a powerful open-source library\n",
    "* How to create supervised learning data from text?\n",
    "    * Use bag-of-words models as features\n",
    "    * Use tf-idf as features\n",
    "\n",
    "**Supervised learning steps:**\n",
    "1. Collect and preprocess our data\n",
    "2. Determine a label (example: movie genre)\n",
    "3. Split data into training and test sets\n",
    "4. Extract features from the text to help predict the label\n",
    "    * Bag-of-words vector built into *'scikit-learn'*\n",
    "    * tf-idf\n",
    "5. Evaluate trained model using the test set\n"
   ],
   "metadata": {
    "collapsed": false
   },
   "outputs": []
  },
  {
   "cell_type": "markdown",
   "source": [
    "\n",
    "#### 4.2 Building word count vectors with scikit-learn\n",
    "\n",
    "* Dataset: movie plots and corresponding genre\n",
    "* Goal: Create bag-of-words vectors for the movie plots\n",
    "* Can we predict genre based on the words used in the plot summary?\n",
    "* *'CountVectorizer()'* is used to create bag-of-words vectors"
   ],
   "metadata": {
    "collapsed": false
   }
  },
  {
   "cell_type": "code",
   "execution_count": 10,
   "outputs": [
    {
     "name": "stdout",
     "output_type": "stream",
     "text": [
      "['00' '000' '0000' '00000031' '000035' '00006' '0001' '0001pt' '000ft'\n",
      " '000km']\n"
     ]
    }
   ],
   "source": [
    "# Code for 4.2\n",
    "\n",
    "# CountVectorizer for text classification\n",
    "import pandas as pd\n",
    "from sklearn.feature_extraction.text import CountVectorizer\n",
    "from sklearn.model_selection import train_test_split\n",
    "\n",
    "# get dataframe\n",
    "df = pd.read_csv('12_datasets/fake_or_real_news.csv')\n",
    "# print(df.head())\n",
    "\n",
    "# create a series to store the labels: y\n",
    "y = df['label']\n",
    "\n",
    "# create training and test sets\n",
    "X_train, X_test, y_train, y_test = train_test_split(df['text'], y, test_size=0.33, random_state=53)\n",
    "\n",
    "# initialize a CountVectorizer: count_vectorizer\n",
    "count_vectorizer = CountVectorizer(stop_words='english')\n",
    "\n",
    "# transform the training and test data: count_train, count_test\n",
    "count_train = count_vectorizer.fit_transform(X_train)\n",
    "count_test = count_vectorizer.transform(X_test)\n",
    "\n",
    "# print the first 10 features of the count_vectorizer\n",
    "print(count_vectorizer.get_feature_names_out()[:10])\n"
   ],
   "metadata": {
    "collapsed": false
   }
  },
  {
   "cell_type": "code",
   "execution_count": 11,
   "outputs": [
    {
     "name": "stdout",
     "output_type": "stream",
     "text": [
      "['00' '000' '0000' '00000031' '000035' '00006' '0001' '0001pt' '000ft'\n",
      " '000km']\n",
      "[[0. 0. 0. ... 0. 0. 0.]\n",
      " [0. 0. 0. ... 0. 0. 0.]\n",
      " [0. 0. 0. ... 0. 0. 0.]\n",
      " [0. 0. 0. ... 0. 0. 0.]\n",
      " [0. 0. 0. ... 0. 0. 0.]]\n"
     ]
    }
   ],
   "source": [
    "# Code for 4.2 (continue)\n",
    "\n",
    "# TfidfVectorizer for text classification\n",
    "# use the same training and test data sets as above exercise\n",
    "from sklearn.feature_extraction.text import TfidfVectorizer\n",
    "\n",
    "# get dataframe\n",
    "df = pd.read_csv('12_datasets/fake_or_real_news.csv')\n",
    "# print(df.head())\n",
    "\n",
    "# create a series to store the labels: y\n",
    "y = df['label']\n",
    "\n",
    "# create training and test sets\n",
    "X_train, X_test, y_train, y_test = train_test_split(df['text'], y, test_size=0.33, random_state=53)\n",
    "\n",
    "# initialize a TfidfVectorizer: tfidf_vectorizer\n",
    "tfidf_vectorizer = TfidfVectorizer(stop_words='english', max_df=0.7)\n",
    "\n",
    "# transform the training and test data: tfidf_train, tfidf_test\n",
    "tfidf_train = tfidf_vectorizer.fit_transform(X_train)\n",
    "tfidf_test = tfidf_vectorizer.transform(X_test)\n",
    "\n",
    "# print the first 10 features of the tfidf_vectorizer\n",
    "print(tfidf_vectorizer.get_feature_names_out()[:10])\n",
    "\n",
    "# print the first 5 vectors of the tfidf training data\n",
    "print(tfidf_train.A[:5])"
   ],
   "metadata": {
    "collapsed": false
   }
  },
  {
   "cell_type": "code",
   "execution_count": 13,
   "outputs": [
    {
     "name": "stdout",
     "output_type": "stream",
     "text": [
      "   00  000  0000  00000031  000035  00006  0001  0001pt  000ft  000km  ...  \\\n",
      "0   0    0     0         0       0      0     0       0      0      0  ...   \n",
      "1   0    0     0         0       0      0     0       0      0      0  ...   \n",
      "2   0    0     0         0       0      0     0       0      0      0  ...   \n",
      "3   0    0     0         0       0      0     0       0      0      0  ...   \n",
      "4   0    0     0         0       0      0     0       0      0      0  ...   \n",
      "\n",
      "   حلب  عربي  عن  لم  ما  محاولات  من  هذا  والمرضى  ยงade  \n",
      "0    0     0   0   0   0        0   0    0        0      0  \n",
      "1    0     0   0   0   0        0   0    0        0      0  \n",
      "2    0     0   0   0   0        0   0    0        0      0  \n",
      "3    0     0   0   0   0        0   0    0        0      0  \n",
      "4    0     0   0   0   0        0   0    0        0      0  \n",
      "\n",
      "[5 rows x 56922 columns]\n",
      "    00  000  0000  00000031  000035  00006  0001  0001pt  000ft  000km  ...  \\\n",
      "0  0.0  0.0   0.0       0.0     0.0    0.0   0.0     0.0    0.0    0.0  ...   \n",
      "1  0.0  0.0   0.0       0.0     0.0    0.0   0.0     0.0    0.0    0.0  ...   \n",
      "2  0.0  0.0   0.0       0.0     0.0    0.0   0.0     0.0    0.0    0.0  ...   \n",
      "3  0.0  0.0   0.0       0.0     0.0    0.0   0.0     0.0    0.0    0.0  ...   \n",
      "4  0.0  0.0   0.0       0.0     0.0    0.0   0.0     0.0    0.0    0.0  ...   \n",
      "\n",
      "   حلب  عربي   عن   لم   ما  محاولات   من  هذا  والمرضى  ยงade  \n",
      "0  0.0   0.0  0.0  0.0  0.0      0.0  0.0  0.0      0.0    0.0  \n",
      "1  0.0   0.0  0.0  0.0  0.0      0.0  0.0  0.0      0.0    0.0  \n",
      "2  0.0   0.0  0.0  0.0  0.0      0.0  0.0  0.0      0.0    0.0  \n",
      "3  0.0   0.0  0.0  0.0  0.0      0.0  0.0  0.0      0.0    0.0  \n",
      "4  0.0   0.0  0.0  0.0  0.0      0.0  0.0  0.0      0.0    0.0  \n",
      "\n",
      "[5 rows x 56922 columns]\n",
      "set()\n",
      "False\n"
     ]
    }
   ],
   "source": [
    "# Code for 4.2 (continue)\n",
    "\n",
    "# inspecting the vectors\n",
    "import pandas as pd\n",
    "\n",
    "# create the dataframes for CountVectorizer and TfidfVectorizer: count_df, tfidf_df\n",
    "count_df = pd.DataFrame(count_train.A, columns = count_vectorizer.get_feature_names_out())\n",
    "tfidf_df = pd.DataFrame(tfidf_train.A, columns=tfidf_vectorizer.get_feature_names_out())\n",
    "\n",
    "# print the  head of dataframes\n",
    "print(count_df.head())\n",
    "print(tfidf_df.head())\n",
    "\n",
    "# calculate the difference in columns: difference\n",
    "difference = set(tfidf_df.columns) - set(count_df.columns)\n",
    "print(difference)\n",
    "\n",
    "# check whether the dataframes are equal\n",
    "print(count_df.equals(tfidf_df))"
   ],
   "metadata": {
    "collapsed": false
   }
  },
  {
   "cell_type": "markdown",
   "source": [
    "#### 4.3 Training and testing a classification model with scikit-learn\n",
    "\n",
    "**Naive Bayes classifier:**\n",
    "* Commonly used for testing NLP classification problems\n",
    "* Basis in probability\n",
    "* Given a particular piece of data, how likely is a particular outcome?\n",
    "* Examples:\n",
    "    * If the plot has a spaceship, how likely is it to be sci-fi?\n",
    "    * Given a spaceship and an alien, how likely is it sci-fi?\n",
    "* Each word from *CountVectorizer* acts as a feature\n",
    "* Naive Bayes: simple and effective\n",
    "\n"
   ],
   "metadata": {
    "collapsed": false
   }
  },
  {
   "cell_type": "code",
   "execution_count": 1,
   "outputs": [
    {
     "name": "stdout",
     "output_type": "stream",
     "text": [
      "0.893352462936394\n",
      "[[ 865  143]\n",
      " [  80 1003]]\n"
     ]
    }
   ],
   "source": [
    "# Code for 4.3\n",
    "\n",
    "# training and testing the \"fake news\" model with CountVectorizer\n",
    "import pandas as pd\n",
    "from sklearn.model_selection import train_test_split\n",
    "from sklearn.feature_extraction.text import CountVectorizer\n",
    "from sklearn.naive_bayes import MultinomialNB\n",
    "from sklearn.metrics import accuracy_score, confusion_matrix\n",
    "\n",
    "# get dataset\n",
    "df = pd.read_csv('12_datasets/fake_or_real_news.csv')\n",
    "\n",
    "# get X and y\n",
    "X, y = df['text'], df['label']\n",
    "\n",
    "# split X and y\n",
    "X_train, X_test, y_train, y_test = train_test_split(X, y, test_size=0.33, random_state=53)\n",
    "\n",
    "# initialize a CountVectorizer: count_vectorizer\n",
    "count_vectorizer = CountVectorizer(stop_words='english')\n",
    "\n",
    "# transform the training and test data: count_train, count_test\n",
    "count_train = count_vectorizer.fit_transform(X_train)\n",
    "count_test = count_vectorizer.transform(X_test)\n",
    "\n",
    "# create model: nb_classifier\n",
    "nb_classifier = MultinomialNB()\n",
    "nb_classifier.fit(count_train, y_train)\n",
    "pred = nb_classifier.predict(count_test)\n",
    "\n",
    "# calculate the accuracy score: score\n",
    "score = accuracy_score(y_test, pred)\n",
    "print(score)\n",
    "\n",
    "# calculate the confusion matrix: cm\n",
    "cm = confusion_matrix(y_test, pred, labels=['FAKE', 'REAL'])\n",
    "print(cm)"
   ],
   "metadata": {
    "collapsed": false
   }
  },
  {
   "cell_type": "code",
   "execution_count": 2,
   "outputs": [
    {
     "name": "stdout",
     "output_type": "stream",
     "text": [
      "0.8565279770444764\n",
      "[[ 739  269]\n",
      " [  31 1052]]\n"
     ]
    }
   ],
   "source": [
    "# Code for 4.3 (continue)\n",
    "\n",
    "# training and testing the \"fake news\" model with TfidfVectorizer\n",
    "import pandas as pd\n",
    "from sklearn.model_selection import train_test_split\n",
    "from sklearn.feature_extraction.text import TfidfVectorizer\n",
    "from sklearn.naive_bayes import MultinomialNB\n",
    "from sklearn.metrics import accuracy_score, confusion_matrix\n",
    "\n",
    "# get dataset\n",
    "df = pd.read_csv('12_datasets/fake_or_real_news.csv')\n",
    "\n",
    "# get X and y\n",
    "X, y = df['text'], df['label']\n",
    "\n",
    "# split X and y\n",
    "X_train, X_test, y_train, y_test = train_test_split(X, y, test_size=0.33, random_state=53)\n",
    "\n",
    "# instantiate a TfidfVectorizer: tfidf_vectorizer\n",
    "tfidf_vectorizer = TfidfVectorizer(stop_words='english', max_df=0.7)\n",
    "\n",
    "# transform the training and test data: tfidf_train, tfidf_test\n",
    "tfidf_train = tfidf_vectorizer.fit_transform(X_train)\n",
    "tfidf_test = tfidf_vectorizer.transform(X_test)\n",
    "\n",
    "# create model: nb_classifier\n",
    "nb_classifier = MultinomialNB()\n",
    "nb_classifier.fit(tfidf_train, y_train)\n",
    "pred = nb_classifier.predict(tfidf_test)\n",
    "\n",
    "# calculate the accuracy score: score\n",
    "score = accuracy_score(y_test, pred)\n",
    "print(score)\n",
    "\n",
    "# calculate the confusion matrix: cm\n",
    "cm = confusion_matrix(y_test, pred, labels=['FAKE', 'REAL'])\n",
    "print(cm)"
   ],
   "metadata": {
    "collapsed": false
   }
  },
  {
   "cell_type": "markdown",
   "source": [
    "#### 4.4 Simple NLP, complex problems\n",
    "\n",
    "* How sometimes NLP problems can be complex\n",
    "* Examples:\n",
    "    * Translation (Germany translate English economics, economy, and so forth)\n",
    "    * Sentiment Analysis (snark or sarcasm, and negation)\n",
    "    * Language Biases (language has its own prejudices and unfair treatment towards groups)"
   ],
   "metadata": {
    "collapsed": false
   }
  },
  {
   "cell_type": "code",
   "execution_count": 4,
   "outputs": [
    {
     "name": "stdout",
     "output_type": "stream",
     "text": [
      "Alpha:  0.0\n",
      "Score:  0.8813964610234337\n",
      "\n",
      "\n",
      "Alpha:  0.1\n",
      "Score:  0.8976566236250598\n",
      "\n",
      "\n",
      "Alpha:  0.2\n",
      "Score:  0.8938307030129125\n",
      "\n",
      "\n",
      "Alpha:  0.30000000000000004\n",
      "Score:  0.8900047824007652\n",
      "\n",
      "\n",
      "Alpha:  0.4\n",
      "Score:  0.8857006217120995\n",
      "\n",
      "\n",
      "Alpha:  0.5\n",
      "Score:  0.8842659014825442\n",
      "\n",
      "\n",
      "Alpha:  0.6000000000000001\n",
      "Score:  0.874701099952176\n",
      "\n",
      "\n",
      "Alpha:  0.7000000000000001\n",
      "Score:  0.8703969392635102\n",
      "\n",
      "\n",
      "Alpha:  0.8\n",
      "Score:  0.8660927785748446\n",
      "\n",
      "\n",
      "Alpha:  0.9\n",
      "Score:  0.8589191774270684\n",
      "\n",
      "\n"
     ]
    },
    {
     "name": "stderr",
     "output_type": "stream",
     "text": [
      "E:\\PYTHON\\Lib\\site-packages\\sklearn\\naive_bayes.py:591: UserWarning: alpha too small will result in numeric errors, setting alpha = 1.0e-10\n",
      "  warnings.warn(\n"
     ]
    }
   ],
   "source": [
    "# Code for 4.4\n",
    "\n",
    "# improving your model\n",
    "import pandas as pd\n",
    "import numpy as np\n",
    "from sklearn.model_selection import train_test_split\n",
    "from sklearn.naive_bayes import MultinomialNB\n",
    "from sklearn.metrics import accuracy_score\n",
    "\n",
    "# get dataset\n",
    "df = pd.read_csv('12_datasets/fake_or_real_news.csv')\n",
    "\n",
    "# get X and y\n",
    "X, y = df['text'], df['label']\n",
    "\n",
    "# split X and y\n",
    "X_train, X_test, y_train, y_test = train_test_split(X, y, test_size=0.33, random_state=53)\n",
    "\n",
    "# instantiate a TfidfVectorizer: tfidf_vectorizer\n",
    "tfidf_vectorizer = TfidfVectorizer(stop_words='english', max_df=0.7)\n",
    "\n",
    "# transform the training and test data: tfidf_train, tfidf_test\n",
    "tfidf_train = tfidf_vectorizer.fit_transform(X_train)\n",
    "tfidf_test = tfidf_vectorizer.transform(X_test)\n",
    "\n",
    "# create the list of alphas for possible models: alphas\n",
    "alphas = np.arange(0, 1, 0.1)\n",
    "\n",
    "# define train_and_predict()\n",
    "def train_and_predict(alpha):\n",
    "    nb_classifier = MultinomialNB(alpha=alpha)\n",
    "    nb_classifier.fit(tfidf_train, y_train)\n",
    "    pred = nb_classifier.predict(tfidf_test)\n",
    "    score = accuracy_score(y_test, pred)\n",
    "    return score\n",
    "\n",
    "# iterate over alphas and print the score\n",
    "for alpha in alphas:\n",
    "    print('Alpha: ', alpha)\n",
    "    print('Score: ', train_and_predict(alpha))\n",
    "    print('\\n')"
   ],
   "metadata": {
    "collapsed": false
   }
  },
  {
   "cell_type": "code",
   "execution_count": 10,
   "outputs": [
    {
     "name": "stdout",
     "output_type": "stream",
     "text": [
      "FAKE [(-11.280753302177917, '00000031'), (-11.280753302177917, '00006'), (-11.280753302177917, '000ft'), (-11.280753302177917, '001'), (-11.280753302177917, '002'), (-11.280753302177917, '003'), (-11.280753302177917, '006'), (-11.280753302177917, '008'), (-11.280753302177917, '010'), (-11.280753302177917, '013'), (-11.280753302177917, '025'), (-11.280753302177917, '027'), (-11.280753302177917, '035'), (-11.280753302177917, '037'), (-11.280753302177917, '040'), (-11.280753302177917, '044'), (-11.280753302177917, '048'), (-11.280753302177917, '066'), (-11.280753302177917, '068'), (-11.280753302177917, '075')]\n",
      "REAL [(-8.036772745824807, 'president'), (-8.022187159522364, 'american'), (-8.013319806154513, 'media'), (-8.007761560290644, 'donald'), (-8.006632122322646, 'october'), (-7.989623223030759, 'government'), (-7.929695447721539, 'like'), (-7.922750601304927, 'war'), (-7.915731838943572, 'new'), (-7.908889774759155, 'world'), (-7.885018054191407, 'just'), (-7.758145325115569, 'said'), (-7.7498037548099585, 'russia'), (-7.697669509488481, 'fbi'), (-7.604825769578616, '2016'), (-7.554879292243166, 'election'), (-7.541640806988918, 'people'), (-7.235945549755579, 'hillary'), (-6.923220068888362, 'clinton'), (-6.867377223688766, 'trump')]\n"
     ]
    }
   ],
   "source": [
    "# Code for 4.4 (continue)\n",
    "\n",
    "# inspecting your model\n",
    "\n",
    "# get the class labels: class_labels\n",
    "class_labels = nb_classifier.classes_\n",
    "\n",
    "# extract the features: feature_names\n",
    "feature_names = tfidf_vectorizer.get_feature_names_out()\n",
    "\n",
    "# zip together\n",
    "feat_with_weights = sorted(zip(nb_classifier.feature_log_prob_[0], feature_names))\n",
    "print(class_labels[0], feat_with_weights[:20])\n",
    "print(class_labels[1], feat_with_weights[-20:])\n"
   ],
   "metadata": {
    "collapsed": false
   }
  },
  {
   "cell_type": "markdown",
   "source": [
    "This is the end of this course!"
   ],
   "metadata": {
    "collapsed": false
   }
  }
 ],
 "metadata": {
  "kernelspec": {
   "display_name": "Python 3 (ipykernel)",
   "language": "python",
   "name": "python3"
  },
  "language_info": {
   "codemirror_mode": {
    "name": "ipython",
    "version": 3
   },
   "file_extension": ".py",
   "mimetype": "text/x-python",
   "name": "python",
   "nbconvert_exporter": "python",
   "pygments_lexer": "ipython3",
   "version": "3.8.8"
  }
 },
 "nbformat": 4,
 "nbformat_minor": 5
}
