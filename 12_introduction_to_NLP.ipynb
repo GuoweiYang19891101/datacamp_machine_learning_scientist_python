{
 "cells": [
  {
   "cell_type": "markdown",
   "id": "5263da35-79a9-4b7b-af36-5dff6eeda536",
   "metadata": {},
   "source": [
    "### Introduction to Natural Language Processing in Python\n",
    "\n",
    "#### Chapter 1. Regular Expression & word tokenization\n",
    "\n",
    "##### Part 1.1 Introduction to regular expressions\n",
    "\n",
    "**Natural Language Processing (NLP):**\n",
    "* Field of study focused on *making sense of language* using *statistics* and *computers*.\n",
    "* We will learn the basics of NLP include:\n",
    " 1. Topic identification\n",
    " 2. Text classification\n",
    "* **NLP applications:**\n",
    " 1. Chatbots\n",
    " 2. Translation\n",
    " 3. Sentiment analysis\n",
    " 4. and so on...\n",
    "\n",
    "**Regular expression:**\n",
    "* They are strings with a special syntax\n",
    "* Allows us to match patterns and find other strings\n",
    "* You can use regular expressions to do the following:\n",
    " 1. Find all web links in a document\n",
    " 2. Parse email address\n",
    " 3. Remove/replace unwanted characters\n",
    "* Python has a library **'re'** to conduct the regular expressions\n",
    "* Common regex patterns include:\n",
    " 1. '\\w+' to match words\n",
    " 2. '\\d' to match digits\n",
    " 3. '\\s' to match space\n",
    " 4. '.*' is a wildcard to match *any letter or symbol*\n",
    " 5. '+' or '*' is a greedy match to catch *repeats* of single letters or whole patterns\n",
    " 6. '\\S' to match *anything not space*\n",
    " 7. '[a-z]' to match lowercase letter group\n",
    "* Python's **re** module common methods include:\n",
    " 1. 'split': split a string on regex\n",
    " 2. 'findall': find all patterns in a string\n",
    " 3. 'search': search for a pattern\n",
    " 4. 'match': match a string or sub-string based on a pattern\n"
   ]
  },
  {
   "cell_type": "code",
   "execution_count": 1,
   "id": "54786e32-599a-48fe-aeb8-4d64c13c107f",
   "metadata": {},
   "outputs": [
    {
     "name": "stdout",
     "output_type": "stream",
     "text": [
      "Split on sentence:\n",
      "[\"Let's write RegEx\", \"  Won't that be fun\", '  I sure think so', '  Can you find 4 sentences', '  Or perhaps, all 19 words', '']\n",
      "All capitalized words:\n",
      "['Let', 'RegEx', 'Won', 'Can', 'Or']\n",
      "Split on space:\n",
      "[\"Let's\", 'write', 'RegEx!', \"Won't\", 'that', 'be', 'fun?', 'I', 'sure', 'think', 'so.', 'Can', 'you', 'find', '4', 'sentences?', 'Or', 'perhaps,', 'all', '19', 'words?']\n",
      "All digits:\n",
      "['4', '19']\n"
     ]
    }
   ],
   "source": [
    "# code for part 1.1\n",
    "\n",
    "# regular expression: re.split() and re.findall()\n",
    "import re\n",
    "my_string = \"Let's write RegEx!  Won't that be fun?  I sure think so.  Can you find 4 sentences?  Or perhaps, all 19 words?\"\n",
    "\n",
    "# write a pattern to match sentence endings\n",
    "sentence_endings = r\"[.?!]\"\n",
    "# split my_string on sentence endings and print the result\n",
    "print('Split on sentence:')\n",
    "print(re.split(sentence_endings, my_string))\n",
    "\n",
    "# find all capitalized words in my_string and print the result\n",
    "capitalized_words = r\"[A-Z]\\w+\"\n",
    "print(\"All capitalized words:\")\n",
    "print(re.findall(capitalized_words, my_string))\n",
    "\n",
    "# split my_string on spaces and print the result\n",
    "spaces = r\"\\s+\"\n",
    "print(\"Split on space:\")\n",
    "print(re.split(spaces, my_string))\n",
    "\n",
    "# find all digits in my_string and print the result\n",
    "digits = r\"\\d+\"\n",
    "print(\"All digits:\")\n",
    "print(re.findall(digits, my_string))\n"
   ]
  },
  {
   "cell_type": "markdown",
   "id": "c94d7f64-6298-444c-97e5-c39225c87713",
   "metadata": {},
   "source": [
    "##### Part 1.2 Introduction to tokenization\n",
    "\n",
    "**Tokenization** :\n",
    "* Transforming a string or document into *tokens* (smaller chunks)\n",
    "* One step in the process of preparing a text for natural language processing (NLP)\n",
    "* Many theories and rules about tokenization\n",
    "* You can even create your own rule of tokenization\n",
    "* Some examples include:\n",
    "1. Breaking out words or sentences\n",
    "2. Separating punctuation\n",
    "3. Separating all hashtags in a tweet\n",
    "\n",
    "* Python library that is commonly used for simple tokenization is called **nltk**, the natural language toolkit library\n",
    "\n",
    "* Some tokenization examples:\n",
    "1. Breaking out words or sentences\n",
    "2. Separating punctuation\n",
    "3. Separating all hashtags in a tweet\n",
    "\n",
    "**Why use word tokenization?**\n",
    "It can help us with some simple text processing tasks like:\n",
    "1. Easier to map part of speech\n",
    "2. Matching common words\n",
    "3. Removing unwanted tokens\n",
    "\n",
    "Other tokenization in **nltk** library:\n",
    "1. 'sent_tokenize': tokenize a document into sentences\n",
    "2. 'word_tokenize': tokenize a document or sentence into words (already mentioned)\n",
    "3. 'regexp_tokenize': tokenize a string or document based on a regular expression pattern\n",
    "4. 'TweetTokenizer': special class just for tweet tokenization, allowing you to separate hashtags, mentions and lots of exclamation points!\n",
    "\n",
    "We also need more regular expression practices like:\n",
    "1. re.search()\n",
    "2. re.match()\n",
    "We need to note that there is a difference between *'re.search()'* and *'re.match()'*\n"
   ]
  },
  {
   "cell_type": "code",
   "execution_count": 2,
   "id": "32fab2c2-ebda-4f74-ae10-60c7de549b57",
   "metadata": {},
   "outputs": [],
   "source": [
    "# install package with conda\n",
    "# import sys\n",
    "# !conda install --yes --prefix {sys.prefix} nltk"
   ]
  },
  {
   "cell_type": "code",
   "execution_count": 3,
   "id": "61aa15de-c989-428b-97ca-70d31117ca87",
   "metadata": {},
   "outputs": [],
   "source": [
    "# download required resources\n",
    "# import nltk\n",
    "# nltk.download('punkt')"
   ]
  },
  {
   "cell_type": "code",
   "execution_count": 5,
   "id": "398e1983-eb37-4382-a650-882ce5e71039",
   "metadata": {},
   "outputs": [
    {
     "name": "stdout",
     "output_type": "stream",
     "text": [
      "{'beat', 'a', '!', 'court', 'wants', 'wings', 'Will', 'and', 'wind', 'ounce', 'carried', 'are', 'zone', 'You', 'Britons', 'our', 'my', '1', 'Court', 'Saxons', 'The', '...', \"'m\", 'maybe', 'SOLDIER', ',', \"'ve\", 'servant', 'second', 'does', 'that', 'warmer', '2', 'times', 'We', 'of', 'get', 'who', 'since', \"'\", 'Mercea', 'you', 'your', 'could', 'here', 'Arthur', 'two', 'Pendragon', \"'em\", 'matter', 'anyway', 'carry', 'What', 'an', 'agree', 'all', \"'s\", 'sovereign', 'or', 'yet', 'by', 'King', 'length', 'husk', 'question', 'he', 'non-migratory', 'velocity', 'But', '#', 'suggesting', 'Where', 'yeah', 'lord', 'found', 'tropical', 'son', 'winter', 'right', 'using', 'order', 'be', 'just', 'bangin', 'grips', 'do', 'Found', '?', 'SCENE', 'clop', 'they', 'feathers', 'bird', 'Patsy', 'kingdom', 'join', 'is', 'line', 'there', 'sun', 'every', 'point', 'with', 'have', 'its', 'other', 'south', 'me', ']', 'fly', 'from', 'this', 'got', 'KING', 'snows', 'Ridden', 'forty-three', 'at', 'must', 'Wait', 'migrate', 'They', 'Camelot', \"'re\", 'house', 'plover', 'air-speed', ':', 'back', 'England', 'guiding', 'ratios', 'five', 'under', 'Whoa', 'It', 'A', 'Who', 'strangers', 'but', 'ARTHUR', 'may', 'breadth', 'why', 'No', 'Oh', '[', 'coconut', 'carrying', 'Listen', 'if', 'ask', 'defeator', 'search', 'I', '--', 'strand', \"'d\", 'Well', 'Am', 'needs', 'swallows', 'coconuts', 'Please', 'where', 'Supposing', 'creeper', 'course', '.', 'empty', 'pound', 'the', 'then', 'these', 'go', 'them', 'swallow', 'through', 'Not', \"n't\", 'use', 'held', 'it', 'together', 'So', 'Uther', 'That', 'goes', 'one', 'minute', 'maintain', 'knights', 'temperate', 'land', 'tell', 'trusty', 'castle', 'master', 'In', 'interested', 'mean', 'Yes', 'halves', 'Are', 'horse', 'ridden', 'covered', 'weight', 'African', 'martin', 'in', 'Halt', 'dorsal', 'am', 'Pull', 'seek', 'simple', 'speak', 'to', 'on', 'not', 'will', 'European', 'climes', 'grip', 'bring'}\n",
      "226\n"
     ]
    }
   ],
   "source": [
    "# code for part 1.2\n",
    "\n",
    "# word tokenization with NLTK\n",
    "from nltk.tokenize import sent_tokenize\n",
    "from nltk.tokenize import word_tokenize\n",
    "scene_one = \"SCENE 1: [wind] [clop clop clop] \\nKING ARTHUR: Whoa there!  [clop clop clop] \\nSOLDIER #1: Halt!  Who goes there?\\nARTHUR: It is I, Arthur, son of Uther Pendragon, from the castle of Camelot.  King of the Britons, defeator of the Saxons, sovereign of all England!\\nSOLDIER #1: Pull the other one!\\nARTHUR: I am, ...  and this is my trusty servant Patsy.  We have ridden the length and breadth of the land in search of knights who will join me in my court at Camelot.  I must speak with your lord and master.\\nSOLDIER #1: What?  Ridden on a horse?\\nARTHUR: Yes!\\nSOLDIER #1: You're using coconuts!\\nARTHUR: What?\\nSOLDIER #1: You've got two empty halves of coconut and you're bangin' 'em together.\\nARTHUR: So?  We have ridden since the snows of winter covered this land, through the kingdom of Mercea, through--\\nSOLDIER #1: Where'd you get the coconuts?\\nARTHUR: We found them.\\nSOLDIER #1: Found them?  In Mercea?  The coconut's tropical!\\nARTHUR: What do you mean?\\nSOLDIER #1: Well, this is a temperate zone.\\nARTHUR: The swallow may fly south with the sun or the house martin or the plover may seek warmer climes in winter, yet these are not strangers to our land?\\nSOLDIER #1: Are you suggesting coconuts migrate?\\nARTHUR: Not at all.  They could be carried.\\nSOLDIER #1: What?  A swallow carrying a coconut?\\nARTHUR: It could grip it by the husk!\\nSOLDIER #1: It's not a question of where he grips it!  It's a simple question of weight ratios!  A five ounce bird could not carry a one pound coconut.\\nARTHUR: Well, it doesn't matter.  Will you go and tell your master that Arthur from the Court of Camelot is here.\\nSOLDIER #1: Listen.  In order to maintain air-speed velocity, a swallow needs to beat its wings forty-three times every second, right?\\nARTHUR: Please!\\nSOLDIER #1: Am I right?\\nARTHUR: I'm not interested!\\nSOLDIER #2: It could be carried by an African swallow!\\nSOLDIER #1: Oh, yeah, an African swallow maybe, but not a European swallow.  That's my point.\\nSOLDIER #2: Oh, yeah, I agree with that.\\nARTHUR: Will you ask your master if he wants to join my court at Camelot?!\\nSOLDIER #1: But then of course a-- African swallows are non-migratory.\\nSOLDIER #2: Oh, yeah...\\nSOLDIER #1: So they couldn't bring a coconut back anyway...  [clop clop clop] \\nSOLDIER #2: Wait a minute!  Supposing two swallows carried it together?\\nSOLDIER #1: No, they'd have to have it on a line.\\nSOLDIER #2: Well, simple!  They'd just use a strand of creeper!\\nSOLDIER #1: What, held under the dorsal guiding feathers?\\nSOLDIER #2: Well, why not?\\n\"\n",
    "\n",
    "#split scene_one into sentences\n",
    "sentences = sent_tokenize(scene_one)\n",
    "\n",
    "# use word_tokenize to tokenize the fourth sentence\n",
    "tokenized_sent = word_tokenize(sentences[3])\n",
    "\n",
    "# make a set of unique tokens in the entire scene\n",
    "unique_tokens = set(word_tokenize(scene_one))\n",
    "\n",
    "# print the unique tokens result\n",
    "print(unique_tokens)\n",
    "print(len(unique_tokens))\n",
    "\n",
    "# note there are 226 unique tokens"
   ]
  },
  {
   "cell_type": "code",
   "execution_count": 8,
   "id": "2d7f1945-59d5-405a-a202-58139589c698",
   "metadata": {},
   "outputs": [
    {
     "name": "stdout",
     "output_type": "stream",
     "text": [
      "580 588\n",
      "<re.Match object; span=(9, 32), match='[wind] [clop clop clop]'>\n",
      "<re.Match object; span=(0, 7), match='ARTHUR:'>\n"
     ]
    }
   ],
   "source": [
    "# code for part 1.2\n",
    "\n",
    "# more regex with re.search()\n",
    "# search for the first occurrence of \"cocounts\" in scene_one\n",
    "match = re.search(\"coconuts\", scene_one)\n",
    "\n",
    "# print the start and end index of match\n",
    "print(match.start(), match.end())\n",
    "\n",
    "# write a regular expression to search for anything in square brackets\n",
    "pattern1 = r\"\\[.*\\]\"\n",
    "\n",
    "# use re.search to find the first text in square brackets\n",
    "print(re.search(pattern1, scene_one))\n",
    "\n",
    "# find the script notation at the beginning of the fourth sentence and print it\n",
    "pattern2 = r\"[\\w\\s]+:\" # match any words or spaces\n",
    "print(re.search(pattern2, sentences[3]))"
   ]
  },
  {
   "cell_type": "markdown",
   "id": "9f7c28be-27d1-4651-8d28-528103286305",
   "metadata": {},
   "source": [
    "##### Part 1.3 Advanced tokenization with regex\n",
    "\n",
    "**Useful regular expressions for more advanced tokenization:**\n",
    "\n",
    "1. OR is represented using **|**\n",
    "2. You can define a group by using **()**\n",
    "3. Define explicit character ranges using **[]**\n",
    "4. To define special characters in regular expressions, we must use an *escape character*: a backward slash \\\n",
    "\n",
    "\n",
    "\n"
   ]
  },
  {
   "cell_type": "code",
   "execution_count": 13,
   "id": "9edb65ff-b906-424e-a400-5bfb553b1fa6",
   "metadata": {},
   "outputs": [
    {
     "name": "stdout",
     "output_type": "stream",
     "text": [
      "['#nlp', '#python']\n",
      "['@datacamp', '#nlp', '#python']\n",
      "[['This', 'is', 'the', 'best', '#nlp', 'exercise', 'ive', 'found', 'online', '!', '#python'], ['#NLP', 'is', 'super', 'fun', '!', '<3', '#learning'], ['Thanks', '@datacamp', ':)', '#nlp', '#python']]\n"
     ]
    }
   ],
   "source": [
    "# code for part 1.3\n",
    "\n",
    "# regex with NLTK tokenization\n",
    "from nltk.tokenize import regexp_tokenize\n",
    "from nltk.tokenize import TweetTokenizer\n",
    "\n",
    "tweets = ['This is the best #nlp exercise ive found online! #python',\n",
    " '#NLP is super fun! <3 #learning',\n",
    " 'Thanks @datacamp :) #nlp #python']\n",
    "\n",
    "# define a regex pattern to find hashtags\n",
    "pattern1 = r\"#\\w+\"\n",
    "# use the pattern on the first tweet in the tweets list\n",
    "hashtags = regexp_tokenize(tweets[0], pattern1)\n",
    "print(hashtags)\n",
    "\n",
    "# write a pattern that matches both mentions(@) and hashtags\n",
    "pattern2 = r\"([@|#]\\w+)\"\n",
    "# use the pattern on the last tweet in the tweets list\n",
    "mentions_hashtags = regexp_tokenize(tweets[-1], pattern2)\n",
    "print(mentions_hashtags)\n",
    "\n",
    "# use the TweetTokenizer to tokenize all tweets into one list\n",
    "tknzr = TweetTokenizer()\n",
    "all_tokens = [tknzr.tokenize(t) for t in tweets]\n",
    "print(all_tokens)\n",
    "\n",
    "# note how convenient to use TweetTokenizer to tokenize tweets"
   ]
  },
  {
   "cell_type": "code",
   "execution_count": 16,
   "id": "a6b7bb98-b236-400d-9938-df39c91549eb",
   "metadata": {},
   "outputs": [
    {
     "name": "stdout",
     "output_type": "stream",
     "text": [
      "['Wann', 'gehen', 'wir', 'Pizza', 'essen', '?', '🍕', 'Und', 'fährst', 'du', 'mit', 'Über', '?', '🚕']\n",
      "['Wann', 'Pizza', 'Und', 'Über']\n",
      "['🍕', '🚕']\n"
     ]
    }
   ],
   "source": [
    "# code for part 1.3\n",
    "\n",
    "# non-ascii tokenization\n",
    "from nltk.tokenize import regexp_tokenize\n",
    "from nltk.tokenize import word_tokenize\n",
    "\n",
    "german_text = 'Wann gehen wir Pizza essen? 🍕 Und fährst du mit Über? 🚕'\n",
    "\n",
    "# tokenize and print all words in german_text\n",
    "all_words = word_tokenize(german_text)\n",
    "print(all_words)\n",
    "\n",
    "# tokenize and print only capital words\n",
    "capital_words = r\"[A-ZÜ]\\w+\"\n",
    "print(regexp_tokenize(german_text, capital_words))\n",
    "\n",
    "# tokenize and print only emoji\n",
    "# we need to use unicode ranges for emoji\n",
    "emoji = \"['\\U0001F300-\\U0001F5FF'|'\\U0001F600-\\U0001F64F'|'\\U0001F680-\\U0001F6FF'|'\\u2600-\\u26FF\\u2700-\\u27BF']\"\n",
    "print(regexp_tokenize(german_text, emoji))\n"
   ]
  },
  {
   "cell_type": "markdown",
   "id": "5afafb50-f678-4e78-a7ba-98b9f913f431",
   "metadata": {},
   "source": [
    "##### Part 1.4 Charting word length with nltk\n",
    "\n",
    "* *'Matplotlib'* is a charting library that is widely used to create data visualizations, charts and graphs\n",
    "* It has straightforward functionality with lots of options include:\n",
    "1. Histograms\n",
    "2. Bar charts\n",
    "3. Line charts\n",
    "4. Scatter plots\n",
    "5. Advanced functionality like 3D graphs and animations!\n",
    "\n",
    "**combining our NLP data extraction with plotting:**\n",
    "* We can visualize the length of each word in our sentences tokenized as shown below:\n"
   ]
  },
  {
   "cell_type": "code",
   "execution_count": 17,
   "outputs": [
    {
     "data": {
      "text/plain": "<Figure size 640x480 with 1 Axes>",
      "image/png": "[encoded data removed]"
     },
     "metadata": {},
     "output_type": "display_data"
    }
   ],
   "source": [
    "# example code:\n",
    "from matplotlib import pyplot as plt\n",
    "from nltk.tokenize import word_tokenize\n",
    "\n",
    "words = word_tokenize(\"This is a pretty cool tool!\")\n",
    "word_lengths = [len(w) for w in words]\n",
    "plt.hist(word_lengths)\n",
    "plt.show()"
   ],
   "metadata": {
    "collapsed": false
   }
  },
  {
   "cell_type": "code",
   "execution_count": 25,
   "id": "2c68d02c-99a1-41cc-bf5e-d0d1ddbfc2cc",
   "metadata": {},
   "outputs": [
    {
     "data": {
      "text/plain": "<Figure size 640x480 with 1 Axes>",
      "image/png": "[encoded data removed]"
     },
     "metadata": {},
     "output_type": "display_data"
    }
   ],
   "source": [
    "# code for part 1.4\n",
    "\n",
    "# charting practice\n",
    "import re\n",
    "import matplotlib.pyplot as plt\n",
    "from nltk.tokenize import regexp_tokenize\n",
    "\n",
    "# get text script\n",
    "script_file = open('12_datasets/Monty Python and the Holy Grall.txt', 'r')\n",
    "holy_grail = script_file.read()\n",
    "script_file.close()\n",
    "\n",
    "# split the script into lines\n",
    "lines = holy_grail.split('\\n')\n",
    "\n",
    "# replace all script lins for speakers\n",
    "pattern = \"[A-Z]{2,}(\\s)?(#\\d)?([A-Z]{2,})?:\"\n",
    "lines = [re.sub(pattern, '', l) for l in lines]\n",
    "\n",
    "# tokenize each line\n",
    "tokenized_lines = [regexp_tokenize(s, \"\\w+\") for s in lines]\n",
    "\n",
    "# make a frequency list of lengths\n",
    "line_num_words = [len(t_line) for t_line in tokenized_lines]\n",
    "\n",
    "# plot a histogram of the line lengths\n",
    "plt.hist(line_num_words)\n",
    "plt.show()"
   ]
  },
  {
   "cell_type": "markdown",
   "id": "27b20aa5-7500-4f6b-ba45-f4e3b4d596c8",
   "metadata": {},
   "source": [
    "#### Chapter 2 Simple Topic Identification\n",
    "\n",
    "##### Part 2.1 Word counts with bag-of-words\n",
    "\n",
    "*"
   ]
  },
  {
   "cell_type": "code",
   "execution_count": 8,
   "id": "708b617e-58ce-4b68-a69b-c61f923c02ef",
   "metadata": {},
   "outputs": [],
   "source": []
  },
  {
   "cell_type": "code",
   "execution_count": 8,
   "outputs": [],
   "source": [],
   "metadata": {
    "collapsed": false
   }
  },
  {
   "cell_type": "markdown",
   "source": [
    "#### Part 2.2 Simple text preprocessing\n",
    "\n"
   ],
   "metadata": {
    "collapsed": false
   }
  },
  {
   "cell_type": "code",
   "execution_count": 8,
   "outputs": [],
   "source": [],
   "metadata": {
    "collapsed": false
   }
  }
 ],
 "metadata": {
  "kernelspec": {
   "display_name": "Python 3 (ipykernel)",
   "language": "python",
   "name": "python3"
  },
  "language_info": {
   "codemirror_mode": {
    "name": "ipython",
    "version": 3
   },
   "file_extension": ".py",
   "mimetype": "text/x-python",
   "name": "python",
   "nbconvert_exporter": "python",
   "pygments_lexer": "ipython3",
   "version": "3.8.8"
  }
 },
 "nbformat": 4,
 "nbformat_minor": 5
}
