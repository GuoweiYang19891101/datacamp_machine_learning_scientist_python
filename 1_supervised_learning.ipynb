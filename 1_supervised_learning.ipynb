{
 "cells": [
  {
   "cell_type": "markdown",
   "id": "5e483a2c-c18e-4a12-8f5e-57579cefb9ec",
   "metadata": {},
   "source": [
    "## Supervised Learning with scikit-learn\n",
    "\n",
    "### CHAPTER 1. Classification\n",
    "#### 1.1 Supervised learning\n",
    "\n",
    "**Machine learning** is the art and science of:\n",
    "* giving computers the ability to learn to make decisions from data\n",
    "* without being explicitly programmed!\n",
    "\n",
    "Examples:\n",
    "* Learning to predict whether an email is spam or not\n",
    "* Clustering wikipedia entries into different categories\n",
    "\n",
    "**Unsupervised learning**:\n",
    "* uncovering hidden patterns from unlabelled data\n",
    "\n",
    "Examples:\n",
    "Group customers into distinct categories \n",
    "\n",
    "**Reinforcement learning**:\n",
    "Software agents interact with an environment\n",
    "* Learn how to optimize their behavior\n",
    "* Given a system of rewards and punishments\n",
    "* Draws inspiration from behavioral psychology\n",
    "\n",
    "Examples:\n",
    "AlphaGo: first computer to defeat the world champion in Go\n",
    "\n",
    "**Supervised learning**:\n",
    "* Predictor variables/ features and a target variable\n",
    "* The predicted values are known\n",
    "* Aim: predict the target variable, given the predictor variables\n",
    "    * Classification: target variable consits of categories\n",
    "    * Regression: target variable is continuous\n",
    "    \n",
    "* Requirements before you use **supervised learning**:\n",
    "    * No missing data\n",
    "    * Data in numeric format\n",
    "    * Data stored in pandas DataFrame or NumPy array\n",
    "    \n",
    "Supervised learning in Python:\n",
    "\n",
    "We will use **'scikit-learn/ sklearn'** package.\n",
    "\n",
    "Other packages may include **'TensorFlow' & 'keras'**.\n"
   ]
  },
  {
   "cell_type": "code",
   "execution_count": 9,
   "id": "d50ab785-7c1d-4acb-880c-5a4a99b5bbca",
   "metadata": {},
   "outputs": [],
   "source": [
    "# Basic supervised learning workflow\n",
    "\n",
    "# from sklearn.module import Model\n",
    "# model = Model()\n",
    "# model.fit(X, y)\n",
    "# predictions = model.predict(X_new)\n",
    "# print(predictions)"
   ]
  },
  {
   "cell_type": "markdown",
   "id": "f63764cd-4849-4c97-83af-9e41e71c1397",
   "metadata": {},
   "source": [
    "#### 1.2 The classification challenge\n",
    "\n",
    "There are four steps to build a classification model, or classifier, to predict the labels of unseen data.\n",
    "\n",
    "* 1. Build a model\n",
    "* 2. Model learns from the labeled data we pass to it\n",
    "* 3. Pass unlabeled data to the model as input\n",
    "* 4. Model predicts the labels of the unseen data\n",
    "\n",
    "* Labeled data = training data\n",
    "\n",
    "We will choose a simple algorithm called **K-nearest neighbors**.\n",
    "* Basic idea: predict the label of a data point by:\n",
    "    * Looking at the 'k' closest labeled data points\n",
    "    * Taking a majority vote\n",
    "    \n",
    "Scikit-learn fit and predict:\n",
    "* All machine learning models are implemented as Python classes.\n",
    "    * They implement the algorithms for learning and predicting\n",
    "    * Store the information learned from the data\n",
    "* Training a model on the data = 'fitting' a model to the data\n",
    "    * .fit() method\n",
    "* To predict the labels of new data: .predict() method\n"
   ]
  },
  {
   "cell_type": "code",
   "execution_count": 10,
   "id": "72e49e74-afee-4bb1-bc1d-a537d2773945",
   "metadata": {},
   "outputs": [
    {
     "name": "stdout",
     "output_type": "stream",
     "text": [
      "(3333, 2) (3333,)\n"
     ]
    }
   ],
   "source": [
    "# using sckit-learn to fit a classifier\n",
    "# 1). split the data into features and target arrays\n",
    "import pandas as pd\n",
    "import numpy as np\n",
    "from sklearn.neighbors import KNeighborsClassifier\n",
    "\n",
    "churn_df = pd.read_csv('1_datasets/telecom_churn_clean.csv')\n",
    "X = churn_df[[\"total_day_charge\", \"total_eve_charge\"]].values\n",
    "y = churn_df[\"churn\"].values\n",
    "\n",
    "print(X.shape, y.shape)\n",
    "# X and y are converted into NumPy arrays\n",
    "# they have the same number of observations"
   ]
  },
  {
   "cell_type": "code",
   "execution_count": 11,
   "id": "19f890d2-9146-4377-8f4c-00dd0d31307d",
   "metadata": {},
   "outputs": [
    {
     "data": {
      "text/plain": "KNeighborsClassifier(n_neighbors=15)",
      "text/html": "<style>#sk-container-id-2 {color: black;background-color: white;}#sk-container-id-2 pre{padding: 0;}#sk-container-id-2 div.sk-toggleable {background-color: white;}#sk-container-id-2 label.sk-toggleable__label {cursor: pointer;display: block;width: 100%;margin-bottom: 0;padding: 0.3em;box-sizing: border-box;text-align: center;}#sk-container-id-2 label.sk-toggleable__label-arrow:before {content: \"▸\";float: left;margin-right: 0.25em;color: #696969;}#sk-container-id-2 label.sk-toggleable__label-arrow:hover:before {color: black;}#sk-container-id-2 div.sk-estimator:hover label.sk-toggleable__label-arrow:before {color: black;}#sk-container-id-2 div.sk-toggleable__content {max-height: 0;max-width: 0;overflow: hidden;text-align: left;background-color: #f0f8ff;}#sk-container-id-2 div.sk-toggleable__content pre {margin: 0.2em;color: black;border-radius: 0.25em;background-color: #f0f8ff;}#sk-container-id-2 input.sk-toggleable__control:checked~div.sk-toggleable__content {max-height: 200px;max-width: 100%;overflow: auto;}#sk-container-id-2 input.sk-toggleable__control:checked~label.sk-toggleable__label-arrow:before {content: \"▾\";}#sk-container-id-2 div.sk-estimator input.sk-toggleable__control:checked~label.sk-toggleable__label {background-color: #d4ebff;}#sk-container-id-2 div.sk-label input.sk-toggleable__control:checked~label.sk-toggleable__label {background-color: #d4ebff;}#sk-container-id-2 input.sk-hidden--visually {border: 0;clip: rect(1px 1px 1px 1px);clip: rect(1px, 1px, 1px, 1px);height: 1px;margin: -1px;overflow: hidden;padding: 0;position: absolute;width: 1px;}#sk-container-id-2 div.sk-estimator {font-family: monospace;background-color: #f0f8ff;border: 1px dotted black;border-radius: 0.25em;box-sizing: border-box;margin-bottom: 0.5em;}#sk-container-id-2 div.sk-estimator:hover {background-color: #d4ebff;}#sk-container-id-2 div.sk-parallel-item::after {content: \"\";width: 100%;border-bottom: 1px solid gray;flex-grow: 1;}#sk-container-id-2 div.sk-label:hover label.sk-toggleable__label {background-color: #d4ebff;}#sk-container-id-2 div.sk-serial::before {content: \"\";position: absolute;border-left: 1px solid gray;box-sizing: border-box;top: 0;bottom: 0;left: 50%;z-index: 0;}#sk-container-id-2 div.sk-serial {display: flex;flex-direction: column;align-items: center;background-color: white;padding-right: 0.2em;padding-left: 0.2em;position: relative;}#sk-container-id-2 div.sk-item {position: relative;z-index: 1;}#sk-container-id-2 div.sk-parallel {display: flex;align-items: stretch;justify-content: center;background-color: white;position: relative;}#sk-container-id-2 div.sk-item::before, #sk-container-id-2 div.sk-parallel-item::before {content: \"\";position: absolute;border-left: 1px solid gray;box-sizing: border-box;top: 0;bottom: 0;left: 50%;z-index: -1;}#sk-container-id-2 div.sk-parallel-item {display: flex;flex-direction: column;z-index: 1;position: relative;background-color: white;}#sk-container-id-2 div.sk-parallel-item:first-child::after {align-self: flex-end;width: 50%;}#sk-container-id-2 div.sk-parallel-item:last-child::after {align-self: flex-start;width: 50%;}#sk-container-id-2 div.sk-parallel-item:only-child::after {width: 0;}#sk-container-id-2 div.sk-dashed-wrapped {border: 1px dashed gray;margin: 0 0.4em 0.5em 0.4em;box-sizing: border-box;padding-bottom: 0.4em;background-color: white;}#sk-container-id-2 div.sk-label label {font-family: monospace;font-weight: bold;display: inline-block;line-height: 1.2em;}#sk-container-id-2 div.sk-label-container {text-align: center;}#sk-container-id-2 div.sk-container {/* jupyter's `normalize.less` sets `[hidden] { display: none; }` but bootstrap.min.css set `[hidden] { display: none !important; }` so we also need the `!important` here to be able to override the default hidden behavior on the sphinx rendered scikit-learn.org. See: https://github.com/scikit-learn/scikit-learn/issues/21755 */display: inline-block !important;position: relative;}#sk-container-id-2 div.sk-text-repr-fallback {display: none;}</style><div id=\"sk-container-id-2\" class=\"sk-top-container\"><div class=\"sk-text-repr-fallback\"><pre>KNeighborsClassifier(n_neighbors=15)</pre><b>In a Jupyter environment, please rerun this cell to show the HTML representation or trust the notebook. <br />On GitHub, the HTML representation is unable to render, please try loading this page with nbviewer.org.</b></div><div class=\"sk-container\" hidden><div class=\"sk-item\"><div class=\"sk-estimator sk-toggleable\"><input class=\"sk-toggleable__control sk-hidden--visually\" id=\"sk-estimator-id-2\" type=\"checkbox\" checked><label for=\"sk-estimator-id-2\" class=\"sk-toggleable__label sk-toggleable__label-arrow\">KNeighborsClassifier</label><div class=\"sk-toggleable__content\"><pre>KNeighborsClassifier(n_neighbors=15)</pre></div></div></div></div></div>"
     },
     "execution_count": 11,
     "metadata": {},
     "output_type": "execute_result"
    }
   ],
   "source": [
    "# 2). instantiate classifier and fit classifier\n",
    "knn = KNeighborsClassifier(n_neighbors = 15)\n",
    "knn.fit(X, y)"
   ]
  },
  {
   "cell_type": "code",
   "execution_count": 12,
   "id": "3f5fbe3f-2d74-40d8-bf71-90cd340b359b",
   "metadata": {},
   "outputs": [
    {
     "name": "stdout",
     "output_type": "stream",
     "text": [
      "(3, 2)\n"
     ]
    }
   ],
   "source": [
    "# 3) create new unseen data\n",
    "X_new = np.array([[56.8, 17.5],\n",
    "                  [24.4, 24.1],\n",
    "                  [50.1, 10.9]])\n",
    "print(X_new.shape)"
   ]
  },
  {
   "cell_type": "code",
   "execution_count": 13,
   "id": "fdb730bc-67fa-4f67-9195-17a19e100d35",
   "metadata": {},
   "outputs": [
    {
     "name": "stdout",
     "output_type": "stream",
     "text": [
      "Prediction: [1 0 0]\n"
     ]
    }
   ],
   "source": [
    "#4) make predictions\n",
    "prediction = knn.predict(X_new)\n",
    "print('Prediction: {}'.format(prediction))"
   ]
  },
  {
   "cell_type": "markdown",
   "id": "fbe437b0-dbf4-461a-ae98-4cdc8b0c4657",
   "metadata": {},
   "source": [
    "#### 1.3 Measuring model performance\n",
    "\n",
    "In classification, accuracy is a commonly used metric\n",
    "* Accuracy = Fraction of correct predictions\n",
    "It's a good practice to split data into training and test set. In this way, model performance could be better evaluated.\n",
    "* Fit/ train the classifier on the training set\n",
    "* Make the predictions on test set\n",
    "\n",
    "To do this, we use a **train/test split** function in scikit-learn.\n",
    "\n",
    "**Model complexity** for KNN models:\n",
    "* Larger k = smoother decision boundary = less complex model = can lead to underfitting\n",
    "* Smaller k = more complex model = can lead to overfitting\n"
   ]
  },
  {
   "cell_type": "code",
   "execution_count": 14,
   "id": "b61d44a9-3ea6-4ad0-bfbb-6ee162d3c8f2",
   "metadata": {},
   "outputs": [
    {
     "name": "stdout",
     "output_type": "stream",
     "text": [
      "0.872\n"
     ]
    }
   ],
   "source": [
    "# train/test split\n",
    "from sklearn.model_selection import train_test_split\n",
    "X_train, X_test, y_train, y_test = train_test_split(X, y, test_size=0.3,\n",
    "                                                    random_state=21, stratify=y)\n",
    "\n",
    "knn = KNeighborsClassifier(n_neighbors=6)\n",
    "knn.fit(X_train, y_train)\n",
    "print(knn.score(X_test, y_test))"
   ]
  },
  {
   "cell_type": "code",
   "execution_count": 15,
   "id": "b0163045-29c7-42b4-b8ee-5d6c50caf30d",
   "metadata": {},
   "outputs": [],
   "source": [
    "# model complexity and over/underfitting\n",
    "\n",
    "# setup arrays to store train and test accuracies\n",
    "neighbors = np.arange(1,26)\n",
    "train_accuracy = {}\n",
    "test_accuracy = {}\n",
    "\n",
    "# loop over different values of k\n",
    "for neighbor in neighbors:\n",
    "    knn = KNeighborsClassifier(n_neighbors=neighbor)\n",
    "    knn.fit(X_train, y_train)\n",
    "    \n",
    "    train_accuracy[neighbor] = knn.score(X_train, y_train)\n",
    "    test_accuracy[neighbor] = knn.score(X_test, y_test)"
   ]
  },
  {
   "cell_type": "code",
   "execution_count": 16,
   "id": "588dc774-dae8-4d16-822a-b78465e175db",
   "metadata": {},
   "outputs": [
    {
     "data": {
      "text/plain": "<Figure size 800x600 with 1 Axes>",
      "image/png": "[encoded data removed]"
     },
     "metadata": {},
     "output_type": "display_data"
    }
   ],
   "source": [
    "# plotting our results\n",
    "import matplotlib.pyplot as plt\n",
    "\n",
    "plt.figure(figsize=(8, 6))\n",
    "plt.title(\"KNN: Varying Number of Neighbors\")\n",
    "plt.plot(neighbors, train_accuracy.values(), label=\"Training Accuracy\")\n",
    "plt.plot(neighbors, test_accuracy.values(), label=\"Testing Accuracy\")\n",
    "plt.legend()\n",
    "plt.xlabel(\"Number of Neighbors\")\n",
    "plt.ylabel(\"Accuracy\")\n",
    "plt.show()\n",
    "\n",
    "# now we can see underfitting and overfitting in different neighbor numbers."
   ]
  },
  {
   "cell_type": "markdown",
   "id": "8ee16c73-182f-48ab-a953-af0fe3992e59",
   "metadata": {},
   "source": [
    "### CHAPTER 2. Regression\n",
    "#### 2.1 Introduction to regression\n",
    "\n",
    "In regression, **target variable is continuous**.\n",
    "\n",
    "The process of building regression model is similar to building a classification model.\n",
    "* 1. Creating features and target arrays\n",
    "* 2. Splitting training and test set\n",
    "* 3. Fitting a regression model\n",
    "* 4. Making predictions"
   ]
  },
  {
   "cell_type": "code",
   "execution_count": 17,
   "id": "4c6aad48-98ea-4588-b72b-b11bf6468650",
   "metadata": {},
   "outputs": [
    {
     "name": "stdout",
     "output_type": "stream",
     "text": [
      "   pregnancies  glucose  diastolic  triceps  insulin   bmi    dpf  age  \\\n",
      "0            6      148         72       35        0  33.6  0.627   50   \n",
      "1            1       85         66       29        0  26.6  0.351   31   \n",
      "2            8      183         64        0        0  23.3  0.672   32   \n",
      "3            1       89         66       23       94  28.1  0.167   21   \n",
      "4            0      137         40       35      168  43.1  2.288   33   \n",
      "\n",
      "   diabetes  \n",
      "0         1  \n",
      "1         0  \n",
      "2         1  \n",
      "3         0  \n",
      "4         1  \n"
     ]
    }
   ],
   "source": [
    "# load CVS file about diabetes\n",
    "import numpy as np\n",
    "import pandas as pd\n",
    "\n",
    "diabetes_df = pd.read_csv('1_datasets/diabetes_clean.csv')\n",
    "print(diabetes_df.head())\n"
   ]
  },
  {
   "cell_type": "code",
   "execution_count": 18,
   "id": "b240d9a7-428a-4211-85a3-fdf157d43bdb",
   "metadata": {},
   "outputs": [
    {
     "name": "stdout",
     "output_type": "stream",
     "text": [
      "<class 'numpy.ndarray'> <class 'numpy.ndarray'>\n"
     ]
    }
   ],
   "source": [
    "# creating feature and target arrays\n",
    "X = diabetes_df.drop(\"glucose\", axis=1).values\n",
    "y = diabetes_df[\"glucose\"].values\n",
    "\n",
    "# confirm they are NumPy arrays\n",
    "print(type(X), type(y))"
   ]
  },
  {
   "cell_type": "code",
   "execution_count": 19,
   "id": "ea55c71a-c82f-4868-b68e-c1edcb9f94d7",
   "metadata": {},
   "outputs": [
    {
     "name": "stdout",
     "output_type": "stream",
     "text": [
      "(768,) (768,)\n"
     ]
    }
   ],
   "source": [
    "# making predictions from a single feature: bmi\n",
    "# extracting a single feature: bmi\n",
    "X_bmi = X[:, 5]\n",
    "print(y.shape, X_bmi.shape)"
   ]
  },
  {
   "cell_type": "code",
   "execution_count": 20,
   "id": "ce1aee43-9771-473c-b5a7-29ab42af8d14",
   "metadata": {},
   "outputs": [
    {
     "name": "stdout",
     "output_type": "stream",
     "text": [
      "(768, 1)\n"
     ]
    }
   ],
   "source": [
    "#convert 1D array to 2D array\n",
    "X_bmi = X_bmi.reshape(-1, 1)\n",
    "print(X_bmi.shape)\n",
    "# now the shape is correct"
   ]
  },
  {
   "cell_type": "code",
   "execution_count": 21,
   "id": "311913d3-9bfa-4423-9b7c-79ca9c5a9cb5",
   "metadata": {},
   "outputs": [
    {
     "data": {
      "text/plain": "<Figure size 640x480 with 1 Axes>",
      "image/png": "[encoded data removed]"
     },
     "metadata": {},
     "output_type": "display_data"
    }
   ],
   "source": [
    "# plotting glucose VS. body mass index\n",
    "import matplotlib.pyplot as plt\n",
    "plt.scatter(X_bmi, y)\n",
    "plt.ylabel(\"Blood Glucose (mg/dl)\")\n",
    "plt.xlabel(\"Body Mass Index\")\n",
    "plt.show()"
   ]
  },
  {
   "cell_type": "code",
   "execution_count": 22,
   "id": "80f4353a-fb5d-47ec-ab31-f3533cb1e2a1",
   "metadata": {},
   "outputs": [
    {
     "data": {
      "text/plain": "<Figure size 640x480 with 1 Axes>",
      "image/png": "[encoded data removed]"
     },
     "metadata": {},
     "output_type": "display_data"
    }
   ],
   "source": [
    "# fitting a regression model\n",
    "from sklearn.linear_model import LinearRegression\n",
    "reg = LinearRegression()\n",
    "reg.fit(X_bmi, y)\n",
    "predictions = reg.predict(X_bmi)\n",
    "plt.scatter(X_bmi, y)\n",
    "plt.scatter(X_bmi, predictions)\n",
    "plt.ylabel(\"Blood Glucose (mg/dl)\")\n",
    "plt.xlabel(\"Body Mass Index\")\n",
    "plt.show()\n",
    "\n",
    "# it looks like we have a weak-to-moderate linear relatinship."
   ]
  },
  {
   "cell_type": "markdown",
   "id": "9233700c-2adb-4bd5-b99b-f39b4901fe71",
   "metadata": {},
   "source": [
    "#### 2.2 The basics of linear regression\n",
    "* y = ax + b\n",
    "    * y = target\n",
    "    * x = single feature\n",
    "    * a, b = parameters/coefficients of model - slope, intercept\n",
    "    \n",
    "* How do we choose a and b?\n",
    "    * define an **error function** for any given line \n",
    "    * choose the line that minimizes the error function\n",
    "\n",
    "**The loss function**:\n",
    "We call the vertical distance between the predicted point and the actual point **residual**. \n",
    "\n",
    "The sum of **square of the residuals** will be the total loss of Ordinary Least Squares (OLS).\n",
    "\n",
    "In higher dimensions, it is known as **multiple regression**.\n",
    "* y = a1x1 + a2x2 + a3x3 + ... anxn + b\n",
    "\n",
    "**R-sqaured**:\n",
    "R2 quantifies the variance in target values explained by the features. \n",
    "\n",
    "* Values range from 0 to 1.\n",
    "\n",
    "**Mean squared error and root mean squared error**:\n",
    "* MSE is measured in target units, squared\n",
    "\n",
    "* RMSE is measured in the same units at the target variable\n",
    "    * RMSE is the square root of MSE\n"
   ]
  },
  {
   "cell_type": "code",
   "execution_count": 23,
   "id": "7f84c285-a2e2-4dec-b8c8-126e7552c9bd",
   "metadata": {},
   "outputs": [
    {
     "name": "stdout",
     "output_type": "stream",
     "text": [
      "R^2: 0.28280468810375115\n",
      "Root Mean Squared Error: 26.341459582232265\n"
     ]
    }
   ],
   "source": [
    "# linear regression using all features\n",
    "\n",
    "from sklearn.model_selection import train_test_split\n",
    "from sklearn.linear_model import LinearRegression\n",
    "\n",
    "X = diabetes_df.drop(\"glucose\", axis=1).values\n",
    "y = diabetes_df[\"glucose\"].values\n",
    "X_train, X_test, y_train, y_test = train_test_split(X, y, test_size=0.3,\n",
    "                                                   random_state=42)\n",
    "\n",
    "reg_all = LinearRegression()\n",
    "reg_all.fit(X_train, y_train)\n",
    "\n",
    "y_pred = reg_all.predict(X_test)\n",
    "\n",
    "# # print R^2 in scikit-learn\n",
    "print('R^2: {}'.format(reg_all.score(X_test, y_test)))\n",
    "\n",
    "# # mean squared error and root mean squared error\n",
    "from sklearn.metrics import mean_squared_error\n",
    "rmse = mean_squared_error(y_test, y_pred, squared=False)\n",
    "print('Root Mean Squared Error: {}'.format(rmse))\n"
   ]
  },
  {
   "cell_type": "markdown",
   "id": "33aaf918-97b4-4971-a5df-bba173b85887",
   "metadata": {},
   "source": [
    "#### 2.3 Cross-validation\n",
    "\n",
    "**Cross-validation motivation:**\n",
    "* Model performance is dependent on the way we split up the data\n",
    "* Not representative of the model's ability to generalize to unseen data\n",
    "\n",
    "* Solution: **cross-validation!**\n",
    "\n",
    "Cross-validation split the data sets into several data folds and each fold has a chance to be the test set. In this way, data set is well generalized to unseen data."
   ]
  },
  {
   "cell_type": "code",
   "execution_count": 24,
   "id": "63bc0906-b43c-4bbd-8f64-6006642e74a5",
   "metadata": {},
   "outputs": [
    {
     "name": "stdout",
     "output_type": "stream",
     "text": [
      "[0.26207548 0.28228176 0.41203082 0.23785884 0.41634629 0.30398869]\n",
      "Mean score: 0.3190969786734479\n",
      "Standard Deviation: 0.0701532061011419\n",
      "95% CI: [0.24088592 0.41580685]\n"
     ]
    }
   ],
   "source": [
    "# cross-validation in scikit-learn\n",
    "\n",
    "from sklearn.linear_model import LinearRegression\n",
    "from sklearn.model_selection import cross_val_score, KFold\n",
    "\n",
    "# create KFold\n",
    "kf = KFold(n_splits=6, shuffle=True, random_state=42)\n",
    "\n",
    "# create a linear regression\n",
    "reg = LinearRegression()\n",
    "\n",
    "# get cross-validation results\n",
    "cv_results = cross_val_score(reg, X, y, cv=kf)\n",
    "\n",
    "# print the results\n",
    "print(cv_results)\n",
    "\n",
    "# print the mean and standard deviation \n",
    "print('Mean score: {}'.format(np.mean(cv_results)))\n",
    "print('Standard Deviation: {}'.format(np.std(cv_results)))\n",
    "\n",
    "# print 95% confidence interval\n",
    "print('95% CI: {}'.format(np.quantile(cv_results, [0.025, 0.975])))"
   ]
  },
  {
   "cell_type": "markdown",
   "id": "aa23e2e6-416e-4333-a5a6-2241a3128ce5",
   "metadata": {},
   "source": [
    "#### 2.4 Regularized regression\n",
    "\n",
    "**Why regularize?**:\n",
    "* Recall: Linear regression minimizes a loss function\n",
    "* It chooses a coefficient a for each feature variable, plus intercept b\n",
    "* Large coefficients can lead to overfitting\n",
    "* Regularization: Penalize large coefficients\n",
    "\n",
    "**Regularization types**:\n",
    "* 1. Ridge regression\n",
    "    * Loss function = OLS loss function + alpha * sum (ai^2)\n",
    "    * Ridge penalizes large positive or negative coefficients\n",
    "    * alpha: parameter we need to choose\n",
    "    * Picking alpha is similar to picking k in KNN\n",
    "    * Hyperparameter: variable used to optimize model parameters\n",
    "    * alpha controls model complexity:\n",
    "         * alpha = 0 -> OLS (can lead to overfitting)\n",
    "         * very high alpha -> can lead to underfitting\n",
    " \n",
    "* 2. Lasso regression\n",
    "    * Loss function = OLS loss function + alpha * sum(|ai|)\n",
    "    * Lasso can select important features of a dataset\n",
    "    * Shrinks the coefficients of less important features to zero\n",
    "    * Features not shrunk to zero are selected by lasso"
   ]
  },
  {
   "cell_type": "code",
   "execution_count": 25,
   "id": "0827a044-0963-474e-a493-ff1b81f3c4d8",
   "metadata": {},
   "outputs": [
    {
     "name": "stdout",
     "output_type": "stream",
     "text": [
      "[0.28284666232222233, 0.28320633574804766, 0.2853000732200003, 0.26423984812668155, 0.19292424694100963]\n"
     ]
    }
   ],
   "source": [
    "# ridge regression in scikit-learn\n",
    "from sklearn.linear_model import Ridge\n",
    "scores = []\n",
    "for alpha in [0.1, 1.0, 10.0, 100.0, 1000.0]:\n",
    "    ridge = Ridge(alpha=alpha)\n",
    "    ridge.fit(X_train, y_train)\n",
    "    y_pred = ridge.predict(X_test)\n",
    "    scores.append(ridge.score(X_test, y_test))\n",
    "    \n",
    "print(scores)    "
   ]
  },
  {
   "cell_type": "code",
   "execution_count": 26,
   "id": "8a20e11e-b18a-4060-9b4d-ebaaadf6e7b2",
   "metadata": {},
   "outputs": [
    {
     "name": "stdout",
     "output_type": "stream",
     "text": [
      "[0.2831114455475573, 0.29795609755827845, 0.17989838789273893, 0.18127361610181125, 0.15679544303617987]\n"
     ]
    }
   ],
   "source": [
    "# lasso regression in scikit-learn\n",
    "from sklearn.linear_model import Lasso\n",
    "scores = []\n",
    "for alpha in [0.01, 1.0, 10.0, 20.0, 50.0]:\n",
    "    lasso = Lasso(alpha=alpha)\n",
    "    lasso.fit(X_train, y_train)\n",
    "    lasso_pred = lasso.predict(X_test)\n",
    "    scores.append(lasso.score(X_test, y_test))\n",
    "\n",
    "print(scores)"
   ]
  },
  {
   "cell_type": "code",
   "execution_count": 27,
   "id": "45e3f6d9-54ba-44b4-85ec-59371f052055",
   "metadata": {},
   "outputs": [
    {
     "data": {
      "text/plain": "<Figure size 640x480 with 1 Axes>",
      "image/png": "[encoded data removed]"
     },
     "metadata": {},
     "output_type": "display_data"
    }
   ],
   "source": [
    "# lasso for feature selection in scikit-learn\n",
    "from sklearn.linear_model import Lasso\n",
    "X = diabetes_df.drop(\"glucose\", axis=1).values\n",
    "y = diabetes_df[\"glucose\"].values\n",
    "names = diabetes_df.drop(\"glucose\", axis=1).columns\n",
    "\n",
    "# get lasso coefficients\n",
    "lasso = Lasso(alpha=0.1)\n",
    "lasso_coef = lasso.fit(X, y).coef_\n",
    "\n",
    "# plot the coefficients\n",
    "plt.bar(names, lasso_coef)\n",
    "plt.xticks(rotation=45)\n",
    "plt.show()"
   ]
  },
  {
   "cell_type": "markdown",
   "id": "97a80b90-16be-42d1-b5eb-8be354f33ace",
   "metadata": {},
   "source": [
    "### CHAPTER 3. Fine-Tuning Your Model\n",
    "#### 3.1 How good is your model?\n",
    "\n",
    "* Accuracy is not always a useful metric to measure model performance.\n",
    "* When classes are imbalanced, we **NEED new ways** to measure performance!\n",
    "\n",
    "* 1. **Confusion matrix** for classificatoin performance\n",
    "    * It can retrieve **accuracy**: (True negative + True positive)/ All\n",
    "    * It can retrieve **precision**: True positive/ All positive predictions\n",
    "    * It can retrieve **recall**: True positive/ (True positive + False negative)\n",
    "    * F1 score  = 2 * (precision * recall)/ (precision + recall)\n"
   ]
  },
  {
   "cell_type": "code",
   "execution_count": 28,
   "id": "c3d7dbd2-750d-4e87-82c5-d7b047ec60c6",
   "metadata": {},
   "outputs": [],
   "source": [
    "# confusion matrix in scikit-learn\n",
    "from sklearn.metrics import classification_report, confusion_matrix\n",
    "knn = KNeighborsClassifier(n_neighbors=7)\n",
    "\n",
    "X = diabetes_df.drop(\"diabetes\", axis=1).values\n",
    "y = diabetes_df[\"diabetes\"].values\n",
    "X_train, X_test, y_train, y_test = train_test_split(X, y, test_size=0.4,\n",
    "                                                   random_state=42)\n",
    "knn.fit(X_train, y_train)\n",
    "y_pred = knn.predict(X_test)"
   ]
  },
  {
   "cell_type": "code",
   "execution_count": 29,
   "id": "2c7610ac-9e03-475a-8690-6d89406fe7f3",
   "metadata": {},
   "outputs": [
    {
     "name": "stdout",
     "output_type": "stream",
     "text": [
      "[[163  43]\n",
      " [ 45  57]]\n"
     ]
    }
   ],
   "source": [
    "# print confusion matrix\n",
    "print(confusion_matrix(y_test, y_pred))"
   ]
  },
  {
   "cell_type": "code",
   "execution_count": 30,
   "id": "4080105e-b0bf-4f59-b500-290368761e9b",
   "metadata": {},
   "outputs": [
    {
     "name": "stdout",
     "output_type": "stream",
     "text": [
      "              precision    recall  f1-score   support\n",
      "\n",
      "           0       0.78      0.79      0.79       206\n",
      "           1       0.57      0.56      0.56       102\n",
      "\n",
      "    accuracy                           0.71       308\n",
      "   macro avg       0.68      0.68      0.68       308\n",
      "weighted avg       0.71      0.71      0.71       308\n",
      "\n"
     ]
    }
   ],
   "source": [
    "# print classification report\n",
    "print(classification_report(y_test, y_pred))"
   ]
  },
  {
   "cell_type": "markdown",
   "id": "1ab7f080-031e-4fcd-a012-f0b754e23219",
   "metadata": {},
   "source": [
    "#### 3.2 Logistic regression and the ROC curve\n",
    "\n",
    "* Logistic regression is used for classification problems\n",
    "* Logistic regression outputs probability p that an observation belongs to a binary class\n",
    "* If the probability p > 0.5:\n",
    "    * The data is labeled 1\n",
    "* If the probability p < 0.5:\n",
    "    * The data is labeled 0\n",
    "* By default, logistic regression threshold = 0.5\n",
    "* **What happens if we vary the threshold?**\n",
    "* We can use a receiver operating characteristic, or **ROC curve**, to visualize how different thresholds affect true positive and false positive rates.\n",
    "* **How do we quantify the model performance based on this plot?**\n",
    "* We calculate the area under the ROC curve, a metric known as **AUC**. Scores range from zero to one, with one being ideal."
   ]
  },
  {
   "cell_type": "code",
   "execution_count": 31,
   "id": "035c45b0-48a4-4c9d-8e10-0b03d0fe8ffc",
   "metadata": {},
   "outputs": [
    {
     "name": "stderr",
     "output_type": "stream",
     "text": [
      "E:\\PYTHON\\Lib\\site-packages\\sklearn\\linear_model\\_logistic.py:444: ConvergenceWarning: lbfgs failed to converge (status=1):\n",
      "STOP: TOTAL NO. of ITERATIONS REACHED LIMIT.\n",
      "\n",
      "Increase the number of iterations (max_iter) or scale the data as shown in:\n",
      "    https://scikit-learn.org/stable/modules/preprocessing.html\n",
      "Please also refer to the documentation for alternative solver options:\n",
      "    https://scikit-learn.org/stable/modules/linear_model.html#logistic-regression\n",
      "  n_iter_i = _check_optimize_result(\n"
     ]
    }
   ],
   "source": [
    "# logistic regression in scikit-learn\n",
    "from sklearn.linear_model import LogisticRegression\n",
    "logreg = LogisticRegression()\n",
    "\n",
    "# use the churn dataset as df\n",
    "X = churn_df.drop(\"churn\", axis=1).values\n",
    "y = churn_df[\"churn\"].values\n",
    "X_train, X_test, y_train, y_test = train_test_split(X, y, test_size=0.3, random_state=42)\n",
    "logreg.fit(X_train, y_train)\n",
    "y_pred = logreg.predict(X_test)"
   ]
  },
  {
   "cell_type": "code",
   "execution_count": 32,
   "id": "c4e75dd2-4574-4f71-b23f-fe8783f62b2e",
   "metadata": {},
   "outputs": [
    {
     "name": "stdout",
     "output_type": "stream",
     "text": [
      "0.15938699039559182\n"
     ]
    }
   ],
   "source": [
    "# predicting probabilities\n",
    "y_pred_probs = logreg.predict_proba(X_test)[:, 1]\n",
    "print(y_pred_probs[0])"
   ]
  },
  {
   "cell_type": "code",
   "execution_count": 33,
   "id": "5762181d-d02d-44bb-a6e0-ae0ea43a7d32",
   "metadata": {},
   "outputs": [
    {
     "data": {
      "text/plain": "<Figure size 640x480 with 1 Axes>",
      "image/png": "[encoded data removed]"
     },
     "metadata": {},
     "output_type": "display_data"
    }
   ],
   "source": [
    "# plotting the ROC curve\n",
    "from sklearn.metrics import roc_curve\n",
    "fpr, tpr, thresholds = roc_curve(y_test, y_pred_probs)\n",
    "\n",
    "plt.plot([0,1], [0, 1], 'k--')\n",
    "\n",
    "plt.plot(fpr, tpr)\n",
    "plt.xlabel('False Positive Rate')\n",
    "plt.ylabel('True Positive Rate')\n",
    "plt.title('Logistic Regression ROC Curve')\n",
    "plt.show()"
   ]
  },
  {
   "cell_type": "code",
   "execution_count": 34,
   "id": "75dbd728-ef5d-4d5d-a5fd-d3429df6bad2",
   "metadata": {},
   "outputs": [
    {
     "name": "stdout",
     "output_type": "stream",
     "text": [
      "0.732356325121786\n"
     ]
    }
   ],
   "source": [
    "# ROC AUC in scikit-learn\n",
    "from sklearn.metrics import roc_auc_score\n",
    "print(roc_auc_score(y_test, y_pred_probs))"
   ]
  },
  {
   "cell_type": "markdown",
   "id": "2cfb9459-2911-491f-9aa9-612722c909ba",
   "metadata": {},
   "source": [
    "#### 3.3 Hyperparameter tuning\n",
    "\n",
    "* Hyperparameters: parameters we specify before fitting the model\n",
    "    * Ridge/lasso regression: Choosing **alpha**\n",
    "    * KNN: Choosing **n_neighbors**\n",
    "* An important step: choosing the correct hyperparameters\n",
    "    * 1. Try lots of different hyperparameter values\n",
    "    * 2. Fit all of them separately\n",
    "    * 3. See how well they perform\n",
    "    * 4. Choose the best performing values\n",
    "* This is called **hyperparameter tuning**!\n",
    "* It is essential to use cross-validation to avoid overfitting to the test set\n",
    "* We can still split the data and perform cross-validation on the training set\n",
    "* We withhold the test set for final evaluation\n",
    "\n",
    "* Cross-validation types:\n",
    "    * 1. **Grid search** cross-validation: a grid of all possible hyperparameter values\n",
    "    * 2. **Random search** cross-validation: picks random hyperparameter values\n",
    "    \n"
   ]
  },
  {
   "cell_type": "code",
   "execution_count": 51,
   "outputs": [
    {
     "name": "stdout",
     "output_type": "stream",
     "text": [
      "{'alpha': 0.001, 'solver': 'sag'} 0.09010303174313208\n"
     ]
    }
   ],
   "source": [
    "# GridSearchCV in scikit-learn\n",
    "\n",
    "from sklearn.model_selection import GridSearchCV\n",
    "from sklearn.model_selection import KFold\n",
    "from sklearn.linear_model import Ridge\n",
    "\n",
    "# get the dataset\n",
    "X = churn_df.drop(\"churn\", axis=1).values\n",
    "y = churn_df[\"churn\"].values\n",
    "X_train, X_test, y_train, y_test = train_test_split(X, y, test_size=0.3, random_state=42)\n",
    "\n",
    "# create a KFold\n",
    "kf = KFold(n_splits=5, shuffle=True, random_state=42)\n",
    "param_grid = {\"alpha\": np.arange(0.001, 1, 10),\n",
    "             \"solver\": [\"sag\", \"lsqr\"]}\n",
    "\n",
    "# create a grid search CV model\n",
    "ridge = Ridge()\n",
    "ridge_cv = GridSearchCV(ridge, param_grid, cv=kf)\n",
    "ridge_cv.fit(X_train, y_train)\n",
    "print(ridge_cv.best_params_, ridge_cv.best_score_)"
   ],
   "metadata": {
    "collapsed": false
   }
  },
  {
   "cell_type": "code",
   "execution_count": 36,
   "id": "0069d2a6-acfc-4405-aaaa-f1fdd174ca56",
   "metadata": {},
   "outputs": [
    {
     "name": "stdout",
     "output_type": "stream",
     "text": [
      "{'solver': 'sag', 'alpha': 0.001} 0.09009622424996115\n"
     ]
    }
   ],
   "source": [
    "# RandomizedSearchCV\n",
    "from sklearn.model_selection import RandomizedSearchCV\n",
    "kf = KFold(n_splits=5, shuffle=True, random_state=42)\n",
    "param_grid = {\"alpha\": np.arange(0.001, 1, 10),\n",
    "             \"solver\": [\"sag\", \"lsqr\"]}\n",
    "ridge = Ridge()\n",
    "ridge_cv = RandomizedSearchCV(ridge, param_grid, cv=kf, n_iter=2)\n",
    "ridge_cv.fit(X_train, y_train)\n",
    "print(ridge_cv.best_params_, ridge_cv.best_score_)"
   ]
  },
  {
   "cell_type": "code",
   "execution_count": 52,
   "outputs": [
    {
     "name": "stdout",
     "output_type": "stream",
     "text": [
      "0.12202055968359227\n"
     ]
    }
   ],
   "source": [
    "# evaluating on the test set\n",
    "test_score = ridge_cv.score(X_test, y_test)\n",
    "print(test_score)"
   ],
   "metadata": {
    "collapsed": false
   }
  },
  {
   "cell_type": "markdown",
   "id": "24d36498-7b60-4974-81ee-3931008f22a3",
   "metadata": {},
   "source": [
    "### CHAPTER 4 Preprocessing and Pipelines\n",
    "#### 4.1 Preprocessing data\n",
    "\n",
    "Scikit-learn requirements:\n",
    "* Numeric data\n",
    "* No missing values\n",
    "\n",
    "Real-world data is rarely the case, so we **NEED TO preprocess data** first\n",
    "\n",
    "Dealing with **categorical features**:\n",
    "* Scikit-learn will not accept categorical features by default\n",
    "* Need to convert categorical features into numeric values\n",
    "* Convert to binary features called dummy variables\n",
    "    * 0: Observation was NOT that category\n",
    "    * 1: Observation was that category\n",
    "* Use scikit-learn: *OneHotEncoder()*\n",
    "* Use pandas: *get_dummies()*"
   ]
  },
  {
   "cell_type": "code",
   "execution_count": 38,
   "id": "9e4b0db7-6e93-478b-88fa-6cbd753cb0b1",
   "metadata": {},
   "outputs": [
    {
     "name": "stdout",
     "output_type": "stream",
     "text": [
      "   Unnamed: 0  popularity  acousticness  danceability  duration_ms  energy  \\\n",
      "0       36506        60.0      0.896000         0.726     214547.0   0.177   \n",
      "1       37591        63.0      0.003840         0.635     190448.0   0.908   \n",
      "2       37658        59.0      0.000075         0.352     456320.0   0.956   \n",
      "3       36060        54.0      0.945000         0.488     352280.0   0.326   \n",
      "4       35710        55.0      0.245000         0.667     273693.0   0.647   \n",
      "\n",
      "   instrumentalness  liveness  loudness  speechiness    tempo  valence  genre  \n",
      "0          0.000002    0.1160   -14.824       0.0353   92.934    0.618      1  \n",
      "1          0.083400    0.2390    -4.795       0.0563  110.012    0.637      1  \n",
      "2          0.020300    0.1250    -3.634       0.1490  122.897    0.228      1  \n",
      "3          0.015700    0.1190   -12.020       0.0328  106.063    0.323      1  \n",
      "4          0.000297    0.0633    -7.787       0.0487  143.995    0.300      1  \n"
     ]
    }
   ],
   "source": [
    "# encoding dummy variables \n",
    "\n",
    "# our dataset is alredy clean and does NOT need to encoded\n",
    "music_df = pd.read_csv('1_datasets/music_clean.csv')\n",
    "print(music_df.head())\n",
    "\n",
    "# the dummy variable process should be as follows:\n",
    "\n",
    "# approach 1)\n",
    "# music_dummies = pd.get_dummies(music_df[\"genre\"], drop_first=True)\n",
    "# print(music_dummies.head())\n",
    "\n",
    "# music_dummies = pd.concat([music_df, music_dummies], axis=1)\n",
    "# music_dummies = pd.drop(\"genre\", axis = 1)\n",
    "\n",
    "# approach 2)\n",
    "# music_dummies = pd.get_dummies(music_df, drop_first=True)"
   ]
  },
  {
   "cell_type": "code",
   "execution_count": 39,
   "id": "70da640a-80c9-4565-964a-166eff3b3625",
   "metadata": {},
   "outputs": [
    {
     "name": "stdout",
     "output_type": "stream",
     "text": [
      "[10.19270166 10.43734567  9.25570311  9.20541221  9.85376468]\n"
     ]
    }
   ],
   "source": [
    "# linear regression with dummy variables\n",
    "from sklearn.model_selection import cross_val_score, KFold\n",
    "from sklearn.linear_model import LinearRegression\n",
    "\n",
    "X = music_df.drop(\"popularity\", axis=1).values\n",
    "y = music_df[\"popularity\"].values\n",
    "X_train, X_test, y_train, y_test = train_test_split(X, y, test_size=0.2,\n",
    "                                                   random_state=42)\n",
    "kf = KFold(n_splits=5, shuffle=True, random_state=42)\n",
    "linreg = LinearRegression()\n",
    "linreg_cv = cross_val_score(linreg, X_train, y_train, cv=kf, \n",
    "                           scoring=\"neg_mean_squared_error\")\n",
    "print(np.sqrt(-linreg_cv))"
   ]
  },
  {
   "cell_type": "markdown",
   "id": "3101929f-1ca5-4d9c-888e-c80887d958be",
   "metadata": {},
   "source": [
    "#### 4.2 Handling missing data\n",
    "\n",
    "* Missing data: No value for a feature in a particular row\n",
    "* This can occur because:\n",
    "    * There may have been no observation\n",
    "    * The data might be corrupt\n",
    "\n",
    "* We need to deal with missing data\n",
    "    * Method 1: Dropping missing data\n",
    "    * Method 2: Imputing values for missing data\n",
    "        * use mean\n",
    "        * use median\n",
    "        * use most frequent value (mode) for categorical values\n",
    "        * must split data first, to avoid data leakage"
   ]
  },
  {
   "cell_type": "code",
   "execution_count": 40,
   "id": "949f4f5c-a936-4a2c-a430-5c520a235427",
   "metadata": {},
   "outputs": [
    {
     "name": "stdout",
     "output_type": "stream",
     "text": [
      "Unnamed: 0          0\n",
      "popularity          0\n",
      "acousticness        0\n",
      "danceability        0\n",
      "duration_ms         0\n",
      "energy              0\n",
      "instrumentalness    0\n",
      "liveness            0\n",
      "loudness            0\n",
      "speechiness         0\n",
      "tempo               0\n",
      "valence             0\n",
      "genre               0\n",
      "dtype: int64\n"
     ]
    }
   ],
   "source": [
    "# check missing values in python\n",
    "print(music_df.isna().sum().sort_values())"
   ]
  },
  {
   "cell_type": "code",
   "execution_count": 41,
   "id": "8ba73f09-e70c-4f53-83d2-bb4e3ba5bcc7",
   "metadata": {},
   "outputs": [],
   "source": [
    "# drop missing data in python\n",
    "\n",
    "# (our dataset is clean, I just commented below code)\n",
    "# music_df = music_df.dropna(subset=[\"genre\", \"popularity\", \n",
    "#                                    \"loudness\", \"liveness\", \"tempo\"])"
   ]
  },
  {
   "cell_type": "code",
   "execution_count": 42,
   "id": "e0bfee4f-27c4-4b61-9c13-1bcbe84a5675",
   "metadata": {},
   "outputs": [],
   "source": [
    "# imputation with scikit-learn\n",
    "\n",
    "# (our dataset is clean, I just commented below code)\n",
    "\n",
    "# from sklearn.impute import SimpleImputer\n",
    "# X_cat = music_df[\"genre\"].reshape(-1, 1)\n",
    "# X_num = music_df.drop([\"genre\", \"popularity\"], axis=1).values\n",
    "# y = music_df[\"popularity\"].values\n",
    "\n",
    "# X_train_cat, X_test_cat, y_train, y_test = train_test_split(X_cat, y,test_size=0.2, random_state=12)\n",
    "# X_train_num, X_test_num, y_train, y_test = train_test_split(X_num, y, test_size=0.2, random_state=12)\n",
    "\n",
    "# # imputer for categorical features\n",
    "# imp_cat = SimpleImputer(strategy=\"most_frequent\")\n",
    "# X_train_cat = imp_cat.fit_transform(X_train_cat)\n",
    "# X_test_cat = imp_cat.transform(X_test_cat)\n",
    "\n",
    "# # imputer for numeric features\n",
    "# imp_num = SimpleImputer()\n",
    "# X_train_num = imp_num.fit_transform(X_train_num)\n",
    "# X_test_num = imp_num.transform(X_test_num)\n",
    "\n",
    "# # combine\n",
    "# X_train = np.append(X_train_num, X_train_cat, axis=1)\n",
    "# X_test = np.append(X_test_num, X_test_cat, axis=1)\n"
   ]
  },
  {
   "cell_type": "code",
   "execution_count": 43,
   "id": "06d5ec69-320d-42cf-8733-4ef339b3b5c8",
   "metadata": {},
   "outputs": [
    {
     "data": {
      "text/plain": "0.8033333333333333"
     },
     "execution_count": 43,
     "metadata": {},
     "output_type": "execute_result"
    }
   ],
   "source": [
    "# imputing with a pipeline\n",
    "from sklearn.pipeline import Pipeline\n",
    "from sklearn.impute import SimpleImputer\n",
    "\n",
    "# drop missing datas and convert categorical feature\n",
    "# music_df = music_df.dropna(subset=[\"genre\", \"popularity\", \n",
    "#                                    \"loudness\", \"liveness\", \"tempo\"])\n",
    "# music_df[\"genre\"] = np.where(music_df[\"genre\"]==\"Rock\", 1, 0)\n",
    "\n",
    "X = music_df.drop(\"genre\", axis=1).values\n",
    "y = music_df[\"genre\"].values\n",
    "\n",
    "# create pipeline steps\n",
    "steps = [(\"imputation\", SimpleImputer()),\n",
    "        (\"logistic_regression\", LogisticRegression())]\n",
    "pipeline = Pipeline(steps)\n",
    "X_train, X_test, y_train, y_test = train_test_split(X, y, test_size=0.3, random_state=42)\n",
    "\n",
    "pipeline.fit(X_train, y_train)\n",
    "pipeline.score(X_test, y_test)\n"
   ]
  },
  {
   "cell_type": "markdown",
   "id": "b1aa1310-2d80-4a0d-ae89-747fe1ad5e63",
   "metadata": {},
   "source": [
    "#### 4.3 Centering and scaling\n",
    "\n",
    "Why scale our data?\n",
    "* Many models use some form of distance to inform them\n",
    "* Features on large scales can disproportionately influence the model\n",
    "* We want features to be on a similar scale\n",
    "    * Normalizing\n",
    "    * Standardizing\n",
    "    \n",
    "How to scale our data?\n",
    "* Subtract the mean and divide by variance\n",
    "    * All features are centered around zero and have a variance of one\n",
    "    * This is called **standardization**   \n",
    "* Subtract the minimum and divide by the range\n",
    "    * Minimum zero and maximum one\n",
    "* Normalize the data so the range is -1 to 1"
   ]
  },
  {
   "cell_type": "code",
   "execution_count": 44,
   "id": "b69617bd-4e81-4d41-9353-073a7c6a996b",
   "metadata": {},
   "outputs": [
    {
     "name": "stdout",
     "output_type": "stream",
     "text": [
      "20666.582585618085 68890.98734103922\n",
      "3.5971225997855074e-16 0.9999999999999996\n"
     ]
    }
   ],
   "source": [
    "# scaling in scikit-learn\n",
    "from sklearn.preprocessing import StandardScaler\n",
    "X = music_df.drop(\"genre\", axis=1).values\n",
    "y = music_df[\"genre\"].values\n",
    "\n",
    "X_train, X_test, y_train, y_test = train_test_split(X, y, test_size=0.2,\n",
    "                                                   random_state=42)\n",
    "scaler = StandardScaler()\n",
    "X_train_scaled = scaler.fit_transform(X_train)\n",
    "X_test_scaled = scaler.transform(X_test)\n",
    "\n",
    "# check the difference after scaling\n",
    "print(np.mean(X), np.std(X))\n",
    "print(np.mean(X_train_scaled), np.std(X_train_scaled))"
   ]
  },
  {
   "cell_type": "code",
   "execution_count": 45,
   "id": "eb1acbc1-3160-4622-a816-fdb0686142f0",
   "metadata": {},
   "outputs": [
    {
     "name": "stdout",
     "output_type": "stream",
     "text": [
      "0.89\n"
     ]
    }
   ],
   "source": [
    "# scaling in a pipeline\n",
    "steps = [('scaler', StandardScaler()),\n",
    "        ('knn', KNeighborsClassifier(n_neighbors = 6))]\n",
    "pipeline = Pipeline(steps)\n",
    "X_train, X_test, y_train, y_test = train_test_split(X, y, test_size=0.2,\n",
    "                                                   random_state=42)\n",
    "knn_scaled = pipeline.fit(X_train, y_train)\n",
    "y_pred = knn_scaled.predict(X_test)\n",
    "print(knn_scaled.score(X_test, y_test))"
   ]
  },
  {
   "cell_type": "code",
   "execution_count": 46,
   "id": "60899d8f-662b-4b54-956f-9174d7e23a27",
   "metadata": {},
   "outputs": [
    {
     "name": "stdout",
     "output_type": "stream",
     "text": [
      "0.925\n"
     ]
    }
   ],
   "source": [
    "# comparing performance with unscaled data\n",
    "X_train, X_test, y_train, y_test = train_test_split(X, y, test_size=0.2,\n",
    "                                                   random_state=42)\n",
    "knn_unscaled = KNeighborsClassifier(n_neighbors=6).fit(X_train, y_train)\n",
    "print(knn_unscaled.score(X_test, y_test))"
   ]
  },
  {
   "cell_type": "code",
   "execution_count": 47,
   "id": "1a5508e4-0033-4aa6-bbdc-8cca2f85b24d",
   "metadata": {},
   "outputs": [],
   "source": [
    "# Cross-Validation and scaling in a pipeline\n",
    "from sklearn.model_selection import GridSearchCV\n",
    "steps = [('scaler', StandardScaler()),\n",
    "        ('knn', KNeighborsClassifier())]\n",
    "pipeline = Pipeline(steps)\n",
    "parameters = {\"knn__n_neighbors\": np.arange(1, 50)}\n",
    "\n",
    "X_train, X_test, y_train, y_test = train_test_split(X, y, test_size=0.2, \n",
    "                                                    random_state=21)\n",
    "cv = GridSearchCV(pipeline, param_grid = parameters)\n",
    "cv.fit(X_train, y_train)\n",
    "y_pred = cv.predict(X_test)"
   ]
  },
  {
   "cell_type": "code",
   "execution_count": 48,
   "id": "2ffb0297-60bb-434e-8bd8-c1777e1ffd40",
   "metadata": {},
   "outputs": [
    {
     "name": "stdout",
     "output_type": "stream",
     "text": [
      "0.9099999999999999\n",
      "{'knn__n_neighbors': 6}\n"
     ]
    }
   ],
   "source": [
    "# checking model performance and parameters\n",
    "print(cv.best_score_)\n",
    "print(cv.best_params_)"
   ]
  },
  {
   "cell_type": "markdown",
   "id": "43f5b79b-6d67-4a18-9d28-64066d3fada2",
   "metadata": {},
   "source": [
    "#### 4.4 Evaluating multiple models\n",
    "\n",
    "Some guiding principles about which model to use at first place:\n",
    "* **Size** of the dataset\n",
    "    * Fewer features = simpler model, faster training time\n",
    "    * Some models require large amounts of data to perform well\n",
    "* **Interpretability**\n",
    "    * Some models are easier to explain, which can be important for stakeholders\n",
    "    * Linear regression has high interpretability, as we can understand the coefficients\n",
    "* **Flexibility**\n",
    "    * May improve accuracy, by making fewer assumptions about data\n",
    "    * KNN is a more flexible model, doesn't assume any linear relationships\n",
    "\n",
    "It's all in the metrics. Some metrics are widely used in many models and can be compared easily.\n",
    "* **Regression** model performance:\n",
    "    * RMSE (Root Mean Squared Error)\n",
    "    * R-squared  \n",
    "* **Classification** model performance:\n",
    "    * Accuracy\n",
    "    * Confusion matrix\n",
    "    * Precision, recall, F-1 score\n",
    "    * ROC AUC\n",
    "* Train several models and evaluate performance out of the box\n",
    "\n",
    "* Some models are affected by **scaling**:\n",
    "    * KNN\n",
    "    * Linear Regression (plus Ridge, Lasso)\n",
    "    * Logistic Regression\n",
    "    * Artificial Nerual Network\n",
    "    \n",
    "* It is best to **scale our data** before evaluating models"
   ]
  },
  {
   "cell_type": "code",
   "execution_count": 49,
   "id": "4b48ab5e-5588-4a53-afd2-98157a6c9bae",
   "metadata": {},
   "outputs": [
    {
     "data": {
      "text/plain": "<Figure size 640x480 with 1 Axes>",
      "image/png": "[encoded data removed]"
     },
     "metadata": {},
     "output_type": "display_data"
    }
   ],
   "source": [
    "# evaluating classificaton models in scikit-learn\n",
    "import pandas as pd\n",
    "import matplotlib.pyplot as plt\n",
    "from sklearn.preprocessing import StandardScaler\n",
    "from sklearn.model_selection import cross_val_score, KFold, train_test_split\n",
    "from sklearn.neighbors import KNeighborsClassifier\n",
    "from sklearn.linear_model import LogisticRegression\n",
    "from sklearn.tree import DecisionTreeClassifier\n",
    "\n",
    "music_df = pd.read_csv('1_datasets/music_clean.csv')\n",
    "X = music_df.drop(\"genre\", axis = 1).values\n",
    "y = music_df[\"genre\"].values\n",
    "X_train, X_test, y_train, y_test = train_test_split(X, y, random_state=42)\n",
    "scaler = StandardScaler()\n",
    "X_train_scaled = scaler.fit_transform(X_train)\n",
    "X_test_scaled = scaler.transform(X_test)\n",
    "\n",
    "# create models dictionary\n",
    "models = {\"Logistic Regression\": LogisticRegression(),\n",
    "         \"KNN\":KNeighborsClassifier(),\n",
    "         \"Decision Tree\": DecisionTreeClassifier()}\n",
    "\n",
    "# loop models and store results\n",
    "results = []\n",
    "for model in models.values():\n",
    "    kf = KFold(n_splits=6, shuffle=True, random_state=42)\n",
    "    cv_results = cross_val_score(model, X_train_scaled, y_train, cv=kf)\n",
    "    results.append(cv_results)\n",
    "\n",
    "# plot the results\n",
    "plt.boxplot(results, labels=models.keys())\n",
    "plt.show()"
   ]
  },
  {
   "cell_type": "code",
   "execution_count": 50,
   "id": "f4974cdd-83e5-4e6b-9cfe-658ae3440008",
   "metadata": {},
   "outputs": [
    {
     "name": "stdout",
     "output_type": "stream",
     "text": [
      "Logistic Regression Test Set Accuracy: 0.864\n",
      "KNN Test Set Accuracy: 0.888\n",
      "Decision Tree Test Set Accuracy: 1.0\n"
     ]
    }
   ],
   "source": [
    "# test set performance\n",
    "for name, model in models.items():\n",
    "    model.fit(X_train_scaled, y_train)\n",
    "    test_score = model.score(X_test_scaled, y_test)\n",
    "    print(\"{} Test Set Accuracy: {}\".format(name, test_score))\n",
    "    \n",
    "# now we can see which model performs the best"
   ]
  },
  {
   "cell_type": "markdown",
   "source": [
    "Welcome to the end of this course!"
   ],
   "metadata": {
    "collapsed": false
   }
  }
 ],
 "metadata": {
  "kernelspec": {
   "display_name": "Python 3 (ipykernel)",
   "language": "python",
   "name": "python3"
  },
  "language_info": {
   "codemirror_mode": {
    "name": "ipython",
    "version": 3
   },
   "file_extension": ".py",
   "mimetype": "text/x-python",
   "name": "python",
   "nbconvert_exporter": "python",
   "pygments_lexer": "ipython3",
   "version": "3.9.13"
  }
 },
 "nbformat": 4,
 "nbformat_minor": 5
}
