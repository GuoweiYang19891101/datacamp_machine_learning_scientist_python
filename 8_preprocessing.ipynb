{
 "cells": [
  {
   "cell_type": "markdown",
   "source": [
    "## Preprocessing for Machine Learing in Python\n",
    "\n",
    "### CHAPTER 1. Introduction to Data Preprocessing\n",
    "\n",
    "#### 1.1 Introduction to preprocessing\n",
    "\n",
    "* It comes after exploratory data analysis and data cleaning\n",
    "* It is a process of preparing data for modeling\n",
    "* Example:\n",
    "    * transforming categorical features into numerical features (dummy variables)\n",
    "    * removing missing data\n",
    "\n",
    "Why preprocess?\n",
    "* Transform dataset so it's suitable for modeling\n",
    "* Improve model performance\n",
    "* Generate more reliable results\n",
    "\n",
    "Recap: exploring data with pandas\n",
    "* check data with *.head()*\n",
    "* check data information with *.info()*\n",
    "* check summary statistics with *.describe()*\n"
   ],
   "metadata": {
    "collapsed": false
   }
  },
  {
   "cell_type": "code",
   "execution_count": 105,
   "outputs": [
    {
     "name": "stdout",
     "output_type": "stream",
     "text": [
      "   opportunity_id  content_id  vol_requests  event_time  \\\n",
      "0            4996       37004            50           0   \n",
      "1            5008       37036             2           0   \n",
      "2            5016       37143            20           0   \n",
      "3            5022       37237           500           0   \n",
      "4            5055       37425            15           0   \n",
      "\n",
      "                                               title  hits  \\\n",
      "0  Volunteers Needed For Rise Up & Stay Put! Home...   737   \n",
      "1                                       Web designer    22   \n",
      "2      Urban Adventures - Ice Skating at Lasker Rink    62   \n",
      "3  Fight global hunger and support women farmers ...    14   \n",
      "4                                      Stop 'N' Swap    31   \n",
      "\n",
      "                                             summary is_priority  category_id  \\\n",
      "0  Building on successful events last summer and ...         NaN          NaN   \n",
      "1             Build a website for an Afghan business         NaN          1.0   \n",
      "2  Please join us and the students from Mott Hall...         NaN          1.0   \n",
      "3  The Oxfam Action Corps is a group of dedicated...         NaN          1.0   \n",
      "4  Stop 'N' Swap reduces NYC's waste by finding n...         NaN          4.0   \n",
      "\n",
      "               category_desc  ...     end_date_date    status Latitude  \\\n",
      "0                        NaN  ...      July 30 2011  approved      NaN   \n",
      "1  Strengthening Communities  ...  February 01 2011  approved      NaN   \n",
      "2  Strengthening Communities  ...   January 29 2011  approved      NaN   \n",
      "3  Strengthening Communities  ...     March 31 2012  approved      NaN   \n",
      "4                Environment  ...  February 05 2011  approved      NaN   \n",
      "\n",
      "   Longitude  Community Board Community Council  Census Tract  BIN  BBL NTA  \n",
      "0        NaN              NaN                NaN          NaN  NaN  NaN NaN  \n",
      "1        NaN              NaN                NaN          NaN  NaN  NaN NaN  \n",
      "2        NaN              NaN                NaN          NaN  NaN  NaN NaN  \n",
      "3        NaN              NaN                NaN          NaN  NaN  NaN NaN  \n",
      "4        NaN              NaN                NaN          NaN  NaN  NaN NaN  \n",
      "\n",
      "[5 rows x 35 columns]\n",
      "opportunity_id          0\n",
      "content_id              0\n",
      "vol_requests            0\n",
      "event_time              0\n",
      "title                   0\n",
      "hits                    0\n",
      "summary                 0\n",
      "is_priority           603\n",
      "category_id            48\n",
      "category_desc          48\n",
      "amsl                  665\n",
      "amsl_unit             665\n",
      "org_title               0\n",
      "org_content_id          0\n",
      "addresses_count         0\n",
      "locality               70\n",
      "region                  0\n",
      "postalcode              6\n",
      "primary_loc           665\n",
      "display_url             0\n",
      "recurrence_type         0\n",
      "hours                   0\n",
      "created_date            0\n",
      "last_modified_date      0\n",
      "start_date_date         0\n",
      "end_date_date           0\n",
      "status                  0\n",
      "Latitude              665\n",
      "Longitude             665\n",
      "Community Board       665\n",
      "Community Council     665\n",
      "Census Tract          665\n",
      "BIN                   665\n",
      "BBL                   665\n",
      "NTA                   665\n",
      "dtype: int64\n",
      "(665, 35)\n"
     ]
    }
   ],
   "source": [
    "# exploring missing data\n",
    "import pandas as pd\n",
    "\n",
    "volunteer = pd.read_csv('8_datasets/volunteer.csv')\n",
    "print(volunteer.head())\n",
    "print(volunteer.isna().sum())\n",
    "print(volunteer.shape)"
   ],
   "metadata": {
    "collapsed": false
   }
  },
  {
   "cell_type": "code",
   "execution_count": 106,
   "outputs": [
    {
     "name": "stdout",
     "output_type": "stream",
     "text": [
      "(617, 33)\n"
     ]
    }
   ],
   "source": [
    "# dropping missing data\n",
    "# drop 'Latitude' and 'Longitude' columns\n",
    "volunteer_cols = volunteer.drop(['Latitude', 'Longitude'], axis=1)\n",
    "\n",
    "# drop rows with missing 'category_desc' column\n",
    "volunteer_subset = volunteer_cols.dropna(subset=['category_desc'])\n",
    "\n",
    "print(volunteer_subset.shape)"
   ],
   "metadata": {
    "collapsed": false
   }
  },
  {
   "cell_type": "markdown",
   "source": [
    "#### 1.2 Working with data types\n",
    "\n",
    "Common data types:\n",
    "* 'object': string/mixed types\n",
    "* 'int64': integer\n",
    "* 'float64': float\n",
    "* 'datetime64': dates and times\n",
    "\n",
    "Converting column types:\n",
    "* *astype()* method to specify data type"
   ],
   "metadata": {
    "collapsed": false
   }
  },
  {
   "cell_type": "code",
   "execution_count": 107,
   "outputs": [
    {
     "name": "stdout",
     "output_type": "stream",
     "text": [
      "<class 'pandas.core.frame.DataFrame'>\n",
      "RangeIndex: 665 entries, 0 to 664\n",
      "Data columns (total 35 columns):\n",
      " #   Column              Non-Null Count  Dtype  \n",
      "---  ------              --------------  -----  \n",
      " 0   opportunity_id      665 non-null    int64  \n",
      " 1   content_id          665 non-null    int64  \n",
      " 2   vol_requests        665 non-null    int64  \n",
      " 3   event_time          665 non-null    int64  \n",
      " 4   title               665 non-null    object \n",
      " 5   hits                665 non-null    int64  \n",
      " 6   summary             665 non-null    object \n",
      " 7   is_priority         62 non-null     object \n",
      " 8   category_id         617 non-null    float64\n",
      " 9   category_desc       617 non-null    object \n",
      " 10  amsl                0 non-null      float64\n",
      " 11  amsl_unit           0 non-null      float64\n",
      " 12  org_title           665 non-null    object \n",
      " 13  org_content_id      665 non-null    int64  \n",
      " 14  addresses_count     665 non-null    int64  \n",
      " 15  locality            595 non-null    object \n",
      " 16  region              665 non-null    object \n",
      " 17  postalcode          659 non-null    float64\n",
      " 18  primary_loc         0 non-null      float64\n",
      " 19  display_url         665 non-null    object \n",
      " 20  recurrence_type     665 non-null    object \n",
      " 21  hours               665 non-null    int64  \n",
      " 22  created_date        665 non-null    object \n",
      " 23  last_modified_date  665 non-null    object \n",
      " 24  start_date_date     665 non-null    object \n",
      " 25  end_date_date       665 non-null    object \n",
      " 26  status              665 non-null    object \n",
      " 27  Latitude            0 non-null      float64\n",
      " 28  Longitude           0 non-null      float64\n",
      " 29  Community Board     0 non-null      float64\n",
      " 30  Community Council   0 non-null      float64\n",
      " 31  Census Tract        0 non-null      float64\n",
      " 32  BIN                 0 non-null      float64\n",
      " 33  BBL                 0 non-null      float64\n",
      " 34  NTA                 0 non-null      float64\n",
      "dtypes: float64(13), int64(8), object(14)\n",
      "memory usage: 182.0+ KB\n",
      "None\n"
     ]
    }
   ],
   "source": [
    "# exploring data types\n",
    "import pandas as pd\n",
    "volunteer = pd.read_csv('8_datasets/volunteer.csv')\n",
    "print(volunteer.info())"
   ],
   "metadata": {
    "collapsed": false
   }
  },
  {
   "cell_type": "code",
   "execution_count": 108,
   "outputs": [
    {
     "name": "stdout",
     "output_type": "stream",
     "text": [
      "0    737\n",
      "1     22\n",
      "2     62\n",
      "3     14\n",
      "4     31\n",
      "Name: hits, dtype: int64\n",
      "int64\n"
     ]
    }
   ],
   "source": [
    "# converting a column type -> 'hits'\n",
    "print(volunteer['hits'].head())\n",
    "volunteer['hits'] = volunteer['hits'].astype('int64')\n",
    "print(volunteer['hits'].dtypes)"
   ],
   "metadata": {
    "collapsed": false
   }
  },
  {
   "cell_type": "markdown",
   "source": [
    "#### 1.3 Training and test sets\n",
    "\n",
    "Why split?\n",
    "* Reduces over-fitting\n",
    "* Evaluate performance on a holdout set\n",
    "* *train_test_split()* method to split\n",
    "* *stratify* parameter to avoid class imbalance\n"
   ],
   "metadata": {
    "collapsed": false
   }
  },
  {
   "cell_type": "code",
   "execution_count": 109,
   "outputs": [
    {
     "name": "stdout",
     "output_type": "stream",
     "text": [
      "Strengthening Communities    307\n",
      "Helping Neighbors in Need    119\n",
      "Education                     92\n",
      "Health                        52\n",
      "Environment                   32\n",
      "Emergency Preparedness        15\n",
      "Name: category_desc, dtype: int64\n"
     ]
    }
   ],
   "source": [
    "# class imbalance\n",
    "import pandas as pd\n",
    "volunteer = pd.read_csv('8_datasets/volunteer.csv')\n",
    "\n",
    "# check class distribution\n",
    "print(volunteer['category_desc'].value_counts())\n"
   ],
   "metadata": {
    "collapsed": false
   }
  },
  {
   "cell_type": "code",
   "execution_count": 110,
   "outputs": [
    {
     "name": "stdout",
     "output_type": "stream",
     "text": [
      "opportunity_id         0\n",
      "content_id             0\n",
      "vol_requests           0\n",
      "event_time             0\n",
      "title                  0\n",
      "hits                   0\n",
      "summary                0\n",
      "category_id           48\n",
      "category_desc         48\n",
      "org_title              0\n",
      "org_content_id         0\n",
      "addresses_count        0\n",
      "region                 0\n",
      "postalcode             6\n",
      "display_url            0\n",
      "recurrence_type        0\n",
      "hours                  0\n",
      "created_date           0\n",
      "last_modified_date     0\n",
      "start_date_date        0\n",
      "end_date_date          0\n",
      "status                 0\n",
      "dtype: int64\n",
      "opportunity_id        0\n",
      "content_id            0\n",
      "vol_requests          0\n",
      "event_time            0\n",
      "title                 0\n",
      "hits                  0\n",
      "summary               0\n",
      "category_id           0\n",
      "category_desc         0\n",
      "org_title             0\n",
      "org_content_id        0\n",
      "addresses_count       0\n",
      "region                0\n",
      "postalcode            0\n",
      "display_url           0\n",
      "recurrence_type       0\n",
      "hours                 0\n",
      "created_date          0\n",
      "last_modified_date    0\n",
      "start_date_date       0\n",
      "end_date_date         0\n",
      "status                0\n",
      "dtype: int64\n"
     ]
    }
   ],
   "source": [
    "# drop missing value columns\n",
    "volunteer = volunteer.dropna(axis=1, thresh=600)\n",
    "\n",
    "# check missing values\n",
    "print(volunteer.isna().sum())\n",
    "\n",
    "# fill in these missing values in these three columns:\n",
    "volunteer['category_id'] = volunteer['category_id'].astype('object')\n",
    "volunteer['category_id'] = volunteer['category_id'].fillna('bfill')\n",
    "\n",
    "volunteer['category_desc'] = volunteer['category_desc'].astype('object')\n",
    "volunteer['category_desc'] = volunteer['category_desc'].fillna('bfill')\n",
    "\n",
    "volunteer['postalcode'] = volunteer['postalcode'].astype('object')\n",
    "volunteer['postalcode'] = volunteer['postalcode'].fillna('bfill')\n",
    "# check missing values again\n",
    "print(volunteer.isna().sum())\n"
   ],
   "metadata": {
    "collapsed": false
   }
  },
  {
   "cell_type": "code",
   "execution_count": 111,
   "outputs": [
    {
     "name": "stdout",
     "output_type": "stream",
     "text": [
      "Strengthening Communities    245\n",
      "Helping Neighbors in Need     95\n",
      "Education                     74\n",
      "Health                        42\n",
      "bfill                         38\n",
      "Environment                   26\n",
      "Emergency Preparedness        12\n",
      "Name: category_desc, dtype: int64\n"
     ]
    }
   ],
   "source": [
    "# stratified sampling\n",
    "from sklearn.model_selection import train_test_split\n",
    "\n",
    "# split data into X and y\n",
    "X = volunteer.drop(['category_desc'], axis=1)\n",
    "y = volunteer[['category_desc']]\n",
    "X_train, X_test, y_train, y_test = train_test_split(X, y, stratify=y, test_size=0.2, random_state=42)\n",
    "\n",
    "print(y_train['category_desc'].value_counts())\n",
    "\n",
    "# the training set class distribution is the same as original dataset"
   ],
   "metadata": {
    "collapsed": false
   }
  },
  {
   "cell_type": "markdown",
   "source": [
    "### CHAPTER 2. Standardizing Data\n",
    "\n",
    "#### 2.1 Standardization\n",
    "\n",
    "* It transforms *continuous data* to look *normally distributed*\n",
    "* 'scikit-learn' models assume normally distributed data\n",
    "* Using non-normal training data can lead to bias\n",
    "\n",
    "Two methods of standardization:\n",
    "1. Log normalization\n",
    "2. Scaling\n",
    "\n",
    "When to standardize?\n",
    "* When working with models that use a linear distance metric or operate in a linear space (e.g: k-nearest neighbors, linear regression, k-means clustering)\n",
    "* When dataset features have *high variance*\n",
    "* When dataset features are on *different scales*"
   ],
   "metadata": {
    "collapsed": false
   }
  },
  {
   "cell_type": "code",
   "execution_count": 112,
   "outputs": [
    {
     "name": "stdout",
     "output_type": "stream",
     "text": [
      "0.7777777777777778\n"
     ]
    }
   ],
   "source": [
    "# modeling without normalizing\n",
    "import pandas as pd\n",
    "from sklearn.model_selection import train_test_split\n",
    "from sklearn.neighbors import KNeighborsClassifier\n",
    "\n",
    "wine = pd.read_csv('8_datasets/wine.csv')\n",
    "\n",
    "# split data\n",
    "X = wine.drop('Type', axis=1)\n",
    "y = wine['Type']\n",
    "X_train, X_test, y_train, y_test = train_test_split(X, y, stratify=y, random_state=42)\n",
    "\n",
    "# fit k-neearest neighbors model\n",
    "knn = KNeighborsClassifier()\n",
    "knn.fit(X_train, y_train)\n",
    "\n",
    "print(knn.score(X_test, y_test))\n"
   ],
   "metadata": {
    "collapsed": false
   }
  },
  {
   "cell_type": "markdown",
   "source": [
    "The result is not very good, let's see how we can improve model performance by standardization."
   ],
   "metadata": {
    "collapsed": false
   }
  },
  {
   "cell_type": "markdown",
   "source": [
    "#### 2.2 Log normalization\n",
    "\n",
    "* It is useful when features have high variance\n",
    "* It applies logarithm transformation to the values\n",
    "* It takes the natural log of each number:\n",
    "$$ e( \\approx 2.718) $$\n",
    "* It captures relative changes, the magnitude of change, and keeps everything positive\n",
    "* Use *log()* function from 'numpy' library"
   ],
   "metadata": {
    "collapsed": false
   }
  },
  {
   "cell_type": "code",
   "execution_count": 113,
   "outputs": [
    {
     "name": "stdout",
     "output_type": "stream",
     "text": [
      "             Type     Alcohol  Malic acid         Ash  Alcalinity of ash  \\\n",
      "count  178.000000  178.000000  178.000000  178.000000         178.000000   \n",
      "mean     1.938202   13.000618    2.336348    2.366517          19.494944   \n",
      "std      0.775035    0.811827    1.117146    0.274344           3.339564   \n",
      "min      1.000000   11.030000    0.740000    1.360000          10.600000   \n",
      "25%      1.000000   12.362500    1.602500    2.210000          17.200000   \n",
      "50%      2.000000   13.050000    1.865000    2.360000          19.500000   \n",
      "75%      3.000000   13.677500    3.082500    2.557500          21.500000   \n",
      "max      3.000000   14.830000    5.800000    3.230000          30.000000   \n",
      "\n",
      "        Magnesium  Total phenols  Flavanoids  Nonflavanoid phenols  \\\n",
      "count  178.000000     178.000000  178.000000            178.000000   \n",
      "mean    99.741573       2.295112    2.029270              0.361854   \n",
      "std     14.282484       0.625851    0.998859              0.124453   \n",
      "min     70.000000       0.980000    0.340000              0.130000   \n",
      "25%     88.000000       1.742500    1.205000              0.270000   \n",
      "50%     98.000000       2.355000    2.135000              0.340000   \n",
      "75%    107.000000       2.800000    2.875000              0.437500   \n",
      "max    162.000000       3.880000    5.080000              0.660000   \n",
      "\n",
      "       Proanthocyanins  Color intensity         Hue  \\\n",
      "count       178.000000       178.000000  178.000000   \n",
      "mean          1.590899         5.058090    0.957449   \n",
      "std           0.572359         2.318286    0.228572   \n",
      "min           0.410000         1.280000    0.480000   \n",
      "25%           1.250000         3.220000    0.782500   \n",
      "50%           1.555000         4.690000    0.965000   \n",
      "75%           1.950000         6.200000    1.120000   \n",
      "max           3.580000        13.000000    1.710000   \n",
      "\n",
      "       OD280/OD315 of diluted wines      Proline  \n",
      "count                    178.000000   178.000000  \n",
      "mean                       2.611685   746.893258  \n",
      "std                        0.709990   314.907474  \n",
      "min                        1.270000   278.000000  \n",
      "25%                        1.937500   500.500000  \n",
      "50%                        2.780000   673.500000  \n",
      "75%                        3.170000   985.000000  \n",
      "max                        4.000000  1680.000000  \n"
     ]
    }
   ],
   "source": [
    "# checking the variance\n",
    "import pandas as pd\n",
    "\n",
    "wine = pd.read_csv('8_datasets/wine.csv')\n",
    "print(wine.describe())\n",
    "# column 'Proline' has extremely high variance"
   ],
   "metadata": {
    "collapsed": false
   }
  },
  {
   "cell_type": "code",
   "execution_count": 114,
   "outputs": [
    {
     "name": "stdout",
     "output_type": "stream",
     "text": [
      "99166.71735542436\n",
      "0.17231366191842012\n"
     ]
    }
   ],
   "source": [
    "# log normlization in Python\n",
    "import numpy as np\n",
    "\n",
    "# print variance of column 'Proline'\n",
    "print(wine['Proline'].var())\n",
    "\n",
    "# get log normalization variance\n",
    "wine['Proline_log'] = np.log(wine['Proline'])\n",
    "print(wine['Proline_log'].var())\n"
   ],
   "metadata": {
    "collapsed": false
   }
  },
  {
   "cell_type": "markdown",
   "source": [
    "#### 2.3 Scaling data for feature comparision\n",
    "\n",
    "* It is useful when features are on different scales\n",
    "* Model with linear characteristics\n",
    "* It centers feature around 0 and transform to variance of 1\n",
    "* It transforms to approximately normal distribution\n",
    "* Use *StandardScaler()* method from 'sklearn' library"
   ],
   "metadata": {
    "collapsed": false
   }
  },
  {
   "cell_type": "code",
   "execution_count": 115,
   "outputs": [
    {
     "name": "stdout",
     "output_type": "stream",
     "text": [
      "<class 'pandas.core.frame.DataFrame'>\n",
      "RangeIndex: 178 entries, 0 to 177\n",
      "Data columns (total 14 columns):\n",
      " #   Column                        Non-Null Count  Dtype  \n",
      "---  ------                        --------------  -----  \n",
      " 0   Type                          178 non-null    int64  \n",
      " 1   Alcohol                       178 non-null    float64\n",
      " 2   Malic acid                    178 non-null    float64\n",
      " 3   Ash                           178 non-null    float64\n",
      " 4   Alcalinity of ash             178 non-null    float64\n",
      " 5   Magnesium                     178 non-null    int64  \n",
      " 6   Total phenols                 178 non-null    float64\n",
      " 7   Flavanoids                    178 non-null    float64\n",
      " 8   Nonflavanoid phenols          178 non-null    float64\n",
      " 9   Proanthocyanins               178 non-null    float64\n",
      " 10  Color intensity               178 non-null    float64\n",
      " 11  Hue                           178 non-null    float64\n",
      " 12  OD280/OD315 of diluted wines  178 non-null    float64\n",
      " 13  Proline                       178 non-null    int64  \n",
      "dtypes: float64(11), int64(3)\n",
      "memory usage: 19.6 KB\n",
      "None\n",
      "             Type     Alcohol  Malic acid         Ash  Alcalinity of ash  \\\n",
      "count  178.000000  178.000000  178.000000  178.000000         178.000000   \n",
      "mean     1.938202   13.000618    2.336348    2.366517          19.494944   \n",
      "std      0.775035    0.811827    1.117146    0.274344           3.339564   \n",
      "min      1.000000   11.030000    0.740000    1.360000          10.600000   \n",
      "25%      1.000000   12.362500    1.602500    2.210000          17.200000   \n",
      "50%      2.000000   13.050000    1.865000    2.360000          19.500000   \n",
      "75%      3.000000   13.677500    3.082500    2.557500          21.500000   \n",
      "max      3.000000   14.830000    5.800000    3.230000          30.000000   \n",
      "\n",
      "        Magnesium  Total phenols  Flavanoids  Nonflavanoid phenols  \\\n",
      "count  178.000000     178.000000  178.000000            178.000000   \n",
      "mean    99.741573       2.295112    2.029270              0.361854   \n",
      "std     14.282484       0.625851    0.998859              0.124453   \n",
      "min     70.000000       0.980000    0.340000              0.130000   \n",
      "25%     88.000000       1.742500    1.205000              0.270000   \n",
      "50%     98.000000       2.355000    2.135000              0.340000   \n",
      "75%    107.000000       2.800000    2.875000              0.437500   \n",
      "max    162.000000       3.880000    5.080000              0.660000   \n",
      "\n",
      "       Proanthocyanins  Color intensity         Hue  \\\n",
      "count       178.000000       178.000000  178.000000   \n",
      "mean          1.590899         5.058090    0.957449   \n",
      "std           0.572359         2.318286    0.228572   \n",
      "min           0.410000         1.280000    0.480000   \n",
      "25%           1.250000         3.220000    0.782500   \n",
      "50%           1.555000         4.690000    0.965000   \n",
      "75%           1.950000         6.200000    1.120000   \n",
      "max           3.580000        13.000000    1.710000   \n",
      "\n",
      "       OD280/OD315 of diluted wines      Proline  \n",
      "count                    178.000000   178.000000  \n",
      "mean                       2.611685   746.893258  \n",
      "std                        0.709990   314.907474  \n",
      "min                        1.270000   278.000000  \n",
      "25%                        1.937500   500.500000  \n",
      "50%                        2.780000   673.500000  \n",
      "75%                        3.170000   985.000000  \n",
      "max                        4.000000  1680.000000  \n"
     ]
    }
   ],
   "source": [
    "# scaling data\n",
    "import pandas as pd\n",
    "\n",
    "wine = pd.read_csv('8_datasets/wine.csv')\n",
    "print(wine.info())\n",
    "\n",
    "# check columns statistics\n",
    "print(wine.describe())"
   ],
   "metadata": {
    "collapsed": false
   }
  },
  {
   "cell_type": "code",
   "execution_count": 116,
   "outputs": [],
   "source": [
    "# standardizing columns\n",
    "from sklearn.preprocessing import StandardScaler\n",
    "\n",
    "# create scaler\n",
    "scaler = StandardScaler()\n",
    "\n",
    "# get subset\n",
    "cols=['Ash', 'Alcalinity of ash', 'Magnesium']\n",
    "wine_subset = wine[cols]\n",
    "\n",
    "# apply scaler\n",
    "wine_subset_scaled = scaler.fit_transform(wine_subset)"
   ],
   "metadata": {
    "collapsed": false
   }
  },
  {
   "cell_type": "markdown",
   "source": [
    "#### 2.4 Standardized data and modeling\n",
    "\n",
    "Recall:\n",
    "* k-nearest neighbors is a model classifies data based on its distance on training set data\n",
    "* New data is assigned a label based on the class that majority of surrounding data points belong to\n",
    "* It is important to **split the data before preprocessing**, so none of the test data is used to train the model"
   ],
   "metadata": {
    "collapsed": false
   }
  },
  {
   "cell_type": "code",
   "execution_count": 117,
   "outputs": [
    {
     "name": "stdout",
     "output_type": "stream",
     "text": [
      "KNN on unscaled data:\n",
      "0.7777777777777778\n"
     ]
    }
   ],
   "source": [
    "# KNN on non-scaled data\n",
    "import pandas as pd\n",
    "from sklearn.model_selection import train_test_split\n",
    "from sklearn.neighbors import KNeighborsClassifier\n",
    "\n",
    "wine = pd.read_csv('8_datasets/wine.csv')\n",
    "\n",
    "# split the dataset\n",
    "X = wine.drop('Type', axis=1)\n",
    "y = wine['Type']\n",
    "X_train, X_test, y_train, y_test = train_test_split(X, y, stratify=y, random_state=42)\n",
    "\n",
    "# create KNN model\n",
    "knn = KNeighborsClassifier()\n",
    "knn.fit(X_train, y_train)\n",
    "\n",
    "# get score\n",
    "print('KNN on unscaled data:')\n",
    "print(knn.score(X_test, y_test))"
   ],
   "metadata": {
    "collapsed": false
   }
  },
  {
   "cell_type": "code",
   "execution_count": 118,
   "outputs": [
    {
     "name": "stdout",
     "output_type": "stream",
     "text": [
      "KNN on scaled data:\n",
      "0.9333333333333333\n"
     ]
    }
   ],
   "source": [
    "# KNN on scaled data\n",
    "from sklearn.preprocessing import StandardScaler\n",
    "\n",
    "# use the same dataset\n",
    "X_train, X_test, y_train, y_test = train_test_split(X, y, stratify=y, random_state=42)\n",
    "\n",
    "# create scaler\n",
    "scaler = StandardScaler()\n",
    "X_train_scaled = scaler.fit_transform(X_train)\n",
    "X_test_scaled = scaler.transform(X_test)\n",
    "\n",
    "# create model\n",
    "knn.fit(X_train_scaled, y_train)\n",
    "\n",
    "# get score\n",
    "print('KNN on scaled data:')\n",
    "print(knn.score(X_test_scaled, y_test))"
   ],
   "metadata": {
    "collapsed": false
   }
  },
  {
   "cell_type": "markdown",
   "source": [
    "There is a significant improvement on model performance after scaling data!"
   ],
   "metadata": {
    "collapsed": false
   }
  },
  {
   "cell_type": "markdown",
   "source": [
    "### CHAPTER 3. Feature Engineering\n",
    "\n",
    "#### 3.1 Feature Engineering\n",
    "\n",
    "* It is creation of new features from existing ones\n",
    "* Advantages:\n",
    "    1. Add more information to the dataset\n",
    "    2. Improve model performance\n",
    "    3. Add more insight into relationships between features\n",
    "* You need to know your data first!\n",
    "* It is highly dataset-dependent, each dataset might require different feature engineering\n",
    "\n",
    "Scenarios of using feature engineering:\n",
    "1. text data  -> natural language processing (NLP)\n",
    "2. date and time data -> split time and data\n"
   ],
   "metadata": {
    "collapsed": false
   }
  },
  {
   "cell_type": "code",
   "execution_count": 119,
   "outputs": [
    {
     "name": "stdout",
     "output_type": "stream",
     "text": [
      "      created_date                                              title  \\\n",
      "0  January 13 2011  Volunteers Needed For Rise Up & Stay Put! Home...   \n",
      "1  January 14 2011                                       Web designer   \n",
      "2  January 19 2011      Urban Adventures - Ice Skating at Lasker Rink   \n",
      "3  January 21 2011  Fight global hunger and support women farmers ...   \n",
      "4  January 28 2011                                      Stop 'N' Swap   \n",
      "\n",
      "               category_desc  \n",
      "0                        NaN  \n",
      "1  Strengthening Communities  \n",
      "2  Strengthening Communities  \n",
      "3  Strengthening Communities  \n",
      "4                Environment  \n"
     ]
    }
   ],
   "source": [
    "# identify areas for feature engineering\n",
    "import pandas as pd\n",
    "volunteer = pd.read_csv('8_datasets/volunteer.csv')\n",
    "# check the columns you might want to perform a feature engineering task on\n",
    "# columns include 'created_date', 'title', 'category_desc'\n",
    "# these columns are text data and date and time data\n",
    "cols = ['created_date', 'title', 'category_desc']\n",
    "subset = volunteer[cols]\n",
    "print(subset.head())\n"
   ],
   "metadata": {
    "collapsed": false
   }
  },
  {
   "cell_type": "markdown",
   "source": [
    "#### 3.2 Encoding categorical variables\n",
    "\n",
    "* In models, categorical variables need to converted to numerical variables\n",
    "* Encoding scenarios:\n",
    "1. Encoding binary categorical variables\n",
    "    (1) 'pandas' method -> use *apply* and write a conditional that returns 1 and 0 respectively\n",
    "    (2) 'sklearn' method -> *LabelEncoder()* method\n",
    "2. One-hot Encoding: a list of 0s and 1s to represent multiple values that more than 2\n",
    "    (1) 'pandas' method -> *get_dummies()* method\n"
   ],
   "metadata": {
    "collapsed": false
   }
  },
  {
   "cell_type": "code",
   "execution_count": 120,
   "outputs": [
    {
     "data": {
      "image/png": "[encoded data removed]",
      "text/plain": "<IPython.core.display.Image object>"
     },
     "execution_count": 120,
     "metadata": {},
     "output_type": "execute_result"
    }
   ],
   "source": [
    "# display image\n",
    "from IPython import display\n",
    "display.Image('Images/8_one_hot_encoding.PNG')"
   ],
   "metadata": {
    "collapsed": false
   }
  },
  {
   "cell_type": "code",
   "execution_count": 121,
   "outputs": [
    {
     "name": "stdout",
     "output_type": "stream",
     "text": [
      "  Accessible  Accessible_enc\n",
      "0          Y               1\n",
      "1          N               0\n",
      "2          N               0\n",
      "3          N               0\n",
      "4          N               0\n"
     ]
    }
   ],
   "source": [
    "# encoding categorical variables - binary\n",
    "import pandas as pd\n",
    "from sklearn.preprocessing import LabelEncoder\n",
    "\n",
    "# get dataset\n",
    "hiking = pd.read_json('8_datasets/hiking.json')\n",
    "\n",
    "# encode column 'Accessible'\n",
    "enc = LabelEncoder()\n",
    "hiking['Accessible_enc'] = enc.fit_transform(hiking['Accessible'])\n",
    "\n",
    "# compare two columns\n",
    "print(hiking[['Accessible', 'Accessible_enc']].head())"
   ],
   "metadata": {
    "collapsed": false
   }
  },
  {
   "cell_type": "code",
   "execution_count": 122,
   "outputs": [
    {
     "name": "stdout",
     "output_type": "stream",
     "text": [
      "   Education  Emergency Preparedness  Environment  Health  \\\n",
      "0          0                       0            0       0   \n",
      "1          0                       0            0       0   \n",
      "2          0                       0            0       0   \n",
      "3          0                       0            0       0   \n",
      "4          0                       0            1       0   \n",
      "\n",
      "   Helping Neighbors in Need  Strengthening Communities  \n",
      "0                          0                          0  \n",
      "1                          0                          1  \n",
      "2                          0                          1  \n",
      "3                          0                          1  \n",
      "4                          0                          0  \n"
     ]
    }
   ],
   "source": [
    "# encoding categorical variables - one-hot\n",
    "# with 'get_dummies' method from 'pandas' library\n",
    "import pandas as pd\n",
    "\n",
    "# get dataset\n",
    "volunteer = pd.read_csv('8_datasets/volunteer.csv')\n",
    "\n",
    "# encode column 'category_desc'\n",
    "category_enc = pd.get_dummies(volunteer['category_desc'])\n",
    "print(category_enc.head())\n"
   ],
   "metadata": {
    "collapsed": false
   }
  },
  {
   "cell_type": "markdown",
   "source": [
    "#### 3.3 Engineering numerical features\n",
    "\n",
    "* Even numerical features need feature engineering sometimes\n",
    "* It will add more value to model's performance\n",
    "\n",
    "* Scenarios of numerical engineering:\n",
    "1. Aggregate statistics -> e.g: mean, median\n",
    "2. Dates -> e.g: extract year, month ,day"
   ],
   "metadata": {
    "collapsed": false
   }
  },
  {
   "cell_type": "code",
   "execution_count": 123,
   "outputs": [
    {
     "name": "stdout",
     "output_type": "stream",
     "text": [
      "    name  run1  run2  run3  run4  run5   mean\n",
      "0    Sue  20.1  18.5  19.6  20.3  18.3  19.36\n",
      "1   Mark  16.5  17.1  16.9  17.6  17.3  17.08\n",
      "2   Sean  23.5  25.1  25.2  24.6  23.9  24.46\n",
      "3   Erin  21.7  21.1  20.9  22.1  22.2  21.60\n",
      "4  Jenny  25.8  27.1  26.1  26.7  26.9  26.52\n"
     ]
    }
   ],
   "source": [
    "# aggregating numerical columns\n",
    "import pandas as pd\n",
    "\n",
    "# making data by hand\n",
    "name = ['Sue', 'Mark', 'Sean', 'Erin', 'Jenny', 'Russell']\n",
    "run1 = [20.1, 16.5, 23.5, 21.7, 25.8, 30.9]\n",
    "run2 = [18.5, 17.1, 25.1, 21.1, 27.1, 29.6]\n",
    "run3 = [19.6, 16.9, 25.2, 20.9, 26.1, 31.4]\n",
    "run4 = [20.3, 17.6, 24.6, 22.1, 26.7, 30.4]\n",
    "run5 = [18.3, 17.3, 23.9, 22.2, 26.9, 29.9]\n",
    "\n",
    "running_times_5k = pd.DataFrame({'name':name, 'run1':run1, 'run2':run2, 'run3':run3, 'run4':run4, 'run5':run5})\n",
    "\n",
    "# create average column\n",
    "run_columns = ['run1', 'run2','run3', 'run4', 'run5']\n",
    "running_times_5k['mean'] = running_times_5k.apply(lambda row:row[run_columns].mean(), axis=1)\n",
    "print(running_times_5k.head())"
   ],
   "metadata": {
    "collapsed": false
   }
  },
  {
   "cell_type": "code",
   "execution_count": 124,
   "outputs": [
    {
     "name": "stdout",
     "output_type": "stream",
     "text": [
      "  start_date_converted  start_date_month\n",
      "0           2011-07-30                 7\n",
      "1           2011-02-01                 2\n",
      "2           2011-01-29                 1\n",
      "3           2011-02-14                 2\n",
      "4           2011-02-05                 2\n"
     ]
    }
   ],
   "source": [
    "# extracting datetime components\n",
    "import pandas as pd\n",
    "\n",
    "# get dataset\n",
    "volunteer = pd.read_csv('8_datasets/volunteer.csv')\n",
    "\n",
    "# extract month from column 'start_date'\n",
    "volunteer['start_date_converted'] = pd.to_datetime(volunteer['start_date_date'])\n",
    "volunteer['start_date_month'] = volunteer['start_date_converted'].dt.month\n",
    "print(volunteer[['start_date_converted', 'start_date_month']].head())"
   ],
   "metadata": {
    "collapsed": false
   }
  },
  {
   "cell_type": "markdown",
   "source": [
    "#### 3.4 Engineering text features\n",
    "\n",
    "Text engineering methods:\n",
    "1. Extraction part of the information with **regular expressions** from 're' library\n",
    "2. Vectorizing text and transfer it into a numerical input **IF/IDF** (TF = Term Frequency; IDF = Inverse Document Frequency), and vectorized data can be used for **text classification**, which is based on *Bayes theorem of conditional probability*\n"
   ],
   "metadata": {
    "collapsed": false
   }
  },
  {
   "cell_type": "code",
   "execution_count": 125,
   "outputs": [
    {
     "name": "stdout",
     "output_type": "stream",
     "text": [
      "       Length  Length_num\n",
      "0   0.8 miles        0.80\n",
      "1    1.0 mile        1.00\n",
      "2  0.75 miles        0.75\n",
      "3   0.5 miles        0.50\n",
      "4   0.5 miles        0.50\n"
     ]
    }
   ],
   "source": [
    "# extracting string patterns\n",
    "import pandas as pd\n",
    "import re\n",
    "\n",
    "# get dataset\n",
    "hiking = pd.read_json('8_datasets/hiking.json')\n",
    "\n",
    "# write a pattern to extract numbers and decimals\n",
    "def return_mileage(length):\n",
    "    pattern = re.compile(r\"\\d+\\.\\d+\")\n",
    "    mile = re.match(pattern, str(length))\n",
    "\n",
    "    if mile is not None:\n",
    "        return float(mile.group(0))\n",
    "\n",
    "# apply the function to the Length column\n",
    "hiking['Length_num'] = hiking['Length'].apply(lambda row: return_mileage(row))\n",
    "print(hiking[['Length', 'Length_num']].head())"
   ],
   "metadata": {
    "collapsed": false
   }
  },
  {
   "cell_type": "code",
   "execution_count": 126,
   "outputs": [],
   "source": [
    "# vectoring text\n",
    "import pandas as pd\n",
    "from sklearn.feature_extraction.text import TfidfVectorizer\n",
    "\n",
    "# get dataset\n",
    "volunteer = pd.read_csv('8_datasets/volunteer.csv')\n",
    "\n",
    "# take the text\n",
    "title_text = volunteer['title']\n",
    "\n",
    "# create tf-idf vectors\n",
    "tfidf_vec = TfidfVectorizer()\n",
    "text_tfidf = tfidf_vec.fit_transform(title_text)\n"
   ],
   "metadata": {
    "collapsed": false
   }
  },
  {
   "cell_type": "code",
   "execution_count": 127,
   "outputs": [
    {
     "name": "stdout",
     "output_type": "stream",
     "text": [
      "opportunity_id         0\n",
      "content_id             0\n",
      "vol_requests           0\n",
      "event_time             0\n",
      "title                  0\n",
      "hits                   0\n",
      "summary                0\n",
      "category_id           48\n",
      "category_desc         48\n",
      "org_title              0\n",
      "org_content_id         0\n",
      "addresses_count        0\n",
      "region                 0\n",
      "postalcode             6\n",
      "display_url            0\n",
      "recurrence_type        0\n",
      "hours                  0\n",
      "created_date           0\n",
      "last_modified_date     0\n",
      "start_date_date        0\n",
      "end_date_date          0\n",
      "status                 0\n",
      "dtype: int64\n",
      "opportunity_id        0\n",
      "content_id            0\n",
      "vol_requests          0\n",
      "event_time            0\n",
      "title                 0\n",
      "hits                  0\n",
      "summary               0\n",
      "category_id           0\n",
      "category_desc         0\n",
      "org_title             0\n",
      "org_content_id        0\n",
      "addresses_count       0\n",
      "region                0\n",
      "postalcode            0\n",
      "display_url           0\n",
      "recurrence_type       0\n",
      "hours                 0\n",
      "created_date          0\n",
      "last_modified_date    0\n",
      "start_date_date       0\n",
      "end_date_date         0\n",
      "status                0\n",
      "dtype: int64\n"
     ]
    }
   ],
   "source": [
    "# drop missing value columns\n",
    "volunteer = volunteer.dropna(axis=1, thresh=600)\n",
    "\n",
    "# check missing values\n",
    "print(volunteer.isna().sum())\n",
    "\n",
    "# fill in these missing values in these three columns:\n",
    "volunteer['category_id'] = volunteer['category_id'].astype('object')\n",
    "volunteer['category_id'] = volunteer['category_id'].fillna('bfill')\n",
    "\n",
    "volunteer['category_desc'] = volunteer['category_desc'].astype('object')\n",
    "volunteer['category_desc'] = volunteer['category_desc'].fillna('bfill')\n",
    "\n",
    "volunteer['postalcode'] = volunteer['postalcode'].astype('object')\n",
    "volunteer['postalcode'] = volunteer['postalcode'].fillna('bfill')\n",
    "\n",
    "# check missing values again\n",
    "print(volunteer.isna().sum())"
   ],
   "metadata": {
    "collapsed": false
   }
  },
  {
   "cell_type": "code",
   "execution_count": 128,
   "outputs": [
    {
     "name": "stdout",
     "output_type": "stream",
     "text": [
      "0.4311377245508982\n"
     ]
    }
   ],
   "source": [
    "# text classification using tf/idf vectors\n",
    "# use the same dataset as above exercise\n",
    "from sklearn.model_selection import train_test_split\n",
    "from sklearn.naive_bayes import GaussianNB\n",
    "\n",
    "# split dataset\n",
    "y = volunteer['category_desc']\n",
    "X_train, X_test, y_train, y_test = train_test_split(text_tfidf.toarray(), y, stratify=y, random_state=42)\n",
    "\n",
    "# create and fit the model\n",
    "nb = GaussianNB()\n",
    "nb.fit(X_train, y_train)\n",
    "print(nb.score(X_test, y_test))"
   ],
   "metadata": {
    "collapsed": false
   }
  },
  {
   "cell_type": "markdown",
   "source": [
    "### CHAPTER 4. Selecting Features for Modeling\n",
    "\n",
    "#### 4.1 Feature Selection\n",
    "\n",
    "* It is a method of selecting features to be used for modeling\n",
    "* It does NOT create new features\n",
    "* It improves model's performance\n",
    "\n",
    "When to select features?\n",
    "1. Reducing noise\n",
    "2. Features are strongly statistically correlated\n",
    "3. Reduce overall variance"
   ],
   "metadata": {
    "collapsed": false
   }
  },
  {
   "cell_type": "code",
   "execution_count": 129,
   "outputs": [
    {
     "name": "stdout",
     "output_type": "stream",
     "text": [
      "  Prop_ID                     Name  \\\n",
      "0    B057  Salt Marsh Nature Trail   \n",
      "1    B073                Lullwater   \n",
      "2    B073                  Midwood   \n",
      "3    B073                Peninsula   \n",
      "4    B073                Waterfall   \n",
      "\n",
      "                                            Location      Park_Name  \\\n",
      "0  Enter behind the Salt Marsh Nature Center, loc...    Marine Park   \n",
      "1  Enter Park at Lincoln Road and Ocean Avenue en...  Prospect Park   \n",
      "2  Enter Park at Lincoln Road and Ocean Avenue en...  Prospect Park   \n",
      "3  Enter Park at Lincoln Road and Ocean Avenue en...  Prospect Park   \n",
      "4  Enter Park at Lincoln Road and Ocean Avenue en...  Prospect Park   \n",
      "\n",
      "       Length Difficulty                                      Other_Details  \\\n",
      "0   0.8 miles       None  <p>The first half of this mile-long trail foll...   \n",
      "1    1.0 mile       Easy  Explore the Lullwater to see how nature thrive...   \n",
      "2  0.75 miles       Easy  Step back in time with a walk through Brooklyn...   \n",
      "3   0.5 miles       Easy  Discover how the Peninsula has changed over th...   \n",
      "4   0.5 miles       Easy  Trace the source of the Lake on the Waterfall ...   \n",
      "\n",
      "  Accessible Limited_Access  lat  lon  \n",
      "0          Y              N  NaN  NaN  \n",
      "1          N              N  NaN  NaN  \n",
      "2          N              N  NaN  NaN  \n",
      "3          N              N  NaN  NaN  \n",
      "4          N              N  NaN  NaN  \n"
     ]
    }
   ],
   "source": [
    "# identifying areas for feature selection\n",
    "import pandas as pd\n",
    "\n",
    "# get dataset\n",
    "hiking = pd.read_json('8_datasets/hiking.json')\n",
    "print(hiking.head())\n",
    "\n",
    "# check possible columns that can be removed after feature selection and feature engineering"
   ],
   "metadata": {
    "collapsed": false
   }
  },
  {
   "cell_type": "markdown",
   "source": [
    "#### 4.2 Removing redundant features\n",
    "\n",
    "* Remove noisy features\n",
    "* Remove correlated features\n",
    "* Remove duplicated features\n"
   ],
   "metadata": {
    "collapsed": false
   }
  },
  {
   "cell_type": "code",
   "execution_count": 130,
   "outputs": [
    {
     "name": "stdout",
     "output_type": "stream",
     "text": [
      "   opportunity_id  content_id  event_time  \\\n",
      "0            4996       37004           0   \n",
      "1            5008       37036           0   \n",
      "2            5016       37143           0   \n",
      "3            5022       37237           0   \n",
      "4            5055       37425           0   \n",
      "\n",
      "                                               title  hits  \\\n",
      "0  Volunteers Needed For Rise Up & Stay Put! Home...   737   \n",
      "1                                       Web designer    22   \n",
      "2      Urban Adventures - Ice Skating at Lasker Rink    62   \n",
      "3  Fight global hunger and support women farmers ...    14   \n",
      "4                                      Stop 'N' Swap    31   \n",
      "\n",
      "                                             summary is_priority  category_id  \\\n",
      "0  Building on successful events last summer and ...         NaN          NaN   \n",
      "1             Build a website for an Afghan business         NaN          1.0   \n",
      "2  Please join us and the students from Mott Hall...         NaN          1.0   \n",
      "3  The Oxfam Action Corps is a group of dedicated...         NaN          1.0   \n",
      "4  Stop 'N' Swap reduces NYC's waste by finding n...         NaN          4.0   \n",
      "\n",
      "   amsl  amsl_unit  ...     end_date_date    status  Latitude  Longitude  \\\n",
      "0   NaN        NaN  ...      July 30 2011  approved       NaN        NaN   \n",
      "1   NaN        NaN  ...  February 01 2011  approved       NaN        NaN   \n",
      "2   NaN        NaN  ...   January 29 2011  approved       NaN        NaN   \n",
      "3   NaN        NaN  ...     March 31 2012  approved       NaN        NaN   \n",
      "4   NaN        NaN  ...  February 05 2011  approved       NaN        NaN   \n",
      "\n",
      "   Community Board Community Council  Census Tract  BIN BBL NTA  \n",
      "0              NaN                NaN          NaN  NaN NaN NaN  \n",
      "1              NaN                NaN          NaN  NaN NaN NaN  \n",
      "2              NaN                NaN          NaN  NaN NaN NaN  \n",
      "3              NaN                NaN          NaN  NaN NaN NaN  \n",
      "4              NaN                NaN          NaN  NaN NaN NaN  \n",
      "\n",
      "[5 rows x 30 columns]\n"
     ]
    }
   ],
   "source": [
    "# selecting relevant features\n",
    "import pandas as pd\n",
    "\n",
    "# get dataset\n",
    "volunteer = pd.read_csv('8_datasets/volunteer.csv')\n",
    "\n",
    "# create redundant columns to drop\n",
    "to_drop = ['locality', 'region', 'category_desc', 'vol_requests', 'created_date']\n",
    "volunteer_subset = volunteer.drop(to_drop, axis=1)\n",
    "print(volunteer_subset.head())"
   ],
   "metadata": {
    "collapsed": false
   }
  },
  {
   "cell_type": "code",
   "execution_count": 131,
   "outputs": [
    {
     "name": "stdout",
     "output_type": "stream",
     "text": [
      "                                  Type   Alcohol  Malic acid       Ash  \\\n",
      "Type                          1.000000 -0.328222    0.437776 -0.049643   \n",
      "Alcohol                      -0.328222  1.000000    0.094397  0.211545   \n",
      "Malic acid                    0.437776  0.094397    1.000000  0.164045   \n",
      "Ash                          -0.049643  0.211545    0.164045  1.000000   \n",
      "Alcalinity of ash             0.517859 -0.310235    0.288500  0.443367   \n",
      "Magnesium                    -0.209179  0.270798   -0.054575  0.286587   \n",
      "Total phenols                -0.719163  0.289101   -0.335167  0.128980   \n",
      "Flavanoids                   -0.847498  0.236815   -0.411007  0.115077   \n",
      "Nonflavanoid phenols          0.489109 -0.155929    0.292977  0.186230   \n",
      "Proanthocyanins              -0.499130  0.136698   -0.220746  0.009652   \n",
      "Color intensity               0.265668  0.546364    0.248985  0.258887   \n",
      "Hue                          -0.617369 -0.071747   -0.561296 -0.074667   \n",
      "OD280/OD315 of diluted wines -0.788230  0.072343   -0.368710  0.003911   \n",
      "Proline                      -0.633717  0.643720   -0.192011  0.223626   \n",
      "\n",
      "                              Alcalinity of ash  Magnesium  Total phenols  \\\n",
      "Type                                   0.517859  -0.209179      -0.719163   \n",
      "Alcohol                               -0.310235   0.270798       0.289101   \n",
      "Malic acid                             0.288500  -0.054575      -0.335167   \n",
      "Ash                                    0.443367   0.286587       0.128980   \n",
      "Alcalinity of ash                      1.000000  -0.083333      -0.321113   \n",
      "Magnesium                             -0.083333   1.000000       0.214401   \n",
      "Total phenols                         -0.321113   0.214401       1.000000   \n",
      "Flavanoids                            -0.351370   0.195784       0.864564   \n",
      "Nonflavanoid phenols                   0.361922  -0.256294      -0.449935   \n",
      "Proanthocyanins                       -0.197327   0.236441       0.612413   \n",
      "Color intensity                        0.018732   0.199950      -0.055136   \n",
      "Hue                                   -0.273955   0.055398       0.433681   \n",
      "OD280/OD315 of diluted wines          -0.276769   0.066004       0.699949   \n",
      "Proline                               -0.440597   0.393351       0.498115   \n",
      "\n",
      "                              Flavanoids  Nonflavanoid phenols  \\\n",
      "Type                           -0.847498              0.489109   \n",
      "Alcohol                         0.236815             -0.155929   \n",
      "Malic acid                     -0.411007              0.292977   \n",
      "Ash                             0.115077              0.186230   \n",
      "Alcalinity of ash              -0.351370              0.361922   \n",
      "Magnesium                       0.195784             -0.256294   \n",
      "Total phenols                   0.864564             -0.449935   \n",
      "Flavanoids                      1.000000             -0.537900   \n",
      "Nonflavanoid phenols           -0.537900              1.000000   \n",
      "Proanthocyanins                 0.652692             -0.365845   \n",
      "Color intensity                -0.172379              0.139057   \n",
      "Hue                             0.543479             -0.262640   \n",
      "OD280/OD315 of diluted wines    0.787194             -0.503270   \n",
      "Proline                         0.494193             -0.311385   \n",
      "\n",
      "                              Proanthocyanins  Color intensity       Hue  \\\n",
      "Type                                -0.499130         0.265668 -0.617369   \n",
      "Alcohol                              0.136698         0.546364 -0.071747   \n",
      "Malic acid                          -0.220746         0.248985 -0.561296   \n",
      "Ash                                  0.009652         0.258887 -0.074667   \n",
      "Alcalinity of ash                   -0.197327         0.018732 -0.273955   \n",
      "Magnesium                            0.236441         0.199950  0.055398   \n",
      "Total phenols                        0.612413        -0.055136  0.433681   \n",
      "Flavanoids                           0.652692        -0.172379  0.543479   \n",
      "Nonflavanoid phenols                -0.365845         0.139057 -0.262640   \n",
      "Proanthocyanins                      1.000000        -0.025250  0.295544   \n",
      "Color intensity                     -0.025250         1.000000 -0.521813   \n",
      "Hue                                  0.295544        -0.521813  1.000000   \n",
      "OD280/OD315 of diluted wines         0.519067        -0.428815  0.565468   \n",
      "Proline                              0.330417         0.316100  0.236183   \n",
      "\n",
      "                              OD280/OD315 of diluted wines   Proline  \n",
      "Type                                             -0.788230 -0.633717  \n",
      "Alcohol                                           0.072343  0.643720  \n",
      "Malic acid                                       -0.368710 -0.192011  \n",
      "Ash                                               0.003911  0.223626  \n",
      "Alcalinity of ash                                -0.276769 -0.440597  \n",
      "Magnesium                                         0.066004  0.393351  \n",
      "Total phenols                                     0.699949  0.498115  \n",
      "Flavanoids                                        0.787194  0.494193  \n",
      "Nonflavanoid phenols                             -0.503270 -0.311385  \n",
      "Proanthocyanins                                   0.519067  0.330417  \n",
      "Color intensity                                  -0.428815  0.316100  \n",
      "Hue                                               0.565468  0.236183  \n",
      "OD280/OD315 of diluted wines                      1.000000  0.312761  \n",
      "Proline                                           0.312761  1.000000  \n"
     ]
    }
   ],
   "source": [
    "# checking for correlated features\n",
    "import pandas as pd\n",
    "\n",
    "wine = pd.read_csv('8_datasets/wine.csv')\n",
    "\n",
    "# get correlation matrix\n",
    "print(wine.corr())\n",
    "\n",
    "# pick the column to drop\n",
    "to_drop = \"Flavanoids\"\n",
    "wine = wine.drop(to_drop, axis=1)\n"
   ],
   "metadata": {
    "collapsed": false
   }
  },
  {
   "cell_type": "markdown",
   "source": [
    "#### 4.3 Selecting features using text vectors\n",
    "\n",
    "* We DO NOT need the entire TF-IDF vector to train a model\n",
    "* We need iteration to test different subsets of the TF-IDF vector to see what works\n",
    "* We need to check the word **vocabulary** and **weights** in the vectorizer in 'sklearn' library"
   ],
   "metadata": {
    "collapsed": false
   }
  },
  {
   "cell_type": "code",
   "execution_count": 132,
   "outputs": [],
   "source": [
    "# exploring text vectors (PART I)\n",
    "import pandas as pd\n",
    "from sklearn.feature_extraction.text import TfidfVectorizer\n",
    "\n",
    "# get dataset\n",
    "volunteer = pd.read_csv('8_datasets/volunteer.csv')\n",
    "\n",
    "# get tf/idf vector from 'title' column\n",
    "tfidf_vec = TfidfVectorizer()\n",
    "text_tfidf = tfidf_vec.fit_transform(volunteer['title'])\n",
    "\n",
    "# vocab = {v:k for k,v in tfidf_vec.vocabulary_.items()}\n",
    "# zipped_row = dict(zip(text_tfidf[3].indices, text_tfidf[3].data))"
   ],
   "metadata": {
    "collapsed": false
   }
  },
  {
   "cell_type": "code",
   "execution_count": 133,
   "outputs": [],
   "source": [
    "# create pre-defined vocab\n",
    "vocab = {1048: 'web', 278: 'designer', 1017: 'urban', 38: 'adventures', 490: 'ice', 890: 'skating', 90: 'at', 559: 'lasker', 832: 'rink', 368: 'fight', 423: 'global', 487: 'hunger', 68: 'and', 944: 'support', 1061: 'women', 356: 'farmers', 535: 'join', 969: 'the', 708: 'oxfam', 27: 'action', 240: 'corps', 498: 'in', 680: 'nyc', 922: 'stop', 947: 'swap', 790: 'queens', 911: 'staff', 281: 'development', 992: 'trainer', 200: 'claro', 145: 'brooklyn', 1037: 'volunteer', 93: 'attorney', 221: 'community', 455: 'health', 43: 'advocates', 942: 'supervise', 189: 'children', 466: 'highland', 717: 'park', 409: 'garden', 1071: 'worldofmoney', 696: 'org', 1085: 'youth', 60: 'amazing', 791: 'race', 789: 'qualified', 133: 'board', 620: 'member', 860: 'seats', 98: 'available', 1083: 'young', 33: 'adult', 1006: 'tutor', 1016: 'updated', 11: '30', 0: '11', 513: 'insurance', 199: 'claims', 600: 'manager', 979: 'timebanksnyc', 432: 'great', 340: 'exchange', 205: 'clean', 1015: 'up', 81: 'asbury', 171: 'cementary', 918: 'staten', 524: 'island', 869: 'senior', 194: 'citizen', 392: 'friendly', 1033: 'visitor', 881: 'shop', 1000: 'tree', 161: 'care', 1068: 'workshop', 4: '20', 646: 'movie', 856: 'screener', 380: 'for', 870: 'seniors', 355: 'farm', 430: 'graphic', 691: 'open', 480: 'house', 416: 'get', 984: 'tools', 980: 'to', 806: 'recycling', 1039: 'volunteers', 660: 'needed', 353: 'family', 336: 'event', 207: 'clerical', 158: 'cancer', 1041: 'walk', 120: 'befitnyc', 739: 'physical', 30: 'activity', 700: 'organizers', 269: 'decision', 266: 'day', 5: '2011', 661: 'needs', 1084: 'your', 459: 'help', 405: 'gain', 1021: 'valuable', 245: 'counseling', 344: 'experience', 687: 'on', 845: 'samaritans', 9: '24', 479: 'hour', 255: 'crisis', 478: 'hotline', 457: 'heart', 407: 'gallery', 703: 'our', 503: 'info', 949: 'table', 373: 'finding', 471: 'homes', 542: 'kids', 1077: 'yiddish', 903: 'speaking', 472: 'homework', 460: 'helper', 892: 'skilled', 800: 'rebuilding', 982: 'together', 468: 'home', 818: 'repairs', 438: 'greenteam', 40: 'advetures', 940: 'summer', 931: 'streets', 1005: 'tuesday', 335: 'evenings', 1060: 'with', 612: 'masa', 594: 'lunch', 770: 'program', 1018: 'us', 706: 'outreach', 618: 'meals', 760: 'preparedness', 222: 'compost', 773: 'project', 613: 'master', 223: 'composter', 178: 'certificate', 249: 'course', 318: 'emblemhealth', 144: 'bronx', 683: 'of', 873: 'service', 531: 'jcc', 601: 'manhattan', 418: 'girl', 855: 'scout', 872: 'series', 296: 'dorot', 838: 'rosh', 452: 'hashanah', 709: 'package', 274: 'delivery', 713: 'painting', 511: 'instructor', 530: 'jasa', 464: 'hes', 172: 'center', 12: '3rd', 70: 'annual', 377: 'flyny', 548: 'kite', 366: 'festival', 983: 'tomorrow', 151: 'business', 566: 'leaders', 955: 'teach', 110: 'basics', 465: 'high', 852: 'schoolers', 410: 'gardening', 397: 'ft', 1004: 'tryon', 910: 'st', 610: 'martin', 748: 'poetry', 668: 'new', 1079: 'york', 216: 'college', 424: 'goal', 941: 'sunday', 361: 'february', 6: '2012', 262: 'dance', 8: '22nd', 560: 'latino', 604: 'march', 2: '17', 1013: 'university', 848: 'saturday', 1008: 'tutors', 744: 'planet', 485: 'human', 602: 'mapping', 420: 'give', 1050: 'week', 186: 'child', 569: 'learn', 796: 'read', 926: 'storytelling', 243: 'costume', 597: 'making', 912: 'stage', 277: 'design', 319: 'emergency', 351: 'fair', 17: '9th', 1053: 'west', 887: 'side', 248: 'county', 676: 'nutrition', 314: 'educator', 879: 'shape', 306: 'east', 13: '54st', 801: 'rec', 1046: 'water', 45: 'aerobics', 83: 'asser', 573: 'levy', 712: 'paint', 57: 'alongside', 783: 'publicolor', 936: 'students', 536: 'jumpstart', 797: 'readers', 564: 'lead', 252: 'crafts', 408: 'games', 348: 'face', 751: 'popcorn', 527: 'jackie', 835: 'robinson', 716: 'parent', 375: 'fitness', 916: 'starrett', 197: 'city', 585: 'line', 263: 'dancer', 615: 'math', 587: 'literacy', 114: 'be', 209: 'climb', 985: 'top', 608: 'marketing', 86: 'assistant', 313: 'education', 673: 'nonprofit', 867: 'seeks', 805: 'recruitment', 626: 'mentors', 810: 'register', 92: 'attend', 142: 'breakfast', 701: 'orientation', 529: 'january', 272: 'deliver', 1058: 'winter', 1031: 'visit', 65: 'an', 525: 'isolated', 342: 'exercise', 213: 'coach', 670: 'night', 115: 'beach', 180: 'change', 77: 'art', 772: 'programs', 229: 'consumer', 779: 'protection', 562: 'law', 589: 'liver', 579: 'life', 565: 'leader', 901: 'soup', 547: 'kitchen', 307: 'eastern', 534: 'john', 650: 'muir', 930: 'street', 1024: 'vendor', 641: 'monthly', 959: 'team', 367: 'fiesta', 977: 'throgs', 658: 'neck', 224: 'computer', 956: 'teacher', 567: 'leadership', 244: 'council', 693: 'opportunity', 231: 'conversation', 461: 'helpers', 427: 'grades', 714: 'pantry', 288: 'distribution', 305: 'earth', 960: 'tech', 1049: 'website', 692: 'opportunities', 175: 'cents', 19: 'ability', 203: 'classroom', 877: 'set', 146: 'brush', 545: 'kindness', 999: 'transportation', 58: 'alternatives', 129: 'bike', 1020: 'valet', 1026: 'video', 311: 'editing', 767: 'professionals', 921: 'stipend', 49: 'after', 851: 'school', 624: 'mentor', 666: 'networking', 138: 'bowling', 398: 'fun', 449: 'harlem', 555: 'lanes', 866: 'seeking', 1078: 'yoga', 902: 'spanish', 695: 'or', 389: 'french', 362: 'feed', 488: 'hungry', 1080: 'yorkers', 14: '55', 690: 'only', 735: 'phone', 106: 'bank', 819: 'representative', 795: 'reach', 704: 'out', 643: 'morris', 458: 'heights', 904: 'special', 155: 'camp', 946: 'susan', 551: 'komen', 259: 'cure', 433: 'greater', 47: 'affiliate', 303: 'dumbo', 79: 'arts', 698: 'organizational', 148: 'budget', 639: 'money', 596: 'makes', 871: 'sense', 994: 'training', 889: 'site', 1027: 'videographer', 376: 'fly', 152: 'by', 970: 'theater', 429: 'grant', 1074: 'writer', 745: 'planning', 778: 'proposal', 759: 'preparation', 399: 'fund', 793: 'raising', 450: 'harm', 808: 'reduction', 35: 'adv', 515: 'intern', 875: 'serving', 575: 'lgbt', 34: 'adults', 482: 'how', 830: 'ride', 130: 'bikes', 821: 'research', 401: 'fundraising', 280: 'developement', 233: 'cook', 840: 'row', 50: 'afterschool', 630: 'middle', 885: 'shower', 400: 'fundraisers', 526: 'it', 519: 'interpreters', 563: 'lawyers', 446: 'haitian', 18: 'abe', 757: 'pre', 412: 'ged', 640: 'monitor', 89: 'astoria', 634: 'million', 1001: 'trees', 421: 'giveaway', 290: 'do', 1081: 'you', 1044: 'want', 595: 'make', 283: 'difference', 204: 'classwish', 896: 'snow', 883: 'shoveling', 196: 'citizenship', 761: 'press', 586: 'list', 781: 'public', 813: 'relations', 743: 'plan', 829: 'review', 394: 'friendship', 753: 'positive', 121: 'beginnings', 546: 'kit', 611: 'mary', 803: 'recreation', 291: 'does', 697: 'organization', 659: 'need', 858: 'search', 928: 'strategy', 332: 'esl', 46: 'affected', 924: 'storm', 995: 'transform', 590: 'lives', 933: 'strengthen', 220: 'communities', 119: 'become', 302: 'driver', 1025: 'veterans', 191: 'chinese', 997: 'translator', 512: 'instructors', 653: 'museum', 621: 'membership', 275: 'department', 284: 'director', 117: 'beautify', 996: 'transitional', 822: 'residence', 470: 'homeless', 623: 'men', 953: 'tank', 517: 'internship', 774: 'projects', 841: 'run', 1056: 'wild', 139: 'boys', 475: 'hope', 419: 'girls', 219: 'communications', 792: 'raise', 100: 'awareness', 31: 'administrative', 56: 'alliance', 811: 'registrar', 647: 'ms', 1062: 'word', 162: 'career', 246: 'counselor', 722: 'passover', 304: 'early', 188: 'childhood', 149: 'build', 747: 'plastic', 137: 'bottle', 857: 'sculpture', 763: 'pride', 523: 'is', 538: 'just', 76: 'around', 238: 'corner', 520: 'involved', 675: 'now', 390: 'fresh', 53: 'air', 957: 'teachers', 372: 'find', 729: 'perfect', 533: 'job', 684: 'office', 1075: 'writing', 264: 'data', 326: 'entry', 29: 'activism', 738: 'photography', 843: 'salesforce', 265: 'database', 261: 'customization', 736: 'photo', 333: 'essay', 572: 'legal', 42: 'advisor', 467: 'hike', 974: 'thon', 236: 'coordinator', 558: 'laser', 950: 'tag', 298: 'dowling', 3: '175th', 505: 'information', 962: 'technology', 352: 'fall', 382: 'forest', 826: 'restoration', 541: 'kickoff', 1002: 'trevor', 582: 'lifeline', 247: 'counselors', 973: 'thomas', 532: 'jefferson', 614: 'materials', 1076: 'year', 386: 'founder', 341: 'executive', 453: 'haunted', 557: 'lantern', 989: 'tours', 383: 'fort', 986: 'totten', 657: 'national', 878: 'sexual', 82: 'assault', 689: 'online', 993: 'trainers', 48: 'african', 63: 'american', 210: 'clothing', 301: 'drive', 828: 'returning', 865: 'seeds', 939: 'success', 746: 'plant', 981: 'today', 443: 'growth', 1009: 'udec', 328: 'enviromedia', 636: 'mobile', 606: 'maritime', 102: 'bacchanal', 742: 'pirates', 365: 'fest', 492: 'ikea', 329: 'erie', 111: 'basin', 282: 'diabetes', 88: 'association', 364: 'feria', 267: 'de', 844: 'salud', 664: 'nepali', 105: 'bangla', 784: 'punjabi', 998: 'translators', 674: 'not', 769: 'profit', 741: 'pioneer', 159: 'capoeira', 1023: 'various', 752: 'positions', 287: 'dispatcher', 991: 'trainee', 506: 'ing', 603: 'marathon', 388: 'free', 593: 'love', 135: 'books', 268: 'dear', 96: 'authors', 52: 'aide', 850: 'scheuer', 627: 'merchandise', 293: 'donate', 943: 'supplies', 360: 'feast', 406: 'gala', 112: 'battery', 833: 'rise', 919: 'stay', 787: 'put', 820: 'rescue', 897: 'soccer', 402: 'futsal', 730: 'performing', 36: 'advanced', 202: 'classes', 1070: 'world', 854: 'science', 1054: 'western', 64: 'americorps', 25: 'aces', 310: 'economic', 864: 'security', 507: 'initiative', 331: 'esi', 633: 'mill', 173: 'centers', 631: 'midtown', 1088: 'zumba', 1030: 'vision', 635: 'mission', 66: 'analysis', 552: 'lab', 958: 'teaching', 84: 'assist', 827: 'resume', 150: 'building', 899: 'society', 214: 'coaches', 1040: 'vs', 218: 'committee', 842: 'russian', 385: 'foster', 170: 'celebration', 616: 'may', 7: '21th', 688: 'one', 711: 'pager', 294: 'donation', 489: 'hurricane', 521: 'irene', 354: 'far', 836: 'rockaway', 325: 'enjoy', 1066: 'working', 686: 'olympics', 988: 'tournament', 798: 'reading', 719: 'partners', 234: 'cooper', 909: 'square', 975: 'thrift', 908: 'spring', 166: 'case', 599: 'management', 404: 'fvcp', 990: 'trail', 254: 'crew', 447: 'halloween', 165: 'carnival', 1042: 'walkathon', 359: 'feasibility', 67: 'analyst', 749: 'police', 868: 'seminar', 1064: 'work', 1035: 'visually', 496: 'impaired', 964: 'teens', 972: 'this', 322: 'energy', 315: 'efficiency', 321: 'end', 859: 'season', 156: 'campaign', 123: 'benefits', 802: 'reception', 300: 'drill', 237: 'copywriting', 235: 'coord', 454: 'have', 725: 'penchant', 55: 'all', 971: 'things', 1028: 'vintage', 976: 'thriftshop', 718: 'partner', 726: 'pencil', 720: 'partnership', 710: 'packing', 16: '8th', 907: 'sports', 346: 'expo', 164: 'cares', 184: 'cheerleaders', 1045: 'wanted', 445: 'habitat', 371: 'finance', 215: 'coffee', 324: 'english', 755: 'practice', 570: 'learners', 456: 'healthy', 28: 'active', 978: 'time', 122: 'benefit', 73: 'april', 357: 'fashion', 929: 'strawberry', 87: 'assistants', 174: 'central', 1087: 'zoo', 1: '125th', 127: 'bideawee', 440: 'greeters', 592: 'looking', 799: 'real', 495: 'impact', 504: 'inform', 728: 'people', 756: 'practices', 580: 'lifebeat', 413: 'general', 932: 'streetsquash', 286: 'discovery', 874: 'services', 663: 'neighborhood', 768: 'profiles', 951: 'take', 915: 'stand', 51: 'against', 1029: 'violence', 345: 'expert', 41: 'advice', 537: 'june', 849: 'schedule', 258: 'crowdfunding', 727: 'penny', 451: 'harvest', 434: 'green', 185: 'chefs', 677: 'nutritionists', 379: 'foodies', 625: 'mentoring', 136: 'boom', 669: 'newsletter', 217: 'come', 934: 'strides', 1043: 'walks', 187: 'childcare', 898: 'social', 619: 'media', 422: 'giving', 157: 'can', 61: 'ambassador', 10: '2nd', 967: 'thanksgiving', 363: 'feeding', 662: 'needy', 782: 'publicity', 723: 'patient', 163: 'caregiver', 1032: 'visiting', 469: 'homebound', 358: 'fc', 679: 'nyawc', 384: 'forum', 21: 'about', 1038: 'volunteering', 809: 'refreshments', 847: 'sara', 837: 'roosevelt', 206: 'cleanup', 116: 'beautification', 337: 'events', 69: 'animal', 484: 'hudson', 834: 'river', 605: 'mariners', 825: 'response', 343: 'exhibit', 20: 'aboard', 584: 'lilac', 208: 'client', 1052: 'welcome', 279: 'desk', 685: 'older', 574: 'lexington', 251: 'craft', 750: 'poll', 1065: 'workers', 518: 'interperters', 24: 'accounting', 85: 'assistance', 477: 'hosting', 776: 'promotion', 1011: 'unicef', 954: 'tap', 814: 'release', 270: 'dedication', 771: 'programming', 500: 'incarnation', 295: 'donor', 544: 'kieran', 906: 'sponsorship', 1069: 'workshops', 118: 'because', 338: 'every', 276: 'deserves', 179: 'chance', 740: 'pin', 273: 'delivered', 886: 'shred', 15: '5th', 99: 'avenue', 169: 'cdsc', 917: 'starving', 78: 'artist', 884: 'show', 948: 'system', 396: 'front', 880: 'share', 553: 'lanch', 935: 'student', 463: 'hemophilia', 577: 'liason', 629: 'methodist', 476: 'hospital', 113: 'bay', 831: 'ridge', 124: 'benonhurst', 75: 'area', 900: 'sought', 97: 'autistic', 297: 'douglaston', 788: 'qns', 812: 'registration', 32: 'administrator', 153: 'call', 426: 'governor', 804: 'recruiter', 786: 'purim', 327: 'envelope', 938: 'stuffing', 528: 'jam', 462: 'helpline', 923: 'store', 374: 'first', 415: 'generation', 1022: 'van', 241: 'cortlandt', 816: 'remembrance', 945: 'survey', 823: 'resonations', 143: 'breast', 323: 'engine', 694: 'optimization', 622: 'memorial', 894: 'sloan', 540: 'kettering', 435: 'greenhouse', 436: 'greening', 227: 'concert', 334: 'evacuation', 824: 'resources', 417: 'gift', 126: 'bicycling', 656: 'my', 393: 'friends', 473: 'honor', 1051: 'weekend', 731: 'person', 651: 'mural', 312: 'editor', 732: 'personal', 882: 'shopper', 764: 'pro', 134: 'bono', 253: 'create', 160: 'cards', 920: 'step', 672: 'non', 780: 'provider', 516: 'interns', 645: 'motion', 431: 'graphics', 125: 'best', 147: 'buddies', 502: 'inern', 103: 'back', 588: 'little', 242: 'cosmetologist', 107: 'barber', 1036: 'vocational', 72: 'apartment', 439: 'greeter', 766: 'professional', 1019: 'use', 893: 'skills', 702: 'others', 369: 'figure', 257: 'croton', 190: 'chinatown', 193: 'ci', 758: 'prep', 239: 'corporate', 1063: 'wordpress', 132: 'blog', 510: 'instructer', 807: 'red', 474: 'hook', 289: 'divert', 966: 'textiles', 395: 'from', 554: 'landfill', 437: 'greenmarket', 965: 'textile', 154: 'calling', 195: 'citizens', 497: 'improve', 26: 'achievement', 721: 'passion', 481: 'housing', 1067: 'works', 499: 'inc', 441: 'group', 299: 'drama', 561: 'laundromats', 320: 'employment', 927: 'strategic', 667: 'never', 104: 'bad', 391: 'friend', 403: 'future', 201: 'class', 1059: 'wish', 387: 'fpcj', 1072: 'worship', 1010: 'undergraduate', 428: 'graduate', 228: 'conference', 1047: 'we', 775: 'promote', 550: 'knowledge', 715: 'parade', 74: 'archivist', 425: 'google', 44: 'adwords', 493: 'imentor', 642: 'more', 598: 'male', 632: 'miles', 637: 'moms', 183: 'charity', 176: 'century', 987: 'tour', 198: 'civil', 724: 'patrol', 62: 'america', 539: 'kept', 862: 'secret', 648: 'ms131', 549: 'knitter', 256: 'crochet', 131: 'blankets', 177: 'ceo', 591: 'logo', 1012: 'unique', 1057: 'will', 128: 'big', 37: 'adventure', 23: 'accountant', 876: 'session', 888: 'single', 644: 'mothers', 192: 'choice', 895: 'smc', 1055: 'wii', 705: 'outdoor', 671: 'nights', 607: 'market', 514: 'intake', 638: 'monday', 141: 'branding', 140: 'brand', 491: 'identity', 649: 'mt', 1086: 'zion', 543: 'kidz', 817: 'reorganize', 578: 'library', 378: 'food', 91: 'athletic', 568: 'league', 655: 'musician', 59: 'alzheimer', 654: 'music', 109: 'bash', 765: 'proctor', 952: 'taking', 339: 'exams', 777: 'promotional', 733: 'personnel', 95: 'august', 891: 'skill', 665: 'networker', 309: 'ecological', 785: 'puppet', 501: 'income', 414: 'generating', 699: 'organizations', 250: 'cpr', 576: 'lgbtq', 317: 'el', 652: 'museo', 271: 'del', 108: 'barrio', 628: 'met', 330: 'escort', 846: 'sand', 167: 'castle', 230: 'contest', 853: 'schools', 486: 'humanities', 80: 'as', 861: 'second', 556: 'language', 101: 'babies', 963: 'teen', 54: 'al', 682: 'oerter', 483: 'html', 260: 'curriculum', 737: 'photographer', 863: 'secretary', 754: 'pr', 1073: 'would', 583: 'like', 225: 'computers', 961: 'technical', 442: 'grownyc', 968: 'that', 347: 'extraordinary', 381: 'foreclosure', 762: 'prevention', 681: 'nylag', 678: 'ny', 226: 'concern', 509: 'inspire', 22: 'academic', 1007: 'tutoring', 794: 'rbi', 71: 'anyone', 211: 'cma', 212: 'cms', 232: 'conversion', 308: 'eating', 571: 'learning', 181: 'chaperones', 1034: 'visits', 411: 'gear', 1014: 'unlimited', 581: 'lifeguard', 350: 'facilitators', 1003: 'troop', 839: 'route', 609: 'marshall', 508: 'inmotion', 925: 'story', 913: 'stair', 292: 'domestic', 168: 'catskills', 815: 'relief', 316: 'effort', 94: 'audience', 734: 'pharmacy', 444: 'guide', 707: 'overnight', 494: 'immediate', 285: 'dirty', 448: 'hands', 349: 'facilitator', 905: 'specialist', 182: 'chapter', 914: 'stamps', 522: 'iridescent', 937: 'studio', 39: 'advertising', 370: 'filmmakers', 617: 'mayor', 1082: 'youcantoo'}\n"
   ],
   "metadata": {
    "collapsed": false
   }
  },
  {
   "cell_type": "code",
   "execution_count": 134,
   "outputs": [
    {
     "name": "stdout",
     "output_type": "stream",
     "text": [
      "[27, 203, 596]\n"
     ]
    }
   ],
   "source": [
    "# create a function to return top weighted words\n",
    "def return_weights(vocab, original_vocab, vector, vector_index, top_n):\n",
    "    zipped = dict(zip(vector[vector_index].indices, vector[vector_index].data))\n",
    "    # transform into series\n",
    "    zipped_series = pd.Series({vocab[i]:zipped[i] for i in vector[vector_index].indices})\n",
    "    # sort series\n",
    "    zipped_index = zipped_series.sort_values(ascending=False)[:top_n].index\n",
    "    return [original_vocab[i] for i in zipped_index]\n",
    "\n",
    "# call function\n",
    "weighted_words = return_weights(vocab, tfidf_vec.vocabulary_, text_tfidf, 8, 3)\n",
    "print(weighted_words)"
   ],
   "metadata": {
    "collapsed": false
   }
  },
  {
   "cell_type": "code",
   "execution_count": 135,
   "outputs": [],
   "source": [
    "# exploring text vectors (PART II)\n",
    "\n",
    "# create function to filter words\n",
    "# def words_to_filter(vocab, original_vocab, vector, top_n):\n",
    "#     filter_list = []\n",
    "#     for i in range(0, vector.shape[0]):\n",
    "#         # call previous function\n",
    "#         filtered = return_weights(vocab, original_vocab, vector, i, top_n)\n",
    "#         filter_list.extend(filtered)\n",
    "#         return set(filter_list)\n",
    "#\n",
    "# # call function\n",
    "# filtered_words = words_to_filter(vocab, tfidf_vec.vocabulary_, text_tfidf, 3)\n",
    "#\n",
    "# # converting back to list\n",
    "# filtered_text = text_tfidf[:, list(filtered_words)]\n",
    "# print(filtered_text)"
   ],
   "metadata": {
    "collapsed": false
   }
  },
  {
   "cell_type": "code",
   "execution_count": 136,
   "outputs": [
    {
     "name": "stdout",
     "output_type": "stream",
     "text": [
      "opportunity_id         0\n",
      "content_id             0\n",
      "vol_requests           0\n",
      "event_time             0\n",
      "title                  0\n",
      "hits                   0\n",
      "summary                0\n",
      "category_id           48\n",
      "category_desc         48\n",
      "org_title              0\n",
      "org_content_id         0\n",
      "addresses_count        0\n",
      "region                 0\n",
      "postalcode             6\n",
      "display_url            0\n",
      "recurrence_type        0\n",
      "hours                  0\n",
      "created_date           0\n",
      "last_modified_date     0\n",
      "start_date_date        0\n",
      "end_date_date          0\n",
      "status                 0\n",
      "dtype: int64\n",
      "0.4311377245508982\n"
     ]
    }
   ],
   "source": [
    "# training Naive Bayes with feature selection\n",
    "import pandas as pd\n",
    "from sklearn.naive_bayes import GaussianNB\n",
    "from sklearn.feature_extraction.text import TfidfVectorizer\n",
    "from sklearn.model_selection import train_test_split\n",
    "\n",
    "# get dataset\n",
    "volunteer = pd.read_csv('8_datasets/volunteer.csv')\n",
    "\n",
    "# drop missing value columns\n",
    "volunteer = volunteer.dropna(axis=1, thresh=600)\n",
    "\n",
    "# check missing values\n",
    "print(volunteer.isna().sum())\n",
    "\n",
    "# fill in these missing values in these three columns:\n",
    "volunteer['category_id'] = volunteer['category_id'].astype('object')\n",
    "volunteer['category_id'] = volunteer['category_id'].fillna('bfill')\n",
    "\n",
    "volunteer['category_desc'] = volunteer['category_desc'].astype('object')\n",
    "volunteer['category_desc'] = volunteer['category_desc'].fillna('bfill')\n",
    "\n",
    "volunteer['postalcode'] = volunteer['postalcode'].astype('object')\n",
    "volunteer['postalcode'] = volunteer['postalcode'].fillna('bfill')\n",
    "\n",
    "# take the text\n",
    "title_text = volunteer['title']\n",
    "\n",
    "# create tf-idf vectors\n",
    "tfidf_vec = TfidfVectorizer()\n",
    "text_tfidf = tfidf_vec.fit_transform(title_text)\n",
    "\n",
    "# split data\n",
    "y = volunteer['category_desc']\n",
    "# X_train, X_test, y_train, y_test = train_test_split(filtered_text.toarray(), y, stratify=y, random_state=42)\n",
    "X_train, X_test, y_train, y_test = train_test_split(text_tfidf.toarray(), y, stratify=y, random_state=42)\n",
    "\n",
    "# create model\n",
    "nb = GaussianNB()\n",
    "nb.fit(X_train, y_train)\n",
    "print(nb.score(X_test, y_test))"
   ],
   "metadata": {
    "collapsed": false
   }
  },
  {
   "cell_type": "markdown",
   "source": [
    "#### 4.4 Dimensionality reduction\n",
    "\n",
    "* Dimensionality reduction is a method of *unsupervised learning*\n",
    "* It combines/decomposes of feature space\n",
    "* The most common approach: **Principal Component Analysis (PCA)**\n",
    "\n",
    "PCA:\n",
    "* It is a linear transformation to project features into a space where they are completely uncorrelated\n",
    "* It also captures as much variance as possible in each component\n",
    "* However, it is difficult to interpret components (black box method)\n",
    "* It is a good step at the end of preprocessing journey"
   ],
   "metadata": {
    "collapsed": false
   }
  },
  {
   "cell_type": "code",
   "execution_count": 4,
   "outputs": [
    {
     "name": "stdout",
     "output_type": "stream",
     "text": [
      "[9.97795009e-01 2.02071827e-03 9.88350594e-05 5.66222566e-05\n",
      " 1.26161135e-05 8.93235789e-06 3.13856866e-06 1.57406401e-06\n",
      " 1.15918860e-06 7.49332354e-07 3.70332305e-07 1.94185373e-07\n",
      " 8.08440051e-08]\n"
     ]
    }
   ],
   "source": [
    "# using PCA\n",
    "from sklearn.decomposition import PCA\n",
    "import pandas as pd\n",
    "from sklearn.model_selection import train_test_split\n",
    "\n",
    "# get data\n",
    "wine = pd.read_csv('8_datasets/wine.csv')\n",
    "\n",
    "# split data\n",
    "X = wine.drop('Type', axis=1)\n",
    "y = wine['Type']\n",
    "X_train, X_test, y_train, y_test = train_test_split(X, y, stratify=y, random_state=42)\n",
    "\n",
    "# create PCA\n",
    "pca = PCA()\n",
    "pca_X_train = pca.fit_transform(X_train)\n",
    "pca_X_test = pca.transform(X_test)\n",
    "\n",
    "print(pca.explained_variance_ratio_)"
   ],
   "metadata": {
    "collapsed": false
   }
  },
  {
   "cell_type": "code",
   "execution_count": 5,
   "outputs": [
    {
     "name": "stdout",
     "output_type": "stream",
     "text": [
      "0.7777777777777778\n"
     ]
    }
   ],
   "source": [
    "# training a model with PCA\n",
    "# use same data as above exercise\n",
    "\n",
    "from sklearn.neighbors import KNeighborsClassifier\n",
    "\n",
    "# create KNN model\n",
    "knn = KNeighborsClassifier()\n",
    "knn.fit(pca_X_train, y_train)\n",
    "print(knn.score(pca_X_test, y_test))\n"
   ],
   "metadata": {
    "collapsed": false
   }
  },
  {
   "cell_type": "markdown",
   "source": [
    "### CHAPTER 5. Putting It All Together\n",
    "\n",
    "#### 5.1 UFOs and preprocessing\n",
    "\n",
    "Important things to remember:\n",
    "* Removing missing data\n",
    "* Altering column types\n",
    "* Creating training and testing data set"
   ],
   "metadata": {
    "collapsed": false
   }
  },
  {
   "cell_type": "code",
   "execution_count": 21,
   "outputs": [
    {
     "name": "stdout",
     "output_type": "stream",
     "text": [
      "               date              city state country      type    seconds  \\\n",
      "0   11/3/2011 19:21         woodville    wi      us   unknown  1209600.0   \n",
      "1   10/3/2004 19:05         cleveland    oh      us    circle       30.0   \n",
      "2   9/25/2009 21:00       coon rapids    mn      us     cigar        0.0   \n",
      "3  11/21/2002 05:45          clemmons    nc      us  triangle      300.0   \n",
      "4   8/19/2010 12:55  calgary (canada)    ab      ca      oval        0.0   \n",
      "\n",
      "    length_of_time                                               desc  \\\n",
      "0          2 weeks  Red blinking objects similar to airplanes or s...   \n",
      "1           30sec.               Many fighter jets flying towards UFO   \n",
      "2              NaN  Green&#44 red&#44 and blue pulses of light tha...   \n",
      "3  about 5 minutes  It was a large&#44 triangular shaped flying ob...   \n",
      "4                2     A white spinning disc in the shape of an oval.   \n",
      "\n",
      "     recorded         lat        long  \n",
      "0  12/12/2011  44.9530556  -92.291111  \n",
      "1  10/27/2004  41.4994444  -81.695556  \n",
      "2  12/12/2009  45.1200000  -93.287500  \n",
      "3  12/23/2002  36.0213889  -80.382222  \n",
      "4   8/24/2010   51.083333 -114.083333  \n",
      "(4935, 11)\n",
      "<class 'pandas.core.frame.DataFrame'>\n",
      "RangeIndex: 4935 entries, 0 to 4934\n",
      "Data columns (total 11 columns):\n",
      " #   Column          Non-Null Count  Dtype  \n",
      "---  ------          --------------  -----  \n",
      " 0   date            4935 non-null   object \n",
      " 1   city            4926 non-null   object \n",
      " 2   state           4516 non-null   object \n",
      " 3   country         4255 non-null   object \n",
      " 4   type            4776 non-null   object \n",
      " 5   seconds         4935 non-null   float64\n",
      " 6   length_of_time  4792 non-null   object \n",
      " 7   desc            4932 non-null   object \n",
      " 8   recorded        4935 non-null   object \n",
      " 9   lat             4935 non-null   object \n",
      " 10  long            4935 non-null   float64\n",
      "dtypes: float64(2), object(9)\n",
      "memory usage: 424.2+ KB\n",
      "None\n",
      "<class 'pandas.core.frame.DataFrame'>\n",
      "RangeIndex: 4935 entries, 0 to 4934\n",
      "Data columns (total 11 columns):\n",
      " #   Column          Non-Null Count  Dtype         \n",
      "---  ------          --------------  -----         \n",
      " 0   date            4935 non-null   datetime64[ns]\n",
      " 1   city            4926 non-null   object        \n",
      " 2   state           4516 non-null   object        \n",
      " 3   country         4255 non-null   object        \n",
      " 4   type            4776 non-null   object        \n",
      " 5   seconds         4935 non-null   float64       \n",
      " 6   length_of_time  4792 non-null   object        \n",
      " 7   desc            4932 non-null   object        \n",
      " 8   recorded        4935 non-null   object        \n",
      " 9   lat             4935 non-null   object        \n",
      " 10  long            4935 non-null   float64       \n",
      "dtypes: datetime64[ns](1), float64(2), object(8)\n",
      "memory usage: 424.2+ KB\n",
      "None\n"
     ]
    }
   ],
   "source": [
    "# data preprocessing: checking column types\n",
    "import pandas as pd\n",
    "\n",
    "# get data and give a glimpse\n",
    "ufo = pd.read_csv('8_datasets/ufo.csv')\n",
    "print(ufo.head())\n",
    "print(ufo.shape)\n",
    "\n",
    "# check info\n",
    "print(ufo.info())\n",
    "\n",
    "# change column types\n",
    "ufo['seconds'] = ufo['seconds'].astype('float64')\n",
    "ufo['date'] = pd.to_datetime(ufo['date'])\n",
    "# ufo['recorded'] = pd.to_datetime(ufo['recorded'], format='%m/%d/%Y')\n",
    "# ufo['lat'] = ufo['lat'].astype('float64')\n",
    "\n",
    "# check info again\n",
    "print(ufo.info())"
   ],
   "metadata": {
    "collapsed": false
   }
  },
  {
   "cell_type": "code",
   "execution_count": 22,
   "outputs": [
    {
     "name": "stdout",
     "output_type": "stream",
     "text": [
      "date                0\n",
      "city                9\n",
      "state             419\n",
      "country           680\n",
      "type              159\n",
      "seconds             0\n",
      "length_of_time    143\n",
      "desc                3\n",
      "recorded            0\n",
      "lat                 0\n",
      "long                0\n",
      "dtype: int64\n",
      "(4283, 11)\n"
     ]
    }
   ],
   "source": [
    "# data preprocessing: drop missing data\n",
    "\n",
    "# check missing value counts\n",
    "print(ufo.isna().sum())\n",
    "\n",
    "# drop rows with missing values in 'length_of_time', 'state', 'type' columns\n",
    "ufo_no_missing = ufo.dropna(subset=['length_of_time', 'state', 'type'])\n",
    "print(ufo_no_missing.shape)\n",
    "\n",
    "# only 4283 rows left from 4935 rows!"
   ],
   "metadata": {
    "collapsed": false
   }
  },
  {
   "cell_type": "markdown",
   "source": [
    "#### 5.2 Categorical variables and standardization\n",
    "\n",
    "* One-hot encoding categorical variables\n",
    "* Log or normalize the dataframe"
   ],
   "metadata": {
    "collapsed": false
   }
  },
  {
   "cell_type": "code",
   "execution_count": 9,
   "outputs": [
    {
     "name": "stdout",
     "output_type": "stream",
     "text": [
      "(1632, 11)\n",
      "    minutes   length_of_time\n",
      "3       NaN  about 5 minutes\n",
      "5      10.0       10 minutes\n",
      "8       2.0        2 minutes\n",
      "9       2.0        2 minutes\n",
      "10      5.0        5 minutes\n"
     ]
    }
   ],
   "source": [
    "# extracting numbers from strings\n",
    "import pandas as pd\n",
    "import re\n",
    "\n",
    "# get dataset\n",
    "ufo = pd.read_csv('8_datasets/ufo.csv')\n",
    "\n",
    "# change column types\n",
    "ufo['seconds'] = ufo['seconds'].astype('float64')\n",
    "ufo['date'] = pd.to_datetime(ufo['date'])\n",
    "\n",
    "# drop rows with missing values\n",
    "ufo = ufo.dropna(subset=['length_of_time', 'state', 'type'])\n",
    "\n",
    "# subset dataset contain 'minutes' in column 'length_of_time'\n",
    "ufo = ufo[ufo['length_of_time'].str.contains('minutes')]\n",
    "print(ufo.shape)\n",
    "\n",
    "# create function to return numbers\n",
    "def return_minutes(time_string):\n",
    "    pattern = re.compile(r\"\\d+\")\n",
    "    num = re.match(pattern, time_string)\n",
    "    if num is not None:\n",
    "        return int(num.group(0))\n",
    "\n",
    "# call function\n",
    "ufo[\"minutes\"] = ufo[\"length_of_time\"].apply(lambda x:return_minutes(x))\n",
    "print(ufo[['minutes', 'length_of_time']].head())\n"
   ],
   "metadata": {
    "collapsed": false
   }
  },
  {
   "cell_type": "code",
   "execution_count": 10,
   "outputs": [
    {
     "name": "stdout",
     "output_type": "stream",
     "text": [
      "seconds    445073.191424\n",
      "minutes       121.775280\n",
      "dtype: float64\n",
      "0.8442150884594837\n"
     ]
    }
   ],
   "source": [
    "# identifying features for standardization\n",
    "import numpy as np\n",
    "\n",
    "# check variance\n",
    "print(ufo[['seconds', 'minutes']].var())\n",
    "\n",
    "# log normalize 'seconds' column\n",
    "ufo['seconds_log'] = np.log(ufo['seconds'])\n",
    "print(ufo['seconds_log'].var())"
   ],
   "metadata": {
    "collapsed": false
   }
  },
  {
   "cell_type": "markdown",
   "source": [
    "#### 5.3 Engineering new features\n",
    "\n",
    "Great candidates for feature engineering:\n",
    "* 'date'\n",
    "* 'length_of_time'\n",
    "* 'desc'"
   ],
   "metadata": {
    "collapsed": false
   }
  },
  {
   "cell_type": "code",
   "execution_count": 12,
   "outputs": [],
   "source": [
    "# encoding categorical variables\n",
    "# use processed data from above exercise\n",
    "\n",
    "# encode column 'country': binary\n",
    "ufo['country_enc'] = ufo['country'].apply(lambda x: 1 if x=='us' else 0)\n",
    "\n",
    "# encode column 'type': one-hot\n",
    "type_set = pd.get_dummies(ufo['type'])\n",
    "ufo = pd.concat([ufo, type_set], axis=1)"
   ],
   "metadata": {
    "collapsed": false
   }
  },
  {
   "cell_type": "code",
   "execution_count": 13,
   "outputs": [
    {
     "name": "stdout",
     "output_type": "stream",
     "text": [
      "                  date  month  year\n",
      "3  2002-11-21 05:45:00     11  2002\n",
      "5  2012-06-16 23:00:00      6  2012\n",
      "8  2013-06-09 00:00:00      6  2013\n",
      "9  2013-04-26 23:27:00      4  2013\n",
      "10 2013-09-13 20:30:00      9  2013\n"
     ]
    }
   ],
   "source": [
    "# features from dates\n",
    "\n",
    "# extract month and year from column 'date'\n",
    "ufo['month'] = ufo['date'].dt.month\n",
    "ufo['year'] = ufo['date'].dt.year\n",
    "print(ufo[['date', 'month', 'year']].head())"
   ],
   "metadata": {
    "collapsed": false
   }
  },
  {
   "cell_type": "code",
   "execution_count": 14,
   "outputs": [
    {
     "name": "stdout",
     "output_type": "stream",
     "text": [
      "(1632, 3172)\n"
     ]
    }
   ],
   "source": [
    "# text vectorization\n",
    "from sklearn.feature_extraction.text import TfidfVectorizer\n",
    "\n",
    "# transform column 'desc'\n",
    "vec = TfidfVectorizer()\n",
    "desc_tfidf = vec.fit_transform(ufo['desc'])\n",
    "print(desc_tfidf.shape)"
   ],
   "metadata": {
    "collapsed": false
   }
  },
  {
   "cell_type": "markdown",
   "source": [
    "#### 5.4 Feature selection and modeling\n",
    "\n",
    "Things to consider:\n",
    "* Redundant features (original and due to feature engineering)\n",
    "* Text vector\n",
    "* It is a iterative processes, and it might take a few tries!"
   ],
   "metadata": {
    "collapsed": false
   }
  },
  {
   "cell_type": "code",
   "execution_count": 17,
   "outputs": [
    {
     "name": "stdout",
     "output_type": "stream",
     "text": [
      "<class 'pandas.core.frame.DataFrame'>\n",
      "Int64Index: 1632 entries, 3 to 4934\n",
      "Data columns (total 37 columns):\n",
      " #   Column          Non-Null Count  Dtype         \n",
      "---  ------          --------------  -----         \n",
      " 0   date            1632 non-null   datetime64[ns]\n",
      " 1   city            1632 non-null   object        \n",
      " 2   state           1632 non-null   object        \n",
      " 3   country         1505 non-null   object        \n",
      " 4   type            1632 non-null   object        \n",
      " 5   seconds         1632 non-null   float64       \n",
      " 6   length_of_time  1632 non-null   object        \n",
      " 7   desc            1632 non-null   object        \n",
      " 8   recorded        1632 non-null   object        \n",
      " 9   lat             1632 non-null   object        \n",
      " 10  long            1632 non-null   float64       \n",
      " 11  minutes         1532 non-null   float64       \n",
      " 12  seconds_log     1632 non-null   float64       \n",
      " 13  country_enc     1632 non-null   int64         \n",
      " 14  changing        1632 non-null   uint8         \n",
      " 15  chevron         1632 non-null   uint8         \n",
      " 16  cigar           1632 non-null   uint8         \n",
      " 17  circle          1632 non-null   uint8         \n",
      " 18  cone            1632 non-null   uint8         \n",
      " 19  cross           1632 non-null   uint8         \n",
      " 20  cylinder        1632 non-null   uint8         \n",
      " 21  diamond         1632 non-null   uint8         \n",
      " 22  disk            1632 non-null   uint8         \n",
      " 23  egg             1632 non-null   uint8         \n",
      " 24  fireball        1632 non-null   uint8         \n",
      " 25  flash           1632 non-null   uint8         \n",
      " 26  formation       1632 non-null   uint8         \n",
      " 27  light           1632 non-null   uint8         \n",
      " 28  other           1632 non-null   uint8         \n",
      " 29  oval            1632 non-null   uint8         \n",
      " 30  rectangle       1632 non-null   uint8         \n",
      " 31  sphere          1632 non-null   uint8         \n",
      " 32  teardrop        1632 non-null   uint8         \n",
      " 33  triangle        1632 non-null   uint8         \n",
      " 34  unknown         1632 non-null   uint8         \n",
      " 35  month           1632 non-null   int64         \n",
      " 36  year            1632 non-null   int64         \n",
      "dtypes: datetime64[ns](1), float64(4), int64(3), object(8), uint8(21)\n",
      "memory usage: 250.2+ KB\n",
      "None\n",
      "              seconds  seconds_log   minutes\n",
      "seconds      1.000000     0.884351  0.988608\n",
      "seconds_log  0.884351     1.000000  0.867707\n",
      "minutes      0.988608     0.867707  1.000000\n"
     ]
    }
   ],
   "source": [
    "# selecting the ideal dataset\n",
    "\n",
    "# check current dataset info\n",
    "print(ufo.info())\n",
    "\n",
    "# check correlation\n",
    "print(ufo[['seconds', 'seconds_log', 'minutes']].corr())\n",
    "\n",
    "# list of features to drop\n",
    "to_drop = ['city', 'country', 'state', 'lat', 'long', 'date', 'recorded', 'length_of_time', 'seconds', 'minutes', 'desc']\n",
    "ufo_dropped = ufo.drop(to_drop, axis=1)\n",
    "\n",
    "# filter words\n",
    "# filtered_words = words_to_filter(vocab, vec.vocabulary_, desc_tfidf, 4)"
   ],
   "metadata": {
    "collapsed": false
   }
  },
  {
   "cell_type": "code",
   "execution_count": 21,
   "outputs": [
    {
     "name": "stdout",
     "output_type": "stream",
     "text": [
      "Index(['type', 'seconds_log', 'country_enc', 'changing', 'chevron', 'cigar',\n",
      "       'circle', 'cone', 'cross', 'cylinder', 'diamond', 'disk', 'egg',\n",
      "       'fireball', 'flash', 'formation', 'light', 'other', 'oval', 'rectangle',\n",
      "       'sphere', 'teardrop', 'triangle', 'unknown', 'month', 'year'],\n",
      "      dtype='object')\n",
      "0.8578431372549019\n"
     ]
    }
   ],
   "source": [
    "# modeling the UFO dataset (PART I)\n",
    "from sklearn.model_selection import train_test_split\n",
    "from sklearn.neighbors import KNeighborsClassifier\n",
    "\n",
    "# create X and y\n",
    "print(ufo_dropped.columns)\n",
    "X = ufo_dropped.drop(['type', 'country_enc'], axis=1)\n",
    "y = ufo_dropped['country_enc']\n",
    "\n",
    "# split data\n",
    "X_train, X_test, y_train, y_test = train_test_split(X, y, stratify=y, random_state=42)\n",
    "\n",
    "# create model\n",
    "knn = KNeighborsClassifier()\n",
    "knn.fit(X_train, y_train)\n",
    "print(knn.score(X_test, y_test))"
   ],
   "metadata": {
    "collapsed": false
   }
  },
  {
   "cell_type": "code",
   "execution_count": 22,
   "outputs": [
    {
     "name": "stdout",
     "output_type": "stream",
     "text": [
      "0.15196078431372548\n"
     ]
    }
   ],
   "source": [
    "# modeling the UFO dataset (PART II)\n",
    "from sklearn.model_selection import train_test_split\n",
    "from sklearn.naive_bayes import GaussianNB\n",
    "\n",
    "# get filtered_text\n",
    "# filtered_text = desc_tfidf[:, list(filtered_words)]\n",
    "filtered_text = desc_tfidf\n",
    "\n",
    "# split data\n",
    "y = ufo_dropped['type']\n",
    "X_train, X_test, y_train, y_test = train_test_split(filtered_text.toarray(), y, stratify=y, random_state=42)\n",
    "\n",
    "# create model\n",
    "nb = GaussianNB()\n",
    "nb.fit(X_train, y_train)\n",
    "print(nb.score(X_test, y_test))"
   ],
   "metadata": {
    "collapsed": false
   }
  },
  {
   "cell_type": "markdown",
   "source": [
    "This is the end of this course!"
   ],
   "metadata": {
    "collapsed": false
   }
  }
 ],
 "metadata": {
  "kernelspec": {
   "display_name": "Python 3",
   "language": "python",
   "name": "python3"
  },
  "language_info": {
   "codemirror_mode": {
    "name": "ipython",
    "version": 2
   },
   "file_extension": ".py",
   "mimetype": "text/x-python",
   "name": "python",
   "nbconvert_exporter": "python",
   "pygments_lexer": "ipython2",
   "version": "2.7.6"
  }
 },
 "nbformat": 4,
 "nbformat_minor": 0
}
