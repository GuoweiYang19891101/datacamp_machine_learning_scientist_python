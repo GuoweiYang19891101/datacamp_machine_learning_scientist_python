{
 "cells": [
  {
   "cell_type": "markdown",
   "source": [
    "## Preprocessing for Machine Learing in Python\n",
    "\n",
    "### CHAPTER 1. Introduction to Data Preprocessing\n",
    "\n",
    "#### 1.1 Introduction to preprocessing\n",
    "\n",
    "* It comes after exploratory data analysis and data cleaning\n",
    "* It is a process of preparing data for modeling\n",
    "* Example:\n",
    "    * transforming categorical features into numerical features (dummy variables)\n",
    "    * removing missing data\n",
    "\n",
    "Why preprocess?\n",
    "* Transform dataset so it's suitable for modeling\n",
    "* Improve model performance\n",
    "* Generate more reliable results\n",
    "\n",
    "Recap: exploring data with pandas\n",
    "* check data with *.head()*\n",
    "* check data information with *.info()*\n",
    "* check summary statistics with *.describe()*\n"
   ],
   "metadata": {
    "collapsed": false
   }
  },
  {
   "cell_type": "code",
   "execution_count": 7,
   "outputs": [
    {
     "name": "stdout",
     "output_type": "stream",
     "text": [
      "   opportunity_id  content_id  vol_requests  event_time  \\\n",
      "0            4996       37004            50           0   \n",
      "1            5008       37036             2           0   \n",
      "2            5016       37143            20           0   \n",
      "3            5022       37237           500           0   \n",
      "4            5055       37425            15           0   \n",
      "\n",
      "                                               title  hits  \\\n",
      "0  Volunteers Needed For Rise Up & Stay Put! Home...   737   \n",
      "1                                       Web designer    22   \n",
      "2      Urban Adventures - Ice Skating at Lasker Rink    62   \n",
      "3  Fight global hunger and support women farmers ...    14   \n",
      "4                                      Stop 'N' Swap    31   \n",
      "\n",
      "                                             summary is_priority  category_id  \\\n",
      "0  Building on successful events last summer and ...         NaN          NaN   \n",
      "1             Build a website for an Afghan business         NaN          1.0   \n",
      "2  Please join us and the students from Mott Hall...         NaN          1.0   \n",
      "3  The Oxfam Action Corps is a group of dedicated...         NaN          1.0   \n",
      "4  Stop 'N' Swap reduces NYC's waste by finding n...         NaN          4.0   \n",
      "\n",
      "               category_desc  ...     end_date_date    status Latitude  \\\n",
      "0                        NaN  ...      July 30 2011  approved      NaN   \n",
      "1  Strengthening Communities  ...  February 01 2011  approved      NaN   \n",
      "2  Strengthening Communities  ...   January 29 2011  approved      NaN   \n",
      "3  Strengthening Communities  ...     March 31 2012  approved      NaN   \n",
      "4                Environment  ...  February 05 2011  approved      NaN   \n",
      "\n",
      "   Longitude  Community Board Community Council  Census Tract  BIN  BBL NTA  \n",
      "0        NaN              NaN                NaN          NaN  NaN  NaN NaN  \n",
      "1        NaN              NaN                NaN          NaN  NaN  NaN NaN  \n",
      "2        NaN              NaN                NaN          NaN  NaN  NaN NaN  \n",
      "3        NaN              NaN                NaN          NaN  NaN  NaN NaN  \n",
      "4        NaN              NaN                NaN          NaN  NaN  NaN NaN  \n",
      "\n",
      "[5 rows x 35 columns]\n",
      "opportunity_id          0\n",
      "content_id              0\n",
      "vol_requests            0\n",
      "event_time              0\n",
      "title                   0\n",
      "hits                    0\n",
      "summary                 0\n",
      "is_priority           603\n",
      "category_id            48\n",
      "category_desc          48\n",
      "amsl                  665\n",
      "amsl_unit             665\n",
      "org_title               0\n",
      "org_content_id          0\n",
      "addresses_count         0\n",
      "locality               70\n",
      "region                  0\n",
      "postalcode              6\n",
      "primary_loc           665\n",
      "display_url             0\n",
      "recurrence_type         0\n",
      "hours                   0\n",
      "created_date            0\n",
      "last_modified_date      0\n",
      "start_date_date         0\n",
      "end_date_date           0\n",
      "status                  0\n",
      "Latitude              665\n",
      "Longitude             665\n",
      "Community Board       665\n",
      "Community Council     665\n",
      "Census Tract          665\n",
      "BIN                   665\n",
      "BBL                   665\n",
      "NTA                   665\n",
      "dtype: int64\n",
      "(665, 35)\n"
     ]
    }
   ],
   "source": [
    "# exploring missing data\n",
    "import pandas as pd\n",
    "\n",
    "volunteer = pd.read_csv('8_datasets/volunteer.csv')\n",
    "print(volunteer.head())\n",
    "print(volunteer.isna().sum())\n",
    "print(volunteer.shape)"
   ],
   "metadata": {
    "collapsed": false
   }
  },
  {
   "cell_type": "code",
   "execution_count": 9,
   "outputs": [
    {
     "name": "stdout",
     "output_type": "stream",
     "text": [
      "(617, 33)\n"
     ]
    }
   ],
   "source": [
    "# dropping missing data\n",
    "# drop 'Latitude' and 'Longitude' columns\n",
    "volunteer_cols = volunteer.drop(['Latitude', 'Longitude'], axis=1)\n",
    "\n",
    "# drop rows with missing 'category_desc' column\n",
    "volunteer_subset = volunteer_cols.dropna(subset=['category_desc'])\n",
    "\n",
    "print(volunteer_subset.shape)"
   ],
   "metadata": {
    "collapsed": false
   }
  },
  {
   "cell_type": "markdown",
   "source": [
    "#### 1.2 Working with data types\n",
    "\n",
    "Common data types:\n",
    "* 'object': string/mixed types\n",
    "* 'int64': integer\n",
    "* 'float64': float\n",
    "* 'datetime64': dates and times\n",
    "\n",
    "Converting column types:\n",
    "* *astype()* method to specify data type"
   ],
   "metadata": {
    "collapsed": false
   }
  },
  {
   "cell_type": "code",
   "execution_count": 11,
   "outputs": [
    {
     "name": "stdout",
     "output_type": "stream",
     "text": [
      "<class 'pandas.core.frame.DataFrame'>\n",
      "RangeIndex: 665 entries, 0 to 664\n",
      "Data columns (total 35 columns):\n",
      " #   Column              Non-Null Count  Dtype  \n",
      "---  ------              --------------  -----  \n",
      " 0   opportunity_id      665 non-null    int64  \n",
      " 1   content_id          665 non-null    int64  \n",
      " 2   vol_requests        665 non-null    int64  \n",
      " 3   event_time          665 non-null    int64  \n",
      " 4   title               665 non-null    object \n",
      " 5   hits                665 non-null    int64  \n",
      " 6   summary             665 non-null    object \n",
      " 7   is_priority         62 non-null     object \n",
      " 8   category_id         617 non-null    float64\n",
      " 9   category_desc       617 non-null    object \n",
      " 10  amsl                0 non-null      float64\n",
      " 11  amsl_unit           0 non-null      float64\n",
      " 12  org_title           665 non-null    object \n",
      " 13  org_content_id      665 non-null    int64  \n",
      " 14  addresses_count     665 non-null    int64  \n",
      " 15  locality            595 non-null    object \n",
      " 16  region              665 non-null    object \n",
      " 17  postalcode          659 non-null    float64\n",
      " 18  primary_loc         0 non-null      float64\n",
      " 19  display_url         665 non-null    object \n",
      " 20  recurrence_type     665 non-null    object \n",
      " 21  hours               665 non-null    int64  \n",
      " 22  created_date        665 non-null    object \n",
      " 23  last_modified_date  665 non-null    object \n",
      " 24  start_date_date     665 non-null    object \n",
      " 25  end_date_date       665 non-null    object \n",
      " 26  status              665 non-null    object \n",
      " 27  Latitude            0 non-null      float64\n",
      " 28  Longitude           0 non-null      float64\n",
      " 29  Community Board     0 non-null      float64\n",
      " 30  Community Council   0 non-null      float64\n",
      " 31  Census Tract        0 non-null      float64\n",
      " 32  BIN                 0 non-null      float64\n",
      " 33  BBL                 0 non-null      float64\n",
      " 34  NTA                 0 non-null      float64\n",
      "dtypes: float64(13), int64(8), object(14)\n",
      "memory usage: 182.0+ KB\n",
      "None\n"
     ]
    }
   ],
   "source": [
    "# exploring data types\n",
    "import pandas as pd\n",
    "volunteer = pd.read_csv('8_datasets/volunteer.csv')\n",
    "print(volunteer.info())"
   ],
   "metadata": {
    "collapsed": false
   }
  },
  {
   "cell_type": "code",
   "execution_count": 14,
   "outputs": [
    {
     "name": "stdout",
     "output_type": "stream",
     "text": [
      "0    737\n",
      "1     22\n",
      "2     62\n",
      "3     14\n",
      "4     31\n",
      "Name: hits, dtype: int32\n",
      "int64\n"
     ]
    }
   ],
   "source": [
    "# converting a column type -> 'hits'\n",
    "print(volunteer['hits'].head())\n",
    "volunteer['hits'] = volunteer['hits'].astype('int64')\n",
    "print(volunteer['hits'].dtypes)"
   ],
   "metadata": {
    "collapsed": false
   }
  },
  {
   "cell_type": "markdown",
   "source": [
    "#### 1.3 Training and test sets\n",
    "\n",
    "*"
   ],
   "metadata": {
    "collapsed": false
   }
  },
  {
   "cell_type": "code",
   "execution_count": null,
   "outputs": [],
   "source": [],
   "metadata": {
    "collapsed": false
   }
  },
  {
   "cell_type": "code",
   "execution_count": null,
   "outputs": [],
   "source": [],
   "metadata": {
    "collapsed": false
   }
  },
  {
   "cell_type": "code",
   "execution_count": null,
   "outputs": [],
   "source": [],
   "metadata": {
    "collapsed": false
   }
  }
 ],
 "metadata": {
  "kernelspec": {
   "display_name": "Python 3",
   "language": "python",
   "name": "python3"
  },
  "language_info": {
   "codemirror_mode": {
    "name": "ipython",
    "version": 2
   },
   "file_extension": ".py",
   "mimetype": "text/x-python",
   "name": "python",
   "nbconvert_exporter": "python",
   "pygments_lexer": "ipython2",
   "version": "2.7.6"
  }
 },
 "nbformat": 4,
 "nbformat_minor": 0
}
