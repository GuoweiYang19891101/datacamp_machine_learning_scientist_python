{
 "cells": [
  {
   "cell_type": "markdown",
   "source": [
    "## Hyperparameter tuning in Python\n",
    "\n",
    "**Course Structure:**\n",
    "* Chapter 1. Hyperparameter and Parameters\n",
    "* Chapter 2. Grid Search\n",
    "* Chapter 3. Random Search\n",
    "* Chapter 4. Informed Search\n",
    "\n",
    "### CHAPTER 1. Hypeaparameter and Parameters\n",
    "\n",
    "#### Part 1.1 Introduction & 'Parameters'\n",
    "\n",
    "*"
   ],
   "metadata": {
    "collapsed": false
   },
   "id": "6e77ca8c0f4d4cb5"
  },
  {
   "cell_type": "code",
   "execution_count": null,
   "outputs": [],
   "source": [],
   "metadata": {
    "collapsed": false
   },
   "id": "ae80afb35d3bc6f9"
  },
  {
   "cell_type": "code",
   "execution_count": null,
   "outputs": [],
   "source": [],
   "metadata": {
    "collapsed": false
   },
   "id": "b4737ef688e7bd96"
  },
  {
   "cell_type": "code",
   "execution_count": null,
   "outputs": [],
   "source": [],
   "metadata": {
    "collapsed": false
   },
   "id": "e3b64ceff58396c1"
  },
  {
   "cell_type": "code",
   "execution_count": null,
   "outputs": [],
   "source": [],
   "metadata": {
    "collapsed": false
   },
   "id": "3db748d7f684e814"
  }
 ],
 "metadata": {
  "kernelspec": {
   "display_name": "Python 3",
   "language": "python",
   "name": "python3"
  },
  "language_info": {
   "codemirror_mode": {
    "name": "ipython",
    "version": 2
   },
   "file_extension": ".py",
   "mimetype": "text/x-python",
   "name": "python",
   "nbconvert_exporter": "python",
   "pygments_lexer": "ipython2",
   "version": "2.7.6"
  }
 },
 "nbformat": 4,
 "nbformat_minor": 5
}
