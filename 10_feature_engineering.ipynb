{
 "cells": [
  {
   "cell_type": "markdown",
   "source": [
    "## Feature Engineering for Machine Learning\n",
    "\n",
    "**Course structure:**\n",
    "* Chapter 1: Feature creation and extraction\n",
    "* Chapter 2: Engineering messy data\n",
    "* Chapter 3: Feature normalization\n",
    "* Chapter 4: Working with text features\n",
    "\n",
    "### CHAPTER 1. Creating Features\n",
    "\n",
    "#### 1.1 Why generate features?\n",
    "\n",
    "**Feature engineering**:\n",
    "* Act of taking raw data and extracting features from it\n",
    "* Information is stored in columns of data\n",
    "\n",
    "**Different types of data**:\n",
    "* Continuous: either integers (or whole numbers) or floats (decimals)\n",
    "* Categorical: one of a limited set of values, e.g: gender, country of birth\n",
    "* Ordinal: ranked values, often with no detail of distance between them\n",
    "* Boolean: True/False values\n",
    "* Datetime: dates and times\n",
    "\n",
    "**Dataset**:\n",
    "* Most common object in machine learning task\n",
    "* Work with 'pandas' library substantially\n",
    "* Know data with column names and column types\n",
    "* Basic information with *'.head()'* and *'.dtypes'*\n",
    "* You can also select specific data types in a dataset with *'.select_dtypes'* method\n",
    "*"
   ],
   "metadata": {
    "collapsed": false
   }
  },
  {
   "cell_type": "code",
   "execution_count": 1,
   "outputs": [
    {
     "name": "stdout",
     "output_type": "stream",
     "text": [
      "      SurveyDate                                    FormalEducation  \\\n",
      "0  2/28/18 20:20           Bachelor's degree (BA. BS. B.Eng.. etc.)   \n",
      "1  6/28/18 13:26           Bachelor's degree (BA. BS. B.Eng.. etc.)   \n",
      "2    6/6/18 3:37           Bachelor's degree (BA. BS. B.Eng.. etc.)   \n",
      "3    5/9/18 1:06  Some college/university study without earning ...   \n",
      "4  4/12/18 22:41           Bachelor's degree (BA. BS. B.Eng.. etc.)   \n",
      "\n",
      "   ConvertedSalary Hobby       Country  StackOverflowJobsRecommend  \\\n",
      "0              NaN   Yes  South Africa                         NaN   \n",
      "1          70841.0   Yes       Sweeden                         7.0   \n",
      "2              NaN    No       Sweeden                         8.0   \n",
      "3          21426.0   Yes       Sweeden                         NaN   \n",
      "4          41671.0   Yes            UK                         8.0   \n",
      "\n",
      "      VersionControl  Age  Years Experience Gender   RawSalary  \n",
      "0                Git   21                13   Male         NaN  \n",
      "1     Git;Subversion   38                 9   Male   70,841.00  \n",
      "2                Git   45                11    NaN         NaN  \n",
      "3  Zip file back-ups   46                12   Male   21,426.00  \n",
      "4                Git   39                 7   Male  £41,671.00  \n",
      "SurveyDate                     object\n",
      "FormalEducation                object\n",
      "ConvertedSalary               float64\n",
      "Hobby                          object\n",
      "Country                        object\n",
      "StackOverflowJobsRecommend    float64\n",
      "VersionControl                 object\n",
      "Age                             int64\n",
      "Years Experience                int64\n",
      "Gender                         object\n",
      "RawSalary                      object\n",
      "dtype: object\n"
     ]
    }
   ],
   "source": [
    "# getting to know your data\n",
    "import pandas as pd\n",
    "\n",
    "so_survey_df = pd.read_csv('10_datasets/Combined_DS_v10.csv')\n",
    "print(so_survey_df.head())\n",
    "print(so_survey_df.dtypes)"
   ],
   "metadata": {
    "collapsed": false
   }
  },
  {
   "cell_type": "code",
   "execution_count": 2,
   "outputs": [
    {
     "name": "stdout",
     "output_type": "stream",
     "text": [
      "Index(['ConvertedSalary', 'StackOverflowJobsRecommend', 'Age',\n",
      "       'Years Experience'],\n",
      "      dtype='object')\n"
     ]
    }
   ],
   "source": [
    "# selecting specific data types\n",
    "\n",
    "# create subset of only the numeric columns\n",
    "so_numeric_df = so_survey_df.select_dtypes(include=['int', 'float'])\n",
    "print(so_numeric_df.columns)"
   ],
   "metadata": {
    "collapsed": false
   }
  },
  {
   "cell_type": "markdown",
   "source": [
    "#### 1.2 Dealing with categorical variables\n",
    "\n",
    "**Categorical variables**:\n",
    "* They represent groups that are qualitative in nature (e.g: colors, country of birth)\n",
    "* They need to be encoded to be used in your machine learning models\n",
    "\n",
    "**Encoding categorical features**:\n",
    "* Values can be encoded by creating additional binary features (value 0 and 1)\n",
    "* Simply assigning numbers to values might be misleading because they might represent some un-existed orders\n",
    "* Two main approaches: (both canbe done pd.get_dummies method)\n",
    "    1. One-hot encoding ('pd.get_dummies(df, columns, prefix)'): n categories -> n features\n",
    "    2. Dummy encoding ('pd.get_dummies(df, columns, **drop_first=True**, prefix)'): n categories -> n-1 features\n",
    "* For columns with too many categories, you might want to limit column numbers by creating columns for most common values\n",
    "\n",
    "**One-hot vs. dummies:**\n",
    "* One-hot encoding: explainable features\n",
    "* Dummy encoding: Necessary information without duplication\n"
   ],
   "metadata": {
    "collapsed": false
   }
  },
  {
   "cell_type": "code",
   "execution_count": 3,
   "outputs": [
    {
     "name": "stdout",
     "output_type": "stream",
     "text": [
      "Index(['SurveyDate', 'FormalEducation', 'ConvertedSalary', 'Hobby',\n",
      "       'StackOverflowJobsRecommend', 'VersionControl', 'Age',\n",
      "       'Years Experience', 'Gender', 'RawSalary', 'OH_France', 'OH_India',\n",
      "       'OH_Ireland', 'OH_Russia', 'OH_South Africa', 'OH_Spain', 'OH_Sweeden',\n",
      "       'OH_UK', 'OH_USA', 'OH_Ukraine'],\n",
      "      dtype='object')\n"
     ]
    }
   ],
   "source": [
    "# one-hot encoding and dummy variables\n",
    "import pandas as pd\n",
    "\n",
    "# get original data\n",
    "so_survey_df = pd.read_csv('10_datasets/Combined_DS_v10.csv')\n",
    "\n",
    "# convert  the Country column to one-hot dataframe\n",
    "one_hot_encoded = pd.get_dummies(so_survey_df, columns=['Country'], prefix='OH')\n",
    "print(one_hot_encoded.columns)"
   ],
   "metadata": {
    "collapsed": false
   }
  },
  {
   "cell_type": "code",
   "execution_count": 4,
   "outputs": [
    {
     "name": "stdout",
     "output_type": "stream",
     "text": [
      "Index(['SurveyDate', 'FormalEducation', 'ConvertedSalary', 'Hobby',\n",
      "       'StackOverflowJobsRecommend', 'VersionControl', 'Age',\n",
      "       'Years Experience', 'Gender', 'RawSalary', 'DM_India', 'DM_Ireland',\n",
      "       'DM_Russia', 'DM_South Africa', 'DM_Spain', 'DM_Sweeden', 'DM_UK',\n",
      "       'DM_USA', 'DM_Ukraine'],\n",
      "      dtype='object')\n"
     ]
    }
   ],
   "source": [
    "# convert Country column to dummy variables\n",
    "dummy = pd.get_dummies(so_survey_df, columns=['Country'], drop_first=True, prefix='DM')\n",
    "print(dummy.columns)\n",
    "\n",
    "# notice column for France was missing for dummy variables"
   ],
   "metadata": {
    "collapsed": false
   }
  },
  {
   "cell_type": "code",
   "execution_count": 5,
   "outputs": [
    {
     "name": "stdout",
     "output_type": "stream",
     "text": [
      "South Africa    166\n",
      "USA             164\n",
      "Spain           134\n",
      "Sweeden         119\n",
      "France          115\n",
      "Russia           97\n",
      "UK               95\n",
      "India            95\n",
      "Ukraine           9\n",
      "Ireland           5\n",
      "Name: Country, dtype: int64\n",
      "South Africa    166\n",
      "USA             164\n",
      "Spain           134\n",
      "Sweeden         119\n",
      "France          115\n",
      "Russia           97\n",
      "UK               95\n",
      "India            95\n",
      "Other            14\n",
      "Name: Country, dtype: int64\n"
     ]
    },
    {
     "name": "stderr",
     "output_type": "stream",
     "text": [
      "/var/folders/fs/gp7d8vz934q38kytf13746540000gn/T/ipykernel_8280/2847588676.py:9: SettingWithCopyWarning: \n",
      "A value is trying to be set on a copy of a slice from a DataFrame\n",
      "\n",
      "See the caveats in the documentation: https://pandas.pydata.org/pandas-docs/stable/user_guide/indexing.html#returning-a-view-versus-a-copy\n",
      "  so_survey_df['Country'][mask] = 'Other'\n"
     ]
    }
   ],
   "source": [
    "# dealing with uncommon categories\n",
    "\n",
    "# get value_counts of column 'Country'\n",
    "country_counts = so_survey_df['Country'].value_counts()\n",
    "print(country_counts)\n",
    "\n",
    "# create a mask for less common values\n",
    "mask = so_survey_df['Country'].isin(country_counts[country_counts < 10].index)\n",
    "so_survey_df['Country'][mask] = 'Other'\n",
    "print(so_survey_df['Country'].value_counts())\n",
    "\n",
    "# note country 'Ukraine' and 'Ireland' become 'Other'"
   ],
   "metadata": {
    "collapsed": false
   }
  },
  {
   "cell_type": "markdown",
   "source": [
    "#### 1.3 Numeric variables\n",
    "\n",
    "**Types of numeric features**:\n",
    "* Age\n",
    "* Price\n",
    "* Counts\n",
    "* Geospatial data (e.g: coordinates)\n",
    "\n",
    "**Key considerations:**\n",
    "1. Does size matter? Is the *magnitude* more important or its *directions*?\n",
    "    * If the magnitude does NOT matter, just turn it into a binary numeric variable with value 0 and 1\n",
    "2. An extension of this would be binning numeric variables into groups\n",
    "    * Bins can be created with *'.cut()'* function in pandas"
   ],
   "metadata": {
    "collapsed": false
   }
  },
  {
   "cell_type": "code",
   "execution_count": 6,
   "outputs": [
    {
     "name": "stdout",
     "output_type": "stream",
     "text": [
      "   Paid_Job  ConvertedSalary\n",
      "0         0              NaN\n",
      "1         1          70841.0\n",
      "2         0              NaN\n",
      "3         1          21426.0\n",
      "4         1          41671.0\n"
     ]
    }
   ],
   "source": [
    "# binarizing columns\n",
    "import pandas as pd\n",
    "\n",
    "# get original data\n",
    "so_survey_df = pd.read_csv('10_datasets/Combined_DS_v10.csv')\n",
    "\n",
    "# create new 'Paid_Job' column with zeros\n",
    "so_survey_df['Paid_Job'] = 0\n",
    "\n",
    "# replace values where ConvertedSalary > 0\n",
    "so_survey_df.loc[so_survey_df['ConvertedSalary'] > 0, 'Paid_Job'] = 1\n",
    "print(so_survey_df[['Paid_Job', 'ConvertedSalary']].head())"
   ],
   "metadata": {
    "collapsed": false
   }
  },
  {
   "cell_type": "code",
   "execution_count": 7,
   "outputs": [
    {
     "name": "stdout",
     "output_type": "stream",
     "text": [
      "          equal_binned  ConvertedSalary\n",
      "0  (-2000.0, 400000.0]              0.0\n",
      "1  (-2000.0, 400000.0]          70841.0\n",
      "2  (-2000.0, 400000.0]              0.0\n",
      "3  (-2000.0, 400000.0]          21426.0\n",
      "4  (-2000.0, 400000.0]          41671.0\n"
     ]
    }
   ],
   "source": [
    "# binning values\n",
    "import numpy as np\n",
    "\n",
    "# bin the column 'ConvertedSalary' into 5 groups\n",
    "so_survey_df['ConvertedSalary'] = so_survey_df['ConvertedSalary'].replace(np.nan, 0)\n",
    "so_survey_df['equal_binned'] = pd.cut(so_survey_df['ConvertedSalary'], bins=5)\n",
    "print(so_survey_df[['equal_binned', 'ConvertedSalary']].head())"
   ],
   "metadata": {
    "collapsed": false
   }
  },
  {
   "cell_type": "code",
   "execution_count": 8,
   "outputs": [
    {
     "name": "stdout",
     "output_type": "stream",
     "text": [
      "  boundary_binned  ConvertedSalary\n",
      "0        Very low              0.0\n",
      "1          Medium          70841.0\n",
      "2        Very low              0.0\n",
      "3             Low          21426.0\n",
      "4             Low          41671.0\n"
     ]
    }
   ],
   "source": [
    "# binning values with boundaries\n",
    "import numpy as np\n",
    "\n",
    "# specify the boundaries and labels of bin\n",
    "bins = [-np.inf, 10000, 50000, 100000, 150000, np.inf]\n",
    "labels = ['Very low', 'Low', 'Medium', 'High', 'Very High']\n",
    "\n",
    "# bin the column\n",
    "so_survey_df['boundary_binned'] = pd.cut(so_survey_df['ConvertedSalary'], bins=bins, labels=labels)\n",
    "print(so_survey_df[['boundary_binned', 'ConvertedSalary']].head())"
   ],
   "metadata": {
    "collapsed": false
   }
  },
  {
   "cell_type": "markdown",
   "source": [
    "### CHAPTER 2. Dealing with messy data\n",
    "\n",
    "#### 2.1 Why do missing values exist?\n",
    "\n",
    "**How gaps in data occur:**\n",
    "* Data not being collected properly (e.g: paper surveys not being filled fully)\n",
    "* Collection and management errors (e.g: someone transcribing the data making a mistake)\n",
    "* Data intentionally being omitted (e.g: people may skip the age box on an online form)\n",
    "* Due to transformation of the data (e.g: average of a field with missing data)\n",
    "\n",
    "**Why do we care?**\n",
    "* It is important to identify and deal with missing data\n",
    "* Machine learning models cannot work with missing values\n",
    "* Missing data may be a sign of a wider data issue\n",
    "* Missing data might provide information in itself\n",
    "\n",
    "**How to find missing values?**\n",
    "* *'.info()'* can look at how complete a dataset is\n",
    "* Use a combination of*'.isnull()'* and *'.sum()'* can find the number of missing values in each column\n",
    "* Reversely, non-missing values can be found with *'.notnull()'* method\n"
   ],
   "metadata": {
    "collapsed": false
   }
  },
  {
   "cell_type": "code",
   "execution_count": 9,
   "outputs": [
    {
     "name": "stdout",
     "output_type": "stream",
     "text": [
      "Age       999\n",
      "Gender    693\n",
      "dtype: int64\n"
     ]
    }
   ],
   "source": [
    "# how sparse is my data?\n",
    "import pandas as pd\n",
    "\n",
    "# get original data\n",
    "so_survey_df = pd.read_csv('10_datasets/Combined_DS_v10.csv')\n",
    "\n",
    "# subset the dataframe\n",
    "sub_df = so_survey_df[['Age', 'Gender']]\n",
    "\n",
    "# find the number of non-missing values\n",
    "print(sub_df.notnull().sum())"
   ],
   "metadata": {
    "collapsed": false
   }
  },
  {
   "cell_type": "code",
   "execution_count": 10,
   "outputs": [
    {
     "name": "stdout",
     "output_type": "stream",
     "text": [
      "   Age  Gender\n",
      "0   21    Male\n",
      "1   38    Male\n",
      "2   45     NaN\n",
      "3   46    Male\n",
      "4   39    Male\n",
      "5   39    Male\n",
      "6   34    Male\n",
      "7   24  Female\n",
      "8   23    Male\n",
      "9   36     NaN\n",
      "     Age  Gender\n",
      "0  False   False\n",
      "1  False   False\n",
      "2  False    True\n",
      "3  False   False\n",
      "4  False   False\n",
      "5  False   False\n",
      "6  False   False\n",
      "7  False   False\n",
      "8  False   False\n",
      "9  False    True\n",
      "    Age  Gender\n",
      "0  True    True\n",
      "1  True    True\n",
      "2  True   False\n",
      "3  True    True\n",
      "4  True    True\n",
      "5  True    True\n",
      "6  True    True\n",
      "7  True    True\n",
      "8  True    True\n",
      "9  True   False\n"
     ]
    }
   ],
   "source": [
    "# find the missing values\n",
    "\n",
    "# print top 10 rows\n",
    "print(sub_df.head(10))\n",
    "\n",
    "# print missing value locations\n",
    "print(sub_df.head(10).isnull())\n",
    "\n",
    "# print non-missing value locations\n",
    "print(sub_df.head(10).notnull())"
   ],
   "metadata": {
    "collapsed": false
   }
  },
  {
   "cell_type": "markdown",
   "source": [
    "#### 2.2 Dealing with missing values (I)\n",
    "\n",
    "* If the missing values occur randomly, try **complete case analysis** or **listwise deletion**\n",
    "* A record is fully excluded if any of its values are missing\n",
    "* Use *'.dropna(how='any')'* to delete any rows with more than 1 missing values\n",
    "* Use *.dropna(subset=['col_name'])* to drop rows with missing values in specific columns\n",
    "\n",
    "**Drawbacks of deletion:**\n",
    "* It deletes valid data points\n",
    "* Relies on randomness\n",
    "* Reduces information\n",
    "\n",
    "* Another common way of dealing with missing values is to fill these values\n",
    "* Use *'.fillna()'* method to fill missing values\n",
    "\n",
    "* If you think the absense of the data is more important than the data itself, you can record the missing values\n",
    "* Create a new column that records the absense of the data, then drop the original column\n",
    "* Use *'.notnull()'* method to record the absence of the data\n",
    "* Use *'.drop(columns=['col_name'])'* method to drop specific column"
   ],
   "metadata": {
    "collapsed": false
   }
  },
  {
   "cell_type": "code",
   "execution_count": 14,
   "outputs": [
    {
     "name": "stdout",
     "output_type": "stream",
     "text": [
      "(999, 11)\n",
      "(264, 11)\n",
      "(999, 7)\n",
      "(693, 11)\n"
     ]
    }
   ],
   "source": [
    "# listwise deletion\n",
    "import pandas as pd\n",
    "\n",
    "# get data\n",
    "so_survey_df = pd.read_csv('10_datasets/Combined_DS_v10.csv')\n",
    "\n",
    "# print shape\n",
    "print(so_survey_df.shape)\n",
    "\n",
    "# drop all rows with missing values\n",
    "no_missing_value_rows = so_survey_df.dropna(how='any')\n",
    "print(no_missing_value_rows.shape)\n",
    "\n",
    "# drop all columns with missing values\n",
    "no_missing_value_cols = so_survey_df.dropna(how='any', axis=1)\n",
    "print(no_missing_value_cols.shape)\n",
    "\n",
    "# drop all rows when 'Gender' is missing\n",
    "no_gender = so_survey_df.dropna(subset=['Gender'])\n",
    "print(no_gender.shape)"
   ],
   "metadata": {
    "collapsed": false
   }
  },
  {
   "cell_type": "code",
   "execution_count": 15,
   "outputs": [
    {
     "name": "stdout",
     "output_type": "stream",
     "text": [
      "Male                                                                         632\n",
      "Female                                                                        53\n",
      "Female;Male                                                                    2\n",
      "Transgender                                                                    2\n",
      "Female;Male;Transgender;Non-binary. genderqueer. or gender non-conforming      1\n",
      "Male;Non-binary. genderqueer. or gender non-conforming                         1\n",
      "Non-binary. genderqueer. or gender non-conforming                              1\n",
      "Female;Transgender                                                             1\n",
      "Name: Gender, dtype: int64\n",
      "Male                                                                         632\n",
      "Not Given                                                                    306\n",
      "Female                                                                        53\n",
      "Female;Male                                                                    2\n",
      "Transgender                                                                    2\n",
      "Female;Male;Transgender;Non-binary. genderqueer. or gender non-conforming      1\n",
      "Male;Non-binary. genderqueer. or gender non-conforming                         1\n",
      "Non-binary. genderqueer. or gender non-conforming                              1\n",
      "Female;Transgender                                                             1\n",
      "Name: Gender, dtype: int64\n"
     ]
    }
   ],
   "source": [
    "# replace missing values with constants\n",
    "\n",
    "# print the 'Gender' values occurences\n",
    "print(so_survey_df['Gender'].value_counts())\n",
    "\n",
    "# replace missing values\n",
    "so_survey_df['Gender'].fillna('Not Given', inplace=True)\n",
    "print(so_survey_df['Gender'].value_counts())\n",
    "\n",
    "# note that there are 306 Not Given in the new value_counts output"
   ],
   "metadata": {
    "collapsed": false
   }
  },
  {
   "cell_type": "markdown",
   "source": [
    "#### 2.2 Dealing with missing values (II)\n",
    "\n",
    "**Drawbacks of missing values deletion in models:**\n",
    "* Cannot delete rows with missing values in the test set\n",
    "\n",
    "**Alternatives**:\n",
    "* For categorical columns: replace missing values with the most common value or with a string that flags missing value such as 'None'\n",
    "* For numeric columns: replace missing values with a suitable value"
   ],
   "metadata": {
    "collapsed": false
   }
  },
  {
   "cell_type": "code",
   "execution_count": null,
   "outputs": [],
   "source": [],
   "metadata": {
    "collapsed": false
   }
  },
  {
   "cell_type": "code",
   "execution_count": null,
   "outputs": [],
   "source": [],
   "metadata": {
    "collapsed": false
   }
  },
  {
   "cell_type": "code",
   "execution_count": null,
   "outputs": [],
   "source": [],
   "metadata": {
    "collapsed": false
   }
  },
  {
   "cell_type": "markdown",
   "source": [
    "### CHAPTER 3. Conforming to Statistical Assumptions\n",
    "\n",
    "#### 3.1"
   ],
   "metadata": {
    "collapsed": false
   }
  },
  {
   "cell_type": "code",
   "execution_count": 11,
   "outputs": [],
   "source": [],
   "metadata": {
    "collapsed": false
   }
  },
  {
   "cell_type": "markdown",
   "source": [
    "### CHAPTER 4. Dealing with Text Data\n",
    "\n",
    "#### 4.1"
   ],
   "metadata": {
    "collapsed": false
   }
  },
  {
   "cell_type": "code",
   "execution_count": 11,
   "outputs": [],
   "source": [],
   "metadata": {
    "collapsed": false
   }
  }
 ],
 "metadata": {
  "kernelspec": {
   "display_name": "Python 3",
   "language": "python",
   "name": "python3"
  },
  "language_info": {
   "codemirror_mode": {
    "name": "ipython",
    "version": 2
   },
   "file_extension": ".py",
   "mimetype": "text/x-python",
   "name": "python",
   "nbconvert_exporter": "python",
   "pygments_lexer": "ipython2",
   "version": "2.7.6"
  }
 },
 "nbformat": 4,
 "nbformat_minor": 0
}
