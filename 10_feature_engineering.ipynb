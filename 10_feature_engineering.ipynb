{
 "cells": [
  {
   "cell_type": "markdown",
   "source": [
    "## Feature Engineering for Machine Learning\n",
    "\n",
    "**Course structure:**\n",
    "* Chapter 1: Feature creation and extraction\n",
    "* Chapter 2: Engineering messy data\n",
    "* Chapter 3: Feature normalization\n",
    "* Chapter 4: Working with text features\n",
    "\n",
    "### CHAPTER 1. Creating Features\n",
    "\n",
    "#### 1.1 Why generate features?\n",
    "\n",
    "**Feature engineering**:\n",
    "* Act of taking raw data and extracting features from it\n",
    "* Information is stored in columns of data\n",
    "\n",
    "**Different types of data**:\n",
    "* Continuous: either integers (or whole numbers) or floats (decimals)\n",
    "* Categorical: one of a limited set of values, e.g: gender, country of birth\n",
    "* Ordinal: ranked values, often with no detail of distance between them\n",
    "* Boolean: True/False values\n",
    "* Datetime: dates and times\n",
    "\n",
    "**Dataset**:\n",
    "* Most common object in machine learning task\n",
    "* Work with 'pandas' library substantially\n",
    "* Know data with column names and column types\n",
    "* Basic information with *'.head()'* and *'.dtypes'*\n",
    "* You can also select specific data types in a dataset with *'.select_dtypes'* method\n",
    "*"
   ],
   "metadata": {
    "collapsed": false
   }
  },
  {
   "cell_type": "code",
   "execution_count": 1,
   "outputs": [
    {
     "name": "stdout",
     "output_type": "stream",
     "text": [
      "      SurveyDate                                    FormalEducation  \\\n",
      "0  2/28/18 20:20           Bachelor's degree (BA. BS. B.Eng.. etc.)   \n",
      "1  6/28/18 13:26           Bachelor's degree (BA. BS. B.Eng.. etc.)   \n",
      "2    6/6/18 3:37           Bachelor's degree (BA. BS. B.Eng.. etc.)   \n",
      "3    5/9/18 1:06  Some college/university study without earning ...   \n",
      "4  4/12/18 22:41           Bachelor's degree (BA. BS. B.Eng.. etc.)   \n",
      "\n",
      "   ConvertedSalary Hobby       Country  StackOverflowJobsRecommend  \\\n",
      "0              NaN   Yes  South Africa                         NaN   \n",
      "1          70841.0   Yes       Sweeden                         7.0   \n",
      "2              NaN    No       Sweeden                         8.0   \n",
      "3          21426.0   Yes       Sweeden                         NaN   \n",
      "4          41671.0   Yes            UK                         8.0   \n",
      "\n",
      "      VersionControl  Age  Years Experience Gender   RawSalary  \n",
      "0                Git   21                13   Male         NaN  \n",
      "1     Git;Subversion   38                 9   Male   70,841.00  \n",
      "2                Git   45                11    NaN         NaN  \n",
      "3  Zip file back-ups   46                12   Male   21,426.00  \n",
      "4                Git   39                 7   Male  £41,671.00  \n",
      "SurveyDate                     object\n",
      "FormalEducation                object\n",
      "ConvertedSalary               float64\n",
      "Hobby                          object\n",
      "Country                        object\n",
      "StackOverflowJobsRecommend    float64\n",
      "VersionControl                 object\n",
      "Age                             int64\n",
      "Years Experience                int64\n",
      "Gender                         object\n",
      "RawSalary                      object\n",
      "dtype: object\n"
     ]
    }
   ],
   "source": [
    "# getting to know your data\n",
    "import pandas as pd\n",
    "\n",
    "so_survey_df = pd.read_csv('10_datasets/Combined_DS_v10.csv')\n",
    "print(so_survey_df.head())\n",
    "print(so_survey_df.dtypes)"
   ],
   "metadata": {
    "collapsed": false
   }
  },
  {
   "cell_type": "code",
   "execution_count": 2,
   "outputs": [
    {
     "name": "stdout",
     "output_type": "stream",
     "text": [
      "Index(['ConvertedSalary', 'StackOverflowJobsRecommend', 'Age',\n",
      "       'Years Experience'],\n",
      "      dtype='object')\n"
     ]
    }
   ],
   "source": [
    "# selecting specific data types\n",
    "\n",
    "# create subset of only the numeric columns\n",
    "so_numeric_df = so_survey_df.select_dtypes(include=['int', 'float'])\n",
    "print(so_numeric_df.columns)"
   ],
   "metadata": {
    "collapsed": false
   }
  },
  {
   "cell_type": "markdown",
   "source": [
    "#### 1.2 Dealing with categorical variables\n",
    "\n",
    "**Categorical variables**:\n",
    "* They represent groups that are qualitative in nature (e.g: colors, country of birth)\n",
    "* They need to be encoded to be used in your machine learning models\n",
    "\n",
    "**Encoding categorical features**:\n",
    "* Values can be encoded by creating additional binary features (value 0 and 1)\n",
    "* Simply assigning numbers to values might be misleading because they might represent some un-existed orders\n",
    "* Two main approaches: (both canbe done pd.get_dummies method)\n",
    "    1. One-hot encoding ('pd.get_dummies(df, columns, prefix)'): n categories -> n features\n",
    "    2. Dummy encoding ('pd.get_dummies(df, columns, **drop_first=True**, prefix)'): n categories -> n-1 features\n",
    "* For columns with too many categories, you might want to limit column numbers by creating columns for most common values\n",
    "\n",
    "**One-hot vs. dummies:**\n",
    "* One-hot encoding: explainable features\n",
    "* Dummy encoding: Necessary information without duplication\n"
   ],
   "metadata": {
    "collapsed": false
   }
  },
  {
   "cell_type": "code",
   "execution_count": 3,
   "outputs": [
    {
     "name": "stdout",
     "output_type": "stream",
     "text": [
      "Index(['SurveyDate', 'FormalEducation', 'ConvertedSalary', 'Hobby',\n",
      "       'StackOverflowJobsRecommend', 'VersionControl', 'Age',\n",
      "       'Years Experience', 'Gender', 'RawSalary', 'OH_France', 'OH_India',\n",
      "       'OH_Ireland', 'OH_Russia', 'OH_South Africa', 'OH_Spain', 'OH_Sweeden',\n",
      "       'OH_UK', 'OH_USA', 'OH_Ukraine'],\n",
      "      dtype='object')\n"
     ]
    }
   ],
   "source": [
    "# one-hot encoding and dummy variables\n",
    "import pandas as pd\n",
    "\n",
    "# get original data\n",
    "so_survey_df = pd.read_csv('10_datasets/Combined_DS_v10.csv')\n",
    "\n",
    "# convert  the Country column to one-hot dataframe\n",
    "one_hot_encoded = pd.get_dummies(so_survey_df, columns=['Country'], prefix='OH')\n",
    "print(one_hot_encoded.columns)"
   ],
   "metadata": {
    "collapsed": false
   }
  },
  {
   "cell_type": "code",
   "execution_count": 4,
   "outputs": [
    {
     "name": "stdout",
     "output_type": "stream",
     "text": [
      "Index(['SurveyDate', 'FormalEducation', 'ConvertedSalary', 'Hobby',\n",
      "       'StackOverflowJobsRecommend', 'VersionControl', 'Age',\n",
      "       'Years Experience', 'Gender', 'RawSalary', 'DM_India', 'DM_Ireland',\n",
      "       'DM_Russia', 'DM_South Africa', 'DM_Spain', 'DM_Sweeden', 'DM_UK',\n",
      "       'DM_USA', 'DM_Ukraine'],\n",
      "      dtype='object')\n"
     ]
    }
   ],
   "source": [
    "# convert Country column to dummy variables\n",
    "dummy = pd.get_dummies(so_survey_df, columns=['Country'], drop_first=True, prefix='DM')\n",
    "print(dummy.columns)\n",
    "\n",
    "# notice column for France was missing for dummy variables"
   ],
   "metadata": {
    "collapsed": false
   }
  },
  {
   "cell_type": "code",
   "execution_count": 7,
   "outputs": [
    {
     "name": "stdout",
     "output_type": "stream",
     "text": [
      "South Africa    166\n",
      "USA             164\n",
      "Spain           134\n",
      "Sweeden         119\n",
      "France          115\n",
      "Russia           97\n",
      "UK               95\n",
      "India            95\n",
      "Ukraine           9\n",
      "Ireland           5\n",
      "Name: Country, dtype: int64\n",
      "South Africa    166\n",
      "USA             164\n",
      "Spain           134\n",
      "Sweeden         119\n",
      "France          115\n",
      "Russia           97\n",
      "UK               95\n",
      "India            95\n",
      "Other            14\n",
      "Name: Country, dtype: int64\n"
     ]
    },
    {
     "name": "stderr",
     "output_type": "stream",
     "text": [
      "C:\\Users\\User\\AppData\\Local\\Temp\\ipykernel_164280\\3802220343.py:9: SettingWithCopyWarning: \n",
      "A value is trying to be set on a copy of a slice from a DataFrame\n",
      "\n",
      "See the caveats in the documentation: https://pandas.pydata.org/pandas-docs/stable/user_guide/indexing.html#returning-a-view-versus-a-copy\n",
      "  so_survey_df['Country'][mask] = 'Other'\n"
     ]
    }
   ],
   "source": [
    "# dealing with uncommon categories\n",
    "\n",
    "# get value_counts of column 'Country'\n",
    "country_counts = so_survey_df['Country'].value_counts()\n",
    "print(country_counts)\n",
    "\n",
    "# create a mask for less common values\n",
    "mask = so_survey_df['Country'].isin(country_counts[country_counts < 10].index)\n",
    "so_survey_df['Country'][mask] = 'Other'\n",
    "print(so_survey_df['Country'].value_counts())\n",
    "\n",
    "# note country 'Ukraine' and 'Ireland' become 'Other'"
   ],
   "metadata": {
    "collapsed": false
   }
  },
  {
   "cell_type": "markdown",
   "source": [
    "#### 1.3 Numeric variables\n",
    "\n",
    "**Types of numeric features**:\n",
    "* Age\n",
    "* Price\n",
    "* Counts\n",
    "* Geospatial data (e.g: coordinates)\n",
    "\n",
    "**Key considerations:**\n",
    "1. Does size matter? Is the *magnitude* more important or its *directions*?\n",
    "    * If the magnitude does NOT matter, just turn it into a binary numeric variable with value 0 and 1\n",
    "2. An extension of this would be binning numeric variables into groups\n",
    "    * Bins can be created with *'.cut()'* function in pandas"
   ],
   "metadata": {
    "collapsed": false
   }
  },
  {
   "cell_type": "code",
   "execution_count": 8,
   "outputs": [
    {
     "name": "stdout",
     "output_type": "stream",
     "text": [
      "   Paid_Job  ConvertedSalary\n",
      "0         0              NaN\n",
      "1         1          70841.0\n",
      "2         0              NaN\n",
      "3         1          21426.0\n",
      "4         1          41671.0\n"
     ]
    }
   ],
   "source": [
    "# binarizing columns\n",
    "import pandas as pd\n",
    "\n",
    "# get original data\n",
    "so_survey_df = pd.read_csv('10_datasets/Combined_DS_v10.csv')\n",
    "\n",
    "# create new 'Paid_Job' column with zeros\n",
    "so_survey_df['Paid_Job'] = 0\n",
    "\n",
    "# replace values where ConvertedSalary > 0\n",
    "so_survey_df.loc[so_survey_df['ConvertedSalary'] > 0, 'Paid_Job'] = 1\n",
    "print(so_survey_df[['Paid_Job', 'ConvertedSalary']].head())"
   ],
   "metadata": {
    "collapsed": false
   }
  },
  {
   "cell_type": "code",
   "execution_count": 10,
   "outputs": [
    {
     "name": "stdout",
     "output_type": "stream",
     "text": [
      "          equal_binned  ConvertedSalary\n",
      "0  (-2000.0, 400000.0]              0.0\n",
      "1  (-2000.0, 400000.0]          70841.0\n",
      "2  (-2000.0, 400000.0]              0.0\n",
      "3  (-2000.0, 400000.0]          21426.0\n",
      "4  (-2000.0, 400000.0]          41671.0\n"
     ]
    }
   ],
   "source": [
    "# binning values\n",
    "import numpy as np\n",
    "\n",
    "# bin the column 'ConvertedSalary' into 5 groups\n",
    "so_survey_df['ConvertedSalary'] = so_survey_df['ConvertedSalary'].replace(np.nan, 0)\n",
    "so_survey_df['equal_binned'] = pd.cut(so_survey_df['ConvertedSalary'], bins=5)\n",
    "print(so_survey_df[['equal_binned', 'ConvertedSalary']].head())"
   ],
   "metadata": {
    "collapsed": false
   }
  },
  {
   "cell_type": "code",
   "execution_count": 11,
   "outputs": [
    {
     "name": "stdout",
     "output_type": "stream",
     "text": [
      "  boundary_binned  ConvertedSalary\n",
      "0        Very low              0.0\n",
      "1          Medium          70841.0\n",
      "2        Very low              0.0\n",
      "3             Low          21426.0\n",
      "4             Low          41671.0\n"
     ]
    }
   ],
   "source": [
    "# binning values with boundaries\n",
    "import numpy as np\n",
    "\n",
    "# specify the boundaries and labels of bin\n",
    "bins = [-np.inf, 10000, 50000, 100000, 150000, np.inf]\n",
    "labels = ['Very low', 'Low', 'Medium', 'High', 'Very High']\n",
    "\n",
    "# bin the column\n",
    "so_survey_df['boundary_binned'] = pd.cut(so_survey_df['ConvertedSalary'], bins=bins, labels=labels)\n",
    "print(so_survey_df[['boundary_binned', 'ConvertedSalary']].head())"
   ],
   "metadata": {
    "collapsed": false
   }
  },
  {
   "cell_type": "markdown",
   "source": [
    "### CHAPTER 2. Dealing with messy data\n",
    "\n",
    "#### 2.1 Why do missing values exist?\n",
    "\n",
    "*"
   ],
   "metadata": {
    "collapsed": false
   }
  },
  {
   "cell_type": "code",
   "execution_count": null,
   "outputs": [],
   "source": [],
   "metadata": {
    "collapsed": false
   }
  },
  {
   "cell_type": "markdown",
   "source": [
    "### CHAPTER 3. Conforming to Statistical Assumptions\n",
    "\n",
    "#### 3.1"
   ],
   "metadata": {
    "collapsed": false
   }
  },
  {
   "cell_type": "code",
   "execution_count": null,
   "outputs": [],
   "source": [],
   "metadata": {
    "collapsed": false
   }
  },
  {
   "cell_type": "markdown",
   "source": [
    "### CHAPTER 4. Dealing with Text Data\n",
    "\n",
    "#### 4.1"
   ],
   "metadata": {
    "collapsed": false
   }
  },
  {
   "cell_type": "code",
   "execution_count": null,
   "outputs": [],
   "source": [],
   "metadata": {
    "collapsed": false
   }
  }
 ],
 "metadata": {
  "kernelspec": {
   "display_name": "Python 3",
   "language": "python",
   "name": "python3"
  },
  "language_info": {
   "codemirror_mode": {
    "name": "ipython",
    "version": 2
   },
   "file_extension": ".py",
   "mimetype": "text/x-python",
   "name": "python",
   "nbconvert_exporter": "python",
   "pygments_lexer": "ipython2",
   "version": "2.7.6"
  }
 },
 "nbformat": 4,
 "nbformat_minor": 0
}
