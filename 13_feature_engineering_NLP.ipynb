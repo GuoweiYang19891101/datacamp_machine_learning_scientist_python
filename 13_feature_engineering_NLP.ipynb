{
 "cells": [
  {
   "cell_type": "markdown",
   "source": [
    "## Feature Engineering for NLP in Python\n",
    "\n",
    "**Course Structure:**\n",
    "* Chapter 1.\n",
    "* Chapter 2.\n",
    "* Chapter 3.\n",
    "* Chapter 4.\n",
    "\n",
    "\n",
    "### CHAPTER 1. Basic features and readability scores\n",
    "\n",
    "#### Part 1.1 Introduction to NLP feature engineering\n",
    "\n",
    "*"
   ],
   "metadata": {
    "collapsed": false
   }
  }
 ],
 "metadata": {
  "kernelspec": {
   "display_name": "Python 3",
   "language": "python",
   "name": "python3"
  },
  "language_info": {
   "codemirror_mode": {
    "name": "ipython",
    "version": 2
   },
   "file_extension": ".py",
   "mimetype": "text/x-python",
   "name": "python",
   "nbconvert_exporter": "python",
   "pygments_lexer": "ipython2",
   "version": "2.7.6"
  }
 },
 "nbformat": 4,
 "nbformat_minor": 0
}
