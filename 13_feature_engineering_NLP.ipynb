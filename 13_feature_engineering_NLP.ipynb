{
 "cells": [
  {
   "cell_type": "markdown",
   "source": [
    "## Feature Engineering for NLP in Python\n",
    "\n",
    "**Course Structure:**\n",
    "* Chapter 1. Basic features and readability scores\n",
    "* Chapter 2. Text preprocessing, POS tagging and NER\n",
    "* Chapter 3. N-Gram models\n",
    "* Chapter 4. TF-IDF and similarity scores\n",
    "\n",
    "### CHAPTER 1. Basic features and readability scores\n",
    "\n",
    "#### Part 1.1 Introduction to NLP feature engineering\n",
    "\n",
    "* For any ML algorithm, data fed into it must be in **tabular form** and the features must be **numerical**\n",
    "* Categorical data can be converted into numerical through **one-hot encoding**\n",
    "* Use *'pd.get_dummies()'* method to achieve it\n",
    "* Text data needs to be preprocessed with two steps\n",
    "    1. Standardize the text (e.g: lowercase, base form)\n",
    "    2. Vectorize the text (e.g: bag-of-words, tf-idf)\n",
    "* Basic features about text data:\n",
    "    * Number of words\n",
    "    * Number of characters\n",
    "    * Average length of words\n",
    "* More advanced features about text data:\n",
    "    * Part-Of-Speech (POS) tagging\n",
    "    * Named Entity Recognition (NER)"
   ],
   "metadata": {
    "collapsed": false
   }
  },
  {
   "cell_type": "code",
   "execution_count": 2,
   "outputs": [
    {
     "name": "stdout",
     "output_type": "stream",
     "text": [
      "Index(['feature_1', 'feature_2', 'feature_3', 'feature_4', 'feature_5',\n",
      "       'label'],\n",
      "      dtype='object')\n",
      "Index(['feature_1', 'feature_2', 'feature_3', 'feature_4', 'label',\n",
      "       'feature_5_female', 'feature_5_male'],\n",
      "      dtype='object')\n",
      "   feature_1  feature_2  feature_3  feature_4  label  feature_5_female  \\\n",
      "0    29.0000          0          0   211.3375      1                 1   \n",
      "1     0.9167          1          2   151.5500      1                 0   \n",
      "2     2.0000          1          2   151.5500      0                 1   \n",
      "3    30.0000          1          2   151.5500      0                 0   \n",
      "4    25.0000          1          2   151.5500      0                 1   \n",
      "\n",
      "   feature_5_male  \n",
      "0               0  \n",
      "1               1  \n",
      "2               0  \n",
      "3               1  \n",
      "4               0  \n"
     ]
    }
   ],
   "source": [
    "# Code for part 1.1\n",
    "\n",
    "# one-hot encoding\n",
    "import pandas as pd\n",
    "\n",
    "# create dataframe by hand\n",
    "feature_1 = [29.0, 0.9167, 2.0, 30.0, 25.0, 48.0, 63.0, 39.0, 53.0, 71.0, 47.0, 18.0, 24.0, 26.0, 80.0]\n",
    "feature_2 = [0, 1, 1, 1, 1, 0, 1, 0, 2, 0, 1, 1, 0, 0, 0]\n",
    "feature_3 = [0, 2, 2, 2, 2, 0, 0, 0, 0, 0, 0, 0, 0, 0, 0]\n",
    "feature_4 = [211.3375, 151.55, 151.55, 151.55, 151.55, 26.55, 77.9583, 0.0, 51.4792, 49.5042, 227.525, 227.525, 69.3, 78.85, 30.0]\n",
    "feature_5 = ['female', 'male', 'female', 'male', 'female', 'male', 'female', 'male', 'female', 'male', 'male', 'female', 'female', 'female', 'male']\n",
    "label = [1, 1, 0, 0, 0, 1, 1, 0, 1, 0, 0, 1, 1, 1, 1]\n",
    "\n",
    "df1 = pd.DataFrame({'feature_1': feature_1, 'feature_2':feature_2, 'feature_3':feature_3, 'feature_4':feature_4, 'feature_5':feature_5, 'label':label})\n",
    "print(df1.columns)\n",
    "\n",
    "# perform one-hot encoding for column 'feature_5'\n",
    "df1 = pd.get_dummies(df1, columns=['feature_5'])\n",
    "print(df1.columns)\n",
    "print(df1.head())"
   ],
   "metadata": {
    "collapsed": false
   }
  },
  {
   "cell_type": "markdown",
   "source": [
    "#### Part 1.2 Basic feature extraction\n",
    "\n",
    "**Basic feature extraction:**\n",
    "* Number of characters with *'len()'* method\n",
    "* Number of words with *'.split()'* and *'len()'* method\n",
    "* Average word length with *'.split()'*, *'len()'*, and *'mean()'* method\n",
    "* You can crate functions to apply these easier\n",
    "* For special data like tweets, some special features like *hashtags* and *mentions* are worth checking on\n",
    "* Use *''.startswith()* method to achieve it\n",
    "* Other features :\n",
    "    * Number of sentences\n",
    "    * Number of paragraphs\n",
    "    * Words starting with an uppercase\n",
    "    * All-capital words\n",
    "    * Numerical quantities"
   ],
   "metadata": {
    "collapsed": false
   }
  },
  {
   "cell_type": "code",
   "execution_count": 8,
   "outputs": [
    {
     "name": "stdout",
     "output_type": "stream",
     "text": [
      "Index(['Unnamed: 0', 'content'], dtype='object')\n",
      "Average word length in tweets:\n",
      "103.462\n"
     ]
    }
   ],
   "source": [
    "# Code for part 1.2\n",
    "\n",
    "# character count of Russian tweets\n",
    "import pandas as pd\n",
    "\n",
    "# get tweets data\n",
    "tweets = pd.read_csv('13_datasets/russian_tweets.csv')\n",
    "# print(tweets.head())\n",
    "print(tweets.columns)\n",
    "\n",
    "# create a feature 'char_count'\n",
    "tweets['char_count'] = tweets['content'].apply(len)\n",
    "print(\"Average word length in tweets:\")\n",
    "print(tweets['char_count'].mean())"
   ],
   "metadata": {
    "collapsed": false
   }
  },
  {
   "cell_type": "code",
   "execution_count": 9,
   "outputs": [
    {
     "name": "stdout",
     "output_type": "stream",
     "text": [
      "Index(['transcript', 'url'], dtype='object')\n",
      "Average words in each TED talk:\n",
      "1987.1\n"
     ]
    }
   ],
   "source": [
    "# Code for part 1.2 (continue)\n",
    "\n",
    "# word count for TED talks\n",
    "import pandas as pd\n",
    "\n",
    "# get TED talks data\n",
    "ted = pd.read_csv('13_datasets/ted.csv')\n",
    "# print(ted.head())\n",
    "print(ted.columns)\n",
    "\n",
    "# create a function to count number of words in string\n",
    "def count_words(string):\n",
    "    words = string.split()\n",
    "    return len(words)\n",
    "\n",
    "# create a new feature 'word_count'\n",
    "ted['word_count'] = ted['transcript'].apply(count_words)\n",
    "print('Average words in each TED talk:')\n",
    "print(ted['word_count'].mean())"
   ],
   "metadata": {
    "collapsed": false
   }
  },
  {
   "cell_type": "code",
   "execution_count": 11,
   "outputs": [
    {
     "data": {
      "text/plain": "<Figure size 640x480 with 2 Axes>",
      "image/png": "[encoded data removed]"
     },
     "metadata": {},
     "output_type": "display_data"
    }
   ],
   "source": [
    "# Code for part 1.2 (continue)\n",
    "\n",
    "# hashtags and mentions in Russian tweets\n",
    "import pandas as pd\n",
    "import matplotlib.pyplot as plt\n",
    "\n",
    "# get tweets data\n",
    "tweets = pd.read_csv('13_datasets/russian_tweets.csv')\n",
    "\n",
    "# create functions to return number of hashtags and mentions in a string\n",
    "def count_hashtags(string):\n",
    "    words = string.split()\n",
    "    hashtags = [word for word in words if word.startswith('#')]\n",
    "    return len(hashtags)\n",
    "\n",
    "def count_mentions(string):\n",
    "    words = string.split()\n",
    "    mentions = [word for word in words if word.startswith('@')]\n",
    "    return len(mentions)\n",
    "\n",
    "# create new features 'hashtag_count' and 'mention_count'\n",
    "tweets['hashtag_count'] = tweets['content'].apply(count_hashtags)\n",
    "tweets['mention_count'] = tweets['content'].apply(count_mentions)\n",
    "\n",
    "# create data visualizations\n",
    "fig, (ax1, ax2) = plt.subplots(1, 2)\n",
    "ax1.hist(tweets['hashtag_count'])\n",
    "ax2.hist(tweets['mention_count'])\n",
    "ax1.set_title('Hashtag count distribution')\n",
    "ax2.set_title('Mention count distribution')\n",
    "plt.show()\n"
   ],
   "metadata": {
    "collapsed": false
   }
  },
  {
   "cell_type": "markdown",
   "source": [
    "#### Part 1.3 Readability tests\n",
    "\n",
    "* It is used to determine the *readability* of a particular passage\n",
    "* Scale ranging from *Primary School* to *College Graduate* level\n",
    "* A mathematical formula with word, syllable and sentence count\n",
    "* It is used in *fake news* and *opinion spam* detection\n",
    "* Examples: (we go into details with first two scores)\n",
    "    * **Flesch reading ease**\n",
    "    * **Gunning fog index**\n",
    "    * Simple Measure of Gobbledygook (SMOG)\n",
    "    * Dale-Chall score\n",
    "* **Textatistic** library can be used to do these tests\n",
    "\n",
    "**Flesch reading ease:**\n",
    "* One of the oldest and most widely used tests\n",
    "* Dependent on two factors:\n",
    "1. Average sentence length\n",
    "2. Average number of syllables\n",
    "* Higher the score, greater the readability (easier to understand)\n",
    "\n",
    "**Gunning fog index:**\n",
    "* Developed in 1954\n",
    "* Dependent on two factors:\n",
    "1. Average sentence length\n",
    "2. Percentage of complex words\n",
    "* Higher the score, lesser the readability (more difficult to understand)\n"
   ],
   "metadata": {
    "collapsed": false
   }
  },
  {
   "cell_type": "code",
   "execution_count": 14,
   "outputs": [
    {
     "name": "stdout",
     "output_type": "stream",
     "text": [
      "The flesch reading ease is 81.67\n"
     ]
    }
   ],
   "source": [
    "# Code for part 1.4\n",
    "\n",
    "# readability of 'The Myth of Sisyphus'\n",
    "from textatistic import Textatistic\n",
    "\n",
    "# get text file\n",
    "text_file = open('13_datasets/sisyphus.txt', 'rb')\n",
    "sisyphus = text_file.read()\n",
    "text_file.close()\n",
    "sisyphus = sisyphus.decode('utf-8')\n",
    "\n",
    "# compute the readability scores\n",
    "readability_scores = Textatistic(sisyphus).scores\n",
    "flesch = readability_scores['flesch_score']\n",
    "\n",
    "# print the scores\n",
    "print('The flesch reading ease is %.2f' % (flesch))\n"
   ],
   "metadata": {
    "collapsed": false
   }
  },
  {
   "cell_type": "code",
   "execution_count": 1,
   "outputs": [
    {
     "name": "stdout",
     "output_type": "stream",
     "text": [
      "[14.436002482929858, 20.735401069518716, 11.085587583148559, 5.926785009861934]\n"
     ]
    }
   ],
   "source": [
    "# Code for part 1.4 (continue)\n",
    "\n",
    "# readability vs. publications\n",
    "from textatistic import Textatistic\n",
    "\n",
    "# get strings\n",
    "forbes = 'The idea is to create more transparency about companies and individuals that are breaking the law or are non-compliant with official obligations and incentivize the right behaviors with the overall goal of improving governance and market order. The Chinese Communist Party intends the social credit score system to “allow the trustworthy to roam freely under heaven while making it hard for the discredited to take a single step.” Even though the system is still under development it currently plays out in real life in myriad ways for private citizens, businesses and government officials. Generally, higher credit scores give people a variety of advantages. Individuals are often given perks such as discounted energy bills and access or better visibility on dating websites. Often, those with higher social credit scores are able to forgo deposits on rental properties, bicycles, and umbrellas. They can even get better travel deals. In addition, Chinese hospitals are currently experimenting with social credit scores. A social credit score above 650 at one hospital allows an individual to see a doctor without lining up to pay.'\n",
    "\n",
    "harvard_law = 'In his important new book, The Schoolhouse Gate: Public Education, the Supreme Court, and the Battle for the American Mind, Professor Justin Driver reminds us that private controversies that arise within the confines of public schools are part of a broader historical arc — one that tracks a range of cultural and intellectual flashpoints in U.S. history. Moreover, Driver explains, these tensions are reflected in constitutional law, and indeed in the history and jurisprudence of the Supreme Court. As such, debates that arise in the context of public education are not simply about the conflict between academic freedom, public safety, and student rights. They mirror our persistent struggle to reconcile our interest in fostering a pluralistic society, rooted in the ideal of individual autonomy, with our desire to cultivate a sense of national unity and shared identity (or, put differently, our effort to reconcile our desire to forge common norms of citizenship with our fear of state indoctrination and overencroachment). In this regard, these debates reflect the unique role that both the school and the courts have played in defining and enforcing the boundaries of American citizenship.'\n",
    "r_digest = 'This week 30 passengers were reportedly injured when a Turkish Airlines flight landing at John F. Kennedy International Airport encountered turbulent conditions. Injuries included bruises, bloody noses, and broken bones. In mid-February, a Delta Airlines flight made an emergency landing to assist three passengers in getting to the nearest hospital after some sudden and unexpected turbulence. Doctors treated 15 passengers after a flight from Miami to Buenos Aires last October for everything from severe bruising to nosebleeds after the plane caught some rough winds over Brazil. In 2016, 23 passengers were injured on a United Airlines flight after severe turbulence threw people into the cabin ceiling. The list goes on. Turbulence has been become increasingly common, with painful outcomes for those on board. And more costly to the airlines, too. Forbes estimates that the cost of turbulence has risen to over $500 million each year in damages and delays. And there are no signs the increase in turbulence will be stopping anytime soon.'\n",
    "time_kids = 'That, of course, is easier said than done. The more you eat salty foods, the more you develop a taste for them. The key to changing your diet is to start small. “Small changes in sodium in foods are not usually noticed,” Quader says. Eventually, she adds, the effort will reset a kid’s taste buds so the salt cravings stop. Bridget Murphy is a dietitian at New York University’s Langone Medical Center. She suggests kids try adding spices to their food instead of salt. Eating fruits and veggies and cutting back on packaged foods will also help. Need a little inspiration? Murphy offers this tip: Focus on the immediate effects of a diet that is high in sodium. High blood pressure can make it difficult to be active. “Do you want to be able to think clearly and perform well in school?” she asks. “If you’re an athlete, do you want to run faster?” If you answered yes to these questions, then it’s time to shake the salt habit.'\n",
    "\n",
    "# list of excerpts\n",
    "excerpts = [forbes, harvard_law, r_digest, time_kids]\n",
    "\n",
    "# loop through\n",
    "gunning_fog_scores = []\n",
    "for excerpt in excerpts:\n",
    "    readability_scores = Textatistic(excerpt).scores\n",
    "    gunning_score = readability_scores['gunningfog_score']\n",
    "    gunning_fog_scores.append(gunning_score)\n",
    "\n",
    "print(gunning_fog_scores)"
   ],
   "metadata": {
    "collapsed": false
   }
  },
  {
   "cell_type": "markdown",
   "source": [
    "### CHAPTER 2. Text preprocessing, POS tagging and NER\n",
    "\n",
    "#### Part 2.1 Tokenization and Lemmatization\n",
    "\n",
    "* We need to **standardize** texts into a *machine friendly format* when text might have different sources\n",
    "* Example: *reduction*, *reducing*, *reduce* mean similar things\n",
    "* Text preprocessing techniques:\n",
    "    * Converting words into lowercase\n",
    "    * Removing leading and trailing whitespace\n",
    "    * Removing punctuation\n",
    "    * Removing stopwords\n",
    "    * Expanding contractions\n",
    "    * Removing special characters (numbers, emojis, etc.)\n",
    "* **Tokenization** is the process of splitting a string into tokens, tokens can be sentences, words or punctuations\n",
    "* Use *'Spacy'* library for tokenization\n",
    "\n",
    "* **Lemmatization** is the process of converting a word into its lowercased based form or lemma\n",
    "* Example: reducing, reduces, reduced, reduction -> reduce\n",
    "* Example: am, is, are -> be\n",
    "* Use *'Spacy'* library for lemmatization, too"
   ],
   "metadata": {
    "collapsed": false
   }
  },
  {
   "cell_type": "code",
   "execution_count": 2,
   "outputs": [
    {
     "name": "stdout",
     "output_type": "stream",
     "text": [
      "['Four', 'score', 'and', 'seven', 'years', 'ago', 'our', 'fathers', 'brought', 'forth', 'on', 'this', 'continent', ',', 'a', 'new', 'nation', ',', 'conceived', 'in', 'Liberty', ',', 'and', 'dedicated', 'to', 'the', 'proposition', 'that', 'all', 'men', 'are', 'created', 'equal', '.', 'Now', 'we', \"'re\", 'engaged', 'in', 'a', 'great', 'civil', 'war', ',', 'testing', 'whether', 'that', 'nation', ',', 'or', 'any', 'nation', 'so', 'conceived', 'and', 'so', 'dedicated', ',', 'can', 'long', 'endure', '.', 'We', \"'re\", 'met', 'on', 'a', 'great', 'battlefield', 'of', 'that', 'war', '.', 'We', \"'ve\", 'come', 'to', 'dedicate', 'a', 'portion', 'of', 'that', 'field', ',', 'as', 'a', 'final', 'resting', 'place', 'for', 'those', 'who', 'here', 'gave', 'their', 'lives', 'that', 'that', 'nation', 'might', 'live', '.', 'It', \"'s\", 'altogether', 'fitting', 'and', 'proper', 'that', 'we', 'should', 'do', 'this', '.', 'But', ',', 'in', 'a', 'larger', 'sense', ',', 'we', 'ca', \"n't\", 'dedicate', '-', 'we', 'can', 'not', 'consecrate', '-', 'we', 'can', 'not', 'hallow', '-', 'this', 'ground', '.', 'The', 'brave', 'men', ',', 'living', 'and', 'dead', ',', 'who', 'struggled', 'here', ',', 'have', 'consecrated', 'it', ',', 'far', 'above', 'our', 'poor', 'power', 'to', 'add', 'or', 'detract', '.', 'The', 'world', 'will', 'little', 'note', ',', 'nor', 'long', 'remember', 'what', 'we', 'say', 'here', ',', 'but', 'it', 'can', 'never', 'forget', 'what', 'they', 'did', 'here', '.', 'It', 'is', 'for', 'us', 'the', 'living', ',', 'rather', ',', 'to', 'be', 'dedicated', 'here', 'to', 'the', 'unfinished', 'work', 'which', 'they', 'who', 'fought', 'here', 'have', 'thus', 'far', 'so', 'nobly', 'advanced', '.', 'It', \"'s\", 'rather', 'for', 'us', 'to', 'be', 'here', 'dedicated', 'to', 'the', 'great', 'task', 'remaining', 'before', 'us', '-', 'that', 'from', 'these', 'honored', 'dead', 'we', 'take', 'increased', 'devotion', 'to', 'that', 'cause', 'for', 'which', 'they', 'gave', 'the', 'last', 'full', 'measure', 'of', 'devotion', '-', 'that', 'we', 'here', 'highly', 'resolve', 'that', 'these', 'dead', 'shall', 'not', 'have', 'died', 'in', 'vain', '-', 'that', 'this', 'nation', ',', 'under', 'God', ',', 'shall', 'have', 'a', 'new', 'birth', 'of', 'freedom', '-', 'and', 'that', 'government', 'of', 'the', 'people', ',', 'by', 'the', 'people', ',', 'for', 'the', 'people', ',', 'shall', 'not', 'perish', 'from', 'the', 'earth', '.']\n"
     ]
    }
   ],
   "source": [
    "# Code for part 2.1\n",
    "\n",
    "# tokenizing the Gettysburg address\n",
    "import spacy\n",
    "\n",
    "# get the speech text\n",
    "gettysburg = \"Four score and seven years ago our fathers brought forth on this continent, a new nation, conceived in Liberty, and dedicated to the proposition that all men are created equal. Now we're engaged in a great civil war, testing whether that nation, or any nation so conceived and so dedicated, can long endure. We're met on a great battlefield of that war. We've come to dedicate a portion of that field, as a final resting place for those who here gave their lives that that nation might live. It's altogether fitting and proper that we should do this. But, in a larger sense, we can't dedicate - we can not consecrate - we can not hallow - this ground. The brave men, living and dead, who struggled here, have consecrated it, far above our poor power to add or detract. The world will little note, nor long remember what we say here, but it can never forget what they did here. It is for us the living, rather, to be dedicated here to the unfinished work which they who fought here have thus far so nobly advanced. It's rather for us to be here dedicated to the great task remaining before us - that from these honored dead we take increased devotion to that cause for which they gave the last full measure of devotion - that we here highly resolve that these dead shall not have died in vain - that this nation, under God, shall have a new birth of freedom - and that government of the people, by the people, for the people, shall not perish from the earth.\"\n",
    "\n",
    "# load the en_core_web_sm model\n",
    "nlp = spacy.load('en_core_web_sm')\n",
    "\n",
    "# create a doc object\n",
    "doc = nlp(gettysburg)\n",
    "\n",
    "# generate the tokens\n",
    "tokens = [token.text for token in doc]\n",
    "print(tokens)"
   ],
   "metadata": {
    "collapsed": false
   }
  },
  {
   "cell_type": "code",
   "execution_count": 3,
   "outputs": [
    {
     "name": "stdout",
     "output_type": "stream",
     "text": [
      "four score and seven year ago our father bring forth on this continent , a new nation , conceive in Liberty , and dedicate to the proposition that all man be create equal . now we be engage in a great civil war , test whether that nation , or any nation so conceive and so dedicated , can long endure . we be meet on a great battlefield of that war . we 've come to dedicate a portion of that field , as a final resting place for those who here give their life that that nation might live . it be altogether fitting and proper that we should do this . but , in a large sense , we can not dedicate - we can not consecrate - we can not hallow - this ground . the brave man , living and dead , who struggle here , have consecrate it , far above our poor power to add or detract . the world will little note , nor long remember what we say here , but it can never forget what they do here . it be for we the living , rather , to be dedicate here to the unfinished work which they who fight here have thus far so nobly advanced . it be rather for we to be here dedicated to the great task remain before we - that from these honored dead we take increase devotion to that cause for which they give the last full measure of devotion - that we here highly resolve that these dead shall not have die in vain - that this nation , under God , shall have a new birth of freedom - and that government of the people , by the people , for the people , shall not perish from the earth .\n"
     ]
    }
   ],
   "source": [
    "# Code for part 2.1 (continue)\n",
    "\n",
    "# lammatizing the Gettysburg address\n",
    "# use the same text file 'gettysburg'\n",
    "import spacy\n",
    "\n",
    "# load the en_core_web_sm model\n",
    "nlp = spacy.load('en_core_web_sm')\n",
    "\n",
    "# create a doc object\n",
    "doc = nlp(gettysburg)\n",
    "\n",
    "# generate the lemmas\n",
    "lemmas = [token.lemma_ for token in doc]\n",
    "print(' '.join(lemmas))\n",
    "\n",
    "# note how different the text is with lemmatization"
   ],
   "metadata": {
    "collapsed": false
   }
  },
  {
   "cell_type": "markdown",
   "source": [
    "#### Part 2.2 Text cleaning\n",
    "\n",
    "**Non-alphabet:**\n",
    "* *'.isalpha()'* method to return TRUE if all the characters are alphabets\n",
    "* It is a convenient method to remove all (lemmatized) tokens that are or contain numbers, punctuation or emojis\n",
    "* Sometimes, it would return FALSE on some words that we would not want to remove, like abbreviations, like U.S.A\n",
    "* For such situations, you need to write custom functions (with *'regrex'*)\n",
    "\n",
    "**Stopwords:**\n",
    "* Stopwords are words that occur extremely commonly\n",
    "* Examples: *the*, *a*, *is*, *am*, *he*, *she*\n",
    "* *'SpaCy'* library has a built-in list of stopwords\n",
    "* Access it with: 'spacy.lang.en.stop_words_STOP_WORDS'\n",
    "* Be careful when you use third party stop words\n",
    "* It is always advisable to create *your own stop words list*\n",
    "\n"
   ],
   "metadata": {
    "collapsed": false
   }
  },
  {
   "cell_type": "code",
   "execution_count": 1,
   "outputs": [
    {
     "ename": "OSError",
     "evalue": "[E050] Can't find model 'en_core_web_sm'. It doesn't seem to be a Python package or a valid path to a data directory.",
     "output_type": "error",
     "traceback": [
      "\u001B[0;31m---------------------------------------------------------------------------\u001B[0m",
      "\u001B[0;31mOSError\u001B[0m                                   Traceback (most recent call last)",
      "Cell \u001B[0;32mIn[1], line 11\u001B[0m\n\u001B[1;32m      8\u001B[0m blog \u001B[38;5;241m=\u001B[39m \u001B[38;5;124m'\u001B[39m\u001B[38;5;124mTwenty-first-century politics has witnessed an alarming rise of populism in the U.S. and Europe. The first warning signs came with the UK Brexit Referendum vote in 2016 swinging in the way of Leave. This was followed by a stupendous victory by billionaire Donald Trump to become the 45th President of the United States in November 2016. Since then, Europe has seen a steady rise in populist and far-right parties that have capitalized on Europe’s Immigration Crisis to raise nationalist and anti-Europe sentiments. Some instances include Alternative for Germany (AfD) winning 12.6\u001B[39m\u001B[38;5;132;01m% o\u001B[39;00m\u001B[38;5;124mf all seats and entering the Bundestag, thus upsetting Germany’s political order for the first time since the Second World War, the success of the Five Star Movement in Italy and the surge in popularity of neo-nazism and neo-fascism in countries such as Hungary, Czech Republic, Poland and Austria.\u001B[39m\u001B[38;5;124m'\u001B[39m\n\u001B[1;32m     10\u001B[0m \u001B[38;5;66;03m# load model and create doc object, stopwords\u001B[39;00m\n\u001B[0;32m---> 11\u001B[0m nlp \u001B[38;5;241m=\u001B[39m \u001B[43mspacy\u001B[49m\u001B[38;5;241;43m.\u001B[39;49m\u001B[43mload\u001B[49m\u001B[43m(\u001B[49m\u001B[38;5;124;43m'\u001B[39;49m\u001B[38;5;124;43men_core_web_sm\u001B[39;49m\u001B[38;5;124;43m'\u001B[39;49m\u001B[43m)\u001B[49m\n\u001B[1;32m     12\u001B[0m doc \u001B[38;5;241m=\u001B[39m nlp(blog)\n\u001B[1;32m     13\u001B[0m stopwords \u001B[38;5;241m=\u001B[39m nlp\u001B[38;5;241m.\u001B[39mDefaults\u001B[38;5;241m.\u001B[39mstop_words\n",
      "File \u001B[0;32m/Library/Frameworks/Python.framework/Versions/3.11/lib/python3.11/site-packages/spacy/__init__.py:51\u001B[0m, in \u001B[0;36mload\u001B[0;34m(name, vocab, disable, enable, exclude, config)\u001B[0m\n\u001B[1;32m     27\u001B[0m \u001B[38;5;28;01mdef\u001B[39;00m \u001B[38;5;21mload\u001B[39m(\n\u001B[1;32m     28\u001B[0m     name: Union[\u001B[38;5;28mstr\u001B[39m, Path],\n\u001B[1;32m     29\u001B[0m     \u001B[38;5;241m*\u001B[39m,\n\u001B[0;32m   (...)\u001B[0m\n\u001B[1;32m     34\u001B[0m     config: Union[Dict[\u001B[38;5;28mstr\u001B[39m, Any], Config] \u001B[38;5;241m=\u001B[39m util\u001B[38;5;241m.\u001B[39mSimpleFrozenDict(),\n\u001B[1;32m     35\u001B[0m ) \u001B[38;5;241m-\u001B[39m\u001B[38;5;241m>\u001B[39m Language:\n\u001B[1;32m     36\u001B[0m \u001B[38;5;250m    \u001B[39m\u001B[38;5;124;03m\"\"\"Load a spaCy model from an installed package or a local path.\u001B[39;00m\n\u001B[1;32m     37\u001B[0m \n\u001B[1;32m     38\u001B[0m \u001B[38;5;124;03m    name (str): Package name or model path.\u001B[39;00m\n\u001B[0;32m   (...)\u001B[0m\n\u001B[1;32m     49\u001B[0m \u001B[38;5;124;03m    RETURNS (Language): The loaded nlp object.\u001B[39;00m\n\u001B[1;32m     50\u001B[0m \u001B[38;5;124;03m    \"\"\"\u001B[39;00m\n\u001B[0;32m---> 51\u001B[0m     \u001B[38;5;28;01mreturn\u001B[39;00m \u001B[43mutil\u001B[49m\u001B[38;5;241;43m.\u001B[39;49m\u001B[43mload_model\u001B[49m\u001B[43m(\u001B[49m\n\u001B[1;32m     52\u001B[0m \u001B[43m        \u001B[49m\u001B[43mname\u001B[49m\u001B[43m,\u001B[49m\n\u001B[1;32m     53\u001B[0m \u001B[43m        \u001B[49m\u001B[43mvocab\u001B[49m\u001B[38;5;241;43m=\u001B[39;49m\u001B[43mvocab\u001B[49m\u001B[43m,\u001B[49m\n\u001B[1;32m     54\u001B[0m \u001B[43m        \u001B[49m\u001B[43mdisable\u001B[49m\u001B[38;5;241;43m=\u001B[39;49m\u001B[43mdisable\u001B[49m\u001B[43m,\u001B[49m\n\u001B[1;32m     55\u001B[0m \u001B[43m        \u001B[49m\u001B[43menable\u001B[49m\u001B[38;5;241;43m=\u001B[39;49m\u001B[43menable\u001B[49m\u001B[43m,\u001B[49m\n\u001B[1;32m     56\u001B[0m \u001B[43m        \u001B[49m\u001B[43mexclude\u001B[49m\u001B[38;5;241;43m=\u001B[39;49m\u001B[43mexclude\u001B[49m\u001B[43m,\u001B[49m\n\u001B[1;32m     57\u001B[0m \u001B[43m        \u001B[49m\u001B[43mconfig\u001B[49m\u001B[38;5;241;43m=\u001B[39;49m\u001B[43mconfig\u001B[49m\u001B[43m,\u001B[49m\n\u001B[1;32m     58\u001B[0m \u001B[43m    \u001B[49m\u001B[43m)\u001B[49m\n",
      "File \u001B[0;32m/Library/Frameworks/Python.framework/Versions/3.11/lib/python3.11/site-packages/spacy/util.py:472\u001B[0m, in \u001B[0;36mload_model\u001B[0;34m(name, vocab, disable, enable, exclude, config)\u001B[0m\n\u001B[1;32m    470\u001B[0m \u001B[38;5;28;01mif\u001B[39;00m name \u001B[38;5;129;01min\u001B[39;00m OLD_MODEL_SHORTCUTS:\n\u001B[1;32m    471\u001B[0m     \u001B[38;5;28;01mraise\u001B[39;00m \u001B[38;5;167;01mIOError\u001B[39;00m(Errors\u001B[38;5;241m.\u001B[39mE941\u001B[38;5;241m.\u001B[39mformat(name\u001B[38;5;241m=\u001B[39mname, full\u001B[38;5;241m=\u001B[39mOLD_MODEL_SHORTCUTS[name]))  \u001B[38;5;66;03m# type: ignore[index]\u001B[39;00m\n\u001B[0;32m--> 472\u001B[0m \u001B[38;5;28;01mraise\u001B[39;00m \u001B[38;5;167;01mIOError\u001B[39;00m(Errors\u001B[38;5;241m.\u001B[39mE050\u001B[38;5;241m.\u001B[39mformat(name\u001B[38;5;241m=\u001B[39mname))\n",
      "\u001B[0;31mOSError\u001B[0m: [E050] Can't find model 'en_core_web_sm'. It doesn't seem to be a Python package or a valid path to a data directory."
     ]
    }
   ],
   "source": [
    "# Code for part 2.2\n",
    "\n",
    "# cleaning a blog post\n",
    "import spacy\n",
    "\n",
    "\n",
    "# get blog content\n",
    "blog = 'Twenty-first-century politics has witnessed an alarming rise of populism in the U.S. and Europe. The first warning signs came with the UK Brexit Referendum vote in 2016 swinging in the way of Leave. This was followed by a stupendous victory by billionaire Donald Trump to become the 45th President of the United States in November 2016. Since then, Europe has seen a steady rise in populist and far-right parties that have capitalized on Europe’s Immigration Crisis to raise nationalist and anti-Europe sentiments. Some instances include Alternative for Germany (AfD) winning 12.6% of all seats and entering the Bundestag, thus upsetting Germany’s political order for the first time since the Second World War, the success of the Five Star Movement in Italy and the surge in popularity of neo-nazism and neo-fascism in countries such as Hungary, Czech Republic, Poland and Austria.'\n",
    "\n",
    "# load model and create doc object, stopwords\n",
    "nlp = spacy.load('en_core_web_sm')\n",
    "doc = nlp(blog)\n",
    "stopwords = nlp.Defaults.stop_words\n",
    "\n",
    "# create lemmatized tokens\n",
    "lemmas = [token.lemma_ for token in doc]\n",
    "\n",
    "# remove stopwords and non-alphabetic tokens\n",
    "a_lemmas = [lemma for lemma in lemmas if lemma.isalpha() and lemma not in stopwords]\n",
    "print(' '.join(a_lemmas))\n",
    "\n"
   ],
   "metadata": {
    "collapsed": false
   }
  },
  {
   "cell_type": "markdown",
   "source": [
    "#### Part 2.3 Part-of-speech tagging\n",
    "\n",
    "*"
   ],
   "metadata": {
    "collapsed": false
   }
  },
  {
   "cell_type": "code",
   "execution_count": null,
   "outputs": [],
   "source": [],
   "metadata": {
    "collapsed": false
   }
  },
  {
   "cell_type": "markdown",
   "source": [
    "#### Part 2.4 Named entity recognition (NER)\n",
    "\n",
    "*"
   ],
   "metadata": {
    "collapsed": false
   }
  },
  {
   "cell_type": "code",
   "execution_count": null,
   "outputs": [],
   "source": [],
   "metadata": {
    "collapsed": false
   }
  },
  {
   "cell_type": "markdown",
   "source": [
    "### CHAPTER 3. N-Gram models\n",
    "\n",
    "#### Part 3.1 Building a bag of words model\n",
    "\n",
    "*"
   ],
   "metadata": {
    "collapsed": false
   }
  },
  {
   "cell_type": "code",
   "execution_count": null,
   "outputs": [],
   "source": [],
   "metadata": {
    "collapsed": false
   }
  },
  {
   "cell_type": "markdown",
   "source": [
    "#### Part 3.2 Building a BoW Naive Bayes classifier\n",
    "\n",
    "*"
   ],
   "metadata": {
    "collapsed": false
   }
  },
  {
   "cell_type": "code",
   "execution_count": null,
   "outputs": [],
   "source": [],
   "metadata": {
    "collapsed": false
   }
  },
  {
   "cell_type": "markdown",
   "source": [
    "#### Part 3.3 Building n-gram models\n",
    "\n",
    "*"
   ],
   "metadata": {
    "collapsed": false
   }
  },
  {
   "cell_type": "code",
   "execution_count": null,
   "outputs": [],
   "source": [],
   "metadata": {
    "collapsed": false
   }
  },
  {
   "cell_type": "markdown",
   "source": [
    "### CHAPTER 4. TF-IDF and similarity scores\n",
    "\n",
    "#### Part 4.1 Building tf-idf document vectors\n",
    "\n",
    "*"
   ],
   "metadata": {
    "collapsed": false
   }
  },
  {
   "cell_type": "code",
   "execution_count": null,
   "outputs": [],
   "source": [],
   "metadata": {
    "collapsed": false
   }
  },
  {
   "cell_type": "markdown",
   "source": [
    "#### Part 4.2 Cosine similarity\n",
    "\n",
    "*"
   ],
   "metadata": {
    "collapsed": false
   }
  },
  {
   "cell_type": "code",
   "execution_count": null,
   "outputs": [],
   "source": [],
   "metadata": {
    "collapsed": false
   }
  },
  {
   "cell_type": "markdown",
   "source": [
    "#### Part 4.3 Building a plot line based recommender\n",
    "\n",
    "*"
   ],
   "metadata": {
    "collapsed": false
   }
  },
  {
   "cell_type": "code",
   "execution_count": null,
   "outputs": [],
   "source": [],
   "metadata": {
    "collapsed": false
   }
  },
  {
   "cell_type": "markdown",
   "source": [
    "#### Part 4.4 Beyond n-grams: word embeddings\n",
    "\n",
    "*"
   ],
   "metadata": {
    "collapsed": false
   }
  },
  {
   "cell_type": "code",
   "execution_count": null,
   "outputs": [],
   "source": [],
   "metadata": {
    "collapsed": false
   }
  },
  {
   "cell_type": "code",
   "execution_count": null,
   "outputs": [],
   "source": [],
   "metadata": {
    "collapsed": false
   }
  }
 ],
 "metadata": {
  "kernelspec": {
   "display_name": "Python 3",
   "language": "python",
   "name": "python3"
  },
  "language_info": {
   "codemirror_mode": {
    "name": "ipython",
    "version": 2
   },
   "file_extension": ".py",
   "mimetype": "text/x-python",
   "name": "python",
   "nbconvert_exporter": "python",
   "pygments_lexer": "ipython2",
   "version": "2.7.6"
  }
 },
 "nbformat": 4,
 "nbformat_minor": 0
}
