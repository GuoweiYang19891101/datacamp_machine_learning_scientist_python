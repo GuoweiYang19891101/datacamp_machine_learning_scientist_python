{
 "cells": [
  {
   "cell_type": "markdown",
   "source": [
    "## Feature Engineering for NLP in Python\n",
    "\n",
    "**Course Structure:**\n",
    "* Chapter 1. Basic features and readability scores\n",
    "* Chapter 2. Text preprocessing, POS tagging and NER\n",
    "* Chapter 3. N-Gram models\n",
    "* Chapter 4. TF-IDF and similarity scores\n",
    "\n",
    "### CHAPTER 1. Basic features and readability scores\n",
    "\n",
    "#### Part 1.1 Introduction to NLP feature engineering\n",
    "\n",
    "* For any ML algorithm, data fed into it must be in **tabular form** and the features must be **numerical**\n",
    "* Categorical data can be converted into numerical through **one-hot encoding**\n",
    "* Use *'pd.get_dummies()'* method to achieve it\n",
    "* Text data needs to be preprocessed with two steps\n",
    "    1. Standardize the text (e.g: lowercase, base form)\n",
    "    2. Vectorize the text (e.g: bag-of-words, tf-idf)\n",
    "* Basic features about text data:\n",
    "    * Number of words\n",
    "    * Number of characters\n",
    "    * Average length of words\n",
    "* More advanced features about text data:\n",
    "    * Part-Of-Speech (POS) tagging\n",
    "    * Named Entity Recognition (NER)"
   ],
   "metadata": {
    "collapsed": false
   }
  },
  {
   "cell_type": "code",
   "execution_count": 1,
   "outputs": [
    {
     "name": "stdout",
     "output_type": "stream",
     "text": [
      "Index(['feature_1', 'feature_2', 'feature_3', 'feature_4', 'feature_5',\n",
      "       'label'],\n",
      "      dtype='object')\n",
      "Index(['feature_1', 'feature_2', 'feature_3', 'feature_4', 'label',\n",
      "       'feature_5_female', 'feature_5_male'],\n",
      "      dtype='object')\n",
      "   feature_1  feature_2  feature_3  feature_4  label  feature_5_female  \\\n",
      "0    29.0000          0          0   211.3375      1                 1   \n",
      "1     0.9167          1          2   151.5500      1                 0   \n",
      "2     2.0000          1          2   151.5500      0                 1   \n",
      "3    30.0000          1          2   151.5500      0                 0   \n",
      "4    25.0000          1          2   151.5500      0                 1   \n",
      "\n",
      "   feature_5_male  \n",
      "0               0  \n",
      "1               1  \n",
      "2               0  \n",
      "3               1  \n",
      "4               0  \n"
     ]
    }
   ],
   "source": [
    "# Code for part 1.1\n",
    "\n",
    "# one-hot encoding\n",
    "import pandas as pd\n",
    "\n",
    "# create dataframe by hand\n",
    "feature_1 = [29.0, 0.9167, 2.0, 30.0, 25.0, 48.0, 63.0, 39.0, 53.0, 71.0, 47.0, 18.0, 24.0, 26.0, 80.0]\n",
    "feature_2 = [0, 1, 1, 1, 1, 0, 1, 0, 2, 0, 1, 1, 0, 0, 0]\n",
    "feature_3 = [0, 2, 2, 2, 2, 0, 0, 0, 0, 0, 0, 0, 0, 0, 0]\n",
    "feature_4 = [211.3375, 151.55, 151.55, 151.55, 151.55, 26.55, 77.9583, 0.0, 51.4792, 49.5042, 227.525, 227.525, 69.3, 78.85, 30.0]\n",
    "feature_5 = ['female', 'male', 'female', 'male', 'female', 'male', 'female', 'male', 'female', 'male', 'male', 'female', 'female', 'female', 'male']\n",
    "label = [1, 1, 0, 0, 0, 1, 1, 0, 1, 0, 0, 1, 1, 1, 1]\n",
    "\n",
    "df1 = pd.DataFrame({'feature_1': feature_1, 'feature_2':feature_2, 'feature_3':feature_3, 'feature_4':feature_4, 'feature_5':feature_5, 'label':label})\n",
    "print(df1.columns)\n",
    "\n",
    "# perform one-hot encoding for column 'feature_5'\n",
    "df1 = pd.get_dummies(df1, columns=['feature_5'])\n",
    "print(df1.columns)\n",
    "print(df1.head())"
   ],
   "metadata": {
    "collapsed": false,
    "ExecuteTime": {
     "end_time": "2023-08-26T18:58:00.571514200Z",
     "start_time": "2023-08-26T18:57:53.952975400Z"
    }
   }
  },
  {
   "cell_type": "markdown",
   "source": [
    "#### Part 1.2 Basic feature extraction\n",
    "\n",
    "**Basic feature extraction:**\n",
    "* Number of characters with *'len()'* method\n",
    "* Number of words with *'.split()'* and *'len()'* method\n",
    "* Average word length with *'.split()'*, *'len()'*, and *'mean()'* method\n",
    "* You can crate functions to apply these easier\n",
    "* For special data like tweets, some special features like *hashtags* and *mentions* are worth checking on\n",
    "* Use *''.startswith()* method to achieve it\n",
    "* Other features :\n",
    "    * Number of sentences\n",
    "    * Number of paragraphs\n",
    "    * Words starting with an uppercase\n",
    "    * All-capital words\n",
    "    * Numerical quantities"
   ],
   "metadata": {
    "collapsed": false
   }
  },
  {
   "cell_type": "code",
   "execution_count": 2,
   "outputs": [
    {
     "name": "stdout",
     "output_type": "stream",
     "text": [
      "Index(['Unnamed: 0', 'content'], dtype='object')\n",
      "Average word length in tweets:\n",
      "103.462\n"
     ]
    }
   ],
   "source": [
    "# Code for part 1.2\n",
    "\n",
    "# character count of Russian tweets\n",
    "import pandas as pd\n",
    "\n",
    "# get tweets data\n",
    "tweets = pd.read_csv('13_datasets/russian_tweets.csv')\n",
    "# print(tweets.head())\n",
    "print(tweets.columns)\n",
    "\n",
    "# create a feature 'char_count'\n",
    "tweets['char_count'] = tweets['content'].apply(len)\n",
    "print(\"Average word length in tweets:\")\n",
    "print(tweets['char_count'].mean())"
   ],
   "metadata": {
    "collapsed": false,
    "ExecuteTime": {
     "end_time": "2023-08-26T18:58:00.656428400Z",
     "start_time": "2023-08-26T18:58:00.557052500Z"
    }
   }
  },
  {
   "cell_type": "code",
   "execution_count": 3,
   "outputs": [
    {
     "name": "stdout",
     "output_type": "stream",
     "text": [
      "Index(['transcript', 'url'], dtype='object')\n",
      "Average words in each TED talk:\n",
      "1987.1\n"
     ]
    }
   ],
   "source": [
    "# Code for part 1.2 (continue)\n",
    "\n",
    "# word count for TED talks\n",
    "import pandas as pd\n",
    "\n",
    "# get TED talks data\n",
    "ted = pd.read_csv('13_datasets/ted.csv')\n",
    "# print(ted.head())\n",
    "print(ted.columns)\n",
    "\n",
    "# create a function to count number of words in string\n",
    "def count_words(string):\n",
    "    words = string.split()\n",
    "    return len(words)\n",
    "\n",
    "# create a new feature 'word_count'\n",
    "ted['word_count'] = ted['transcript'].apply(count_words)\n",
    "print('Average words in each TED talk:')\n",
    "print(ted['word_count'].mean())"
   ],
   "metadata": {
    "collapsed": false,
    "ExecuteTime": {
     "end_time": "2023-08-26T18:58:00.748318300Z",
     "start_time": "2023-08-26T18:58:00.596714400Z"
    }
   }
  },
  {
   "cell_type": "code",
   "execution_count": 4,
   "outputs": [
    {
     "data": {
      "text/plain": "<Figure size 640x480 with 2 Axes>",
      "image/png": "[encoded data removed]"
     },
     "metadata": {},
     "output_type": "display_data"
    }
   ],
   "source": [
    "# Code for part 1.2 (continue)\n",
    "\n",
    "# hashtags and mentions in Russian tweets\n",
    "import pandas as pd\n",
    "import matplotlib.pyplot as plt\n",
    "\n",
    "# get tweets data\n",
    "tweets = pd.read_csv('13_datasets/russian_tweets.csv')\n",
    "\n",
    "# create functions to return number of hashtags and mentions in a string\n",
    "def count_hashtags(string):\n",
    "    words = string.split()\n",
    "    hashtags = [word for word in words if word.startswith('#')]\n",
    "    return len(hashtags)\n",
    "\n",
    "def count_mentions(string):\n",
    "    words = string.split()\n",
    "    mentions = [word for word in words if word.startswith('@')]\n",
    "    return len(mentions)\n",
    "\n",
    "# create new features 'hashtag_count' and 'mention_count'\n",
    "tweets['hashtag_count'] = tweets['content'].apply(count_hashtags)\n",
    "tweets['mention_count'] = tweets['content'].apply(count_mentions)\n",
    "\n",
    "# create data visualizations\n",
    "fig, (ax1, ax2) = plt.subplots(1, 2)\n",
    "ax1.hist(tweets['hashtag_count'])\n",
    "ax2.hist(tweets['mention_count'])\n",
    "ax1.set_title('Hashtag count distribution')\n",
    "ax2.set_title('Mention count distribution')\n",
    "plt.show()\n"
   ],
   "metadata": {
    "collapsed": false,
    "ExecuteTime": {
     "end_time": "2023-08-26T18:58:03.815345300Z",
     "start_time": "2023-08-26T18:58:00.741336400Z"
    }
   }
  },
  {
   "cell_type": "markdown",
   "source": [
    "#### Part 1.3 Readability tests\n",
    "\n",
    "* It is used to determine the *readability* of a particular passage\n",
    "* Scale ranging from *Primary School* to *College Graduate* level\n",
    "* A mathematical formula with word, syllable and sentence count\n",
    "* It is used in *fake news* and *opinion spam* detection\n",
    "* Examples: (we go into details with first two scores)\n",
    "    * **Flesch reading ease**\n",
    "    * **Gunning fog index**\n",
    "    * Simple Measure of Gobbledygook (SMOG)\n",
    "    * Dale-Chall score\n",
    "* **Textatistic** library can be used to do these tests\n",
    "\n",
    "**Flesch reading ease:**\n",
    "* One of the oldest and most widely used tests\n",
    "* Dependent on two factors:\n",
    "1. Average sentence length\n",
    "2. Average number of syllables\n",
    "* Higher the score, greater the readability (easier to understand)\n",
    "\n",
    "**Gunning fog index:**\n",
    "* Developed in 1954\n",
    "* Dependent on two factors:\n",
    "1. Average sentence length\n",
    "2. Percentage of complex words\n",
    "* Higher the score, lesser the readability (more difficult to understand)\n"
   ],
   "metadata": {
    "collapsed": false
   }
  },
  {
   "cell_type": "code",
   "execution_count": 5,
   "outputs": [
    {
     "name": "stdout",
     "output_type": "stream",
     "text": [
      "The flesch reading ease is 81.67\n"
     ]
    }
   ],
   "source": [
    "# Code for part 1.4\n",
    "\n",
    "# readability of 'The Myth of Sisyphus'\n",
    "from textatistic import Textatistic\n",
    "\n",
    "# get text file\n",
    "text_file = open('13_datasets/sisyphus.txt', 'rb')\n",
    "sisyphus = text_file.read()\n",
    "text_file.close()\n",
    "sisyphus = sisyphus.decode('utf-8')\n",
    "\n",
    "# compute the readability scores\n",
    "readability_scores = Textatistic(sisyphus).scores\n",
    "flesch = readability_scores['flesch_score']\n",
    "\n",
    "# print the scores\n",
    "print('The flesch reading ease is %.2f' % (flesch))\n"
   ],
   "metadata": {
    "collapsed": false,
    "ExecuteTime": {
     "end_time": "2023-08-26T18:58:04.971258300Z",
     "start_time": "2023-08-26T18:58:03.814347600Z"
    }
   }
  },
  {
   "cell_type": "code",
   "execution_count": 6,
   "outputs": [
    {
     "name": "stdout",
     "output_type": "stream",
     "text": [
      "[14.436002482929858, 20.735401069518716, 11.085587583148559, 5.926785009861934]\n"
     ]
    }
   ],
   "source": [
    "# Code for part 1.4 (continue)\n",
    "\n",
    "# readability vs. publications\n",
    "from textatistic import Textatistic\n",
    "\n",
    "# get strings\n",
    "forbes = 'The idea is to create more transparency about companies and individuals that are breaking the law or are non-compliant with official obligations and incentivize the right behaviors with the overall goal of improving governance and market order. The Chinese Communist Party intends the social credit score system to “allow the trustworthy to roam freely under heaven while making it hard for the discredited to take a single step.” Even though the system is still under development it currently plays out in real life in myriad ways for private citizens, businesses and government officials. Generally, higher credit scores give people a variety of advantages. Individuals are often given perks such as discounted energy bills and access or better visibility on dating websites. Often, those with higher social credit scores are able to forgo deposits on rental properties, bicycles, and umbrellas. They can even get better travel deals. In addition, Chinese hospitals are currently experimenting with social credit scores. A social credit score above 650 at one hospital allows an individual to see a doctor without lining up to pay.'\n",
    "\n",
    "harvard_law = 'In his important new book, The Schoolhouse Gate: Public Education, the Supreme Court, and the Battle for the American Mind, Professor Justin Driver reminds us that private controversies that arise within the confines of public schools are part of a broader historical arc — one that tracks a range of cultural and intellectual flashpoints in U.S. history. Moreover, Driver explains, these tensions are reflected in constitutional law, and indeed in the history and jurisprudence of the Supreme Court. As such, debates that arise in the context of public education are not simply about the conflict between academic freedom, public safety, and student rights. They mirror our persistent struggle to reconcile our interest in fostering a pluralistic society, rooted in the ideal of individual autonomy, with our desire to cultivate a sense of national unity and shared identity (or, put differently, our effort to reconcile our desire to forge common norms of citizenship with our fear of state indoctrination and overencroachment). In this regard, these debates reflect the unique role that both the school and the courts have played in defining and enforcing the boundaries of American citizenship.'\n",
    "r_digest = 'This week 30 passengers were reportedly injured when a Turkish Airlines flight landing at John F. Kennedy International Airport encountered turbulent conditions. Injuries included bruises, bloody noses, and broken bones. In mid-February, a Delta Airlines flight made an emergency landing to assist three passengers in getting to the nearest hospital after some sudden and unexpected turbulence. Doctors treated 15 passengers after a flight from Miami to Buenos Aires last October for everything from severe bruising to nosebleeds after the plane caught some rough winds over Brazil. In 2016, 23 passengers were injured on a United Airlines flight after severe turbulence threw people into the cabin ceiling. The list goes on. Turbulence has been become increasingly common, with painful outcomes for those on board. And more costly to the airlines, too. Forbes estimates that the cost of turbulence has risen to over $500 million each year in damages and delays. And there are no signs the increase in turbulence will be stopping anytime soon.'\n",
    "time_kids = 'That, of course, is easier said than done. The more you eat salty foods, the more you develop a taste for them. The key to changing your diet is to start small. “Small changes in sodium in foods are not usually noticed,” Quader says. Eventually, she adds, the effort will reset a kid’s taste buds so the salt cravings stop. Bridget Murphy is a dietitian at New York University’s Langone Medical Center. She suggests kids try adding spices to their food instead of salt. Eating fruits and veggies and cutting back on packaged foods will also help. Need a little inspiration? Murphy offers this tip: Focus on the immediate effects of a diet that is high in sodium. High blood pressure can make it difficult to be active. “Do you want to be able to think clearly and perform well in school?” she asks. “If you’re an athlete, do you want to run faster?” If you answered yes to these questions, then it’s time to shake the salt habit.'\n",
    "\n",
    "# list of excerpts\n",
    "excerpts = [forbes, harvard_law, r_digest, time_kids]\n",
    "\n",
    "# loop through\n",
    "gunning_fog_scores = []\n",
    "for excerpt in excerpts:\n",
    "    readability_scores = Textatistic(excerpt).scores\n",
    "    gunning_score = readability_scores['gunningfog_score']\n",
    "    gunning_fog_scores.append(gunning_score)\n",
    "\n",
    "print(gunning_fog_scores)"
   ],
   "metadata": {
    "collapsed": false,
    "ExecuteTime": {
     "end_time": "2023-08-26T18:58:05.063438500Z",
     "start_time": "2023-08-26T18:58:04.972256700Z"
    }
   }
  },
  {
   "cell_type": "markdown",
   "source": [
    "### CHAPTER 2. Text preprocessing, POS tagging and NER\n",
    "\n",
    "#### Part 2.1 Tokenization and Lemmatization\n",
    "\n",
    "* We need to **standardize** texts into a *machine friendly format* when text might have different sources\n",
    "* Example: *reduction*, *reducing*, *reduce* mean similar things\n",
    "* Text preprocessing techniques:\n",
    "    * Converting words into lowercase\n",
    "    * Removing leading and trailing whitespace\n",
    "    * Removing punctuation\n",
    "    * Removing stopwords\n",
    "    * Expanding contractions\n",
    "    * Removing special characters (numbers, emojis, etc.)\n",
    "* **Tokenization** is the process of splitting a string into tokens, tokens can be sentences, words or punctuations\n",
    "* Use *'Spacy'* library for tokenization\n",
    "\n",
    "* **Lemmatization** is the process of converting a word into its lowercased based form or lemma\n",
    "* Example: reducing, reduces, reduced, reduction -> reduce\n",
    "* Example: am, is, are -> be\n",
    "* Use *'Spacy'* library for lemmatization, too"
   ],
   "metadata": {
    "collapsed": false
   }
  },
  {
   "cell_type": "code",
   "execution_count": 7,
   "outputs": [
    {
     "name": "stdout",
     "output_type": "stream",
     "text": [
      "['Four', 'score', 'and', 'seven', 'years', 'ago', 'our', 'fathers', 'brought', 'forth', 'on', 'this', 'continent', ',', 'a', 'new', 'nation', ',', 'conceived', 'in', 'Liberty', ',', 'and', 'dedicated', 'to', 'the', 'proposition', 'that', 'all', 'men', 'are', 'created', 'equal', '.', 'Now', 'we', \"'re\", 'engaged', 'in', 'a', 'great', 'civil', 'war', ',', 'testing', 'whether', 'that', 'nation', ',', 'or', 'any', 'nation', 'so', 'conceived', 'and', 'so', 'dedicated', ',', 'can', 'long', 'endure', '.', 'We', \"'re\", 'met', 'on', 'a', 'great', 'battlefield', 'of', 'that', 'war', '.', 'We', \"'ve\", 'come', 'to', 'dedicate', 'a', 'portion', 'of', 'that', 'field', ',', 'as', 'a', 'final', 'resting', 'place', 'for', 'those', 'who', 'here', 'gave', 'their', 'lives', 'that', 'that', 'nation', 'might', 'live', '.', 'It', \"'s\", 'altogether', 'fitting', 'and', 'proper', 'that', 'we', 'should', 'do', 'this', '.', 'But', ',', 'in', 'a', 'larger', 'sense', ',', 'we', 'ca', \"n't\", 'dedicate', '-', 'we', 'can', 'not', 'consecrate', '-', 'we', 'can', 'not', 'hallow', '-', 'this', 'ground', '.', 'The', 'brave', 'men', ',', 'living', 'and', 'dead', ',', 'who', 'struggled', 'here', ',', 'have', 'consecrated', 'it', ',', 'far', 'above', 'our', 'poor', 'power', 'to', 'add', 'or', 'detract', '.', 'The', 'world', 'will', 'little', 'note', ',', 'nor', 'long', 'remember', 'what', 'we', 'say', 'here', ',', 'but', 'it', 'can', 'never', 'forget', 'what', 'they', 'did', 'here', '.', 'It', 'is', 'for', 'us', 'the', 'living', ',', 'rather', ',', 'to', 'be', 'dedicated', 'here', 'to', 'the', 'unfinished', 'work', 'which', 'they', 'who', 'fought', 'here', 'have', 'thus', 'far', 'so', 'nobly', 'advanced', '.', 'It', \"'s\", 'rather', 'for', 'us', 'to', 'be', 'here', 'dedicated', 'to', 'the', 'great', 'task', 'remaining', 'before', 'us', '-', 'that', 'from', 'these', 'honored', 'dead', 'we', 'take', 'increased', 'devotion', 'to', 'that', 'cause', 'for', 'which', 'they', 'gave', 'the', 'last', 'full', 'measure', 'of', 'devotion', '-', 'that', 'we', 'here', 'highly', 'resolve', 'that', 'these', 'dead', 'shall', 'not', 'have', 'died', 'in', 'vain', '-', 'that', 'this', 'nation', ',', 'under', 'God', ',', 'shall', 'have', 'a', 'new', 'birth', 'of', 'freedom', '-', 'and', 'that', 'government', 'of', 'the', 'people', ',', 'by', 'the', 'people', ',', 'for', 'the', 'people', ',', 'shall', 'not', 'perish', 'from', 'the', 'earth', '.']\n"
     ]
    }
   ],
   "source": [
    "# Code for part 2.1\n",
    "\n",
    "# tokenizing the Gettysburg address\n",
    "import spacy\n",
    "\n",
    "# get the speech text\n",
    "gettysburg = \"Four score and seven years ago our fathers brought forth on this continent, a new nation, conceived in Liberty, and dedicated to the proposition that all men are created equal. Now we're engaged in a great civil war, testing whether that nation, or any nation so conceived and so dedicated, can long endure. We're met on a great battlefield of that war. We've come to dedicate a portion of that field, as a final resting place for those who here gave their lives that that nation might live. It's altogether fitting and proper that we should do this. But, in a larger sense, we can't dedicate - we can not consecrate - we can not hallow - this ground. The brave men, living and dead, who struggled here, have consecrated it, far above our poor power to add or detract. The world will little note, nor long remember what we say here, but it can never forget what they did here. It is for us the living, rather, to be dedicated here to the unfinished work which they who fought here have thus far so nobly advanced. It's rather for us to be here dedicated to the great task remaining before us - that from these honored dead we take increased devotion to that cause for which they gave the last full measure of devotion - that we here highly resolve that these dead shall not have died in vain - that this nation, under God, shall have a new birth of freedom - and that government of the people, by the people, for the people, shall not perish from the earth.\"\n",
    "\n",
    "# load the en_core_web_sm model\n",
    "nlp = spacy.load('en_core_web_sm')\n",
    "\n",
    "# create a doc object\n",
    "doc = nlp(gettysburg)\n",
    "\n",
    "# generate the tokens\n",
    "tokens = [token.text for token in doc]\n",
    "print(tokens)"
   ],
   "metadata": {
    "collapsed": false,
    "ExecuteTime": {
     "end_time": "2023-08-26T18:58:14.474203500Z",
     "start_time": "2023-08-26T18:58:05.026858200Z"
    }
   }
  },
  {
   "cell_type": "code",
   "execution_count": 8,
   "outputs": [
    {
     "name": "stdout",
     "output_type": "stream",
     "text": [
      "four score and seven year ago our father bring forth on this continent , a new nation , conceive in Liberty , and dedicate to the proposition that all man be create equal . now we be engage in a great civil war , test whether that nation , or any nation so conceive and so dedicated , can long endure . we be meet on a great battlefield of that war . we 've come to dedicate a portion of that field , as a final resting place for those who here give their life that that nation might live . it be altogether fitting and proper that we should do this . but , in a large sense , we can not dedicate - we can not consecrate - we can not hallow - this ground . the brave man , living and dead , who struggle here , have consecrate it , far above our poor power to add or detract . the world will little note , nor long remember what we say here , but it can never forget what they do here . it be for we the living , rather , to be dedicate here to the unfinished work which they who fight here have thus far so nobly advanced . it be rather for we to be here dedicated to the great task remain before we - that from these honored dead we take increase devotion to that cause for which they give the last full measure of devotion - that we here highly resolve that these dead shall not have die in vain - that this nation , under God , shall have a new birth of freedom - and that government of the people , by the people , for the people , shall not perish from the earth .\n"
     ]
    }
   ],
   "source": [
    "# Code for part 2.1 (continue)\n",
    "\n",
    "# lammatizing the Gettysburg address\n",
    "# use the same text file 'gettysburg'\n",
    "import spacy\n",
    "\n",
    "# load the en_core_web_sm model\n",
    "nlp = spacy.load('en_core_web_sm')\n",
    "\n",
    "# create a doc object\n",
    "doc = nlp(gettysburg)\n",
    "\n",
    "# generate the lemmas\n",
    "lemmas = [token.lemma_ for token in doc]\n",
    "print(' '.join(lemmas))\n",
    "\n",
    "# note how different the text is with lemmatization"
   ],
   "metadata": {
    "collapsed": false,
    "ExecuteTime": {
     "end_time": "2023-08-26T18:58:14.972965500Z",
     "start_time": "2023-08-26T18:58:14.470214200Z"
    }
   }
  },
  {
   "cell_type": "markdown",
   "source": [
    "#### Part 2.2 Text cleaning\n",
    "\n",
    "**Non-alphabet:**\n",
    "* *'.isalpha()'* method to return TRUE if all the characters are alphabets\n",
    "* It is a convenient method to remove all (lemmatized) tokens that are or contain numbers, punctuation or emojis\n",
    "* Sometimes, it would return FALSE on some words that we would not want to remove, like abbreviations, like U.S.A\n",
    "* For such situations, you need to write custom functions (with *'regrex'*)\n",
    "\n",
    "**Stopwords:**\n",
    "* Stopwords are words that occur extremely commonly\n",
    "* Examples: *the*, *a*, *is*, *am*, *he*, *she*\n",
    "* *'SpaCy'* library has a built-in list of stopwords\n",
    "* Access it with: 'spacy.lang.en.stop_words_STOP_WORDS'\n",
    "* Be careful when you use third party stop words\n",
    "* It is always advisable to create *your own stop words list*\n",
    "\n"
   ],
   "metadata": {
    "collapsed": false
   }
  },
  {
   "cell_type": "code",
   "execution_count": 9,
   "outputs": [
    {
     "name": "stdout",
     "output_type": "stream",
     "text": [
      "century politic witness alarming rise populism Europe warning sign come UK Brexit Referendum vote swinge way Leave follow stupendous victory billionaire Donald Trump President United States November Europe steady rise populist far right party capitalize Europe Immigration Crisis raise nationalist anti europe sentiment instance include Alternative Germany AfD win seat enter Bundestag upset Germany political order time Second World War success Five Star Movement Italy surge popularity neo nazism neo fascism country Hungary Czech Republic Poland Austria\n"
     ]
    }
   ],
   "source": [
    "# Code for part 2.2\n",
    "\n",
    "# cleaning a blog post\n",
    "import spacy\n",
    "\n",
    "# get blog content\n",
    "blog = 'Twenty-first-century politics has witnessed an alarming rise of populism in the U.S. and Europe. The first warning signs came with the UK Brexit Referendum vote in 2016 swinging in the way of Leave. This was followed by a stupendous victory by billionaire Donald Trump to become the 45th President of the United States in November 2016. Since then, Europe has seen a steady rise in populist and far-right parties that have capitalized on Europe’s Immigration Crisis to raise nationalist and anti-Europe sentiments. Some instances include Alternative for Germany (AfD) winning 12.6% of all seats and entering the Bundestag, thus upsetting Germany’s political order for the first time since the Second World War, the success of the Five Star Movement in Italy and the surge in popularity of neo-nazism and neo-fascism in countries such as Hungary, Czech Republic, Poland and Austria.'\n",
    "\n",
    "# load model and create doc object, stopwords\n",
    "nlp = spacy.load('en_core_web_sm')\n",
    "doc = nlp(blog)\n",
    "stopwords = nlp.Defaults.stop_words\n",
    "\n",
    "# create lemmatized tokens\n",
    "lemmas = [token.lemma_ for token in doc]\n",
    "\n",
    "# remove stopwords and non-alphabetic tokens\n",
    "a_lemmas = [lemma for lemma in lemmas if lemma.isalpha() and lemma not in stopwords]\n",
    "print(' '.join(a_lemmas))\n",
    "\n"
   ],
   "metadata": {
    "collapsed": false,
    "ExecuteTime": {
     "end_time": "2023-08-26T18:58:15.470263200Z",
     "start_time": "2023-08-26T18:58:14.971967900Z"
    }
   }
  },
  {
   "cell_type": "markdown",
   "source": [
    "#### Part 2.3 Part-of-speech tagging\n",
    "\n",
    "* Part-of-speech (POS) tagging has an immense number of applications in NLP:\n",
    "    * Word-sense disambiguation to identify the *sense of a word* in a sentence\n",
    "    * Sentiment analysis\n",
    "    * Question answering\n",
    "    * Fake news and opinion spam detection\n",
    "\n",
    "**POS tagging:**\n",
    "* Assigning every word, its corresponding part of speech\n",
    "* Example: 'Jane is an amazing guitarist.'\n",
    "    * POS tagging:\n",
    "        * Jane -> proper noun\n",
    "        * is -> verb\n",
    "        * an -> determiner\n",
    "        * amazing -> adjective\n",
    "        * guitarist -> noun"
   ],
   "metadata": {
    "collapsed": false
   }
  },
  {
   "cell_type": "code",
   "execution_count": 10,
   "outputs": [
    {
     "name": "stdout",
     "output_type": "stream",
     "text": [
      "[('He', 'PRON'), ('found', 'VERB'), ('himself', 'PRON'), ('understanding', 'VERB'), ('the', 'DET'), ('wearisomeness', 'NOUN'), ('of', 'ADP'), ('this', 'DET'), ('life', 'NOUN'), (',', 'PUNCT'), ('where', 'SCONJ'), ('every', 'DET'), ('path', 'NOUN'), ('was', 'AUX'), ('an', 'DET'), ('improvisation', 'NOUN'), ('and', 'CCONJ'), ('a', 'DET'), ('considerable', 'ADJ'), ('part', 'NOUN'), ('of', 'ADP'), ('one', 'NUM'), ('’s', 'PART'), ('waking', 'VERB'), ('life', 'NOUN'), ('was', 'AUX'), ('spent', 'VERB'), ('watching', 'VERB'), ('one', 'NUM'), ('’s', 'PART'), ('feet', 'NOUN'), ('.', 'PUNCT')]\n"
     ]
    }
   ],
   "source": [
    "# Code for part 2.3\n",
    "\n",
    "# POS tagging in Lord of the files\n",
    "import spacy\n",
    "\n",
    "# get text\n",
    "lotf = 'He found himself understanding the wearisomeness of this life, where every path was an improvisation and a considerable part of one’s waking life was spent watching one’s feet.'\n",
    "\n",
    "# load the en_core_web_sm model\n",
    "nlp = spacy.load('en_core_web_sm')\n",
    "\n",
    "# craete a doc object\n",
    "doc = nlp(lotf)\n",
    "\n",
    "# generate tokens and pos tags\n",
    "pos = [(token.text, token.pos_) for token in doc]\n",
    "print(pos)"
   ],
   "metadata": {
    "collapsed": false,
    "ExecuteTime": {
     "end_time": "2023-08-26T18:58:16.009567600Z",
     "start_time": "2023-08-26T18:58:15.469266300Z"
    }
   }
  },
  {
   "cell_type": "code",
   "execution_count": 11,
   "outputs": [
    {
     "name": "stdout",
     "output_type": "stream",
     "text": [
      "3\n",
      "2\n"
     ]
    }
   ],
   "source": [
    "# Code for part 2.3 (continue)\n",
    "\n",
    "# counting nouns in a piece of text\n",
    "import spacy\n",
    "\n",
    "# load model\n",
    "nlp = spacy.load('en_core_web_sm')\n",
    "\n",
    "# create functions to return number of proper nouns\n",
    "def proper_nouns(text, model=nlp):\n",
    "    doc = model(text)\n",
    "    pos = [token.pos_ for token in doc]\n",
    "    # print (pos)\n",
    "    return pos.count('PROPN')\n",
    "\n",
    "# create function to return number of nouns\n",
    "def nouns(text, model=nlp):\n",
    "    doc = model(text)\n",
    "    pos = [token.pos_ for token in doc]\n",
    "    # print(pos)\n",
    "    return pos.count('NOUN')\n",
    "\n",
    "# test functions\n",
    "print(proper_nouns(text='Abdul, Bill and Cathy went to the market to buy apples.'))\n",
    "print(nouns(text='Abdul, Bill and Cathy went to the market to buy apples.'))"
   ],
   "metadata": {
    "collapsed": false,
    "ExecuteTime": {
     "end_time": "2023-08-26T18:58:16.442451500Z",
     "start_time": "2023-08-26T18:58:16.008569200Z"
    }
   }
  },
  {
   "cell_type": "code",
   "execution_count": 12,
   "outputs": [
    {
     "name": "stdout",
     "output_type": "stream",
     "text": [
      "Mean number of proper nouns in real and fake headlines are 2.47 and 4.86 respectively\n",
      "Mean number of other nouns in real and fake headlines are 2.25 and 1.53 respectively\n"
     ]
    }
   ],
   "source": [
    "# Code for part 2.3 (continue)\n",
    "\n",
    "# noun usage in fake news\n",
    "import pandas as pd\n",
    "\n",
    "# get the dataframe\n",
    "headlines = pd.read_csv('13_datasets/fakenews.csv',header=0)\n",
    "# print(headlines.head())\n",
    "\n",
    "# create new feature with previous function\n",
    "headlines['num_propn'] = headlines['title'].apply(proper_nouns)\n",
    "headlines['num_noun'] = headlines['title'].apply(nouns)\n",
    "\n",
    "# compute and compare mean of proper nouns\n",
    "real_propn = headlines[headlines['label'] == 'REAL']['num_propn'].mean()\n",
    "fake_propn = headlines[headlines['label'] == 'FAKE']['num_propn'].mean()\n",
    "\n",
    "real_noun = headlines[headlines['label'] == 'REAL']['num_noun'].mean()\n",
    "fake_noun = headlines[headlines['label'] == 'FAKE']['num_noun'].mean()\n",
    "\n",
    "print('Mean number of proper nouns in real and fake headlines are %.2f and %.2f respectively' % (real_propn, fake_propn))\n",
    "print('Mean number of other nouns in real and fake headlines are %.2f and %.2f respectively' % (real_noun, fake_noun))"
   ],
   "metadata": {
    "collapsed": false,
    "ExecuteTime": {
     "end_time": "2023-08-26T18:58:17.425890100Z",
     "start_time": "2023-08-26T18:58:16.443449500Z"
    }
   }
  },
  {
   "cell_type": "markdown",
   "source": [
    "#### Part 2.4 Named entity recognition (NER)\n",
    "\n",
    "* Named entity recognition has a host of extremely useful applications:\n",
    "    * Efficient search algorithms\n",
    "    * Question answering\n",
    "    * News article classification\n",
    "    * Customer service\n",
    "\n",
    "**Named entity recognition:**\n",
    "* Identifying and classifying named entities into predefined categories\n",
    "* Categories include person, organization, country, etc.\n",
    "* Example: 'John Doe is a softwre engineer working at Google. He lives in France.'\n",
    "    * Named entities:\n",
    "        * John Doe -> person\n",
    "        * Google -> organization\n",
    "        * France -> country (geopolitical entity)\n",
    "* Complete list of NER annotation at https://spacy.lo/api/annotation#named-entities\n",
    "* Spacy's model performance is dependent on training and test data\n",
    "* Train models with specialized data for nuanced cases"
   ],
   "metadata": {
    "collapsed": false
   }
  },
  {
   "cell_type": "code",
   "execution_count": 13,
   "outputs": [
    {
     "name": "stdout",
     "output_type": "stream",
     "text": [
      "Sundar Pichai PERSON\n",
      "Google ORG\n",
      "Mountain View GPE\n"
     ]
    }
   ],
   "source": [
    "# Code for part 2.4\n",
    "\n",
    "# named entities in a sentence\n",
    "import spacy\n",
    "\n",
    "# load model\n",
    "nlp = spacy.load('en_core_web_sm')\n",
    "\n",
    "# create a doc object\n",
    "text = 'Sundar Pichai is the CEO of Google. Its headquarters is in Mountain View.'\n",
    "doc = nlp(text)\n",
    "\n",
    "# print all NERs and labels\n",
    "for ent in doc.ents:\n",
    "    print(ent.text, ent.label_)\n"
   ],
   "metadata": {
    "collapsed": false,
    "ExecuteTime": {
     "end_time": "2023-08-26T18:58:17.867646900Z",
     "start_time": "2023-08-26T18:58:17.423895200Z"
    }
   }
  },
  {
   "cell_type": "code",
   "execution_count": 14,
   "outputs": [
    {
     "name": "stdout",
     "output_type": "stream",
     "text": [
      "['Sheryl Sandberg', 'Mark Zuckerberg']\n"
     ]
    }
   ],
   "source": [
    "# Code for part 2.4 (continue)\n",
    "\n",
    "# identifying people mentioned in a news article\n",
    "import spacy\n",
    "\n",
    "# load model\n",
    "nlp = spacy.load('en_core_web_sm')\n",
    "\n",
    "# get text\n",
    "tc = \"It’s' been a busy day for Facebook  exec op-eds. Earlier this morning, Sheryl Sandberg broke the site’s silence around the Christchurch massacre, and now Mark Zuckerberg is calling on governments and other bodies to increase regulation around the sorts of data Facebook traffics in. He’s hoping to get out in front of heavy-handed regulation and get a seat at the table shaping it.\"\n",
    "\n",
    "# create function to find people\n",
    "def find_person(text):\n",
    "    doc = nlp(text)\n",
    "    persons = [ent.text for ent in doc.ents if ent.label_ == 'PERSON']\n",
    "    return persons\n",
    "\n",
    "# test function\n",
    "print(find_person(tc))"
   ],
   "metadata": {
    "collapsed": false,
    "ExecuteTime": {
     "end_time": "2023-08-26T18:58:18.320511200Z",
     "start_time": "2023-08-26T18:58:17.870611900Z"
    }
   }
  },
  {
   "cell_type": "markdown",
   "source": [
    "### CHAPTER 3. N-Gram models\n",
    "\n",
    "#### Part 3.1 Building a bag of words model\n",
    "\n",
    "**Bag of words model:**\n",
    "* Extract word tokens\n",
    "* Compute frequency of word tokens\n",
    "* Construct a word vector out of these frequencies and vocabulary of corpus\n",
    "* Achieved by *'sklearn'* library\n",
    "\n",
    "**Text preprocessing:**\n",
    "* Lemmatisation\n",
    "* No punctuations\n",
    "* No stopwords\n",
    "* Leads to smaller vocabularies\n",
    "* Reducing number of dimensions helps improve performance\n"
   ],
   "metadata": {
    "collapsed": false
   }
  },
  {
   "cell_type": "code",
   "execution_count": 15,
   "outputs": [
    {
     "name": "stdout",
     "output_type": "stream",
     "text": [
      "(7033, 6614)\n"
     ]
    }
   ],
   "source": [
    "# Code for part 3.1\n",
    "\n",
    "# BoW model for movie taglines\n",
    "import pandas as pd\n",
    "from sklearn.feature_extraction.text import CountVectorizer\n",
    "\n",
    "# get corpus\n",
    "movies = pd.read_csv('13_datasets/movie_overviews.csv')\n",
    "# print(movies.head())\n",
    "corpus = movies['tagline'].dropna()\n",
    "\n",
    "# create vectorizer object\n",
    "vectorizer = CountVectorizer()\n",
    "\n",
    "#generate matrix of word vectors\n",
    "bow_matrix = vectorizer.fit_transform(corpus)\n",
    "print(bow_matrix.shape)"
   ],
   "metadata": {
    "collapsed": false,
    "ExecuteTime": {
     "end_time": "2023-08-26T18:58:28.482998300Z",
     "start_time": "2023-08-26T18:58:18.318516500Z"
    }
   }
  },
  {
   "cell_type": "code",
   "execution_count": 16,
   "outputs": [
    {
     "name": "stdout",
     "output_type": "stream",
     "text": [
      "(7033, 4941)\n"
     ]
    }
   ],
   "source": [
    "# Code for part 3.1 (continue)\n",
    "\n",
    "# analyzing dimensionality and preprocessing\n",
    "import pandas as pd\n",
    "import spacy\n",
    "from sklearn.feature_extraction.text import CountVectorizer\n",
    "\n",
    "# load model\n",
    "nlp = spacy.load('en_core_web_sm')\n",
    "stopwords = nlp.Defaults.stop_words\n",
    "\n",
    "# get text from dataframe\n",
    "movies = pd.read_csv('13_datasets/movie_overviews.csv')\n",
    "text = movies['tagline'].dropna()\n",
    "text = text.reset_index(drop=True)\n",
    "\n",
    "# convert to lem_corpus\n",
    "lem_corpus = pd.Series(dtype='object')\n",
    "for row in range(text.shape[0]):\n",
    "    raw_text = str(text[row]).lower()\n",
    "    doc = nlp(raw_text)\n",
    "    lemmas = [token.lemma_ for token in doc]\n",
    "    text_new = pd.Series(' '.join([lemma for lemma in lemmas if lemma.isalpha() and lemma not in stopwords]))\n",
    "    # lem_corpus = lem_corpus.append(text_new)\n",
    "    lem_corpus = pd.concat([lem_corpus, text_new], ignore_index=True)\n",
    "\n",
    "# create vectorizer object\n",
    "vectorizer = CountVectorizer()\n",
    "\n",
    "# generate matrix of word vectors\n",
    "bow_lem_matrix = vectorizer.fit_transform(lem_corpus)\n",
    "print(bow_lem_matrix.shape)\n",
    "\n",
    "# note how column number decrease from 6614 to 4941, it really reduces the dimension of the BoW matrix"
   ],
   "metadata": {
    "collapsed": false,
    "ExecuteTime": {
     "end_time": "2023-08-26T18:59:01.699585900Z",
     "start_time": "2023-08-26T18:58:28.485990900Z"
    }
   }
  },
  {
   "cell_type": "code",
   "execution_count": 17,
   "outputs": [
    {
     "name": "stdout",
     "output_type": "stream",
     "text": [
      "   an  decade  endangered  have  is  jungle  king  lifespans  lion  lions  of  \\\n",
      "0   0       0           0     0   1       1     1          0     1      0   1   \n",
      "1   0       1           0     1   0       0     0          1     0      1   1   \n",
      "2   1       0           1     0   1       0     0          0     1      0   0   \n",
      "\n",
      "   species  the  \n",
      "0        0    3  \n",
      "1        0    0  \n",
      "2        1    1  \n"
     ]
    }
   ],
   "source": [
    "# Code for part 3.1 (continue)\n",
    "\n",
    "# mapping feature indices with feature names\n",
    "from sklearn.feature_extraction.text import CountVectorizer\n",
    "import pandas as pd\n",
    "\n",
    "# get corpus\n",
    "corpus = ['The lion is the king of the jungle', 'Lions have lifespans of a decade', 'The lion is an endangered species']\n",
    "\n",
    "# create vectorizer object\n",
    "vectorizer = CountVectorizer()\n",
    "\n",
    "# generate bow_matrix\n",
    "bow_matrix = vectorizer.fit_transform(corpus)\n",
    "\n",
    "# convert bow_matrix into dataframe\n",
    "bow_df = pd.DataFrame(bow_matrix.toarray())\n",
    "bow_df.columns = vectorizer.get_feature_names_out()\n",
    "print(bow_df)\n",
    "\n",
    "# note how the word counts number match the words"
   ],
   "metadata": {
    "collapsed": false,
    "ExecuteTime": {
     "end_time": "2023-08-26T18:59:01.713934500Z",
     "start_time": "2023-08-26T18:59:01.698588500Z"
    }
   }
  },
  {
   "cell_type": "markdown",
   "source": [
    "#### Part 3.2 Building a BoW Naive Bayes classifier\n",
    "\n",
    "**Steps for building ML modles for text tasks:**\n",
    "1. Text preprocessing\n",
    "2. Building a bog-of-words model (or representation)\n",
    "3. Machine learning\n",
    "\n",
    "**Text preprocessing using CountVectorizer arguments:**\n",
    "* *'lowercase'*: *'False'*, *'True'*\n",
    "* *'strip_accents'*: *'unicode'*, *'ascii'*, *None*\n",
    "* *'stop_words'*: *'english'*, *list*, *None*\n",
    "* *'token_pattern'*: *regex*\n",
    "* *'tokenizer'*: *function*\n",
    "* However, it **CANNOT** perform lemmatization job automatically\n",
    "\n",
    "**Building the BoW model:**\n",
    "* Use *'fit_transform()'* method on training data set\n",
    "* Use *'transform()'* method on testing data set\n",
    "\n",
    "**Machine learning with Naive Bayes classifier:**\n",
    "* Recall from course 12: Naive Bayes is efficient and simple for text machine learning problems\n",
    "* Use *sklearn* library to get the module needed\n",
    "* Use *'.score()'* method to calculate the accuracy as metrics"
   ],
   "metadata": {
    "collapsed": false
   }
  },
  {
   "cell_type": "code",
   "execution_count": 18,
   "outputs": [
    {
     "name": "stdout",
     "output_type": "stream",
     "text": [
      "(250, 7662)\n",
      "(750, 7662)\n"
     ]
    }
   ],
   "source": [
    "# Code for part 3.2\n",
    "\n",
    "# BoW vectors for movie reviews\n",
    "import pandas as pd\n",
    "from sklearn.model_selection import train_test_split\n",
    "from sklearn.feature_extraction.text import CountVectorizer\n",
    "from sklearn.naive_bayes import MultinomialNB\n",
    "\n",
    "# get dataframe\n",
    "movie_reviews = pd.read_csv('13_datasets/movie_reviews_clean.csv')\n",
    "X = movie_reviews['review']\n",
    "y = movie_reviews['sentiment']\n",
    "\n",
    "# split the data into training ,test\n",
    "X_train, X_test, y_train, y_test = train_test_split(X, y, test_size=0.75, random_state=111)\n",
    "\n",
    "# create vectorizer object and do preprocessing job with CountVectorizer()\n",
    "vectorizer = CountVectorizer(lowercase=True, stop_words='english')\n",
    "\n",
    "# fit and transform X_train, X_test\n",
    "X_train_bow = vectorizer.fit_transform(X_train)\n",
    "X_test_bow = vectorizer.transform(X_test)\n",
    "print(X_train_bow.shape)\n",
    "print(X_test_bow.shape)"
   ],
   "metadata": {
    "collapsed": false,
    "ExecuteTime": {
     "end_time": "2023-08-26T18:59:02.632615800Z",
     "start_time": "2023-08-26T18:59:01.708948600Z"
    }
   }
  },
  {
   "cell_type": "code",
   "execution_count": 19,
   "outputs": [
    {
     "name": "stdout",
     "output_type": "stream",
     "text": [
      "The accuracy of the classifier on the test set is 0.731\n",
      "The sentiment predicted by the classifier is 0\n"
     ]
    }
   ],
   "source": [
    "# Code for part 3.2 (continue)\n",
    "\n",
    "# predicting the sentiment in a movie review\n",
    "\n",
    "# create model\n",
    "clf = MultinomialNB()\n",
    "clf.fit(X_train_bow, y_train)\n",
    "\n",
    "# measure accuracy\n",
    "accuracy = clf.score(X_test_bow, y_test)\n",
    "print(\"The accuracy of the classifier on the test set is %.3f\" % accuracy)\n",
    "\n",
    "# predict sentiment of a negative review\n",
    "review = \"The movie was terrible. The music was underwhelming and the acting mediocre.\"\n",
    "prediction = clf.predict(vectorizer.transform([review]))[0]\n",
    "print(\"The sentiment predicted by the classifier is %i\" % (prediction))\n",
    "\n",
    "# note how good the model actually works for new negative review"
   ],
   "metadata": {
    "collapsed": false,
    "ExecuteTime": {
     "end_time": "2023-08-26T18:59:02.645210Z",
     "start_time": "2023-08-26T18:59:02.630618400Z"
    }
   }
  },
  {
   "cell_type": "markdown",
   "source": [
    "#### Part 3.3 Building n-gram models\n",
    "\n",
    "**BoW shrotcomings:**\n",
    "* Context of the words is lost\n",
    "* Sentiment dependent on the position of word *'not'*\n",
    "\n",
    "**n-grams:**\n",
    "* Contiguous sequence of *n* elements (or words) in a given document\n",
    "* n = 1 -> Bag-of-words (BOW) model\n",
    "* Capture more context\n",
    "* Applications:\n",
    "    * Sentence completion\n",
    "    * Spelling correction\n",
    "    * Machine translation correction\n",
    "* Example: *'for you a thousand times over'*\n",
    "    * n = 2, n-grams:  ['for  you', 'you a', 'a thousand', 'thousand times', 'times over']\n",
    "    * n = 3, n-grams: ['for you a', 'you a thousand', 'a thousand times', 'thousand times over']\n",
    "* Shortcomings:\n",
    "    * Curse of dimensionality\n",
    "    * Higher ordre n-grams are rare\n",
    "    * Keep *n* small"
   ],
   "metadata": {
    "collapsed": false
   }
  },
  {
   "cell_type": "code",
   "execution_count": 20,
   "outputs": [
    {
     "name": "stdout",
     "output_type": "stream",
     "text": [
      "<U252\n",
      "ng1, ng2, ng3 have 6615, 37101 and 76882 features respectively\n"
     ]
    }
   ],
   "source": [
    "# Code for part 3.3\n",
    "\n",
    "# n-grams for movie tag lines\n",
    "import pandas as pd\n",
    "from sklearn.feature_extraction.text import CountVectorizer\n",
    "\n",
    "# get corpus and convert type 'object' to 'unicode'\n",
    "movies = pd.read_csv('13_datasets/movie_overviews.csv')\n",
    "corpus = movies['tagline'].values.astype('U')\n",
    "print(corpus.dtype)\n",
    "\n",
    "# generate n-grams up to n=1\n",
    "vectorizer_ng1 = CountVectorizer(ngram_range=(1,1))\n",
    "ng1 = vectorizer_ng1.fit_transform(corpus)\n",
    "\n",
    "# generate n-grams up to n=2\n",
    "vectorizer_ng2 = CountVectorizer(ngram_range=(1,2))\n",
    "ng2 = vectorizer_ng2.fit_transform(corpus)\n",
    "\n",
    "# generate n-grams up to n=3\n",
    "vectorizer_ng3 = CountVectorizer(ngram_range=(1,3))\n",
    "ng3 = vectorizer_ng3.fit_transform(corpus)\n",
    "\n",
    "print('ng1, ng2, ng3 have %i, %i and %i features respectively' %(ng1.shape[1], ng2.shape[1], ng3.shape[1]))"
   ],
   "metadata": {
    "collapsed": false,
    "ExecuteTime": {
     "end_time": "2023-08-26T18:59:03.187532200Z",
     "start_time": "2023-08-26T18:59:02.640223Z"
    }
   }
  },
  {
   "cell_type": "code",
   "execution_count": 21,
   "outputs": [
    {
     "name": "stdout",
     "output_type": "stream",
     "text": [
      "The accuracy of the classifier on the test set is 0.796\n",
      "The sentiment predicted by the classifier is 0\n"
     ]
    }
   ],
   "source": [
    "# Code for part 3.3 (continue)\n",
    "\n",
    "# higher order n-grams for sentiment analysis\n",
    "import pandas as pd\n",
    "from sklearn.model_selection import train_test_split\n",
    "from sklearn.feature_extraction.text import CountVectorizer\n",
    "from sklearn.naive_bayes import MultinomialNB\n",
    "\n",
    "# get dataframe\n",
    "movie_reviews = pd.read_csv('13_datasets/movie_reviews_clean.csv')\n",
    "X = movie_reviews['review']\n",
    "y = movie_reviews['sentiment']\n",
    "\n",
    "# split the data into training ,test\n",
    "X_train, X_test, y_train, y_test = train_test_split(X, y, test_size=0.5, random_state=111)\n",
    "\n",
    "# create vectorizer object and n_grams to n=2\n",
    "vectorizer_ng = CountVectorizer(lowercase=True, stop_words='english', ngram_range=(1,2))\n",
    "\n",
    "# fit and transform X_train, X_test\n",
    "X_train_ng = vectorizer_ng.fit_transform(X_train)\n",
    "X_test_ng = vectorizer_ng.transform(X_test)\n",
    "\n",
    "# create model\n",
    "clf_ng = MultinomialNB()\n",
    "clf_ng.fit(X_train_ng, y_train)\n",
    "\n",
    "# measure accuracy\n",
    "accuracy = clf_ng.score(X_test_ng, y_test)\n",
    "print('The accuracy of the classifier on the test set is %.3f' % accuracy)\n",
    "\n",
    "# predict the sentiment of a negative review\n",
    "review = \"The movie was not good. The plot had several holes and the acting lacked panache.\"\n",
    "prediction = clf_ng.predict(vectorizer_ng.transform([review]))[0]\n",
    "print('The sentiment predicted by the classifier is %i' %(prediction))"
   ],
   "metadata": {
    "collapsed": false,
    "ExecuteTime": {
     "end_time": "2023-08-26T18:59:03.507843100Z",
     "start_time": "2023-08-26T18:59:03.188527900Z"
    }
   }
  },
  {
   "cell_type": "code",
   "execution_count": 22,
   "outputs": [
    {
     "name": "stdout",
     "output_type": "stream",
     "text": [
      "The program took 0.150 seconds to complete. The accuracy on the test set is 0.75. The ngram representation had 12347 features.\n"
     ]
    }
   ],
   "source": [
    "# Code for part 3.3 (continue)\n",
    "\n",
    "# comparing performance of n-gram models\n",
    "import pandas as pd\n",
    "import time\n",
    "from sklearn.naive_bayes import MultinomialNB\n",
    "\n",
    "# get dataframe\n",
    "df = pd.read_csv('13_datasets/movie_reviews_clean.csv')\n",
    "# print(df.head())\n",
    "\n",
    "# set starting time\n",
    "start_time = time.time()\n",
    "\n",
    "# split data\n",
    "X_train, X_test, y_train, y_test = train_test_split(df['review'], df['sentiment'], test_size=0.5, random_state=42, stratify=df['sentiment'])\n",
    "\n",
    "# generate n-grams n=1\n",
    "vectorizer = CountVectorizer()\n",
    "X_train = vectorizer.fit_transform(X_train)\n",
    "X_test = vectorizer.transform(X_test)\n",
    "\n",
    "# create model\n",
    "clf = MultinomialNB()\n",
    "clf.fit(X_train, y_train)\n",
    "print(\"The program took %.3f seconds to complete. The accuracy on the test set is %.2f. The ngram representation had %i features.\" % (time.time() - start_time, clf.score(X_test, y_test), X_train.shape[1]))"
   ],
   "metadata": {
    "collapsed": false,
    "ExecuteTime": {
     "end_time": "2023-08-26T18:59:03.681215Z",
     "start_time": "2023-08-26T18:59:03.509837500Z"
    }
   }
  },
  {
   "cell_type": "code",
   "execution_count": 23,
   "outputs": [
    {
     "name": "stdout",
     "output_type": "stream",
     "text": [
      "The program took 0.785 seconds to complete. The accuracy on the test set is 0.77. The ngram representation had 178240 features.\n"
     ]
    }
   ],
   "source": [
    "# Code for part 3.3 (continue)\n",
    "\n",
    "# repeat and set n=3\n",
    "# set starting time\n",
    "start_time = time.time()\n",
    "\n",
    "# split data\n",
    "X_train, X_test, y_train, y_test = train_test_split(df['review'], df['sentiment'], test_size=0.5, random_state=42, stratify=df['sentiment'])\n",
    "\n",
    "# generate n-grams n=1\n",
    "vectorizer = CountVectorizer(ngram_range=(1,3))\n",
    "X_train = vectorizer.fit_transform(X_train)\n",
    "X_test = vectorizer.transform(X_test)\n",
    "\n",
    "# create model\n",
    "clf = MultinomialNB()\n",
    "clf.fit(X_train, y_train)\n",
    "print(\"The program took %.3f seconds to complete. The accuracy on the test set is %.2f. The ngram representation had %i features.\" % (time.time() - start_time, clf.score(X_test, y_test), X_train.shape[1]))\n",
    "\n",
    "# note  how the time and number of the dimension increases as we set n=3."
   ],
   "metadata": {
    "collapsed": false,
    "ExecuteTime": {
     "end_time": "2023-08-26T18:59:04.476842700Z",
     "start_time": "2023-08-26T18:59:03.681215Z"
    }
   }
  },
  {
   "cell_type": "markdown",
   "source": [
    "### CHAPTER 4. TF-IDF and similarity scores\n",
    "\n",
    "#### Part 4.1 Building tf-idf document vectors\n",
    "\n",
    "**n-grams modeling:**\n",
    "* Weight of dimension dependent on the frequency of the word corresponding to the dimension\n",
    "* Some words occur very commonly across all documents\n",
    "* Words that DO NOT occur across all documents should weight more\n",
    "\n",
    "**Term-frequency-inverse document frequency (TF-IDF):**\n",
    "* Proportional to term frequency\n",
    "* Inverse function of the number of documents in which it occurs\n",
    "* Formula is shown as follows:"
   ],
   "metadata": {
    "collapsed": false
   }
  },
  {
   "cell_type": "code",
   "execution_count": 24,
   "outputs": [
    {
     "data": {
      "image/png": "[encoded data removed]",
      "text/plain": "<IPython.core.display.Image object>"
     },
     "execution_count": 24,
     "metadata": {},
     "output_type": "execute_result"
    }
   ],
   "source": [
    "# display image\n",
    "from IPython import display\n",
    "display.Image(\"Images/12_tf_idf.PNG\")"
   ],
   "metadata": {
    "collapsed": false,
    "ExecuteTime": {
     "end_time": "2023-08-26T18:59:04.525763300Z",
     "start_time": "2023-08-26T18:59:04.473851400Z"
    }
   }
  },
  {
   "cell_type": "code",
   "execution_count": 25,
   "outputs": [
    {
     "name": "stdout",
     "output_type": "stream",
     "text": [
      "0    We're going to talk — my — a new lecture, just...\n",
      "1    This is a representation of your brain, and yo...\n",
      "2    It's a great honor today to share with you The...\n",
      "3    My passions are music, technology and making t...\n",
      "4    It used to be that if you wanted to get a comp...\n",
      "Name: transcript, dtype: object\n",
      "(500, 29158)\n"
     ]
    }
   ],
   "source": [
    "# Code for part 4.1\n",
    "\n",
    "# tf-idf vectors for TED talks\n",
    "import pandas as pd\n",
    "from sklearn.feature_extraction.text import TfidfVectorizer\n",
    "\n",
    "# get dataframe and text\n",
    "ted_df = pd.read_csv('13_datasets/ted.csv')\n",
    "ted = ted_df['transcript']\n",
    "print(ted.head())\n",
    "\n",
    "# create TfidfVectorizer object\n",
    "vectorizer = TfidfVectorizer()\n",
    "\n",
    "# generate matrix of word vectors\n",
    "tfidf_matrix = vectorizer.fit_transform(ted)\n",
    "print(tfidf_matrix.shape)\n"
   ],
   "metadata": {
    "collapsed": false,
    "ExecuteTime": {
     "end_time": "2023-08-26T18:59:05.227071600Z",
     "start_time": "2023-08-26T18:59:04.515788300Z"
    }
   }
  },
  {
   "cell_type": "markdown",
   "source": [
    "#### Part 4.2 Cosine similarity\n",
    "\n",
    "**Cosine Similarity:**\n",
    "* It is an important metrics in NLP to determine the similarity of two vectors and sequentially two documents\n",
    "* It is the ratio of the **dot product** of the vectors and the **product of the magnitude** of the two vectors\n",
    "* Value between -1 and 1; in NLP, value between 0 and 1\n",
    "* Robust to document length"
   ],
   "metadata": {
    "collapsed": false
   }
  },
  {
   "cell_type": "markdown",
   "source": [
    "\n"
   ],
   "metadata": {
    "collapsed": false
   }
  },
  {
   "cell_type": "code",
   "execution_count": 26,
   "outputs": [
    {
     "data": {
      "image/png": "[encoded data removed]",
      "text/plain": "<IPython.core.display.Image object>"
     },
     "execution_count": 26,
     "metadata": {},
     "output_type": "execute_result"
    }
   ],
   "source": [
    "# display image\n",
    "from IPython import display\n",
    "display.Image(\"Images/13_cosine_similarity.PNG\")"
   ],
   "metadata": {
    "collapsed": false,
    "ExecuteTime": {
     "end_time": "2023-08-26T18:59:05.272487100Z",
     "start_time": "2023-08-26T18:59:05.225075200Z"
    }
   }
  },
  {
   "cell_type": "markdown",
   "source": [
    "**Dot Product:**\n",
    "* Consider two vectors,\n",
    "$$V = (v_{1}, v_{2}, .., v_{n}), W = (w_{1}, w_{2}, ..., w_{n})$$,\n",
    "* Then the dot product of V and W is,\n",
    "$$V \\cdot W = (v_{1} \\times w_{1}) + (v_{2} \\times w_{2}) + ... + (v_{n} \\times w_{n}) $$\n",
    "* Example:\n",
    "$$ A = (4, 7, 1), B = (5, 2, 3) $$\n",
    "$$ A \\cdot B = (4 \\times 5) + (7 \\times 2) + (1 \\times 3) = 37$$\n",
    "\n",
    "**Magnitude of a vector:**\n",
    "* It means the length of a vector\n",
    "* Mathematically, it is defined as the square root of the sum of the squares of the values\n",
    "* For any vector,\n",
    "$$V = (v_{1}, v_{2}, ..., v_{n}$$\n",
    "* The magnitude is defined as,\n",
    "$$||V|| = \\sqrt{(v_{1})^2 + (v_{2})^2 + ... + (v_{n})^2}$$\n",
    "* Example:\n",
    "$$ A = (4, 7, 1), B = (5, 2, 3) $$\n",
    "$$||A|| = \\sqrt{(4)^2 + (7)^2 +  (1)^2} = \\sqrt{66}$$\n",
    "$$||B|| = \\sqrt{(5)^2 + (2)^2 + (3)^2} = \\sqrt{38}$$\n",
    "\n",
    "**The cosine score:**\n",
    "* Example:\n",
    "* Then,\n",
    "$$ cos(A, B) = \\frac {A \\cdot B} {|A| \\cdot |B|} $$\n",
    "$$ = \\frac {37} {\\sqrt{66} \\times \\sqrt{38}} = 0.7388$$"
   ],
   "metadata": {
    "collapsed": false
   }
  },
  {
   "cell_type": "code",
   "execution_count": 27,
   "outputs": [
    {
     "name": "stdout",
     "output_type": "stream",
     "text": [
      "4\n"
     ]
    }
   ],
   "source": [
    "# Code for part 4.2\n",
    "\n",
    "# computing dot product\n",
    "import numpy as np\n",
    "\n",
    "# initialize numpy vectors\n",
    "A = np.array([1, 3])\n",
    "B = np.array([-2, 2])\n",
    "\n",
    "# compute dot product\n",
    "dot_prod = np.dot(A, B)\n",
    "print(dot_prod)"
   ],
   "metadata": {
    "collapsed": false,
    "ExecuteTime": {
     "end_time": "2023-08-26T18:59:05.303811300Z",
     "start_time": "2023-08-26T18:59:05.271488900Z"
    }
   }
  },
  {
   "cell_type": "code",
   "execution_count": 28,
   "outputs": [
    {
     "name": "stdout",
     "output_type": "stream",
     "text": [
      "[[1.         0.36413198 0.18314713 0.18435251 0.16336438]\n",
      " [0.36413198 1.         0.15054075 0.21704584 0.11203887]\n",
      " [0.18314713 0.15054075 1.         0.21318602 0.07763512]\n",
      " [0.18435251 0.21704584 0.21318602 1.         0.12960089]\n",
      " [0.16336438 0.11203887 0.07763512 0.12960089 1.        ]]\n"
     ]
    }
   ],
   "source": [
    "# Code for part 4.2 (continue)\n",
    "\n",
    "# cosine similarity matrix of a corpus\n",
    "from sklearn.feature_extraction.text import TfidfVectorizer\n",
    "from sklearn.metrics.pairwise import cosine_similarity\n",
    "\n",
    "# get corpus\n",
    "corpus =  ['The sun is the largest celestial body in the solar system', 'The solar system consists of the sun and eight revolving planets', 'Ra was the Egyptian Sun God', 'The Pyramids were the pinnacle of Egyptian architecture', 'The quick brown fox jumps over the lazy dog']\n",
    "\n",
    "# initialize tf-idf vectorizer\n",
    "tfidf_vectorizer = TfidfVectorizer()\n",
    "\n",
    "# generate tf-idf vectors\n",
    "tfidf_matrix = tfidf_vectorizer.fit_transform(corpus)\n",
    "\n",
    "# compute cosine similarity matrix\n",
    "cosine_sim = cosine_similarity(tfidf_matrix, tfidf_matrix)\n",
    "print(cosine_sim)"
   ],
   "metadata": {
    "collapsed": false,
    "ExecuteTime": {
     "end_time": "2023-08-26T18:59:05.303811300Z",
     "start_time": "2023-08-26T18:59:05.278007900Z"
    }
   }
  },
  {
   "cell_type": "markdown",
   "source": [
    "#### Part 4.3 Building a plot line based recommender\n",
    "\n",
    "* We will use *tf-idf vectors* and *cosine scores* to build a recommender system\n",
    "* Steps:\n",
    "1. Text preprocessing\n",
    "2. Generate tf-idf vectors\n",
    "3. Generate cosine similarity matrix\n",
    "4. Build the recommender function\n",
    "\n",
    "**The recommender function:**\n",
    "1. Take a movie title, cosine similarity and indices series as arguments\n",
    "2. Extract pairwise cosine similarity scores for the movie\n",
    "3. Sort the scores in descending order\n",
    "4. Output titles corresponding to the highest score\n",
    "5. Ignore the highest similarity score (of 1), which is the movie itself\n",
    "\n",
    "**linear_kernel and cosine_similarity:**\n",
    "* *'linear_kernel'* sets the magnitude of a tf-idf vector to1\n",
    "* Cosine score between two tf-idf vectors is their dot product\n",
    "* Can significantly improve computation time\n",
    "* Use *'linear_kernel'* to replace *'cosine_similarity'*"
   ],
   "metadata": {
    "collapsed": false
   }
  },
  {
   "cell_type": "code",
   "execution_count": 29,
   "outputs": [
    {
     "name": "stdout",
     "output_type": "stream",
     "text": [
      "Time taken: 0.09973764419555664 seconds\n"
     ]
    }
   ],
   "source": [
    "# Code for part 4.3\n",
    "\n",
    "# comparing linear_kernel and cosine_similarity\n",
    "# use the tf-idf matrix created from earlier exercise\n",
    "import pandas as pd\n",
    "from sklearn.feature_extraction.text import TfidfVectorizer\n",
    "from sklearn.metrics.pairwise import linear_kernel, cosine_similarity\n",
    "import time\n",
    "\n",
    "# get tf-idf matrix\n",
    "ted_df = pd.read_csv('13_datasets/ted.csv')\n",
    "ted = ted_df['transcript']\n",
    "# print(ted.head())\n",
    "\n",
    "# create TfidfVectorizer object\n",
    "vectorizer = TfidfVectorizer()\n",
    "# generate matrix of word vectors\n",
    "tfidf_matrix = vectorizer.fit_transform(ted)\n",
    "\n",
    "# record the time\n",
    "start = time.time()\n",
    "\n",
    "# compute cosine similarity matrix\n",
    "cosine_sim = cosine_similarity(tfidf_matrix, tfidf_matrix)\n",
    "# print(cosine_sim)\n",
    "print(\"Time taken: %s seconds\" %(time.time() - start))"
   ],
   "metadata": {
    "collapsed": false,
    "ExecuteTime": {
     "end_time": "2023-08-26T18:59:06.064204700Z",
     "start_time": "2023-08-26T18:59:05.287852600Z"
    }
   }
  },
  {
   "cell_type": "code",
   "execution_count": 30,
   "outputs": [
    {
     "name": "stdout",
     "output_type": "stream",
     "text": [
      "Time taken: 0.10169768333435059 seconds\n"
     ]
    }
   ],
   "source": [
    "# Code for part 4.3 (continue)\n",
    "\n",
    "# record the time\n",
    "start = time.time()\n",
    "\n",
    "# compute cosine similarity matrix with linear_kernel\n",
    "cosine_sim = linear_kernel(tfidf_matrix, tfidf_matrix)\n",
    "# print(cosine_sim)\n",
    "print(\"Time taken: %s seconds\" %(time.time() - start))\n",
    "\n",
    "# note how the linear_kernel improves the time taken to calculate cosine similarity"
   ],
   "metadata": {
    "collapsed": false,
    "ExecuteTime": {
     "end_time": "2023-08-26T18:59:06.171013800Z",
     "start_time": "2023-08-26T18:59:06.063207Z"
    }
   }
  },
  {
   "cell_type": "code",
   "execution_count": 31,
   "outputs": [],
   "source": [
    "# create function 'get_recommendations'\n",
    "movies = pd.read_csv('13_datasets/movie_overviews.csv')\n",
    "\n",
    "def get_recommendations(title, cosine_sim, indices):\n",
    "    # Get the index of the movie that matches the title\n",
    "    idx = indices[title]\n",
    "    # Get the pairwsie similarity scores\n",
    "    sim_scores = list(enumerate(cosine_sim[idx]))\n",
    "    # Sort the movies based on the similarity scores\n",
    "    sim_scores = sorted(sim_scores, key=lambda x: x[1], reverse=True)\n",
    "    # Get the scores for 10 most similar movies\n",
    "    sim_scores = sim_scores[1:11]\n",
    "    # Get the movie indices\n",
    "    movie_indices = [i[0] for i in sim_scores]\n",
    "    # Return the top 10 most similar movies\n",
    "    return movies['title'].iloc[movie_indices]"
   ],
   "metadata": {
    "collapsed": false,
    "ExecuteTime": {
     "end_time": "2023-08-26T18:59:06.241169500Z",
     "start_time": "2023-08-26T18:59:06.168021700Z"
    }
   }
  },
  {
   "cell_type": "code",
   "execution_count": 32,
   "outputs": [
    {
     "name": "stdout",
     "output_type": "stream",
     "text": [
      "5401            The Stepford Wives\n",
      "994                      Braindead\n",
      "3795                   On the Line\n",
      "5983                        3-Iron\n",
      "8517                Particle Fever\n",
      "3331    Elvis That's the Way It Is\n",
      "5130                      Dogville\n",
      "8123                  End of Watch\n",
      "8666                   The Captive\n",
      "4132      She Wore a Yellow Ribbon\n",
      "Name: title, dtype: object\n"
     ]
    }
   ],
   "source": [
    "# Code for part 4.3 (continue)\n",
    "\n",
    "# plot recommendation engine\n",
    "import pandas as pd\n",
    "from sklearn.feature_extraction.text import TfidfVectorizer\n",
    "from sklearn.metrics.pairwise import linear_kernel\n",
    "\n",
    "# get text/corpus\n",
    "movies = pd.read_csv('13_datasets/movie_overviews.csv')\n",
    "# print(movies.head())\n",
    "\n",
    "# create 'movie_plots' and 'indices'\n",
    "movie_plots = movies['overview'].dropna()\n",
    "# print(movie_plots)\n",
    "\n",
    "indices = pd.Series(movies.index, index=movies['title']).drop_duplicates()\n",
    "# print(indices)\n",
    "\n",
    "# initialize the tf-idf vectorizer\n",
    "tfidf = TfidfVectorizer(stop_words='english')\n",
    "\n",
    "# construct tf-idf matrix\n",
    "tfidf_matrix = tfidf.fit_transform(movie_plots)\n",
    "# print(tfidf_matrix.shape)\n",
    "\n",
    "# generate cosine similarity matrix\n",
    "cosine_sim = linear_kernel(tfidf_matrix, tfidf_matrix)\n",
    "# print(cosine_sim)\n",
    "# print(cosine_sim.shape)\n",
    "\n",
    "# generate recommendations\n",
    "print(get_recommendations('The Dark Knight Rises', cosine_sim, indices))"
   ],
   "metadata": {
    "collapsed": false,
    "ExecuteTime": {
     "end_time": "2023-08-26T18:59:07.271592400Z",
     "start_time": "2023-08-26T18:59:06.219227300Z"
    }
   }
  },
  {
   "cell_type": "code",
   "execution_count": 35,
   "outputs": [
    {
     "name": "stdout",
     "output_type": "stream",
     "text": [
      "<class 'pandas.core.frame.DataFrame'>\n",
      "Int64Index: 500 entries, 0 to 499\n",
      "Data columns (total 3 columns):\n",
      " #   Column      Non-Null Count  Dtype \n",
      "---  ------      --------------  ----- \n",
      " 0   transcript  500 non-null    object\n",
      " 1   url         500 non-null    object\n",
      " 2   title       500 non-null    object\n",
      "dtypes: object(3)\n",
      "memory usage: 15.6+ KB\n",
      "None\n"
     ]
    }
   ],
   "source": [
    "# Code for part 4.3 (continue)\n",
    "\n",
    "# TED talk recommender\n",
    "import pandas as pd\n",
    "from sklearn.feature_extraction.text import TfidfVectorizer\n",
    "from sklearn.metrics.pairwise import linear_kernel\n",
    "\n",
    "# get TED talks\n",
    "ted = pd.read_csv('13_datasets/ted.csv', header=0).drop_duplicates()\n",
    "titles = ['10 top time-saving tech tips',\n",
    "          'Who am I? Think again',\n",
    "          '\"Awoo\"',\n",
    "          'What I learned from 2,000 obituaries',\n",
    "          \"Why giving away our wealth has been the most satisfying thing we've done\",\n",
    "          'How to save the world (or at least yourself) from bad meetings',\n",
    "          'Photos that changed the world',\n",
    "          'For parents, happiness is a very high bar',\n",
    "          'Cradle to cradle design',\n",
    "          \"To create for the ages, let's combine art and engineering\",\n",
    "          'Art made of storms',\n",
    "          \"How I'm fighting bias in algorithms\",\n",
    "          \"There's no shame in taking care of your mental health\",\n",
    "          'Singing the primal mystery',\n",
    "          'Fighters and mourners of the Ukrainian revolution',\n",
    "          'What really motivates people to be honest in business',\n",
    "          '3 ways to spot a bad statistic',\n",
    "          \"Why stay in Chernobyl? Because it's home.\",\n",
    "          'How the blockchain will radically transform the economy',\n",
    "          'The hidden influence of social networks',\n",
    "          'How your brain tells you where you are',\n",
    "          'How to get better at the things you care about',\n",
    "          'A new equation for intelligence',\n",
    "          'The hunt for General Tso',\n",
    "          'How the Internet enables intimacy',\n",
    "          'How data from a crisis text line is saving lives',\n",
    "          'Happiness in body and soul',\n",
    "          'A dance in a hurricane of paper, wind and light',\n",
    "          'A vision for sustainable restaurants',\n",
    "          'Visualizing the wonder of a living cell',\n",
    "          'Why would God create a tsunami?',\n",
    "          'A hospital tour in Nigeria',\n",
    "          'Dance to change the world',\n",
    "          \"Why we shouldn't trust markets with our civic life\",\n",
    "          'Why buses represent democracy in action',\n",
    "          'The playful search for beauty',\n",
    "          '10 ways to have a better conversation',\n",
    "          'Science can answer moral questions',\n",
    "          'How I learned to stop worrying and love \"useless\" art',\n",
    "          'A flying camera ... on a leash',\n",
    "          'Does money make you mean?',\n",
    "          \"Haiti's disaster of engineering\",\n",
    "          '\"St. James Infirmary Blues\"',\n",
    "          'Meet e-Patient Dave',\n",
    "          'How radio telescopes show us unseen galaxies',\n",
    "          'When people of Muslim heritage challenge fundamentalism',\n",
    "          'The music wars',\n",
    "          'Meet BRCK, Internet access built for Africa',\n",
    "          'A light switch for neurons',\n",
    "          'A life lesson from a volunteer firefighter',\n",
    "          'The unheard story of David and Goliath',\n",
    "          'Meet the inventor of the electronic spreadsheet',\n",
    "          'A future beyond traffic gridlock',\n",
    "          'To upgrade is human',\n",
    "          'How to succeed? Get more sleep',\n",
    "          'Letting go of God',\n",
    "          'The business logic of sustainability',\n",
    "          'An Iraq war movie crowd-sourced from soldiers',\n",
    "          'On violin and cello, \"Passacaglia\"',\n",
    "          \"You can grow new brain cells. Here's how\",\n",
    "          'A brain in a supercomputer',\n",
    "          'Turning trash into toys for learning',\n",
    "          \"Sometimes it's good to give up the driver's seat\",\n",
    "          'How an obese town lost a million pounds',\n",
    "          \"Why our IQ levels are higher than our grandparents'\",\n",
    "          \"India's invisible innovation\",\n",
    "          'A secret memorial for civilian casualties',\n",
    "          'What humans can learn from semi-intelligent slime',\n",
    "          'A father-daughter dance ... in prison',\n",
    "          'New rules for rebuilding a broken nation',\n",
    "          'Crowdsource your health',\n",
    "          'An entertainment icon on living a life of meaning',\n",
    "          'Image recognition that triggers augmented reality',\n",
    "          \"How equal do we want the world to be? You'd be surprised\",\n",
    "          \"Why I'm rowing across the Pacific\",\n",
    "          'Drawings that show the beauty and fragility of Earth',\n",
    "          'Unseen footage, untamed nature',\n",
    "          'The single biggest reason why startups succeed',\n",
    "          'The human insights missing from big data',\n",
    "          \"What do we do when antibiotics don't work any more?\",\n",
    "          'Adventures in Twitter fiction',\n",
    "          'The paradox of choice',\n",
    "          'My message of peace from Pakistan',\n",
    "          'Pop culture in the Arab world',\n",
    "          'Are we designed to be sexual omnivores?',\n",
    "          'The hidden light of Afghanistan',\n",
    "          'A complicated hero in the war on dictatorship',\n",
    "          'The sore problem of prosthetic limbs',\n",
    "          \"How we're harnessing nature's hidden superpowers\",\n",
    "          '4 pillars of college success in science',\n",
    "          'What happens when our computers get smarter than we are?',\n",
    "          'The transformative power of classical music',\n",
    "          'Hunting for dinosaurs showed me our place in the universe',\n",
    "          'A dance to honor Mother Earth',\n",
    "          'Fun, fierce and fantastical African art',\n",
    "          '7 rules for making more happiness',\n",
    "          'How to avoid surveillance ... with the phone in your pocket',\n",
    "          'Israel and Iran: A love story?',\n",
    "          'The wireless future of medicine',\n",
    "          'The year I was homeless',\n",
    "          \"What doctors don't know about the drugs they prescribe\",\n",
    "          'This virtual lab will revolutionize science class',\n",
    "          'How I hacked online dating',\n",
    "          'New insights on poverty',\n",
    "          '4 lessons I learned from taking a stand against drugs and gun violence',\n",
    "          'The clues to a great story',\n",
    "          'The route to a sustainable future',\n",
    "          'See invisible motion, hear silent sounds',\n",
    "          'The  4 a.m. mystery',\n",
    "          'You smell with your body, not just your nose',\n",
    "          'Why not make video games for girls?',\n",
    "          'The gospel of doubt',\n",
    "          'How Africa can keep rising',\n",
    "          'Will our kids be a different species?',\n",
    "          'A demo of wireless electricity',\n",
    "          'Want to be happier? Stay in the moment',\n",
    "          'Is the obesity crisis hiding a bigger problem?',\n",
    "          'Profit’s not always the point',\n",
    "          'The DIY orchestra of the future',\n",
    "          'The day I stood up alone',\n",
    "          'Averting the climate crisis',\n",
    "          '1.3m reasons to re-invent the syringe',\n",
    "          'A glimpse of life on the road',\n",
    "          \"A broken body isn't a broken person\",\n",
    "          \"How we'll fight the next deadly virus\",\n",
    "          'How to protect fast-growing cities from failing',\n",
    "          'My 12 pairs of legs',\n",
    "          'A better way to talk about love',\n",
    "          'A story about knots and surgeons',\n",
    "          'New York -- before the City',\n",
    "          'Religion, evolution, and the ecstasy of self-transcendence',\n",
    "          'Using biology to rethink the energy challenge',\n",
    "          'No one should die because they live too far from a doctor',\n",
    "          \"What's wrong with what we eat\",\n",
    "          'The loves and lies of fireflies',\n",
    "          'Chemical scum that dream of distant quasars',\n",
    "          'My wish: A global day of film',\n",
    "          'The new era of positive psychology',\n",
    "          'Fighting cancer with dance',\n",
    "          'We need to talk about an injustice',\n",
    "          'Making law on the high seas',\n",
    "          'Inside the mind of a master procrastinator',\n",
    "          'The real future of space exploration',\n",
    "          'The story behind the Mars Rovers',\n",
    "          'If cars could talk, accidents might be avoidable',\n",
    "          \"10 things you didn't know about orgasm\",\n",
    "          'Fighting viruses, defending the net',\n",
    "          'Immigrant voices make democracy stronger',\n",
    "          'The long reach of reason',\n",
    "          'My journey into movies that matter',\n",
    "          'Tales of passion',\n",
    "          'What hallucination reveals about our minds',\n",
    "          'The shocking move to criminalize nonviolent protest',\n",
    "          'What a bike ride can teach you',\n",
    "          'A practical way to help the homeless find work and safety',\n",
    "          'How to fix a broken education system ... without any more money',\n",
    "          'A Magna Carta for the web',\n",
    "          'Why we do what we do',\n",
    "          'The future race car -- 150mph, and no driver',\n",
    "          'The first 21 days of a bee’s life',\n",
    "          'The beauty and diversity of Muslim life',\n",
    "          \"A dive into the reef's Twilight Zone\",\n",
    "          \"Life's third act\",\n",
    "          'Why we need gender-neutral bathrooms',\n",
    "          'The great penguin rescue',\n",
    "          'We can recycle plastic',\n",
    "          \"Looks aren't everything. Believe me, I'm a model.\",\n",
    "          'Smart failure for a fast-changing world',\n",
    "          'Lose your ego, find your compassion',\n",
    "          'How trees talk to each other',\n",
    "          'Global population growth, box by box',\n",
    "          \"What happens when you have a disease doctors can't diagnose\",\n",
    "          \"How pollution is changing the ocean's chemistry\",\n",
    "          'The ancient ingenuity of water harvesting',\n",
    "          'Why you should talk to strangers',\n",
    "          'Building unimaginable shapes',\n",
    "          'Let’s try emotional correctness',\n",
    "          'Teach girls bravery, not perfection',\n",
    "          'How the US should use its superpower status',\n",
    "          'Be suspicious of simple stories',\n",
    "          'Post-crash, investing in a better world',\n",
    "          'A modern take on piano, violin, cello',\n",
    "          'A university for the coming singularity',\n",
    "          'Smash fear, learn anything',\n",
    "          'A monkey that controls a robot with its thoughts. No, really.',\n",
    "          'Exploring the mind of a killer',\n",
    "          'Social experiments to fight poverty',\n",
    "          \"Let's pool our medical data\",\n",
    "          'The art of the eco-mindshift',\n",
    "          'Growing evidence of brain plasticity',\n",
    "          \"Don't ask where I'm from, ask where I'm a local\",\n",
    "          'High-altitude wind energy from kites!',\n",
    "          'A third way to think about aid',\n",
    "          'The shared experience of absurdity',\n",
    "          'Got a smartphone? Start broadcasting',\n",
    "          'How racism makes us sick',\n",
    "          'The discovery that could rewrite physics',\n",
    "          'Breakthrough designs for ultra-low-cost products',\n",
    "          'The art of stillness',\n",
    "          'A sci-fi vision of love from a 318-year-old hologram',\n",
    "          '4 ways to build a human company in the age of machines',\n",
    "          'How state budgets are breaking US schools',\n",
    "          'The economic case for preschool',\n",
    "          'How too many rules at work keep you from getting things done',\n",
    "          \"Google's driverless car\",\n",
    "          \"Why is 'x' the unknown?\",\n",
    "          'How to make work-life balance work',\n",
    "          \"What's the next window into our universe?\",\n",
    "          '\"(Nothing But) Flowers\" with string quartet',\n",
    "          'Political common ground in a polarized United States',\n",
    "          \"The four fish we're overeating -- and what to eat instead\",\n",
    "          'We can reprogram life. How to do it wisely',\n",
    "          'What is so special about the human brain?',\n",
    "          'Dance vs. powerpoint, a modest proposal',\n",
    "          'Hamilton vs. Madison and the birth of American partisanship',\n",
    "          'Building a museum of museums on the web',\n",
    "          'Health and the human mind',\n",
    "          'Non-lethal weapons, a moral hazard?',\n",
    "          'What intelligent machines can learn from a school of fish',\n",
    "          \"A new way to study the brain's invisible secrets\",\n",
    "          'What it takes to be a great leader',\n",
    "          'The case for letting business solve social problems',\n",
    "          'Why design should include everyone',\n",
    "          'Designing books is no laughing matter. OK, it is.',\n",
    "          'A simple solution to the coming phosphorus crisis',\n",
    "          \"The killer American diet that's sweeping the planet\",\n",
    "          \"Here's how we take back the Internet\",\n",
    "          'I am my connectome',\n",
    "          'A highly scientific taxonomy of haters',\n",
    "          \"Own your body's data\",\n",
    "          'How to get your ideas to spread',\n",
    "          'A mobile fridge for vaccines',\n",
    "          'How to get back to work after a career break',\n",
    "          'Massively multi-player… thumb-wrestling?',\n",
    "          \"Why aren't we more compassionate?\",\n",
    "          'A flirtatious aria',\n",
    "          'How AI can bring on a second Industrial Revolution',\n",
    "          'How we can eat our landscapes',\n",
    "          \"The secret US prisons you've never heard of before\",\n",
    "          \"Autism — what we know (and what we don't know yet)\",\n",
    "          \"Let's put birth control back on the agenda\",\n",
    "          \"The camel's hump\",\n",
    "          \"Don't insist on English!\",\n",
    "          'Luke, a new prosthetic arm for soldiers',\n",
    "          \"Dive into an ocean photographer's world\",\n",
    "          'A boat carrying 500 refugees sunk at sea. The story of two survivors',\n",
    "          'What a driverless world could look like',\n",
    "          'Why we make bad decisions',\n",
    "          'Questioning the universe',\n",
    "          'Ending hunger now',\n",
    "          'The passing of time, caught in a single photo',\n",
    "          'Lessons from past presidents',\n",
    "          'Mothers helping mothers fight HIV',\n",
    "          'Forget Wi-Fi. Meet the new Li-Fi Internet',\n",
    "          'When workers own companies, the economy is more resilient',\n",
    "          'On technology and faith',\n",
    "          'Can art amend history?',\n",
    "          'Solving medical mysteries',\n",
    "          'On tennis, love and motherhood',\n",
    "          \"It's time to redesign medical data\",\n",
    "          'The sound the universe makes',\n",
    "          'We are all designers',\n",
    "          'Saving for tomorrow, tomorrow',\n",
    "          'The stories behind the bloodlines',\n",
    "          'Why mayors should rule the world',\n",
    "          'A warrior’s cry against child marriage',\n",
    "          'The ghastly tragedy of the suburbs',\n",
    "          'What makes us feel good about our work?',\n",
    "          'How your pictures can help reclaim lost history',\n",
    "          \"A doctor's case for medical marijuana\",\n",
    "          \"Alzheimer's is not normal aging — and we can cure it\",\n",
    "          '5 ways to kill your dreams',\n",
    "          'Augmented-reality maps',\n",
    "          'The lost art of letter-writing',\n",
    "          'In praise of slowness',\n",
    "          \"New York's streets? Not so mean any more\",\n",
    "          'It’s our city. Let’s fix it',\n",
    "          '10 ways the world could end',\n",
    "          'Why a good book is a secret door',\n",
    "          \"Love -- you're doing it wrong\",\n",
    "          'The 1s and 0s behind cyber warfare',\n",
    "          'How a video game might help us build better cities',\n",
    "          'Talk nerdy to me',\n",
    "          'The history of our world in 18 minutes',\n",
    "          'Photos of endangered cultures',\n",
    "          'An intergalactic guide to using a defibrillator',\n",
    "          'Nature vs. humans',\n",
    "          \"A TED speaker's worst nightmare\",\n",
    "          'Wry photos that turn stereotypes upside down',\n",
    "          'The power of introverts',\n",
    "          'Are you human?',\n",
    "          'Music is medicine, music is sanity',\n",
    "          'What if our healthcare system kept us healthy?',\n",
    "          'The spellbinding art of human anatomy',\n",
    "          'How cognitive surplus will change the world',\n",
    "          'Why good leaders make you feel safe',\n",
    "          'One woman, five characters, and a sex lesson from the future',\n",
    "          \"This country isn't just carbon neutral -- it's carbon negative\",\n",
    "          'My journey to yo-yo mastery',\n",
    "          'Why good hackers make good citizens',\n",
    "          'Walk the earth ... my 17-year vow of silence',\n",
    "          'Why we need to end the era of orphanages',\n",
    "          'Why nations should pursue soft power',\n",
    "          'What separates us from chimpanzees?',\n",
    "          'When Black women walk, things change',\n",
    "          '7 principles for building better cities',\n",
    "          'The untapped genius that could change science for the better',\n",
    "          'A census of the ocean',\n",
    "          'The beautiful math of coral',\n",
    "          'Tracking ancient diseases using ... plaque',\n",
    "          'My daughter, Malala',\n",
    "          'Sputnik mania',\n",
    "          \"The Panama Papers exposed a huge global problem. What's next?\",\n",
    "          'How to rebuild a broken state',\n",
    "          'Experiments that point to a new understanding of cancer',\n",
    "          'There might just be life on Mars',\n",
    "          'Tales of creativity and play',\n",
    "          'Shake up your story',\n",
    "          'I love being a police officer, but we need reform',\n",
    "          'Four principles for the open world',\n",
    "          'Listening to global voices',\n",
    "          'Why your worst deeds don’t define you',\n",
    "          'Why we laugh',\n",
    "          'How boredom can lead to your most brilliant ideas',\n",
    "          'We need to feed the whole world',\n",
    "          'How fake news does real harm',\n",
    "          \"Please, please, people. Let's put the 'awe' back in 'awesome'\",\n",
    "          'How to land on a comet',\n",
    "          'Swim with the giant sunfish',\n",
    "          'Life science in prison',\n",
    "          'The risky politics of progress',\n",
    "          \"Let's transform energy -- with natural gas\",\n",
    "          'Transplant cells, not organs',\n",
    "          'Kids need structure',\n",
    "          'If I should have a daughter ...',\n",
    "          'The thrilling potential of SixthSense technology',\n",
    "          'The freakonomics of crack dealing',\n",
    "          'Why civilians suffer more once a war is over',\n",
    "          'The mathematics of history',\n",
    "          'A father-daughter bond, one photo at a time',\n",
    "          'How to live to be 100+',\n",
    "          'How to reduce poverty? Fix homes',\n",
    "          'The moral bias behind your search results',\n",
    "          'Why smart statistics are the key to fighting crime',\n",
    "          'The sticky wonder of gecko feet',\n",
    "          'Refugees have the right to be protected',\n",
    "          'Know thyself, with a brain scanner',\n",
    "          'Great design is serious, not solemn',\n",
    "          'Treating cancer with electric fields',\n",
    "          'The line between life and not-life',\n",
    "          'Why you should know how much your coworkers get paid',\n",
    "          \"A young scientist's quest for clean water\",\n",
    "          'Why I brought Pac-Man to MoMA',\n",
    "          'Why I take the piano on the road ... and in the air',\n",
    "          \"What we don't know about Europe's Muslim kids\",\n",
    "          'The untouchable music of the theremin',\n",
    "          \"Tour Microsoft's Virtual Earth\",\n",
    "          'Re-engineering the brain',\n",
    "          'The world needs all kinds of minds',\n",
    "          \"A test that finds 3x more breast tumors, and why it's not available to you\",\n",
    "          'The incredible inventions of intuitive AI',\n",
    "          'Embrace the near win',\n",
    "          \"The world's English mania\",\n",
    "          'Playing with DNA that self-assembles',\n",
    "          'What will you tell your daughters about 2016?',\n",
    "          'Photographing the landscape of oil',\n",
    "          'The story of life in photographs',\n",
    "          'A new vision for rebuilding Detroit',\n",
    "          'How we can predict the next financial crisis',\n",
    "          'Our campaign to ban plastic bags in Bali',\n",
    "          'How Airbnb designs for trust',\n",
    "          'A mockingbird remix of TED2006',\n",
    "          'Is Pivot a turning point for web exploration?',\n",
    "          'A secret weapon against Zika and other mosquito-borne diseases',\n",
    "          'A manifesto for play, for Bulgaria and beyond',\n",
    "          'How I made an impossible film',\n",
    "          'The hidden world of shadow cities',\n",
    "          'Dare to disagree',\n",
    "          'A clean energy proposal -- race to the top!',\n",
    "          'A one-woman global village',\n",
    "          '3 ways to fix a broken news industry',\n",
    "          'Go ahead, make up new words!',\n",
    "          'Teach teachers how to create magic',\n",
    "          'When ideas have sex',\n",
    "          'The lost art of democratic debate',\n",
    "          'A next-gen cure for killer infections',\n",
    "          'What if 3D printing was 100x faster?',\n",
    "          \"Let's talk crap. Seriously.\",\n",
    "          'Cracking Stuxnet, a 21st-century cyber weapon',\n",
    "          'Nature is everywhere -- we just need to learn to see it',\n",
    "          'A story of mixed emoticons',\n",
    "          'A new ecosystem for electric cars',\n",
    "          'Two nameless bodies washed up on the beach. Here are their stories',\n",
    "          \"We're worried about local warming ... in your lap\",\n",
    "          '\"Black Men Ski\"',\n",
    "          'World-class health care',\n",
    "          'Listen, learn ... then lead',\n",
    "          \"How we're growing baby corals to rebuild reefs\",\n",
    "          \"America's forgotten working class\",\n",
    "          'How women wage conflict without violence',\n",
    "          \"Learning from the gecko's tail\",\n",
    "          'One Laptop per Child, two years on',\n",
    "          'The politics of fiction',\n",
    "          'Toy tiles that talk to each other',\n",
    "          'Growing new organs',\n",
    "          'Archeology, animal photography, BBQ ...',\n",
    "          'Biomimicry in action',\n",
    "          \"What we didn't know about penis anatomy\",\n",
    "          'Visualizing the medical data explosion',\n",
    "          'How virtual reality can create the ultimate empathy machine',\n",
    "          \"A shark-deterrent wetsuit (and it's not what you think)\",\n",
    "          'Design for all 5 senses',\n",
    "          'Lies, damned lies and statistics (about TEDTalks)',\n",
    "          \"Finding life we can't imagine\",\n",
    "          \"Why helmets don't prevent concussions -- and what might\",\n",
    "          'Do the green thing',\n",
    "          'Be passionate. Be courageous. Be your best.',\n",
    "          \"Let's treat violence like a contagious disease\",\n",
    "          'How I built a toaster -- from scratch',\n",
    "          '5 ways to listen better',\n",
    "          'How to design a library that makes kids want to read ',\n",
    "          'A 40-year plan for energy',\n",
    "          'The astonishing hidden world of the deep ocean',\n",
    "          \"Two nerdy obsessions meet -- and it's magic\",\n",
    "          'A robot that flies like a bird',\n",
    "          'The Web as random acts of kindness',\n",
    "          'We are all cyborgs now',\n",
    "          'An ultra-low-cost college degree',\n",
    "          'A plea for bees',\n",
    "          'We can be Buddhas',\n",
    "          'The future of lying',\n",
    "          'Teaching one child at a time',\n",
    "          'In the Internet age, dance evolves ...',\n",
    "          'New ways to see music (with color! and fire!)',\n",
    "          'Optical illusions show how we see',\n",
    "          'How photography connects us',\n",
    "          'Can we make things that make themselves?',\n",
    "          \"What's left to explore?\",\n",
    "          'Pirates, nurses and other rebel designers',\n",
    "          ' Hidden miracles of the natural world',\n",
    "          'Save the oceans, feed the world!',\n",
    "          'Two young scientists break down plastics with bacteria',\n",
    "          'The right to understand',\n",
    "          'Why I speak up about living with epilepsy',\n",
    "          'The enchanting music of sign language',\n",
    "          'A tour of modern architecture',\n",
    "          'Get your next eye exam on a smartphone',\n",
    "          'One Laptop per Child',\n",
    "          'The power of herd immunity',\n",
    "          \"Evolution's gift of play, from bonobo apes to humans\",\n",
    "          'How the teddy bear taught us compassion',\n",
    "          'Finding planets around other stars',\n",
    "          'The paralyzed rat that walked',\n",
    "          'Success is a continuous journey',\n",
    "          'A taboo-free way to talk about periods',\n",
    "          'Close-up card magic with a twist',\n",
    "          'Meet the microscopic life in your home -- and on your face',\n",
    "          'Life lessons from big cats',\n",
    "          '\"Women of Hope\"',\n",
    "          'Why the only future worth building includes everyone',\n",
    "          '10 myths about psychology, debunked',\n",
    "          'My stroke of insight',\n",
    "          'The fastest ambulance? A motorcycle',\n",
    "          'The birth of the open-source learning revolution',\n",
    "          'A powerful poem about what it feels like to be transgender',\n",
    "          'Playing \"Pink Noise\" on guitar',\n",
    "          'This is what LGBT life is like around the world',\n",
    "          'The birth of virtual reality as an art form',\n",
    "          'Happiness by design',\n",
    "          'The art of first impressions -- in design and life',\n",
    "          'Can we build AI without losing control over it?',\n",
    "          'A 3D-printed jumbo jet?',\n",
    "          'Strange answers to the psychopath test',\n",
    "          \"What you don't know about marriage\",\n",
    "          'Cute, sexy, sweet, funny',\n",
    "          'How I fell in love with a fish',\n",
    "          'Humble plants that hide surprising secrets',\n",
    "          'How giant websites design for you (and a billion others, too)',\n",
    "          'Why I live in mortal dread of public speaking',\n",
    "          'The next 5,000 days of the web',\n",
    "          'Animations of unseeable biology',\n",
    "          'How young blood might help reverse aging. Yes, really',\n",
    "          'Homeopathy, quackery and fraud',\n",
    "          'As work gets more complex, 6 rules to simplify',\n",
    "          'On being wrong',\n",
    "          'DNA folding, in detail',\n",
    "          'Wireless data from every light bulb',\n",
    "          'Three types of online attack',\n",
    "          'The mysterious lives of giant trees',\n",
    "          'My wish: A call for open-source architecture',\n",
    "          \"What we learn before we're born\",\n",
    "          'Wearing nothing new',\n",
    "          'A wide-angle view of fragile Earth',\n",
    "          'The rise of human-computer cooperation',\n",
    "          'How to find work you love',\n",
    "          'Why you will fail to have a great career',\n",
    "          'The puzzle of motivation',\n",
    "          'Plug into your hard-wired happiness',\n",
    "          'The surprising habits of original thinkers',\n",
    "          'Teaching kids real math with computers']\n",
    "ted['title'] = titles\n",
    "print(ted.info())"
   ],
   "metadata": {
    "collapsed": false,
    "ExecuteTime": {
     "end_time": "2023-08-26T19:15:31.706942300Z",
     "start_time": "2023-08-26T19:15:31.570473200Z"
    }
   }
  },
  {
   "cell_type": "code",
   "execution_count": 36,
   "outputs": [
    {
     "name": "stdout",
     "output_type": "stream",
     "text": [
      "490          Surviving the Game\n",
      "127    An Awfully Big Adventure\n",
      "139                       Congo\n",
      "445                   Mr. Jones\n",
      "479                  Short Cuts\n",
      "219          Heavenly Creatures\n",
      "8                  Sudden Death\n",
      "260          Once Were Warriors\n",
      "143       Devil in a Blue Dress\n",
      "202           Dolores Claiborne\n",
      "Name: title, dtype: object\n"
     ]
    }
   ],
   "source": [
    "# Code for part 4.3 (continue)\n",
    "\n",
    "# get 'indices' and 'transcripts'\n",
    "indices = pd.Series(ted.index, index =  ted['title'])\n",
    "transcripts = ted['transcript']\n",
    "\n",
    "# initialize the tf-idf vedtorizer\n",
    "tfidf = TfidfVectorizer(stop_words='english')\n",
    "\n",
    "# create tf-idf matrix\n",
    "tfidf_matrix = tfidf.fit_transform(transcripts)\n",
    "\n",
    "# generate cosine similarity matrix\n",
    "cosine_sim = linear_kernel(tfidf_matrix, tfidf_matrix)\n",
    "\n",
    "# generate recommendations\n",
    "print(get_recommendations('5 ways to kill your dreams', cosine_sim, indices))"
   ],
   "metadata": {
    "collapsed": false,
    "ExecuteTime": {
     "end_time": "2023-08-26T19:15:39.440768100Z",
     "start_time": "2023-08-26T19:15:38.090718800Z"
    }
   }
  },
  {
   "cell_type": "markdown",
   "source": [
    "#### Part 4.4 Beyond n-grams: word embeddings\n",
    "\n",
    "**Problems of BoW and tf-idf:**\n",
    "* Cannot compare true similarities of following sentences:\n",
    "* *'I am happy'*; *'I am joyous'*; and *'I am sad'*\n",
    "\n",
    "**Word embeddings:**\n",
    "* mapping words into an n-dimensional vector space\n",
    "* Produced using deep learning and huge amounts of data\n",
    "* Discern how similar two words are to each other\n",
    "* Used to detect synonyms and antonyms\n",
    "* Captures complex relationships\n",
    "* Depdendent on spacy model; independent of dataset you use"
   ],
   "metadata": {
    "collapsed": false
   }
  },
  {
   "cell_type": "code",
   "execution_count": 37,
   "outputs": [
    {
     "name": "stdout",
     "output_type": "stream",
     "text": [
      "I I 1.0\n",
      "I like -0.06950665265321732\n",
      "I apples 0.1816101223230362\n",
      "I and -0.050600726157426834\n",
      "I oranges -0.01758648455142975\n",
      "like I -0.06950665265321732\n",
      "like like 1.0\n",
      "like apples 0.10200604051351547\n",
      "like and 0.0523926205933094\n",
      "like oranges 0.08973564207553864\n",
      "apples I 0.1816101223230362\n",
      "apples like 0.10200604051351547\n",
      "apples apples 1.0\n",
      "apples and -0.0011530559277161956\n",
      "apples oranges 0.41077685356140137\n",
      "and I -0.050600726157426834\n",
      "and like 0.0523926205933094\n",
      "and apples -0.0011530559277161956\n",
      "and and 1.0\n",
      "and oranges 0.028571248054504395\n",
      "oranges I -0.01758648455142975\n",
      "oranges like 0.08973564207553864\n",
      "oranges apples 0.41077685356140137\n",
      "oranges and 0.028571248054504395\n",
      "oranges oranges 1.0\n"
     ]
    },
    {
     "name": "stderr",
     "output_type": "stream",
     "text": [
      "C:\\Users\\User\\AppData\\Local\\Temp\\ipykernel_1888\\4146304827.py:16: UserWarning: [W007] The model you're using has no word vectors loaded, so the result of the Token.similarity method will be based on the tagger, parser and NER, which may not give useful similarity judgements. This may happen if you're using one of the small models, e.g. `en_core_web_sm`, which don't ship with word vectors and only use context-sensitive tensors. You can always add your own word vectors, or use one of the larger models instead if available.\n",
      "  print(token1.text, token2.text, token1.similarity(token2))\n"
     ]
    }
   ],
   "source": [
    "# Code for part 4.4\n",
    "\n",
    "# generating word vectors\n",
    "import spacy\n",
    "\n",
    "# create model: nlp\n",
    "nlp = spacy.load('en_core_web_sm')\n",
    "\n",
    "# create the doc object\n",
    "sent = 'I like apples and oranges'\n",
    "doc = nlp(sent)\n",
    "\n",
    "# compute pariwise similarity scores\n",
    "for token1 in doc:\n",
    "    for token2 in doc:\n",
    "        print(token1.text, token2.text, token1.similarity(token2))\n"
   ],
   "metadata": {
    "collapsed": false,
    "ExecuteTime": {
     "end_time": "2023-08-26T19:25:57.000369900Z",
     "start_time": "2023-08-26T19:25:55.993243200Z"
    }
   }
  },
  {
   "cell_type": "code",
   "execution_count": 38,
   "outputs": [
    {
     "name": "stdout",
     "output_type": "stream",
     "text": [
      "0.47347807122918717\n",
      "0.8179437840687304\n"
     ]
    },
    {
     "name": "stderr",
     "output_type": "stream",
     "text": [
      "C:\\Users\\User\\AppData\\Local\\Temp\\ipykernel_1888\\1116505931.py:22: UserWarning: [W007] The model you're using has no word vectors loaded, so the result of the Doc.similarity method will be based on the tagger, parser and NER, which may not give useful similarity judgements. This may happen if you're using one of the small models, e.g. `en_core_web_sm`, which don't ship with word vectors and only use context-sensitive tensors. You can always add your own word vectors, or use one of the larger models instead if available.\n",
      "  print(mother_doc.similarity(hopes_doc))\n",
      "C:\\Users\\User\\AppData\\Local\\Temp\\ipykernel_1888\\1116505931.py:25: UserWarning: [W007] The model you're using has no word vectors loaded, so the result of the Doc.similarity method will be based on the tagger, parser and NER, which may not give useful similarity judgements. This may happen if you're using one of the small models, e.g. `en_core_web_sm`, which don't ship with word vectors and only use context-sensitive tensors. You can always add your own word vectors, or use one of the larger models instead if available.\n",
      "  print(mother_doc.similarity((hey_doc)))\n"
     ]
    }
   ],
   "source": [
    "# Code for part 4.4 (continue)\n",
    "\n",
    "# computing similarity of Pink Floyd songs\n",
    "import spacy\n",
    "\n",
    "# create model: nlp\n",
    "nlp = spacy.load('en_core_web_sm')\n",
    "\n",
    "# get three songs\n",
    "hopes = \"\\nBeyond the horizon of the place we lived when we were young\\nIn a world of magnets and miracles\\nOur thoughts strayed constantly and without boundary\\nThe ringing of the division bell had begun\\nAlong the Long Road and on down the Causeway\\nDo they still meet there by the Cut\\nThere was a ragged band that followed in our footsteps\\nRunning before times took our dreams away\\nLeaving the myriad small creatures trying to tie us to the ground\\nTo a life consumed by slow decay\\nThe grass was greener\\nThe light was brighter\\nWhen friends surrounded\\nThe nights of wonder\\nLooking beyond the embers of bridges glowing behind us\\nTo a glimpse of how green it was on the other side\\nSteps taken forwards but sleepwalking back again\\nDragged by the force of some in a tide\\nAt a higher altitude with flag unfurled\\nWe reached the dizzy heights of that dreamed of world\\nEncumbered forever by desire and ambition\\nThere's a hunger still unsatisfied\\nOur weary eyes still stray to the horizon\\nThough down this road we've been so many times\\nThe grass was greener\\nThe light was brighter\\nThe taste was sweeter\\nThe nights of wonder\\nWith friends surrounded\\nThe dawn mist glowing\\nThe water flowing\\nThe endless river\\nForever and ever\\n\"\n",
    "\n",
    "mother = \"\\nMother do you think they'll drop the bomb?\\nMother do you think they'll like this song?\\nMother do you think they'll try to break my balls?\\nOoh, ah\\nMother should I build the wall?\\nMother should I run for President?\\nMother should I trust the government?\\nMother will they put me in the firing mine?\\nOoh ah,\\nIs it just a waste of time?\\nHush now baby, baby, don't you cry.\\nMama's gonna make all your nightmares come true.\\nMama's gonna put all her fears into you.\\nMama's gonna keep you right here under her wing.\\nShe won't let you fly, but she might let you sing.\\nMama's gonna keep baby cozy and warm.\\nOoh baby, ooh baby, ooh baby,\\nOf course mama's gonna help build the wall.\\nMother do you think she's good enough, for me?\\nMother do you think she's dangerous, to me?\\nMother will she tear your little boy apart?\\nOoh ah,\\nMother will she break my heart?\\nHush now baby, baby don't you cry.\\nMama's gonna check out all your girlfriends for you.\\nMama won't let anyone dirty get through.\\nMama's gonna wait up until you get in.\\nMama will always find out where you've been.\\nMama's gonna keep baby healthy and clean.\\nOoh baby, ooh baby, ooh baby,\\nYou'll always be baby to me.\\nMother, did it need to be so high?\\n\"\n",
    "\n",
    "hey = \"\\nHey you, out there in the cold\\nGetting lonely, getting old\\nCan you feel me?\\nHey you, standing in the aisles\\nWith itchy feet and fading smiles\\nCan you feel me?\\nHey you, don't help them to bury the light\\nDon't give in without a fight\\nHey you out there on your own\\nSitting naked by the phone\\nWould you touch me?\\nHey you with you ear against the wall\\nWaiting for someone to call out\\nWould you touch me?\\nHey you, would you help me to carry the stone?\\nOpen your heart, I'm coming home\\nBut it was only fantasy\\nThe wall was too high\\nAs you can see\\nNo matter how he tried\\nHe could not break free\\nAnd the worms ate into his brain\\nHey you, out there on the road\\nAlways doing what you're told\\nCan you help me?\\nHey you, out there beyond the wall\\nBreaking bottles in the hall\\nCan you help me?\\nHey you, don't tell me there's no hope at all\\nTogether we stand, divided we fall\\n\"\n",
    "\n",
    "# create doc objects\n",
    "mother_doc = nlp(mother)\n",
    "hopes_doc = nlp(hopes)\n",
    "hey_doc = nlp(hey)\n",
    "\n",
    "# print similarity between mother and hopes\n",
    "print(mother_doc.similarity(hopes_doc))\n",
    "\n",
    "# print similarity between mother and hey\n",
    "print(mother_doc.similarity((hey_doc)))"
   ],
   "metadata": {
    "collapsed": false,
    "ExecuteTime": {
     "end_time": "2023-08-26T19:30:05.914328700Z",
     "start_time": "2023-08-26T19:30:05.251142Z"
    }
   }
  },
  {
   "cell_type": "markdown",
   "source": [
    "This is the end of this course!"
   ],
   "metadata": {
    "collapsed": false
   }
  }
 ],
 "metadata": {
  "kernelspec": {
   "display_name": "Python 3",
   "language": "python",
   "name": "python3"
  },
  "language_info": {
   "codemirror_mode": {
    "name": "ipython",
    "version": 2
   },
   "file_extension": ".py",
   "mimetype": "text/x-python",
   "name": "python",
   "nbconvert_exporter": "python",
   "pygments_lexer": "ipython2",
   "version": "2.7.6"
  }
 },
 "nbformat": 4,
 "nbformat_minor": 0
}
